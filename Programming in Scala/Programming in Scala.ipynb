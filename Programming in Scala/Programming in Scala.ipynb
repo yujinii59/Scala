{
 "cells": [
  {
   "cell_type": "markdown",
   "id": "e66d2f22",
   "metadata": {},
   "source": [
    "### Chapter 1"
   ]
  },
  {
   "cell_type": "code",
   "execution_count": null,
   "id": "b4a932c3-6e07-4204-b8e6-985e7346f542",
   "metadata": {},
   "outputs": [],
   "source": [
    "var capital = Map(\"US\" -> \"Washington\", \"France\" -> \"Paris\")"
   ]
  },
  {
   "cell_type": "code",
   "execution_count": null,
   "id": "7d07c638-2e73-41b8-a91c-a230aac5409b",
   "metadata": {},
   "outputs": [],
   "source": [
    "capital += (\"Japan\" -> \"Tokyo\")"
   ]
  },
  {
   "cell_type": "code",
   "execution_count": null,
   "id": "bcbc0fdd-fc24-4cac-8dd0-8df034cd2517",
   "metadata": {},
   "outputs": [],
   "source": [
    "println(capital(\"France\"))"
   ]
  },
  {
   "cell_type": "code",
   "execution_count": null,
   "id": "7bf7e5d9-47e8-4c7b-a475-6182827ed6cb",
   "metadata": {},
   "outputs": [],
   "source": []
  },
  {
   "cell_type": "code",
   "execution_count": null,
   "id": "65ab7a51-bdcc-4912-b5f5-452fd6e12eac",
   "metadata": {},
   "outputs": [],
   "source": [
    "def factorial(x: BigInt): BigInt = \n",
    "if x == 0 then 1 else x * factorial(x - 1)"
   ]
  },
  {
   "cell_type": "code",
   "execution_count": null,
   "id": "dc4d30d5-d16f-48a9-bf9f-f03df78cd3f4",
   "metadata": {},
   "outputs": [],
   "source": [
    "factorial(30)"
   ]
  },
  {
   "cell_type": "code",
   "execution_count": null,
   "id": "231be406-180a-4aa7-8d2d-130f4c26a197",
   "metadata": {},
   "outputs": [],
   "source": []
  },
  {
   "cell_type": "code",
   "execution_count": null,
   "id": "89ff4e00-d5c0-4165-9759-02af610268b5",
   "metadata": {},
   "outputs": [],
   "source": [
    "import java.math.BigInteger\n",
    "def factorial(x: BigInteger): BigInteger = \n",
    "if (x == BigInteger.ZERO) \n",
    "    BigInteger.ONE\n",
    "else\n",
    "    x.multiply(factorial(x.subtract(BigInteger.ONE)))"
   ]
  },
  {
   "cell_type": "code",
   "execution_count": null,
   "id": "efa9b1a1-1c85-456d-b915-4e3a1f5602f0",
   "metadata": {},
   "outputs": [],
   "source": []
  },
  {
   "cell_type": "code",
   "execution_count": null,
   "id": "792793cb-2105-4dae-90af-ab91cceba050",
   "metadata": {},
   "outputs": [],
   "source": [
    "class SetSpec extends AnyFunSuite:\n",
    "    test(\"An empty Set should have size 0\"){\n",
    "        assert(Set.empty.size == 0)\n",
    "    }\n",
    "    \n",
    "    test(\"Invoking head on an empty Set should fail\"){\n",
    "        assertThrows[NoSuchElementException]{\n",
    "            Set.empty.head\n",
    "        }\n",
    "    }"
   ]
  },
  {
   "cell_type": "code",
   "execution_count": null,
   "id": "a6ae3a9a-e4c3-42bd-bf53-1d52682d135c",
   "metadata": {},
   "outputs": [],
   "source": [
    "val xs = 1 to 3\n",
    "val it = xs.iterator"
   ]
  },
  {
   "cell_type": "code",
   "execution_count": null,
   "id": "962d6a36",
   "metadata": {},
   "outputs": [],
   "source": [
    "it.next()"
   ]
  },
  {
   "cell_type": "code",
   "execution_count": null,
   "id": "01591026",
   "metadata": {},
   "outputs": [],
   "source": []
  },
  {
   "cell_type": "code",
   "execution_count": null,
   "id": "c2bf259c",
   "metadata": {},
   "outputs": [],
   "source": [
    "var ss = \"880911\"\n",
    "var s = \"3.141592\""
   ]
  },
  {
   "cell_type": "code",
   "execution_count": null,
   "id": "04258243",
   "metadata": {},
   "outputs": [],
   "source": [
    "ss.toInt"
   ]
  },
  {
   "cell_type": "code",
   "execution_count": null,
   "id": "82854c13",
   "metadata": {},
   "outputs": [],
   "source": [
    "s.toFloat"
   ]
  },
  {
   "cell_type": "code",
   "execution_count": null,
   "id": "df854a0e",
   "metadata": {},
   "outputs": [],
   "source": []
  },
  {
   "cell_type": "code",
   "execution_count": null,
   "id": "75e84b0f",
   "metadata": {},
   "outputs": [],
   "source": [
    "/* Java\n",
    "class MyClass { // this is Java\n",
    "    private int index;\n",
    "    private String name;\n",
    "    \n",
    "    public MyClass(int index, String name){\n",
    "        this.index = index;\n",
    "        this.name = name;\n",
    "    }\n",
    "}\n",
    "*/\n",
    "\n",
    "// Scala\n",
    "class MyClass(index: Int, name: String)"
   ]
  },
  {
   "cell_type": "code",
   "execution_count": null,
   "id": "b3ee0106",
   "metadata": {},
   "outputs": [],
   "source": []
  },
  {
   "cell_type": "code",
   "execution_count": null,
   "id": "c3ee9b8f",
   "metadata": {},
   "outputs": [],
   "source": [
    "/* Java\n",
    "boolean nameHasUpperCase = false;\n",
    "for (int i = 0; i < name.length(); ++i){\n",
    "    if (Character.isUppercase(name.charAt(i))){\n",
    "        nameHasUpperCase = true;\n",
    "        break;\n",
    "    }\n",
    "}\n",
    "*/\n",
    "\n",
    "val name = \"Starbucks\"\n",
    "val nameHasUpperCase = name.exists(_.isUpper)"
   ]
  },
  {
   "cell_type": "code",
   "execution_count": null,
   "id": "01e03405",
   "metadata": {},
   "outputs": [],
   "source": []
  },
  {
   "cell_type": "code",
   "execution_count": null,
   "id": "faeffe61",
   "metadata": {},
   "outputs": [],
   "source": [
    "import scala.collection.mutable.Map\n",
    "import scala.collection.mutable.HashMap"
   ]
  },
  {
   "cell_type": "code",
   "execution_count": null,
   "id": "ac4b3881",
   "metadata": {},
   "outputs": [],
   "source": [
    "val x: HashMap[Int, String] = new HashMap[Int, String]()"
   ]
  },
  {
   "cell_type": "code",
   "execution_count": null,
   "id": "6982f672",
   "metadata": {},
   "outputs": [],
   "source": [
    "val x = new HashMap[Int, String]()"
   ]
  },
  {
   "cell_type": "code",
   "execution_count": null,
   "id": "3123809f",
   "metadata": {},
   "outputs": [],
   "source": [
    "val x: Map[Int, String] = new HashMap()"
   ]
  },
  {
   "cell_type": "code",
   "execution_count": null,
   "id": "8a6c6229",
   "metadata": {},
   "outputs": [],
   "source": []
  },
  {
   "cell_type": "markdown",
   "id": "0f8c8297",
   "metadata": {},
   "source": [
    "### Chapter 2"
   ]
  },
  {
   "cell_type": "code",
   "execution_count": null,
   "id": "82fb1575",
   "metadata": {},
   "outputs": [],
   "source": [
    "1 + 2"
   ]
  },
  {
   "cell_type": "code",
   "execution_count": null,
   "id": "68412db2",
   "metadata": {},
   "outputs": [],
   "source": [
    "res0 * 3"
   ]
  },
  {
   "cell_type": "code",
   "execution_count": null,
   "id": "a0172eb6",
   "metadata": {},
   "outputs": [],
   "source": [
    "println(\"Hello, world!\")"
   ]
  },
  {
   "cell_type": "code",
   "execution_count": null,
   "id": "c3794a1e",
   "metadata": {},
   "outputs": [],
   "source": [
    "val msg = \"Hello, world!\""
   ]
  },
  {
   "cell_type": "code",
   "execution_count": null,
   "id": "3a5aa5ba",
   "metadata": {},
   "outputs": [],
   "source": [
    "val msg2 = java.lang.String = \"Hello again, world!\""
   ]
  },
  {
   "cell_type": "code",
   "execution_count": null,
   "id": "ed43f30d",
   "metadata": {},
   "outputs": [],
   "source": [
    "val msg3: String = \"Hello yet again, world!\""
   ]
  },
  {
   "cell_type": "code",
   "execution_count": null,
   "id": "b409c5b3",
   "metadata": {},
   "outputs": [],
   "source": [
    "println(msg)"
   ]
  },
  {
   "cell_type": "code",
   "execution_count": null,
   "id": "d1a9331c",
   "metadata": {},
   "outputs": [],
   "source": [
    "msg = \"Goodbye cruel world!\""
   ]
  },
  {
   "cell_type": "code",
   "execution_count": null,
   "id": "1197c6d9",
   "metadata": {},
   "outputs": [],
   "source": [
    "var greeting = \"Hello, world!\""
   ]
  },
  {
   "cell_type": "code",
   "execution_count": null,
   "id": "3edc73d9",
   "metadata": {},
   "outputs": [],
   "source": [
    "greeting = \"Leave me alone, world!\""
   ]
  },
  {
   "cell_type": "code",
   "execution_count": null,
   "id": "38e0210f",
   "metadata": {},
   "outputs": [],
   "source": [
    "println(greeting)"
   ]
  },
  {
   "cell_type": "code",
   "execution_count": null,
   "id": "9ad5ed30",
   "metadata": {},
   "outputs": [],
   "source": [
    "val multiLine = \n",
    "    \"This is the next line.\""
   ]
  },
  {
   "cell_type": "code",
   "execution_count": null,
   "id": "2f444def",
   "metadata": {},
   "outputs": [],
   "source": [
    "val oops = \n",
    "\n",
    "// You typed two blank lines. Starting a new command"
   ]
  },
  {
   "cell_type": "code",
   "execution_count": null,
   "id": "bc9a47e5",
   "metadata": {},
   "outputs": [],
   "source": [
    "def max(x: Int, y: Int): Int = \n",
    "    if x > y then x\n",
    "    else y"
   ]
  },
  {
   "cell_type": "code",
   "execution_count": null,
   "id": "e32e625c",
   "metadata": {},
   "outputs": [],
   "source": [
    "def max(x: Int, y: Int) = if x > y then x else y"
   ]
  },
  {
   "cell_type": "code",
   "execution_count": null,
   "id": "adf8be5d",
   "metadata": {},
   "outputs": [],
   "source": [
    "val bigger = max(3, 5)"
   ]
  },
  {
   "cell_type": "code",
   "execution_count": null,
   "id": "a001f7e5",
   "metadata": {},
   "outputs": [],
   "source": [
    "def greet() = println(\"Hello, world!\")"
   ]
  },
  {
   "cell_type": "code",
   "execution_count": null,
   "id": "a8283937",
   "metadata": {},
   "outputs": [],
   "source": [
    "greet()"
   ]
  },
  {
   "cell_type": "code",
   "execution_count": null,
   "id": "ecdad3f6",
   "metadata": {},
   "outputs": [],
   "source": [
    "@main def m() =\n",
    "    println(\"Hello, world, from a script!\")"
   ]
  },
  {
   "cell_type": "code",
   "execution_count": null,
   "id": "286800bd",
   "metadata": {},
   "outputs": [],
   "source": [
    "@main def m(args: String*) = \n",
    "    // Say hello to the first argument\n",
    "    println(\"Hello, \" + args(0) + \"!\")"
   ]
  },
  {
   "cell_type": "code",
   "execution_count": null,
   "id": "7da17c82",
   "metadata": {},
   "outputs": [],
   "source": [
    "m(\"earth\", \"planet\")"
   ]
  },
  {
   "cell_type": "code",
   "execution_count": null,
   "id": "c199d308",
   "metadata": {},
   "outputs": [],
   "source": [
    "@main def m(args: String*) =\n",
    "    var i = 0\n",
    "    while i < args.length do\n",
    "        println(args(i))\n",
    "        i += 1"
   ]
  },
  {
   "cell_type": "code",
   "execution_count": null,
   "id": "90e5bde4",
   "metadata": {},
   "outputs": [],
   "source": [
    "m(\"earth\",\"jupyter\",\"solar\")"
   ]
  },
  {
   "cell_type": "code",
   "execution_count": null,
   "id": "f8c0f4e2",
   "metadata": {},
   "outputs": [],
   "source": [
    "val ls = List(1,2,3,4)"
   ]
  },
  {
   "cell_type": "code",
   "execution_count": null,
   "id": "94f3fc41",
   "metadata": {},
   "outputs": [],
   "source": [
    "ls(2)"
   ]
  },
  {
   "cell_type": "code",
   "execution_count": null,
   "id": "fc875faf",
   "metadata": {},
   "outputs": [],
   "source": [
    "@main def m(args: String*) =\n",
    "    var i = 0\n",
    "    while i < args.length do\n",
    "        if i != 0 then\n",
    "            print(\" \")\n",
    "        print(args(i))\n",
    "        i += 1\n",
    "    println()"
   ]
  },
  {
   "cell_type": "code",
   "execution_count": null,
   "id": "501dd84c",
   "metadata": {},
   "outputs": [],
   "source": [
    "m(\"Scala\",\"is\",\"even\",\"more\",\"fun\")"
   ]
  },
  {
   "cell_type": "code",
   "execution_count": null,
   "id": "f2019c1d",
   "metadata": {},
   "outputs": [],
   "source": [
    "@main def m(args: String*) = {\n",
    "    var i = 0;\n",
    "    while (i < args.length) {\n",
    "        if (i != 0) {\n",
    "            print(\" \");\n",
    "        }\n",
    "        print(args(i));\n",
    "        i += 1;\n",
    "    }\n",
    "    println();\n",
    "}"
   ]
  },
  {
   "cell_type": "code",
   "execution_count": null,
   "id": "764949a6",
   "metadata": {},
   "outputs": [],
   "source": [
    "m(\"Scala\",\"is\",\"written\",\"by\",\"Java\",\"style\")"
   ]
  },
  {
   "cell_type": "code",
   "execution_count": null,
   "id": "028aa4bb",
   "metadata": {},
   "outputs": [],
   "source": [
    "@main def m(args: String*) = \n",
    "    args.foreach(arg => println(arg))"
   ]
  },
  {
   "cell_type": "code",
   "execution_count": null,
   "id": "aca22328",
   "metadata": {},
   "outputs": [],
   "source": [
    "m(\"Concise\",\"is\",\"nice\")"
   ]
  },
  {
   "cell_type": "code",
   "execution_count": null,
   "id": "44b72cef",
   "metadata": {},
   "outputs": [],
   "source": [
    "@main def m(args: String*) = \n",
    "    args.foreach((arg: String) => println(arg))"
   ]
  },
  {
   "cell_type": "code",
   "execution_count": null,
   "id": "953721b0",
   "metadata": {},
   "outputs": [],
   "source": [
    "m(\"Concise\",\"is\",\"nice\")"
   ]
  },
  {
   "cell_type": "code",
   "execution_count": null,
   "id": "b1692b69",
   "metadata": {},
   "outputs": [],
   "source": [
    "@main def m(args: String*) =\n",
    "    args.foreach(println)"
   ]
  },
  {
   "cell_type": "code",
   "execution_count": null,
   "id": "0e7eb938",
   "metadata": {},
   "outputs": [],
   "source": [
    "m(\"Concise\",\"is\",\"nice\")"
   ]
  },
  {
   "cell_type": "code",
   "execution_count": null,
   "id": "0cc8b37d",
   "metadata": {},
   "outputs": [],
   "source": [
    "@main def m(args: String*) = \n",
    "    for arg <- args do\n",
    "        println(arg)"
   ]
  },
  {
   "cell_type": "code",
   "execution_count": null,
   "id": "92882ff4",
   "metadata": {},
   "outputs": [],
   "source": [
    "m(\"for\",\"arg\",\"in\",\"args\")"
   ]
  },
  {
   "cell_type": "code",
   "execution_count": null,
   "id": "308806fe",
   "metadata": {},
   "outputs": [],
   "source": []
  },
  {
   "cell_type": "markdown",
   "id": "f53a5f93",
   "metadata": {},
   "source": [
    "### Chapter 3"
   ]
  },
  {
   "cell_type": "code",
   "execution_count": null,
   "id": "1ea74c67",
   "metadata": {},
   "outputs": [],
   "source": [
    "val big = new java.math.BigInteger(\"12345\")"
   ]
  },
  {
   "cell_type": "code",
   "execution_count": null,
   "id": "5a88f85a",
   "metadata": {},
   "outputs": [],
   "source": [
    "val greetStrings = new Array[String](3)\n",
    "// val greetStrings : Array[String] = new Array[String](3)\n",
    "greetStrings(0) = \"Hello\"\n",
    "greetStrings(1) = \", \"\n",
    "greetStrings(2) = \"world!\\n\"\n"
   ]
  },
  {
   "cell_type": "code",
   "execution_count": null,
   "id": "bf0642e9",
   "metadata": {},
   "outputs": [],
   "source": [
    "for i <- 0 to 2 do\n",
    "    print(greetStrings(i))"
   ]
  },
  {
   "cell_type": "code",
   "execution_count": null,
   "id": "2ab1545c",
   "metadata": {},
   "outputs": [],
   "source": [
    "val greetStrings = new Array[String](3)\n",
    "greetStrings.update(0, \"Hello\")\n",
    "greetStrings.update(1, \", \")\n",
    "greetStrings.update(2, \"world!\\n\")\n",
    "\n",
    "for i <- 0.to(2) do\n",
    "    print(greetStrings.apply(i))"
   ]
  },
  {
   "cell_type": "code",
   "execution_count": null,
   "id": "ec992a83",
   "metadata": {},
   "outputs": [],
   "source": [
    "val numNames = Array(\"zero\",\"one\",\"two\")"
   ]
  },
  {
   "cell_type": "code",
   "execution_count": null,
   "id": "afca176a",
   "metadata": {},
   "outputs": [],
   "source": [
    "val numNames2 = Array.apply(\"zero\",\"one\",\"two\")"
   ]
  },
  {
   "cell_type": "code",
   "execution_count": null,
   "id": "a346f44b",
   "metadata": {},
   "outputs": [],
   "source": [
    "val oneTwoThree = List(1, 2, 3)"
   ]
  },
  {
   "cell_type": "code",
   "execution_count": null,
   "id": "074d4cc7",
   "metadata": {},
   "outputs": [],
   "source": [
    "val oneTwo = List(1, 2)\n",
    "val threeFour = List(3, 4)\n",
    "val oneTwoThreeFour = oneTwo ::: threeFour"
   ]
  },
  {
   "cell_type": "code",
   "execution_count": null,
   "id": "568bb278",
   "metadata": {},
   "outputs": [],
   "source": [
    "val twoThree = List(2, 3)\n",
    "val oneTwoThree = 1 :: twoThree"
   ]
  },
  {
   "cell_type": "code",
   "execution_count": null,
   "id": "4a8efe8c",
   "metadata": {},
   "outputs": [],
   "source": [
    "val oneTwoThree = 1 :: 2 :: 3 :: Nil"
   ]
  },
  {
   "cell_type": "code",
   "execution_count": null,
   "id": "e52f3b45",
   "metadata": {},
   "outputs": [],
   "source": [
    "// The empty List\n",
    "List.empty\n",
    "Nil"
   ]
  },
  {
   "cell_type": "code",
   "execution_count": null,
   "id": "98b66508",
   "metadata": {},
   "outputs": [],
   "source": [
    "List(\"Cool\",\"tools\",\"rule\")"
   ]
  },
  {
   "cell_type": "code",
   "execution_count": null,
   "id": "7d445a9d",
   "metadata": {},
   "outputs": [],
   "source": [
    "val thrill = \"Will\" :: \"fill\" :: \"until\" :: Nil"
   ]
  },
  {
   "cell_type": "code",
   "execution_count": null,
   "id": "933a4bde",
   "metadata": {},
   "outputs": [],
   "source": [
    "List(\"a\", \"b\") ::: List(\"c\", \"d\")"
   ]
  },
  {
   "cell_type": "code",
   "execution_count": null,
   "id": "feef03ec",
   "metadata": {},
   "outputs": [],
   "source": [
    "thrill(2)"
   ]
  },
  {
   "cell_type": "code",
   "execution_count": null,
   "id": "94be7084",
   "metadata": {},
   "outputs": [],
   "source": [
    "thrill.count(s => s.length == 4)"
   ]
  },
  {
   "cell_type": "code",
   "execution_count": null,
   "id": "0eff3416",
   "metadata": {},
   "outputs": [],
   "source": [
    "thrill.drop(2)"
   ]
  },
  {
   "cell_type": "code",
   "execution_count": null,
   "id": "7857badf",
   "metadata": {},
   "outputs": [],
   "source": [
    "thrill.dropRight(2)"
   ]
  },
  {
   "cell_type": "code",
   "execution_count": null,
   "id": "bdccd172",
   "metadata": {},
   "outputs": [],
   "source": [
    "thrill.exists(s => s == \"until\")"
   ]
  },
  {
   "cell_type": "code",
   "execution_count": null,
   "id": "d7361b36",
   "metadata": {},
   "outputs": [],
   "source": [
    "thrill.filter(s => s.length == 4)"
   ]
  },
  {
   "cell_type": "code",
   "execution_count": null,
   "id": "877a401d",
   "metadata": {},
   "outputs": [],
   "source": [
    "thrill.forall(s => s.endsWith(\"l\"))"
   ]
  },
  {
   "cell_type": "code",
   "execution_count": null,
   "id": "2bb7e9bd",
   "metadata": {},
   "outputs": [],
   "source": [
    "thrill.forall(s => s.startsWith(\"f\"))"
   ]
  },
  {
   "cell_type": "code",
   "execution_count": null,
   "id": "6ccbf5eb",
   "metadata": {},
   "outputs": [],
   "source": [
    "thrill.foreach(s => print(s))"
   ]
  },
  {
   "cell_type": "code",
   "execution_count": null,
   "id": "aec4e9af",
   "metadata": {},
   "outputs": [],
   "source": [
    "thrill.foreach(print)"
   ]
  },
  {
   "cell_type": "code",
   "execution_count": null,
   "id": "53df2323",
   "metadata": {},
   "outputs": [],
   "source": [
    "thrill.head"
   ]
  },
  {
   "cell_type": "code",
   "execution_count": null,
   "id": "9e6cb25d",
   "metadata": {},
   "outputs": [],
   "source": [
    "thrill.init"
   ]
  },
  {
   "cell_type": "code",
   "execution_count": null,
   "id": "cb6ab5d8",
   "metadata": {},
   "outputs": [],
   "source": [
    "thrill.isEmpty"
   ]
  },
  {
   "cell_type": "code",
   "execution_count": null,
   "id": "3e5b78ff",
   "metadata": {},
   "outputs": [],
   "source": [
    "thrill.last"
   ]
  },
  {
   "cell_type": "code",
   "execution_count": null,
   "id": "480bb663",
   "metadata": {},
   "outputs": [],
   "source": [
    "thrill.length"
   ]
  },
  {
   "cell_type": "code",
   "execution_count": null,
   "id": "639acb2c",
   "metadata": {},
   "outputs": [],
   "source": [
    "thrill.map(s => s + \"y\")"
   ]
  },
  {
   "cell_type": "code",
   "execution_count": null,
   "id": "57699384",
   "metadata": {},
   "outputs": [],
   "source": [
    "// make string\n",
    "thrill.mkString(\", \")"
   ]
  },
  {
   "cell_type": "code",
   "execution_count": null,
   "id": "c6e44422",
   "metadata": {},
   "outputs": [],
   "source": [
    "thrill.filterNot(s => s.length == 4)"
   ]
  },
  {
   "cell_type": "code",
   "execution_count": null,
   "id": "6f5206ea",
   "metadata": {},
   "outputs": [],
   "source": [
    "thrill.reverse"
   ]
  },
  {
   "cell_type": "code",
   "execution_count": null,
   "id": "b55028ad",
   "metadata": {},
   "outputs": [],
   "source": [
    "thrill.sortWith((s, t) => s.charAt(0).toLower < t.charAt(0).toLower)"
   ]
  },
  {
   "cell_type": "code",
   "execution_count": null,
   "id": "dfbf38ae",
   "metadata": {},
   "outputs": [],
   "source": [
    "thrill.tail"
   ]
  },
  {
   "cell_type": "code",
   "execution_count": null,
   "id": "20a3d754",
   "metadata": {},
   "outputs": [],
   "source": [
    "val ss = \"abcde\""
   ]
  },
  {
   "cell_type": "code",
   "execution_count": null,
   "id": "3e5e1ade",
   "metadata": {},
   "outputs": [],
   "source": [
    "var i = 0 to ss.length - 1"
   ]
  },
  {
   "cell_type": "code",
   "execution_count": null,
   "id": "57cb2df5",
   "metadata": {},
   "outputs": [],
   "source": [
    "for idx <- i do\n",
    "    print(ss.charAt(idx).toLower)"
   ]
  },
  {
   "cell_type": "code",
   "execution_count": null,
   "id": "4cb1e5a6",
   "metadata": {},
   "outputs": [],
   "source": [
    "for idx <- i do\n",
    "    print(ss.charAt(idx).toUpper)"
   ]
  },
  {
   "cell_type": "code",
   "execution_count": null,
   "id": "e49ca82d",
   "metadata": {},
   "outputs": [],
   "source": [
    "val pair = (99, \"Luftballons\")\n",
    "val num = pair(0)\n",
    "val what = pair(1)"
   ]
  },
  {
   "cell_type": "code",
   "execution_count": null,
   "id": "54f844b8",
   "metadata": {},
   "outputs": [],
   "source": [
    "var jetSet = Set(\"Boeing\",\"Airbus\")\n",
    "jetSet += \"Lear\"\n",
    "val query = jetSet.contains(\"Cessna\")"
   ]
  },
  {
   "cell_type": "code",
   "execution_count": null,
   "id": "ebf4d1b5",
   "metadata": {},
   "outputs": [],
   "source": [
    "import scala.collection.mutable\n",
    "val movieSet = mutable.Set(\"Spotlight\",\"Moonlight\")\n",
    "movieSet += \"Parasite\""
   ]
  },
  {
   "cell_type": "code",
   "execution_count": null,
   "id": "053e5565",
   "metadata": {},
   "outputs": [],
   "source": [
    "import scala.collection.immutable.HashSet\n",
    "val hashSet = HashSet(\"Tomatoes\",\"Chilies\")\n",
    "val ingredients = hashSet + \"Coriander\""
   ]
  },
  {
   "cell_type": "code",
   "execution_count": null,
   "id": "efbfcbe5",
   "metadata": {},
   "outputs": [],
   "source": [
    "import scala.collection.mutable\n",
    "\n",
    "val treasureMap = mutable.Map.empty[Int, String]\n",
    "treasureMap += (1 -> \"Go to island.\")\n",
    "treasureMap += (2 -> \"Find big X on ground.\")\n",
    "treasureMap += (3 -> \"Dig.\")\n",
    "\n",
    "val step2 = treasureMap(2)"
   ]
  },
  {
   "cell_type": "code",
   "execution_count": null,
   "id": "a2b200e5",
   "metadata": {},
   "outputs": [],
   "source": [
    "val romanNumeral = Map(\n",
    "    1 -> \"I\",\n",
    "    2 -> \"II\",\n",
    "    3 -> \"III\",\n",
    "    4 -> \"IV\",\n",
    "    5 -> \"V\"\n",
    ")\n",
    "\n",
    "val four = romanNumeral(4)"
   ]
  },
  {
   "cell_type": "code",
   "execution_count": null,
   "id": "590d11a8",
   "metadata": {},
   "outputs": [],
   "source": [
    "// imperative style\n",
    "def printArgs(args: List[String]): Unit =\n",
    "    var i = 0\n",
    "    while i < args.length do\n",
    "        println(args(i))\n",
    "        i += 1"
   ]
  },
  {
   "cell_type": "code",
   "execution_count": null,
   "id": "8d2c7c40",
   "metadata": {},
   "outputs": [],
   "source": [
    "printArgs(List(\"A\",\"B\",\"C\"))"
   ]
  },
  {
   "cell_type": "code",
   "execution_count": null,
   "id": "34f02bfe",
   "metadata": {},
   "outputs": [],
   "source": [
    "// more functional style\n",
    "def printArgs2(args: List[String]): Unit =\n",
    "    for arg <- args do\n",
    "        println(arg)\n",
    "\n",
    "// or\n",
    "def printArgs3(args: List[String]): Unit =\n",
    "    args.foreach(println)"
   ]
  },
  {
   "cell_type": "code",
   "execution_count": null,
   "id": "8826271f",
   "metadata": {},
   "outputs": [],
   "source": [
    "def formatArgs(args: List[String]) = args.mkString(\"\\n\")"
   ]
  },
  {
   "cell_type": "code",
   "execution_count": null,
   "id": "d3ca3b57",
   "metadata": {},
   "outputs": [],
   "source": [
    "val ss = formatArgs(List(\"A\",\"B\",\"C\"))"
   ]
  },
  {
   "cell_type": "code",
   "execution_count": null,
   "id": "2475472b",
   "metadata": {},
   "outputs": [],
   "source": [
    "val adjectives = List(\"One\",\"Two\",\"Red\",\"Blue\")"
   ]
  },
  {
   "cell_type": "code",
   "execution_count": null,
   "id": "3294c505",
   "metadata": {},
   "outputs": [],
   "source": [
    "val nouns = adjectives.map(adj => adj + \" Fish\")"
   ]
  },
  {
   "cell_type": "code",
   "execution_count": null,
   "id": "f53c8788",
   "metadata": {},
   "outputs": [],
   "source": [
    "val nouns = \n",
    "    for adj <- adjectives yield\n",
    "        adj + \" Fish\"\n"
   ]
  },
  {
   "cell_type": "code",
   "execution_count": null,
   "id": "4b0dcea5",
   "metadata": {},
   "outputs": [],
   "source": [
    "val lengths = nouns.map(noun => noun.length)"
   ]
  },
  {
   "cell_type": "code",
   "execution_count": null,
   "id": "41c055f1",
   "metadata": {},
   "outputs": [],
   "source": [
    "val lengths = \n",
    "    for noun <- nouns yield\n",
    "        noun.length"
   ]
  },
  {
   "cell_type": "code",
   "execution_count": null,
   "id": "467d18bc",
   "metadata": {},
   "outputs": [],
   "source": [
    "val ques = Vector(\"Who\",\"What\",\"When\",\"Where\",\"Why\")"
   ]
  },
  {
   "cell_type": "code",
   "execution_count": null,
   "id": "fc68fbb4",
   "metadata": {},
   "outputs": [],
   "source": [
    "val usingMap = ques.map(q => q.toLowerCase + \"?\")"
   ]
  },
  {
   "cell_type": "code",
   "execution_count": null,
   "id": "dbef3495",
   "metadata": {},
   "outputs": [],
   "source": [
    "val usingForYield = \n",
    "    for q <- ques yield\n",
    "        q.toLowerCase + \"?\""
   ]
  },
  {
   "cell_type": "code",
   "execution_count": null,
   "id": "bed2a606",
   "metadata": {},
   "outputs": [],
   "source": [
    "val startsW = ques.find(q => q.startsWith(\"W\"))\n",
    "val hasLen4 = ques.find(q => q.length == 4)\n",
    "val hasLen5 = ques.find(q => q.length == 5)\n",
    "val startsH = ques.find(q => q.startsWith(\"H\"))"
   ]
  },
  {
   "cell_type": "code",
   "execution_count": null,
   "id": "662be1ac",
   "metadata": {},
   "outputs": [],
   "source": [
    "startsW.map(word => word.toUpperCase)"
   ]
  },
  {
   "cell_type": "code",
   "execution_count": null,
   "id": "5d82f6af",
   "metadata": {},
   "outputs": [],
   "source": [
    "for word <- startsW yield word.toUpperCase"
   ]
  },
  {
   "cell_type": "code",
   "execution_count": null,
   "id": "24c24fe2",
   "metadata": {},
   "outputs": [],
   "source": [
    "startsH.map(word => word.toUpperCase)"
   ]
  },
  {
   "cell_type": "code",
   "execution_count": null,
   "id": "7df9d04c",
   "metadata": {},
   "outputs": [],
   "source": [
    "for word <- startsH yield word.toUpperCase"
   ]
  },
  {
   "cell_type": "markdown",
   "id": "c71a0733",
   "metadata": {},
   "source": [
    "### Chapter 4"
   ]
  },
  {
   "cell_type": "code",
   "execution_count": null,
   "id": "e010c279",
   "metadata": {},
   "outputs": [],
   "source": [
    "class ChecksumAccumulator:\n",
    "    // class definition goes here, indented"
   ]
  },
  {
   "cell_type": "code",
   "execution_count": null,
   "id": "efb71ed9",
   "metadata": {},
   "outputs": [],
   "source": [
    "new ChecksumAccumulator"
   ]
  },
  {
   "cell_type": "code",
   "execution_count": null,
   "id": "d85bf9f7",
   "metadata": {},
   "outputs": [],
   "source": [
    "class ChecksumAccumulator:\n",
    "    var sum = 0"
   ]
  },
  {
   "cell_type": "code",
   "execution_count": null,
   "id": "ae1085ef",
   "metadata": {},
   "outputs": [],
   "source": [
    "val acc = new ChecksumAccumulator\n",
    "val csa = new ChecksumAccumulator"
   ]
  },
  {
   "cell_type": "code",
   "execution_count": null,
   "id": "b2fe2a6b",
   "metadata": {},
   "outputs": [],
   "source": [
    "acc.sum = 3"
   ]
  },
  {
   "cell_type": "code",
   "execution_count": null,
   "id": "b87fb49b",
   "metadata": {},
   "outputs": [],
   "source": [
    "acc = new ChecksumAccumulator"
   ]
  },
  {
   "cell_type": "code",
   "execution_count": null,
   "id": "f16b6b34",
   "metadata": {},
   "outputs": [],
   "source": [
    "class ChecksumAccumulator:\n",
    "    private var sum = 0"
   ]
  },
  {
   "cell_type": "code",
   "execution_count": null,
   "id": "2de7dee0",
   "metadata": {},
   "outputs": [],
   "source": [
    "val acc = new ChecksumAccumulator\n",
    "acc.sum = 5"
   ]
  },
  {
   "cell_type": "code",
   "execution_count": null,
   "id": "3347c5f2",
   "metadata": {},
   "outputs": [],
   "source": [
    "class ChecksumAccumulator:\n",
    "    private var sum = 0\n",
    "    def add(b: Byte): Unit =\n",
    "        // b = 1 // This won't compile, because b is a val\n",
    "        sum += b\n",
    "    def checksum(): Int = \n",
    "        return ~(sum & 0xFF) + 1"
   ]
  },
  {
   "cell_type": "code",
   "execution_count": null,
   "id": "2bd3a5df",
   "metadata": {},
   "outputs": [],
   "source": [
    "class ChecksumAccumulator:\n",
    "    private var sum = 0\n",
    "    def add(b: Byte) = sum += b\n",
    "    def checksum() = ~(sum & 0xFF) + 1"
   ]
  },
  {
   "cell_type": "code",
   "execution_count": null,
   "id": "eaf95b80",
   "metadata": {},
   "outputs": [],
   "source": [
    "val s = \"hello\"; println(s)"
   ]
  },
  {
   "cell_type": "code",
   "execution_count": null,
   "id": "9e0acf80",
   "metadata": {},
   "outputs": [],
   "source": [
    "val x = 3\n",
    "if x < 2 then\n",
    "    \"too small\"\n",
    "else\n",
    "    \"ok\""
   ]
  },
  {
   "cell_type": "code",
   "execution_count": null,
   "id": "e5174c1c",
   "metadata": {},
   "outputs": [],
   "source": [
    "import scala.collection.mutable\n",
    "\n",
    "object ChecksumAccumulator:\n",
    "    private val cache = mutable.Map.empty[String, Int]\n",
    "    def calculate(s: String): Int =\n",
    "        if cache.contains(s) then\n",
    "            cache(s)\n",
    "        else\n",
    "            val acc = new ChecksumAccumulator // 위에서 정의한 ChecksumAccumulator 클래스 부름\n",
    "            for c <- s do\n",
    "                acc.add((c >> 8).toByte)\n",
    "                acc.add(c.toByte)\n",
    "            val cs = acc.checksum()\n",
    "            cache += (s -> cs)\n",
    "            cs"
   ]
  },
  {
   "cell_type": "code",
   "execution_count": null,
   "id": "56bb5fe9",
   "metadata": {},
   "outputs": [],
   "source": [
    "ChecksumAccumulator.calculate(\"Every value is an object.\")"
   ]
  },
  {
   "cell_type": "code",
   "execution_count": null,
   "id": "260129b0",
   "metadata": {},
   "outputs": [],
   "source": [
    "case class Person(name: String, age: Int)"
   ]
  },
  {
   "cell_type": "code",
   "execution_count": null,
   "id": "dc9f9a52",
   "metadata": {},
   "outputs": [],
   "source": [
    "val p = Person(\"Sally\",39)"
   ]
  },
  {
   "cell_type": "code",
   "execution_count": null,
   "id": "963900b7",
   "metadata": {},
   "outputs": [],
   "source": [
    "p.name\n",
    "p.age"
   ]
  },
  {
   "cell_type": "code",
   "execution_count": null,
   "id": "508b88ec",
   "metadata": {},
   "outputs": [],
   "source": [
    "p.toString"
   ]
  },
  {
   "cell_type": "code",
   "execution_count": null,
   "id": "7463e8e4",
   "metadata": {},
   "outputs": [],
   "source": [
    "p == Person(\"Sally\", 21)\n",
    "p.hashCode == Person(\"Sally\", 21).hashCode\n",
    "p == Person(\"James\", 39)\n",
    "p.hashCode == Person(\"James\", 39).hashCode\n",
    "p == Person(\"Sally\",39)\n",
    "p.hashCode == Person(\"Sally\",39).hashCode"
   ]
  },
  {
   "cell_type": "code",
   "execution_count": null,
   "id": "2c1d7087",
   "metadata": {},
   "outputs": [],
   "source": [
    "p.hashCode"
   ]
  },
  {
   "cell_type": "code",
   "execution_count": null,
   "id": "22283335",
   "metadata": {},
   "outputs": [],
   "source": [
    "case class Person(name: String, age: Int):\n",
    "    def appendToName(suffix: String): Person =\n",
    "        Person(s\"$name$suffix\", age)\n",
    "\n",
    "object Person:\n",
    "    // Ensure non-empty name is capitalized\n",
    "    def apply(name: String, age: Int): Person =\n",
    "        val capitalizedName =\n",
    "            if !name.isEmpty then\n",
    "                val firstChar = name.charAt(0).toUpper\n",
    "                val restOfName = name.substring(1)\n",
    "                s\"$firstChar$restOfName\"\n",
    "            else throw new IllegalArgumentException(\"Empty name\")\n",
    "        new Person(capitalizedName, age)"
   ]
  },
  {
   "cell_type": "code",
   "execution_count": null,
   "id": "a9e7b8ac",
   "metadata": {},
   "outputs": [],
   "source": [
    "val q = Person(\"sally\", 39)"
   ]
  },
  {
   "cell_type": "code",
   "execution_count": null,
   "id": "3dd75269",
   "metadata": {},
   "outputs": [],
   "source": [
    "q.appendToName(\" Smith\")"
   ]
  },
  {
   "cell_type": "code",
   "execution_count": null,
   "id": "ea7db849",
   "metadata": {},
   "outputs": [],
   "source": [
    "import ChecksumAccumulator.calculate\n",
    "\n",
    "object Summer:\n",
    "    def main(args: Array[String]): Unit =\n",
    "        for arg <- args do\n",
    "            println(arg + \": \" + calculate(arg))"
   ]
  },
  {
   "cell_type": "markdown",
   "id": "2399329f",
   "metadata": {},
   "source": [
    "### Chapter 5"
   ]
  },
  {
   "cell_type": "code",
   "execution_count": null,
   "id": "f8493b3e",
   "metadata": {},
   "outputs": [],
   "source": [
    "val hex = 0x5\n",
    "val hex2 = 0x00FF\n",
    "val magix = 0xcafebabe\n",
    "val billion = 1_000_000_000"
   ]
  },
  {
   "cell_type": "code",
   "execution_count": null,
   "id": "48c07898",
   "metadata": {},
   "outputs": [],
   "source": [
    "val dec1 = 31\n",
    "val dec2 = 255\n",
    "val dec3 = 20"
   ]
  },
  {
   "cell_type": "code",
   "execution_count": null,
   "id": "86465eea",
   "metadata": {},
   "outputs": [],
   "source": [
    "val prog = 0XCAFEBABEL\n",
    "val tower = 35L\n",
    "val of = 31l"
   ]
  },
  {
   "cell_type": "code",
   "execution_count": null,
   "id": "6fe67799",
   "metadata": {},
   "outputs": [],
   "source": [
    "val little: Short = 367\n",
    "val littler: Byte = 38"
   ]
  },
  {
   "cell_type": "code",
   "execution_count": null,
   "id": "17966ced",
   "metadata": {},
   "outputs": [],
   "source": [
    "val big = 1.2345\n",
    "val bigger = 1.2345e1\n",
    "val biggerStill = 123E45\n",
    "val trillion = 1_000_000_000e3"
   ]
  },
  {
   "cell_type": "code",
   "execution_count": null,
   "id": "b3071d52",
   "metadata": {},
   "outputs": [],
   "source": [
    "val little = 1.2345F\n",
    "val littleBigger = 3e5f"
   ]
  },
  {
   "cell_type": "code",
   "execution_count": null,
   "id": "3f8d3a9c",
   "metadata": {},
   "outputs": [],
   "source": [
    "val anotherDouble = 3e5\n",
    "val yetAnother = 3e5D"
   ]
  },
  {
   "cell_type": "code",
   "execution_count": null,
   "id": "48c52c15",
   "metadata": {},
   "outputs": [],
   "source": [
    "import scala.language.experimental.genericNumberLiterals"
   ]
  },
  {
   "cell_type": "code",
   "execution_count": null,
   "id": "8e0e30c0",
   "metadata": {},
   "outputs": [],
   "source": [
    "val invoice: BigInt = 1_000_000_000_000_000_000_000\n",
    "val pi: BigDecimal = 3.1415926535897932384626433833"
   ]
  },
  {
   "cell_type": "code",
   "execution_count": null,
   "id": "b7a6ce4d",
   "metadata": {},
   "outputs": [],
   "source": [
    "val a = 'A'"
   ]
  },
  {
   "cell_type": "code",
   "execution_count": null,
   "id": "b513c786",
   "metadata": {},
   "outputs": [],
   "source": [
    "val d = '\\u0041'\n",
    "val f = '\\u0044'"
   ]
  },
  {
   "cell_type": "code",
   "execution_count": null,
   "id": "c7cb9bce",
   "metadata": {},
   "outputs": [],
   "source": [
    "val B\\u0041\\u0044 = 1\n",
    "// val BAD: Int = 1"
   ]
  },
  {
   "cell_type": "code",
   "execution_count": null,
   "id": "5b7ae1d3",
   "metadata": {},
   "outputs": [],
   "source": [
    "val backslash = '\\\\'\n",
    "// val backslah: Char = \\"
   ]
  },
  {
   "cell_type": "code",
   "execution_count": null,
   "id": "7e1e584d",
   "metadata": {},
   "outputs": [],
   "source": [
    "val hello = \"hello\""
   ]
  },
  {
   "cell_type": "code",
   "execution_count": null,
   "id": "d3dc34d3",
   "metadata": {},
   "outputs": [],
   "source": [
    "val line_feed = '\\n'\n",
    "val lineFeed = '\\u000A'\n",
    "\n",
    "val backspace = '\\b'\n",
    "val Backspace = '\\u0008'\n",
    "\n",
    "val tab = '\\t'\n",
    "val Tab = '\\u0009'\n",
    "\n",
    "val form_feed = '\\f'\n",
    "val formFeed = '\\u000C'\n",
    "\n",
    "val carriage_return = '\\r'\n",
    "val carriageReturn = '\\u000D'\n",
    "\n",
    "val double_quote = '\\\"'\n",
    "val doubleQuote = '\\u0022'\n",
    "\n",
    "val single_quote = '\\''\n",
    "val singleQuote = '\\u0027'\n",
    "\n",
    "val backslash = '\\\\'\n",
    "val Backslash = '\\u005C'"
   ]
  },
  {
   "cell_type": "code",
   "execution_count": null,
   "id": "01c9afd0",
   "metadata": {},
   "outputs": [],
   "source": [
    "val escapes = \"\\\\\\\"\\'\""
   ]
  },
  {
   "cell_type": "code",
   "execution_count": null,
   "id": "0a7f45b2",
   "metadata": {},
   "outputs": [],
   "source": [
    "println(\"\"\"Welcome to Ultamix 3000.\n",
    "           Type \"HELP\" for help.\"\"\")"
   ]
  },
  {
   "cell_type": "code",
   "execution_count": null,
   "id": "11641f2f",
   "metadata": {},
   "outputs": [],
   "source": [
    "println(\"\"\"|Welcome to Ultamix 3000.\n",
    "           |Type \"HELP\" for help.\"\"\".stripMargin)"
   ]
  },
  {
   "cell_type": "code",
   "execution_count": null,
   "id": "16e7afb0",
   "metadata": {},
   "outputs": [],
   "source": [
    "val bool = true\n",
    "val fool = false"
   ]
  },
  {
   "cell_type": "code",
   "execution_count": null,
   "id": "73710eeb",
   "metadata": {},
   "outputs": [],
   "source": [
    "val name = \"reader\"\n",
    "println(s\"Hello, $name!\")"
   ]
  },
  {
   "cell_type": "code",
   "execution_count": null,
   "id": "0b06929c",
   "metadata": {},
   "outputs": [],
   "source": [
    "s\"The answer is ${6 * 7}.\""
   ]
  },
  {
   "cell_type": "code",
   "execution_count": null,
   "id": "007493e3",
   "metadata": {},
   "outputs": [],
   "source": [
    "println(raw\"No\\\\\\\\escape!\")"
   ]
  },
  {
   "cell_type": "code",
   "execution_count": null,
   "id": "50144a74",
   "metadata": {},
   "outputs": [],
   "source": [
    "f\"${math.Pi}%.5f\""
   ]
  },
  {
   "cell_type": "code",
   "execution_count": null,
   "id": "62ef63d6",
   "metadata": {},
   "outputs": [],
   "source": [
    "val pi = \"Pi\"\n",
    "f\"$pi is approximately ${math.Pi}%.8f.\""
   ]
  },
  {
   "cell_type": "code",
   "execution_count": null,
   "id": "49ad1a21",
   "metadata": {},
   "outputs": [],
   "source": [
    "val sum = 1 + 2"
   ]
  },
  {
   "cell_type": "code",
   "execution_count": null,
   "id": "c6f01c5b",
   "metadata": {},
   "outputs": [],
   "source": [
    "val sumMore = 1.+(2)"
   ]
  },
  {
   "cell_type": "code",
   "execution_count": null,
   "id": "b8257e0f",
   "metadata": {},
   "outputs": [],
   "source": [
    "val longSum = 1 + 2L"
   ]
  },
  {
   "cell_type": "code",
   "execution_count": null,
   "id": "69e3195c",
   "metadata": {},
   "outputs": [],
   "source": [
    "val s = \"Hello, world!\""
   ]
  },
  {
   "cell_type": "code",
   "execution_count": null,
   "id": "264dee95",
   "metadata": {},
   "outputs": [],
   "source": [
    "s indexOf 'o'"
   ]
  },
  {
   "cell_type": "code",
   "execution_count": null,
   "id": "d47454bc",
   "metadata": {},
   "outputs": [],
   "source": [
    "s.indexOf('o')"
   ]
  },
  {
   "cell_type": "code",
   "execution_count": null,
   "id": "21da3588",
   "metadata": {},
   "outputs": [],
   "source": [
    "-2.0"
   ]
  },
  {
   "cell_type": "code",
   "execution_count": null,
   "id": "f765315f",
   "metadata": {},
   "outputs": [],
   "source": [
    "(2.0).unary_-"
   ]
  },
  {
   "cell_type": "code",
   "execution_count": null,
   "id": "77bad60c",
   "metadata": {},
   "outputs": [],
   "source": [
    "val s = \"Hello, world!\""
   ]
  },
  {
   "cell_type": "code",
   "execution_count": null,
   "id": "5d1bcc73",
   "metadata": {},
   "outputs": [],
   "source": [
    "s.toLowerCase"
   ]
  },
  {
   "cell_type": "code",
   "execution_count": null,
   "id": "d722d490",
   "metadata": {},
   "outputs": [],
   "source": [
    "import scala.language.postfixOps\n",
    "\n",
    "s toLowerCase"
   ]
  },
  {
   "cell_type": "code",
   "execution_count": null,
   "id": "0644d876",
   "metadata": {},
   "outputs": [],
   "source": [
    "1.2 + 2.3\n",
    "3 - 1\n",
    "'b' - 'a'\n",
    "2L * 3L\n",
    "11 / 4\n",
    "11 % 4\n",
    "11.0f / 4.0f\n",
    "11.0 % 4.0"
   ]
  },
  {
   "cell_type": "code",
   "execution_count": null,
   "id": "84fdb29d",
   "metadata": {},
   "outputs": [],
   "source": [
    "math.IEEEremainder(11.0, 4.0)"
   ]
  },
  {
   "cell_type": "code",
   "execution_count": null,
   "id": "02f4a7fc",
   "metadata": {},
   "outputs": [],
   "source": [
    "val neg = 1 + -3\n",
    "val y = +3\n",
    "-neg"
   ]
  },
  {
   "cell_type": "code",
   "execution_count": null,
   "id": "b23062a5",
   "metadata": {},
   "outputs": [],
   "source": [
    "1 > 2\n",
    "1 < 2\n",
    "1.0 <= 1.0\n",
    "3.5f >= 3.6f\n",
    "'a' >= 'A'\n",
    "val untrue = !true"
   ]
  },
  {
   "cell_type": "code",
   "execution_count": null,
   "id": "7bd492cf",
   "metadata": {},
   "outputs": [],
   "source": [
    "val toBe = true\n",
    "val question = toBe || !toBe\n",
    "val paradox = toBe && !toBe"
   ]
  },
  {
   "cell_type": "code",
   "execution_count": null,
   "id": "8e823e55",
   "metadata": {},
   "outputs": [],
   "source": [
    "def salt() = { println(\"salt\"); false}"
   ]
  },
  {
   "cell_type": "code",
   "execution_count": null,
   "id": "12375d96",
   "metadata": {},
   "outputs": [],
   "source": [
    "salt()"
   ]
  },
  {
   "cell_type": "code",
   "execution_count": null,
   "id": "fd112024",
   "metadata": {},
   "outputs": [],
   "source": [
    "def pepper() = { println(\"pepper\"); true }"
   ]
  },
  {
   "cell_type": "code",
   "execution_count": null,
   "id": "6183efa7",
   "metadata": {},
   "outputs": [],
   "source": [
    "pepper()"
   ]
  },
  {
   "cell_type": "code",
   "execution_count": null,
   "id": "3571a4a0",
   "metadata": {},
   "outputs": [],
   "source": [
    "pepper() && salt()"
   ]
  },
  {
   "cell_type": "code",
   "execution_count": null,
   "id": "7e32dc7d",
   "metadata": {},
   "outputs": [],
   "source": [
    "salt() && pepper()"
   ]
  },
  {
   "cell_type": "code",
   "execution_count": null,
   "id": "3eacc908",
   "metadata": {},
   "outputs": [],
   "source": [
    "salt() || pepper()"
   ]
  },
  {
   "cell_type": "code",
   "execution_count": null,
   "id": "371dcf22",
   "metadata": {},
   "outputs": [],
   "source": [
    "1 & 2 // 0001 & 0010 = 0000\n",
    "1 | 2 // 0001 | 0010 = 0011\n",
    "1 ^ 3 // 0001 ^ 0010 = 0010\n",
    "~1 // ~0001 = 11111111...10"
   ]
  },
  {
   "cell_type": "code",
   "execution_count": null,
   "id": "f8f03565",
   "metadata": {},
   "outputs": [],
   "source": [
    "-1 >> 31\n",
    "-1 >>> 31\n",
    "1 << 2"
   ]
  },
  {
   "cell_type": "code",
   "execution_count": null,
   "id": "17040bc9",
   "metadata": {},
   "outputs": [],
   "source": [
    "1 == 2\n",
    "1 != 2\n",
    "2 == 2"
   ]
  },
  {
   "cell_type": "code",
   "execution_count": null,
   "id": "9b71ad4b",
   "metadata": {},
   "outputs": [],
   "source": [
    "List(1, 2, 3) == List(1, 2, 3)\n",
    "List(1, 2, 3) == List(4, 5, 6)"
   ]
  },
  {
   "cell_type": "code",
   "execution_count": null,
   "id": "4cb0497b",
   "metadata": {},
   "outputs": [],
   "source": [
    "1 == 1.0\n",
    "List(1, 2, 3) == \"hello\""
   ]
  },
  {
   "cell_type": "code",
   "execution_count": null,
   "id": "0c2f84d1",
   "metadata": {},
   "outputs": [],
   "source": [
    "List(1, 2, 3) == null\n",
    "null == List(1, 2, 3)"
   ]
  },
  {
   "cell_type": "code",
   "execution_count": null,
   "id": "8d1d1c7c",
   "metadata": {},
   "outputs": [],
   "source": [
    "(\"he\" + \"llo\") == \"hello\""
   ]
  },
  {
   "cell_type": "code",
   "execution_count": null,
   "id": "2be9a2ba",
   "metadata": {},
   "outputs": [],
   "source": [
    "2 + 2 * 7\n",
    "(2 + 2) * 7"
   ]
  },
  {
   "cell_type": "code",
   "execution_count": null,
   "id": "62950b2d",
   "metadata": {},
   "outputs": [],
   "source": [
    "2 << 2 + 2"
   ]
  },
  {
   "cell_type": "code",
   "execution_count": null,
   "id": "93de342e",
   "metadata": {},
   "outputs": [],
   "source": [
    "2 + 2 << 2"
   ]
  },
  {
   "cell_type": "code",
   "execution_count": null,
   "id": "2cfb9a0e",
   "metadata": {},
   "outputs": [],
   "source": [
    "var x = 2\n",
    "val y = 3\n",
    "x *= y + 1"
   ]
  },
  {
   "cell_type": "code",
   "execution_count": null,
   "id": "0401129d",
   "metadata": {},
   "outputs": [],
   "source": [
    "val a = List(1,3)\n",
    "val b = List(2,4)\n",
    "{val x = a; b.:::(x)}"
   ]
  },
  {
   "cell_type": "code",
   "execution_count": null,
   "id": "4d853de6",
   "metadata": {},
   "outputs": [],
   "source": [
    "val a = List(1,3)\n",
    "val b = List(2,4)\n",
    "val c = List(5,6)\n",
    "a ::: b ::: c\n",
    "(a ::: b) ::: c\n",
    "a ::: (b ::: c)"
   ]
  },
  {
   "cell_type": "code",
   "execution_count": null,
   "id": "7c4ad440",
   "metadata": {},
   "outputs": [],
   "source": [
    "0.max(5)\n",
    "0.min(5)\n",
    "-2.7.abs\n",
    "-2.7.round\n",
    "1.5.isInfinity\n",
    "(1.0 / 0).isInfinity\n",
    "4 to 6\n",
    "\"bob\".capitalize\n",
    "\"robert\".drop(2)"
   ]
  },
  {
   "cell_type": "markdown",
   "id": "1f76488d",
   "metadata": {},
   "source": [
    "### Chapter 6"
   ]
  },
  {
   "cell_type": "code",
   "execution_count": null,
   "id": "f10317c2",
   "metadata": {},
   "outputs": [],
   "source": [
    "val oneHalf = Rational(1, 2)"
   ]
  },
  {
   "cell_type": "code",
   "execution_count": null,
   "id": "34843642",
   "metadata": {},
   "outputs": [],
   "source": [
    "val twoThirds = Rational(2, 3)"
   ]
  },
  {
   "cell_type": "code",
   "execution_count": null,
   "id": "c5137c1c",
   "metadata": {},
   "outputs": [],
   "source": [
    "(oneHalf / 7) + (1 + twoThirds)"
   ]
  },
  {
   "cell_type": "code",
   "execution_count": null,
   "id": "68474660",
   "metadata": {},
   "outputs": [],
   "source": [
    "class Rational(n: Int, d: Int)"
   ]
  },
  {
   "cell_type": "code",
   "execution_count": null,
   "id": "8c61ab55",
   "metadata": {},
   "outputs": [],
   "source": [
    "class Rational(n: Int, d: Int):\n",
    "    println(\"Created \" + n + \"/\" + d)"
   ]
  },
  {
   "cell_type": "code",
   "execution_count": null,
   "id": "031025ca",
   "metadata": {},
   "outputs": [],
   "source": [
    "new Rational(1, 2)"
   ]
  },
  {
   "cell_type": "code",
   "execution_count": null,
   "id": "6c033964",
   "metadata": {},
   "outputs": [],
   "source": [
    "Rational(1, 2)"
   ]
  },
  {
   "cell_type": "code",
   "execution_count": null,
   "id": "dca83451",
   "metadata": {},
   "outputs": [],
   "source": [
    "class Rational(n: Int, d: Int):\n",
    "    override def toString = s\"$n/$d\""
   ]
  },
  {
   "cell_type": "code",
   "execution_count": null,
   "id": "7a7ad0b9",
   "metadata": {},
   "outputs": [],
   "source": [
    "var name = \"\""
   ]
  },
  {
   "cell_type": "code",
   "execution_count": null,
   "id": "34310a7b",
   "metadata": {},
   "outputs": [],
   "source": [
    "name= readLine(\"What's your name?\")"
   ]
  },
  {
   "cell_type": "code",
   "execution_count": null,
   "id": "d25e6212",
   "metadata": {},
   "outputs": [],
   "source": [
    "class Rational(n: Int, d: Int):\n",
    "    override def toString = s\"$n/$d\""
   ]
  },
  {
   "cell_type": "code",
   "execution_count": null,
   "id": "aa8c49f8",
   "metadata": {},
   "outputs": [],
   "source": [
    "val x = Rational(1, 3)"
   ]
  },
  {
   "cell_type": "code",
   "execution_count": null,
   "id": "c0fd2df7",
   "metadata": {},
   "outputs": [],
   "source": [
    "val y = Rational(5, 7)"
   ]
  },
  {
   "cell_type": "code",
   "execution_count": null,
   "id": "fca624d1",
   "metadata": {},
   "outputs": [],
   "source": [
    "Rational(5, 0)"
   ]
  },
  {
   "cell_type": "code",
   "execution_count": null,
   "id": "6b66aedf",
   "metadata": {},
   "outputs": [],
   "source": [
    "class Rational(n: Int, d: Int):\n",
    "    require(d != 0) // false 의 경우 IllegalArgumentException으로 넘어감\n",
    "    override def toString = s\"$n/$d\""
   ]
  },
  {
   "cell_type": "code",
   "execution_count": null,
   "id": "10622d9a",
   "metadata": {},
   "outputs": [],
   "source": [
    "class Rational(n: Int, d: Int): // This won't compile\n",
    "    require(d != 0)\n",
    "    override def toString = s\"$n/$d\"\n",
    "    def add(that: Rational): Rational =\n",
    "        Rational(n * that.d + that.n * d, d * that.d)"
   ]
  },
  {
   "cell_type": "code",
   "execution_count": null,
   "id": "faaf5d87",
   "metadata": {},
   "outputs": [],
   "source": [
    "class Rational(n: Int, d: Int): \n",
    "    require(d != 0)\n",
    "    val numer: Int = n\n",
    "    val denom: Int = d\n",
    "    override def toString = s\"$numer/$denom\"\n",
    "    def add(that: Rational): Rational =\n",
    "        Rational(\n",
    "            numer * that.denom + that.numer * denom,\n",
    "            denom * that.denom\n",
    "        )"
   ]
  },
  {
   "cell_type": "code",
   "execution_count": null,
   "id": "bf7f309c",
   "metadata": {},
   "outputs": [],
   "source": [
    "val oneHalf = Rational(1, 2)\n",
    "val twoThird = Rational(2, 3)\n",
    "oneHalf.add(twoThird)"
   ]
  },
  {
   "cell_type": "code",
   "execution_count": null,
   "id": "32c73195",
   "metadata": {},
   "outputs": [],
   "source": [
    "val r = Rational(1, 2)\n",
    "r.numer\n",
    "r.denom"
   ]
  },
  {
   "cell_type": "code",
   "execution_count": null,
   "id": "8f494770",
   "metadata": {},
   "outputs": [],
   "source": [
    "class Rational(n: Int, d: Int): \n",
    "    require(d != 0)\n",
    "    val numer: Int = n\n",
    "    val denom: Int = d\n",
    "    override def toString = s\"$numer/$denom\"\n",
    "    \n",
    "    def add(that: Rational): Rational =\n",
    "        Rational(\n",
    "            numer * that.denom + that.numer * denom,\n",
    "            denom * that.denom\n",
    "        )\n",
    "        \n",
    "    def lessThan(that: Rational) = \n",
    "        this.numer * that.denom < that.numer * this.denom\n",
    "\n",
    "    def max(that: Rational) = \n",
    "        if this.lessThan(that) then that else this"
   ]
  },
  {
   "cell_type": "code",
   "execution_count": null,
   "id": "885e8ebc",
   "metadata": {},
   "outputs": [],
   "source": [
    "class Rational(n: Int, d: Int):\n",
    "    require(d != 0)\n",
    "    val numer: Int = n\n",
    "    val denom: Int = d\n",
    "\n",
    "    def this(n: Int) = this(n, 1)  // auxiliary constructor\n",
    "    override def toString = s\"$numer/$denom\"\n",
    "    def add(that: Rational): Rational = \n",
    "        Rational(\n",
    "            numer * that.denom + that.numer * denom,\n",
    "            denom * that.denom\n",
    "        )"
   ]
  },
  {
   "cell_type": "code",
   "execution_count": null,
   "id": "bae1ae79",
   "metadata": {},
   "outputs": [],
   "source": [
    "val y = Rational(3)"
   ]
  },
  {
   "cell_type": "code",
   "execution_count": null,
   "id": "0a9ec029",
   "metadata": {},
   "outputs": [],
   "source": [
    "Rational(66, 42)"
   ]
  },
  {
   "cell_type": "code",
   "execution_count": null,
   "id": "c235632a",
   "metadata": {},
   "outputs": [],
   "source": [
    "class Rational(n: Int, d: Int):\n",
    "    require(d != 0)\n",
    "    private val g = gcd(n.abs, d.abs)\n",
    "    val numer: Int = n / g\n",
    "    val denom: Int = d / g\n",
    "\n",
    "    def this(n: Int) = this(n, 1)  // auxiliary constructor\n",
    "    override def toString = s\"$numer/$denom\"\n",
    "    def add(that: Rational): Rational = \n",
    "        Rational(\n",
    "            numer * that.denom + that.numer * denom,\n",
    "            denom * that.denom\n",
    "        )\n",
    "    \n",
    "    private def gcd(a: Int, b: Int): Int = \n",
    "        if b == 0 then a else gcd(b, a % b)"
   ]
  },
  {
   "cell_type": "code",
   "execution_count": null,
   "id": "e5a8fd3b",
   "metadata": {},
   "outputs": [],
   "source": [
    "Rational(66, 42)"
   ]
  },
  {
   "cell_type": "code",
   "execution_count": null,
   "id": "f6380352",
   "metadata": {},
   "outputs": [],
   "source": [
    "x + y"
   ]
  },
  {
   "cell_type": "code",
   "execution_count": null,
   "id": "4f9c94cc",
   "metadata": {},
   "outputs": [],
   "source": [
    "x.add(y)"
   ]
  },
  {
   "cell_type": "code",
   "execution_count": null,
   "id": "5c922671",
   "metadata": {},
   "outputs": [],
   "source": [
    "x add y"
   ]
  },
  {
   "cell_type": "code",
   "execution_count": null,
   "id": "e87083bf",
   "metadata": {},
   "outputs": [],
   "source": [
    "class Rational(n: Int, d: Int):\n",
    "    require(d != 0)\n",
    "    private val g = gcd(n.abs, d.abs)\n",
    "    val numer: Int = n / g\n",
    "    val denom: Int = d / g\n",
    "\n",
    "    def this(n: Int) = this(n, 1)\n",
    "    def +(that: Rational): Rational = \n",
    "        Rational(\n",
    "            numer * that.denom + that.numer * denom,\n",
    "            denom * that.denom\n",
    "        )\n",
    "    def *(that: Rational): Rational =\n",
    "        Rational(numer * that.numer, denom * that.denom)\n",
    "\n",
    "    override def toString = s\"$numer/$denom\"\n",
    "    private def gcd(a: Int, b: Int): Int = \n",
    "        if b == 0 then a else gcd(b, a % b)"
   ]
  },
  {
   "cell_type": "code",
   "execution_count": null,
   "id": "6c891fa9",
   "metadata": {},
   "outputs": [],
   "source": [
    "val x = Rational(1, 2)\n",
    "val y = Rational(2, 3)\n",
    "x + y"
   ]
  },
  {
   "cell_type": "code",
   "execution_count": null,
   "id": "8dc790cd",
   "metadata": {},
   "outputs": [],
   "source": [
    "x.+(y)"
   ]
  },
  {
   "cell_type": "code",
   "execution_count": null,
   "id": "a807c2be",
   "metadata": {},
   "outputs": [],
   "source": [
    "x + x * y\n",
    "(x + x) * y\n",
    "x + (x * y)"
   ]
  },
  {
   "cell_type": "code",
   "execution_count": null,
   "id": "4039b4f1",
   "metadata": {},
   "outputs": [],
   "source": [
    "val r = Rational(2, 3)\n",
    "r * r\n",
    "r * Rational(2) // r * 2"
   ]
  },
  {
   "cell_type": "code",
   "execution_count": null,
   "id": "0b1ae78b",
   "metadata": {},
   "outputs": [],
   "source": [
    "class Rational(n: Int, d: Int):\n",
    "    require(d != 0)\n",
    "    private val g = gcd(n.abs, d.abs)\n",
    "    val numer: Int = n / g\n",
    "    val denom: Int = d / g\n",
    "\n",
    "    def this(n: Int) = this(n, 1)\n",
    "\n",
    "    def +(that: Rational): Rational = \n",
    "        Rational(\n",
    "            numer * that.denom + that.numer * denom,\n",
    "            denom * that.denom\n",
    "        )\n",
    "    def +(i: Int): Rational =\n",
    "        Rational(numer + i * denom, denom)\n",
    "\n",
    "    def -(that: Rational): Rational =\n",
    "        Rational(\n",
    "            numer * that.denom - that.numer * denom,\n",
    "            denom * that.denom\n",
    "        )\n",
    "    def -(i: Int): Rational =\n",
    "        Rational(numer - i * denom, denom)\n",
    "\n",
    "    def *(that: Rational): Rational =\n",
    "        Rational(numer * that.numer, denom * that.denom)\n",
    "    def *(i: Int): Rational =\n",
    "        Rational(numer * i, denom)\n",
    "\n",
    "    def /(that: Rational): Rational =\n",
    "        Rational(numer * that.denom, denom * that.numer)\n",
    "    def /(i: Int): Rational =\n",
    "        Rational(numer, denom * i)\n",
    "    \n",
    "    override def toString = s\"$numer/$denom\"\n",
    "    private def gcd(a: Int, b: Int): Int = \n",
    "        if b == 0 then a else gcd(b, a % b)"
   ]
  },
  {
   "cell_type": "code",
   "execution_count": null,
   "id": "b7fe92c7",
   "metadata": {},
   "outputs": [],
   "source": [
    "2 * r"
   ]
  },
  {
   "cell_type": "code",
   "execution_count": null,
   "id": "89c2bb9b",
   "metadata": {},
   "outputs": [],
   "source": [
    "class Rational(n: Int, d: Int):\n",
    "    require(d != 0)\n",
    "    private val g = gcd(n.abs, d.abs)\n",
    "    val numer: Int = n / g\n",
    "    val denom: Int = d / g\n",
    "\n",
    "    def this(n: Int) = this(n, 1)\n",
    "\n",
    "\n",
    "    def +(that: Rational): Rational = \n",
    "        Rational(\n",
    "            numer * that.denom + that.numer * denom,\n",
    "            denom * that.denom\n",
    "        )\n",
    "    def +(i: Int): Rational =\n",
    "        Rational(numer + i * denom, denom)\n",
    "\n",
    "    def -(that: Rational): Rational =\n",
    "        Rational(\n",
    "            numer * that.denom - that.numer * denom,\n",
    "            denom * that.denom\n",
    "        )\n",
    "    def -(i: Int): Rational =\n",
    "        Rational(numer - i * denom, denom)\n",
    "\n",
    "    def *(that: Rational): Rational =\n",
    "        Rational(numer * that.numer, denom * that.denom)\n",
    "    def *(i: Int): Rational =\n",
    "        Rational(numer * i, denom)\n",
    "\n",
    "    def /(that: Rational): Rational =\n",
    "        Rational(numer * that.denom, denom * that.numer)\n",
    "    def /(i: Int): Rational =\n",
    "        Rational(numer, denom * i)\n",
    "    \n",
    "    override def toString = s\"$numer/$denom\"\n",
    "    private def gcd(a: Int, b: Int): Int = \n",
    "        if b == 0 then a else gcd(b, a % b)\n",
    "\n",
    "    extension (x: Int)\n",
    "        def +(y: Rational) = Rational(x) + y\n",
    "        def -(y: Rational) = Rational(x) - y\n",
    "        def *(y: Rational) = Rational(x) * y\n",
    "        def /(y: Rational) = Rational(x) / y"
   ]
  },
  {
   "cell_type": "markdown",
   "id": "e0239167",
   "metadata": {},
   "source": [
    "### Chapter 7"
   ]
  },
  {
   "cell_type": "markdown",
   "id": "be2143c0",
   "metadata": {},
   "source": [
    "#### 7.1 If expressions"
   ]
  },
  {
   "cell_type": "code",
   "execution_count": null,
   "id": "64947e75",
   "metadata": {},
   "outputs": [],
   "source": [
    "var filename = \"default.txt\"\n",
    "val args = List(\"first.txt\",\"second.txt\")\n",
    "if !args.isEmpty then\n",
    "    filename = args(0)"
   ]
  },
  {
   "cell_type": "code",
   "execution_count": null,
   "id": "13f5dbcb",
   "metadata": {},
   "outputs": [],
   "source": [
    "val filename = \n",
    "    if !args.isEmpty then args(0)\n",
    "    else \"default.txt\""
   ]
  },
  {
   "cell_type": "code",
   "execution_count": null,
   "id": "8bd69371",
   "metadata": {},
   "outputs": [],
   "source": [
    "println(if (!args.isEmpty) args(0) else \"default.txt\")"
   ]
  },
  {
   "cell_type": "markdown",
   "id": "e45fd245",
   "metadata": {},
   "source": [
    "#### 7.2 While loops"
   ]
  },
  {
   "cell_type": "code",
   "execution_count": null,
   "id": "19404f65",
   "metadata": {},
   "outputs": [],
   "source": [
    "def gcdLoop(x: Long, y: Long): Long = \n",
    "    var a = x\n",
    "    var b = y\n",
    "    while a != 0 do\n",
    "        val temp = a\n",
    "        a = b % a\n",
    "        b = temp\n",
    "    b"
   ]
  },
  {
   "cell_type": "code",
   "execution_count": null,
   "id": "cccac20e",
   "metadata": {},
   "outputs": [],
   "source": [
    "gcdLoop(32, 96)"
   ]
  },
  {
   "cell_type": "code",
   "execution_count": null,
   "id": "112ebb83",
   "metadata": {},
   "outputs": [],
   "source": [
    "def greet() = println(\"hi\")"
   ]
  },
  {
   "cell_type": "code",
   "execution_count": null,
   "id": "40d7c732",
   "metadata": {},
   "outputs": [],
   "source": [
    "val iAmUnit = greet() == ()"
   ]
  },
  {
   "cell_type": "code",
   "execution_count": null,
   "id": "93ad3d7d",
   "metadata": {},
   "outputs": [],
   "source": [
    "import scala.io.StdIn.readLine\n",
    "while\n",
    "    val line = readLine()\n",
    "    println(s\"Read: $line\")\n",
    "    line != \"\"\n",
    "do ()"
   ]
  },
  {
   "cell_type": "code",
   "execution_count": null,
   "id": "3956eca8",
   "metadata": {},
   "outputs": [],
   "source": [
    "var line = \"\"\n",
    "while (line = scala.io.StdIn.readLine()) != \"\" do\n",
    "    println(s\"Read: $line\")"
   ]
  },
  {
   "cell_type": "code",
   "execution_count": null,
   "id": "dc3f91bc",
   "metadata": {},
   "outputs": [],
   "source": [
    "def gcd(x: Long, y: Long): Long = \n",
    "    if y == 0 then x else gcd(y, x % y)"
   ]
  },
  {
   "cell_type": "markdown",
   "id": "316bdac9",
   "metadata": {},
   "source": [
    "#### 7.3 For expressions"
   ]
  },
  {
   "cell_type": "code",
   "execution_count": null,
   "id": "5e145cc5",
   "metadata": {},
   "outputs": [],
   "source": [
    "val filesHere = (new java.io.File(\".\")).listFiles // 현재 디렉토리에 있는 파일들 가져옴\n",
    "for file <- filesHere do\n",
    "    println(file)"
   ]
  },
  {
   "cell_type": "code",
   "execution_count": null,
   "id": "9eca0fbc",
   "metadata": {},
   "outputs": [],
   "source": [
    "for i <- 1 to 4 do\n",
    "    println(s\"Iteration $i\")"
   ]
  },
  {
   "cell_type": "code",
   "execution_count": null,
   "id": "67d92fe4",
   "metadata": {},
   "outputs": [],
   "source": [
    "for i <- 1 until 4 do\n",
    "    println(s\"Iteration $i\")"
   ]
  },
  {
   "cell_type": "code",
   "execution_count": null,
   "id": "65dc3e46",
   "metadata": {},
   "outputs": [],
   "source": [
    "for i <- 0 to filesHere.length - 1 do\n",
    "    println(filesHere(i))"
   ]
  },
  {
   "cell_type": "code",
   "execution_count": null,
   "id": "aba658c5",
   "metadata": {},
   "outputs": [],
   "source": [
    "val filesHere = (new java.io.File(\".\")).listFiles\n",
    "for file <- filesHere if file.getName.endsWith(\".ipynb\") do\n",
    "    println(file)"
   ]
  },
  {
   "cell_type": "code",
   "execution_count": null,
   "id": "f8e80282",
   "metadata": {},
   "outputs": [],
   "source": [
    "for file <- filesHere do\n",
    "    if file.getName.endsWith(\".ipynb\") then\n",
    "        println(file)"
   ]
  },
  {
   "cell_type": "code",
   "execution_count": null,
   "id": "d65ed93a",
   "metadata": {},
   "outputs": [],
   "source": [
    "for \n",
    "    file <- filesHere\n",
    "    if file.isFile\n",
    "    if file.getName.endsWith(\".ipynb\")\n",
    "do println(file)"
   ]
  },
  {
   "cell_type": "code",
   "execution_count": null,
   "id": "a3f9ebf5",
   "metadata": {},
   "outputs": [],
   "source": [
    "def fileLines(file: java.io.File) =\n",
    "    scala.io.Source.fromFile(file).getLines().toArray\n",
    "\n",
    "def grep(pattern: String) = \n",
    "    for \n",
    "        file <- filesHere\n",
    "        if file.getName.endsWith(\".ipynb\")\n",
    "        line <- fileLines(file)\n",
    "        if line.trim.matches(pattern)\n",
    "    do println(s\"$file: ${line.trim}\")\n",
    "grep(\".*gcd.*\")"
   ]
  },
  {
   "cell_type": "code",
   "execution_count": null,
   "id": "f0797288",
   "metadata": {},
   "outputs": [],
   "source": [
    "def grep(pattern: String) =\n",
    "    for\n",
    "        file <- filesHere\n",
    "        if file.getName.endsWith(\".ipynb\")\n",
    "        line <- fileLines(file)\n",
    "        trimmed = line.trim\n",
    "        if trimmed.matches(pattern)\n",
    "    do println(s\"$file: $trimmed\")\n",
    "grep(\".*gcd.*\")"
   ]
  },
  {
   "cell_type": "code",
   "execution_count": null,
   "id": "117a7107",
   "metadata": {},
   "outputs": [],
   "source": [
    "def scalaFiles = \n",
    "    for \n",
    "        file <- filesHere\n",
    "        if file.getName.endsWith(\".scala\")\n",
    "    yield file"
   ]
  },
  {
   "cell_type": "code",
   "execution_count": null,
   "id": "e94c52c8",
   "metadata": {},
   "outputs": [],
   "source": [
    "val forLineLengths = \n",
    "    for \n",
    "        file <- filesHere\n",
    "        if file.getName.endsWith(\".ipynb\")\n",
    "        line <- fileLines(file)\n",
    "        trimmed = line.trim\n",
    "        if trimmed.matches(\".*for.*\")\n",
    "    yield trimmed.length"
   ]
  },
  {
   "cell_type": "markdown",
   "id": "c3b96d2c",
   "metadata": {},
   "source": [
    "#### 7.4 Exception handling with try expressions"
   ]
  },
  {
   "cell_type": "code",
   "execution_count": null,
   "id": "9ae78887",
   "metadata": {},
   "outputs": [],
   "source": [
    "throw new IllegalArgumentException"
   ]
  },
  {
   "cell_type": "code",
   "execution_count": null,
   "id": "dd51a4bf",
   "metadata": {},
   "outputs": [],
   "source": [
    "def half(n: Int) =\n",
    "    if n % 2 == 0 then\n",
    "        n / 2\n",
    "    else\n",
    "        throw new RuntimeException(\"n must be even\")"
   ]
  },
  {
   "cell_type": "code",
   "execution_count": null,
   "id": "f134fbd3",
   "metadata": {},
   "outputs": [],
   "source": [
    "import java.io.FileReader\n",
    "import java.io.FileNotFoundException\n",
    "import java.io.IOException\n",
    "\n",
    "try\n",
    "    val f = new FileReader(\"input.txt\")\n",
    "    // Use and close file\n",
    "catch\n",
    "    case ex: FileNotFoundException => println(\"file does not exist\") // Handle missing file\n",
    "    case ex: IOException => // Handle other I/O error"
   ]
  },
  {
   "cell_type": "code",
   "execution_count": null,
   "id": "3dd43915",
   "metadata": {},
   "outputs": [],
   "source": [
    "import java.io.FileReader\n",
    "\n",
    "val file = new FileReader(\"input.txt\")\n",
    "try \n",
    "    println(file.read()) // Use the file\n",
    "\n",
    "finally\n",
    "    println(\"fin.\")\n",
    "    file.close() // Be sure to close the file"
   ]
  },
  {
   "cell_type": "code",
   "execution_count": null,
   "id": "b5fc561c",
   "metadata": {},
   "outputs": [],
   "source": [
    "import java.net.URL\n",
    "import java.net.MalformedURLException\n",
    "\n",
    "def urlFor(path: String) = \n",
    "    try new URL(path)\n",
    "    catch case e: MalformedURLException =>\n",
    "        new URL(\"http://www.scala-lang.org\")"
   ]
  },
  {
   "cell_type": "code",
   "execution_count": null,
   "id": "15324bdf",
   "metadata": {},
   "outputs": [],
   "source": [
    "def f(): Int = try return 1 finally return 2"
   ]
  },
  {
   "cell_type": "code",
   "execution_count": null,
   "id": "b194d26f",
   "metadata": {},
   "outputs": [],
   "source": [
    "f()"
   ]
  },
  {
   "cell_type": "code",
   "execution_count": null,
   "id": "e6a1708d",
   "metadata": {},
   "outputs": [],
   "source": [
    "def g(): Int = try 1 finally 2"
   ]
  },
  {
   "cell_type": "code",
   "execution_count": null,
   "id": "e5863600",
   "metadata": {},
   "outputs": [],
   "source": [
    "g()"
   ]
  },
  {
   "cell_type": "markdown",
   "id": "247d5315",
   "metadata": {},
   "source": [
    "#### 7.5 Match expressions"
   ]
  },
  {
   "cell_type": "code",
   "execution_count": null,
   "id": "727ccfe0",
   "metadata": {},
   "outputs": [],
   "source": [
    "val args = scala.io.StdIn.readLine.split(\" \")\n",
    "val firstArg = if !args.isEmpty then args(0) else \"\"\n",
    "firstArg match\n",
    "    case \"salt\" => println(\"pepper\")\n",
    "    case \"chips\" => println(\"salsa\")\n",
    "    case \"eggs\" => println(\"bacon\")\n",
    "    case _ => println(\"huh?\")"
   ]
  },
  {
   "cell_type": "code",
   "execution_count": null,
   "id": "3ab7740a",
   "metadata": {},
   "outputs": [],
   "source": [
    "val firstArg = if !args.isEmpty then args(0) else \"\"\n",
    "val friend = \n",
    "    firstArg match\n",
    "        case \"salt\" => \"pepper\"\n",
    "        case \"chips\" => \"salsa\"\n",
    "        case \"eggs\" => \"bacon\"\n",
    "        case _ => \"huh?\"\n",
    "println(friend)"
   ]
  },
  {
   "cell_type": "markdown",
   "id": "d14020c9",
   "metadata": {},
   "source": [
    "#### 7.6 Living without break and continue"
   ]
  },
  {
   "cell_type": "code",
   "execution_count": null,
   "id": "c4c95c16",
   "metadata": {},
   "outputs": [],
   "source": [
    "var i = 0\n",
    "var foundIt = false\n",
    "while i < args.length && !foundIt do\n",
    "    if !args(i).startsWith(\"-\") then\n",
    "        if args(i).endsWith(\".scala\") then\n",
    "            foundIt = true\n",
    "        else\n",
    "            i = i + 1\n",
    "    else\n",
    "        i = i + 1"
   ]
  },
  {
   "cell_type": "code",
   "execution_count": null,
   "id": "950a1b0c",
   "metadata": {},
   "outputs": [],
   "source": [
    "val args = List(\"-scala\",\"test.scala\",\"third_item\",\"file.scala\",\"final.scala\")\n",
    "def searchFrom(i: Int): Int = \n",
    "    if i >= args.length then -1\n",
    "    else if args(i).startsWith(\"-\") then searchFrom(i + 1)\n",
    "    else if args(i).endsWith(\".scala\") then i\n",
    "    else searchFrom(i + 1)\n",
    "val i = searchFrom(0)"
   ]
  },
  {
   "cell_type": "markdown",
   "id": "76fe5caf",
   "metadata": {},
   "source": [
    "#### 7.7 Variable scope"
   ]
  },
  {
   "cell_type": "code",
   "execution_count": null,
   "id": "dd436c2e",
   "metadata": {},
   "outputs": [],
   "source": [
    "def printMultiTable() =\n",
    "    var i = 1\n",
    "    // only i in scope here\n",
    "    while i <= 10 do\n",
    "        var j = 1\n",
    "        // both i and j in scope here\n",
    "        while j <= 10 do\n",
    "            val prod = (i * j).toString\n",
    "            // i, j, and prod in scope here\n",
    "            var k = prod.length\n",
    "            // i, j, prod, and k in scope here\n",
    "            while k < 4 do\n",
    "                print(\" \")\n",
    "                k += 1\n",
    "\n",
    "            print(prod)\n",
    "            j += 1\n",
    "\n",
    "        // i and j still in scope; prod and k out of scope\n",
    "        println()\n",
    "        i += 1\n",
    "    // i still in scope; j, prod, and k out of scope"
   ]
  },
  {
   "cell_type": "code",
   "execution_count": null,
   "id": "2120c411",
   "metadata": {},
   "outputs": [],
   "source": [
    "printMultiTable()"
   ]
  },
  {
   "cell_type": "code",
   "execution_count": null,
   "id": "a20b5180",
   "metadata": {},
   "outputs": [],
   "source": [
    "val a = 1\n",
    "val a = 2\n",
    "println(a)"
   ]
  },
  {
   "cell_type": "code",
   "execution_count": null,
   "id": "5a626f79",
   "metadata": {},
   "outputs": [],
   "source": [
    "val a = 1\n",
    "if a == 1 then\n",
    "    val a = 2\n",
    "    println(a)\n",
    "println(a)"
   ]
  },
  {
   "cell_type": "markdown",
   "id": "7f4ce76f",
   "metadata": {},
   "source": [
    "#### 7.8 Refactoring imperative-style code"
   ]
  },
  {
   "cell_type": "code",
   "execution_count": null,
   "id": "e2ca6519",
   "metadata": {},
   "outputs": [],
   "source": [
    "def makeRowSeq(row: Int) = \n",
    "    for col <- 1 to 10 yield\n",
    "        val prod = (row * col).toString\n",
    "        val padding = \" \" * (4 - prod.length)\n",
    "        padding + prod\n",
    "\n",
    "def makeRow(row: Int) = makeRowSeq(row).mkString\n",
    "\n",
    "def multiTable() =\n",
    "    val tableSeq = \n",
    "        for row <- 1 to 10\n",
    "        yield makeRow(row)\n",
    "    tableSeq.mkString(\"\\n\")"
   ]
  },
  {
   "cell_type": "code",
   "execution_count": null,
   "id": "ede0fc21",
   "metadata": {},
   "outputs": [],
   "source": [
    "print(multiTable())"
   ]
  },
  {
   "cell_type": "markdown",
   "id": "104587dd",
   "metadata": {},
   "source": [
    "### Chapter 8 Functions and Closures"
   ]
  },
  {
   "cell_type": "markdown",
   "id": "30fa0999",
   "metadata": {},
   "source": [
    "#### 8.1 Methods"
   ]
  },
  {
   "cell_type": "code",
   "execution_count": null,
   "id": "ba67e384",
   "metadata": {},
   "outputs": [],
   "source": [
    "object Padding:\n",
    " def padLines(text: String, minWidth: Int): String =\n",
    "   val paddedLines =\n",
    "     for line <- text.linesIterator yield\n",
    "       padLine(line, minWidth)\n",
    "   paddedLines.mkString(\"\\n\")\n",
    " private def padLine(line: String, minWidth: Int): String =\n",
    "   if line.length >= minWidth then line\n",
    "   else line + \" \" * (minWidth - line.length)"
   ]
  },
  {
   "cell_type": "markdown",
   "id": "8d62e380",
   "metadata": {},
   "source": [
    "#### 8.2 Local functions"
   ]
  },
  {
   "cell_type": "code",
   "execution_count": null,
   "id": "7badf78e",
   "metadata": {},
   "outputs": [],
   "source": [
    "def padLines(text: String, minWidth: Int): String =\n",
    "    def padLine(line: String, minWidth: Int): String =\n",
    "      if line.length >= minWidth then line\n",
    "      else line + \" \" * (minWidth - line.length)\n",
    "    val paddedLines =\n",
    "      for line <- text.linesIterator yield\n",
    "        padLine(line, minWidth)\n",
    "    paddedLines.mkString(\"\\n\")"
   ]
  },
  {
   "cell_type": "code",
   "execution_count": null,
   "id": "31007a7a",
   "metadata": {},
   "outputs": [],
   "source": [
    "object Padding:\n",
    "    def padLines(text: String, minWidth: Int): String =\n",
    "      def padLine(line: String): String =\n",
    "        if line.length >= minWidth then line\n",
    "        else line + \" \" * (minWidth - line.length)\n",
    "      val paddedLines =\n",
    "        for line <- text.linesIterator yield\n",
    "          padLine(line)\n",
    "      paddedLines.mkString(\"\\n\")"
   ]
  },
  {
   "cell_type": "markdown",
   "id": "8fa36a9b",
   "metadata": {},
   "source": [
    "#### 8.3 First-class functions"
   ]
  },
  {
   "cell_type": "code",
   "execution_count": null,
   "id": "15cf3368",
   "metadata": {},
   "outputs": [],
   "source": [
    "(x: Int) => x + 1"
   ]
  },
  {
   "cell_type": "code",
   "execution_count": null,
   "id": "e6dbe374",
   "metadata": {},
   "outputs": [],
   "source": [
    "val increase = (x: Int) => x + 1\n",
    "increase(10)   // 11"
   ]
  },
  {
   "cell_type": "code",
   "execution_count": null,
   "id": "48c55be9",
   "metadata": {},
   "outputs": [],
   "source": [
    "val addTwo = (x: Int) =>\n",
    "    val increment = 2\n",
    "    x + increment\n",
    "addTwo(10)   // 12"
   ]
  },
  {
   "cell_type": "code",
   "execution_count": null,
   "id": "143f07de",
   "metadata": {},
   "outputs": [],
   "source": [
    "val someNumbers = List(-11, -10, -5, 0, 5, 10)"
   ]
  },
  {
   "cell_type": "code",
   "execution_count": null,
   "id": "8b366955",
   "metadata": {},
   "outputs": [],
   "source": [
    "someNumbers.foreach((x: Int) => println(x))"
   ]
  },
  {
   "cell_type": "code",
   "execution_count": null,
   "id": "4c243c6e",
   "metadata": {},
   "outputs": [],
   "source": [
    "someNumbers.filter((x: Int) => x > 0)"
   ]
  },
  {
   "cell_type": "markdown",
   "id": "3cd1381e",
   "metadata": {},
   "source": [
    "#### 8.4 Short forms of function literals"
   ]
  },
  {
   "cell_type": "code",
   "execution_count": null,
   "id": "eebd1bb7",
   "metadata": {},
   "outputs": [],
   "source": [
    "someNumbers.filter((x) => x > 0)"
   ]
  },
  {
   "cell_type": "code",
   "execution_count": null,
   "id": "a437e4e8",
   "metadata": {},
   "outputs": [],
   "source": [
    "someNumbers.filter(x => x > 0)"
   ]
  },
  {
   "cell_type": "markdown",
   "id": "8b30884b",
   "metadata": {},
   "source": [
    "#### 8.5 Placeholder syntax"
   ]
  },
  {
   "cell_type": "code",
   "execution_count": null,
   "id": "93da6294",
   "metadata": {},
   "outputs": [],
   "source": [
    "someNumbers.filter(_ > 0)"
   ]
  },
  {
   "cell_type": "code",
   "execution_count": null,
   "id": "82e0cd89",
   "metadata": {},
   "outputs": [],
   "source": [
    "someNumbers.filter(x => x > 0)"
   ]
  },
  {
   "cell_type": "code",
   "execution_count": null,
   "id": "7c27c00a",
   "metadata": {},
   "outputs": [],
   "source": [
    "val f = _ + _"
   ]
  },
  {
   "cell_type": "code",
   "execution_count": null,
   "id": "c612d7a8",
   "metadata": {},
   "outputs": [],
   "source": [
    "val f = (_: Int) + (_: Int)"
   ]
  },
  {
   "cell_type": "code",
   "execution_count": null,
   "id": "9b1f8f2f",
   "metadata": {},
   "outputs": [],
   "source": [
    "f(5, 10)"
   ]
  },
  {
   "cell_type": "markdown",
   "id": "b6e3921b",
   "metadata": {},
   "source": [
    "#### 8.6 Partially applied functions"
   ]
  },
  {
   "cell_type": "code",
   "execution_count": null,
   "id": "d3cd3260",
   "metadata": {},
   "outputs": [],
   "source": [
    "def sum(a: Int, b: Int, c: Int) = a + b + c"
   ]
  },
  {
   "cell_type": "code",
   "execution_count": null,
   "id": "90ae8c98",
   "metadata": {},
   "outputs": [],
   "source": [
    "sum(1, 2, 3)"
   ]
  },
  {
   "cell_type": "code",
   "execution_count": null,
   "id": "074e9d00",
   "metadata": {},
   "outputs": [],
   "source": [
    "val a = sum(_, _, _)"
   ]
  },
  {
   "cell_type": "code",
   "execution_count": null,
   "id": "1b7c5678",
   "metadata": {},
   "outputs": [],
   "source": [
    "a(1, 2, 3)"
   ]
  },
  {
   "cell_type": "code",
   "execution_count": null,
   "id": "5d1c55be",
   "metadata": {},
   "outputs": [],
   "source": [
    "a.apply(1, 2, 3)"
   ]
  },
  {
   "cell_type": "code",
   "execution_count": null,
   "id": "392dfd41",
   "metadata": {},
   "outputs": [],
   "source": [
    "val b = sum(1, _, 3)"
   ]
  },
  {
   "cell_type": "code",
   "execution_count": null,
   "id": "89a7fadd",
   "metadata": {},
   "outputs": [],
   "source": [
    "b(2)\n",
    "b(5)"
   ]
  },
  {
   "cell_type": "code",
   "execution_count": null,
   "id": "35901b70",
   "metadata": {},
   "outputs": [],
   "source": [
    "val c = sum"
   ]
  },
  {
   "cell_type": "code",
   "execution_count": null,
   "id": "98ef5eee",
   "metadata": {},
   "outputs": [],
   "source": [
    "c(10, 20, 30)"
   ]
  },
  {
   "cell_type": "markdown",
   "id": "6e78f922",
   "metadata": {},
   "source": [
    "#### 8.7 Closure"
   ]
  },
  {
   "cell_type": "code",
   "execution_count": null,
   "id": "179016e9",
   "metadata": {},
   "outputs": [],
   "source": [
    "(x: Int) => x + more"
   ]
  },
  {
   "cell_type": "code",
   "execution_count": null,
   "id": "b8cd4a86",
   "metadata": {},
   "outputs": [],
   "source": [
    "var more = 1\n",
    "val addMore = (x: Int) => x + more\n",
    "addMore(10)"
   ]
  },
  {
   "cell_type": "code",
   "execution_count": null,
   "id": "b86f2497",
   "metadata": {},
   "outputs": [],
   "source": [
    "more = 9999\n",
    "addMore(10)"
   ]
  },
  {
   "cell_type": "code",
   "execution_count": null,
   "id": "91c78c9e",
   "metadata": {},
   "outputs": [],
   "source": [
    "val someNumbers = List(-11, -10, -5, 0, 5, 10)\n",
    "var sum = 0\n",
    "someNumbers.foreach(sum +=  _)\n",
    "sum"
   ]
  },
  {
   "cell_type": "code",
   "execution_count": null,
   "id": "a874a2c7",
   "metadata": {},
   "outputs": [],
   "source": [
    "def makeIncreaser(more: Int) = (x: Int) => x + more"
   ]
  },
  {
   "cell_type": "code",
   "execution_count": null,
   "id": "fc554fe7",
   "metadata": {},
   "outputs": [],
   "source": [
    "val inc1 = makeIncreaser(1)\n",
    "val inc9999 = makeIncreaser(9999)"
   ]
  },
  {
   "cell_type": "code",
   "execution_count": null,
   "id": "4e5786f1",
   "metadata": {},
   "outputs": [],
   "source": [
    "inc1(10)\n",
    "inc9999(10)"
   ]
  },
  {
   "cell_type": "markdown",
   "id": "489ab22f",
   "metadata": {},
   "source": [
    "#### 8.8 Special function call forms"
   ]
  },
  {
   "cell_type": "code",
   "execution_count": null,
   "id": "de0589cc",
   "metadata": {},
   "outputs": [],
   "source": [
    "def echo(args: String*) = \n",
    "  for arg <- args do println(arg)"
   ]
  },
  {
   "cell_type": "code",
   "execution_count": null,
   "id": "0b017be9",
   "metadata": {},
   "outputs": [],
   "source": [
    "echo()"
   ]
  },
  {
   "cell_type": "code",
   "execution_count": null,
   "id": "4f7345f6",
   "metadata": {},
   "outputs": [],
   "source": [
    "echo(\"one\")"
   ]
  },
  {
   "cell_type": "code",
   "execution_count": null,
   "id": "731097b9",
   "metadata": {},
   "outputs": [],
   "source": [
    "echo(\"hello\",\"world!\")"
   ]
  },
  {
   "cell_type": "code",
   "execution_count": null,
   "id": "fa321192",
   "metadata": {},
   "outputs": [],
   "source": [
    "val seq = Seq(\"What's\", \"up\", \"doc?\")"
   ]
  },
  {
   "cell_type": "code",
   "execution_count": null,
   "id": "b2ca3946",
   "metadata": {},
   "outputs": [],
   "source": [
    "echo(seq)"
   ]
  },
  {
   "cell_type": "code",
   "execution_count": null,
   "id": "002bfad4",
   "metadata": {},
   "outputs": [],
   "source": [
    "echo(seq*)"
   ]
  },
  {
   "cell_type": "code",
   "execution_count": null,
   "id": "581a263f",
   "metadata": {},
   "outputs": [],
   "source": [
    "def speed(distance: Float, time: Float) = distance / time\n",
    "speed(100, 10)"
   ]
  },
  {
   "cell_type": "code",
   "execution_count": null,
   "id": "3a9bac12",
   "metadata": {},
   "outputs": [],
   "source": [
    "speed(distance = 100, time = 10)"
   ]
  },
  {
   "cell_type": "code",
   "execution_count": null,
   "id": "6e336b60",
   "metadata": {},
   "outputs": [],
   "source": [
    "speed(time = 10, distance = 100)"
   ]
  },
  {
   "cell_type": "code",
   "execution_count": null,
   "id": "d05fa6a4",
   "metadata": {},
   "outputs": [],
   "source": [
    "object Rational:\n",
    "  def apply(numer: Int, denom: Int = 1) =\n",
    "    new Rational(numer, denom)"
   ]
  },
  {
   "cell_type": "code",
   "execution_count": null,
   "id": "e04270bd",
   "metadata": {},
   "outputs": [],
   "source": [
    "def point(x: Int = 0, y: Int = 0) = (x, y)"
   ]
  },
  {
   "cell_type": "code",
   "execution_count": null,
   "id": "440a6229",
   "metadata": {},
   "outputs": [],
   "source": [
    "point(x = 42)"
   ]
  },
  {
   "cell_type": "code",
   "execution_count": null,
   "id": "c9543824",
   "metadata": {},
   "outputs": [],
   "source": [
    "point(y = 1000)"
   ]
  },
  {
   "cell_type": "markdown",
   "id": "b66d5e6b",
   "metadata": {},
   "source": [
    "#### 8.9 “SAM” types"
   ]
  },
  {
   "cell_type": "code",
   "execution_count": null,
   "id": "2dc18861",
   "metadata": {},
   "outputs": [],
   "source": [
    "val button = new JButton\n",
    "  button.addActionListener(\n",
    "    _ => println(\"pressed!\")\n",
    "  )"
   ]
  },
  {
   "cell_type": "code",
   "execution_count": null,
   "id": "eca38381",
   "metadata": {},
   "outputs": [],
   "source": [
    "trait Increaser:\n",
    "  def increase(i: Int): Int"
   ]
  },
  {
   "cell_type": "code",
   "execution_count": null,
   "id": "e733af1e",
   "metadata": {},
   "outputs": [],
   "source": [
    "def increaseOne(increaser: Increaser): Int =\n",
    "  increaser.increase(1)"
   ]
  },
  {
   "cell_type": "code",
   "execution_count": null,
   "id": "f566298e",
   "metadata": {},
   "outputs": [],
   "source": [
    "increaseOne(\n",
    "  new Increaser:\n",
    "    def increase(i: Int): Int = i + 7\n",
    ")"
   ]
  },
  {
   "cell_type": "code",
   "execution_count": null,
   "id": "88e64c61",
   "metadata": {},
   "outputs": [],
   "source": [
    "increaseOne(i => i + 7)"
   ]
  },
  {
   "cell_type": "markdown",
   "id": "5c951c46",
   "metadata": {},
   "source": [
    "#### 8.10 Tail recursion"
   ]
  },
  {
   "cell_type": "code",
   "execution_count": null,
   "id": "c90fd0ae",
   "metadata": {},
   "outputs": [],
   "source": [
    "def approximate(guess: Double): Double =\n",
    "    if isGoodEnough(guess) then guess\n",
    "    else approximate(improve(guess))"
   ]
  },
  {
   "cell_type": "code",
   "execution_count": null,
   "id": "84774edd",
   "metadata": {},
   "outputs": [],
   "source": [
    "def approximateLoop(initialGuess: Double): Double =\n",
    "  var guess = initialGuess\n",
    "  while !isGoodEnough(guess) do\n",
    "    guess = improve(guess)\n",
    "  guess"
   ]
  },
  {
   "cell_type": "code",
   "execution_count": null,
   "id": "79e1f83b",
   "metadata": {},
   "outputs": [],
   "source": [
    "def boom(x: Int): Int =\n",
    "  if x == 0 then throw new Exception(\"boom!\")\n",
    "  else boom(x - 1) + 1"
   ]
  },
  {
   "cell_type": "code",
   "execution_count": null,
   "id": "6d3ea0ab",
   "metadata": {},
   "outputs": [],
   "source": [
    "boom(3)"
   ]
  },
  {
   "cell_type": "code",
   "execution_count": null,
   "id": "e4ef095e",
   "metadata": {},
   "outputs": [],
   "source": [
    "def bang(x: Int): Int =\n",
    "  if x == 0 then throw new Exception(\"bang!\")\n",
    "  else bang(x - 1)"
   ]
  },
  {
   "cell_type": "code",
   "execution_count": null,
   "id": "48e6790e",
   "metadata": {},
   "outputs": [],
   "source": [
    "bang(5)"
   ]
  },
  {
   "cell_type": "code",
   "execution_count": null,
   "id": "0596b32f",
   "metadata": {},
   "outputs": [],
   "source": [
    "def isEven(x: Int): Boolean =\n",
    "  if x == 0 then true else isOdd(x - 1)\n",
    "\n",
    "def isOdd(x: Int): Boolean =\n",
    "  if x == 0 then false else isEven(x - 1)"
   ]
  },
  {
   "cell_type": "code",
   "execution_count": null,
   "id": "9770d249",
   "metadata": {},
   "outputs": [],
   "source": [
    "val funValue = nestedFun\n",
    "def nestedFun(x: Int): Unit =\n",
    "  if x != 0 then\n",
    "    println(x)\n",
    "    funValue(x - 1)"
   ]
  },
  {
   "cell_type": "markdown",
   "id": "8413a8ac",
   "metadata": {},
   "source": [
    "### Chapter 9 Control Abstraction"
   ]
  },
  {
   "cell_type": "markdown",
   "id": "25487c4d",
   "metadata": {},
   "source": [
    "#### 9.1 Reducing code duplication"
   ]
  },
  {
   "cell_type": "code",
   "execution_count": null,
   "id": "ca3dc103",
   "metadata": {},
   "outputs": [],
   "source": [
    "object FileMatcher:\n",
    "  private def filesHere = (new java.io.File(\".\")).listFiles\n",
    "  def filesEnding(query: String) =\n",
    "    for file <- filesHere if file.getName.endsWith(query)\n",
    "    yield file\n",
    "\n",
    "  def filesContaining(query: String) =\n",
    "    for file <- filesHere if file.getName.contains(query)\n",
    "    yield file\n",
    "  \n",
    "  def filesRegex(query: String) =\n",
    "    for file <- filesHere if file.getName.matches(query)\n",
    "    yield file\n",
    "\n",
    "  def filesMatching(query: String, matcher: (String, String) => Boolean) =\n",
    "    for file <- filesHere if matcher(file.getName, query)\n",
    "    yield file\n",
    "\n"
   ]
  },
  {
   "cell_type": "code",
   "execution_count": null,
   "id": "c0bb31b5",
   "metadata": {},
   "outputs": [],
   "source": [
    "object FileMatcher:\n",
    "  private def filesHere = (new java.io.File(\".\")).listFiles\n",
    "  def filesMatching(query: String, matcher: (String, String) => Boolean) =\n",
    "    for file <- filesHere if matcher(file.getName, query)\n",
    "    yield file\n",
    "\n",
    "  def filesEnding(query: String) =\n",
    "    filesMatching(query, _.endsWith(_))\n",
    "\n",
    "  def filesContaining(query: String) =\n",
    "    filesMatching(query, _.contains(_))\n",
    "  \n",
    "  def filesRegex(query: String) =\n",
    "    filesMatching(query, _.matches(_))\n",
    "\n"
   ]
  },
  {
   "cell_type": "code",
   "execution_count": null,
   "id": "e7e76bfb",
   "metadata": {},
   "outputs": [],
   "source": [
    "object FileMatcher:\n",
    "  private def filesHere = (new java.io.File(\".\")).listFiles\n",
    "  def filesMatching(query: String, matcher: String => Boolean) =\n",
    "    for file <- filesHere if matcher(file.getName)\n",
    "    yield file\n",
    "\n",
    "  def filesEnding(query: String) =\n",
    "    filesMatching(query, _.endsWith(query))\n",
    "\n",
    "  def filesContaining(query: String) =\n",
    "    filesMatching(query, _.contains(query))\n",
    "  \n",
    "  def filesRegex(query: String) =\n",
    "    filesMatching(query, _.matches(query))\n",
    "\n"
   ]
  },
  {
   "cell_type": "markdown",
   "id": "e7e3d6c9",
   "metadata": {},
   "source": [
    "#### 9.2 Simplifying client code"
   ]
  },
  {
   "cell_type": "code",
   "execution_count": null,
   "id": "bd0884c4",
   "metadata": {},
   "outputs": [],
   "source": [
    "def containsNeg(nums: List[Int]): Boolean =\n",
    "  var exists = false\n",
    "  for num <- nums do\n",
    "    if num < 0 then\n",
    "      exists = true\n",
    "  exists"
   ]
  },
  {
   "cell_type": "code",
   "execution_count": null,
   "id": "144e337b",
   "metadata": {},
   "outputs": [],
   "source": [
    "containsNeg(List(1,2,3,4))\n",
    "containsNeg(List(1, 2, -3, 4))"
   ]
  },
  {
   "cell_type": "code",
   "execution_count": null,
   "id": "1c01df23",
   "metadata": {},
   "outputs": [],
   "source": [
    "def containsNeg(nums: List[Int]) = nums.exists(_ < 0)"
   ]
  },
  {
   "cell_type": "code",
   "execution_count": null,
   "id": "95df6054",
   "metadata": {},
   "outputs": [],
   "source": [
    "containsNeg(Nil)\n",
    "containsNeg(List(0, -1, -2))"
   ]
  },
  {
   "cell_type": "code",
   "execution_count": null,
   "id": "6550d18a",
   "metadata": {},
   "outputs": [],
   "source": [
    "def containsOdd(nums: List[Int]): Boolean =\n",
    "  var exists = false\n",
    "  for num <- nums do\n",
    "    if num % 2 == 1 then\n",
    "      exists = true\n",
    "  exists"
   ]
  },
  {
   "cell_type": "code",
   "execution_count": null,
   "id": "44d91201",
   "metadata": {},
   "outputs": [],
   "source": [
    "def containsOdd(nums: List[Int]) = nums.exists(_ % 2 == 1)"
   ]
  },
  {
   "cell_type": "markdown",
   "id": "b774fedf",
   "metadata": {},
   "source": [
    "#### 9.3 Currying"
   ]
  },
  {
   "cell_type": "code",
   "execution_count": null,
   "id": "f6b53257",
   "metadata": {},
   "outputs": [],
   "source": [
    "def plainOldSum(x: Int, y: Int) = x + y\n",
    "plainOldSum(1, 2)"
   ]
  },
  {
   "cell_type": "code",
   "execution_count": null,
   "id": "c44f9233",
   "metadata": {},
   "outputs": [],
   "source": [
    "def curriedSum(x: Int)(y: Int) = x + y\n",
    "curriedSum(1)(2)"
   ]
  },
  {
   "cell_type": "code",
   "execution_count": null,
   "id": "9aa48d3d",
   "metadata": {},
   "outputs": [],
   "source": [
    "def first(x: Int) = (y: Int) => x + y"
   ]
  },
  {
   "cell_type": "code",
   "execution_count": null,
   "id": "c4e41bd1",
   "metadata": {},
   "outputs": [],
   "source": [
    "val second = first(1)"
   ]
  },
  {
   "cell_type": "code",
   "execution_count": null,
   "id": "d796b363",
   "metadata": {},
   "outputs": [],
   "source": [
    "second(2)"
   ]
  },
  {
   "cell_type": "code",
   "execution_count": null,
   "id": "ec1de1b4",
   "metadata": {},
   "outputs": [],
   "source": [
    "val onePlus = curriedSum(1)"
   ]
  },
  {
   "cell_type": "code",
   "execution_count": null,
   "id": "0075325d",
   "metadata": {},
   "outputs": [],
   "source": [
    "onePlus(2)"
   ]
  },
  {
   "cell_type": "code",
   "execution_count": null,
   "id": "443702ef",
   "metadata": {},
   "outputs": [],
   "source": [
    "val twoPlus = curriedSum(2)\n",
    "twoPlus(2)"
   ]
  },
  {
   "cell_type": "markdown",
   "id": "be332988",
   "metadata": {},
   "source": [
    "#### 9.4 Writing new control structures"
   ]
  },
  {
   "cell_type": "code",
   "execution_count": null,
   "id": "9e9305d0",
   "metadata": {},
   "outputs": [],
   "source": [
    "def twice(op: Double => Double, x: Double) = op(op(x))\n",
    "twice(_ + 1, 5)"
   ]
  },
  {
   "cell_type": "code",
   "execution_count": null,
   "id": "40badea7",
   "metadata": {},
   "outputs": [],
   "source": [
    "import java.io.*\n",
    "\n",
    "def withPrintWriter(file: File, op: PrintWriter => Unit) =\n",
    "  val writer = new PrintWriter(file)\n",
    "  try op(writer)\n",
    "  finally writer.close()"
   ]
  },
  {
   "cell_type": "code",
   "execution_count": null,
   "id": "4b383090",
   "metadata": {},
   "outputs": [],
   "source": [
    "withPrintWriter(\n",
    "  new File(\"date.txt\"),\n",
    "  writer => writer.println(new java.util.Date)\n",
    ")"
   ]
  },
  {
   "cell_type": "code",
   "execution_count": null,
   "id": "b249f977",
   "metadata": {},
   "outputs": [],
   "source": [
    "val s = \"Hello, world!\"\n",
    "s.charAt(1)"
   ]
  },
  {
   "cell_type": "code",
   "execution_count": null,
   "id": "bc4649fa",
   "metadata": {},
   "outputs": [],
   "source": [
    "s.charAt{ 1 }"
   ]
  },
  {
   "cell_type": "code",
   "execution_count": null,
   "id": "76633559",
   "metadata": {},
   "outputs": [],
   "source": [
    "s.substring{ 7, 9 }"
   ]
  },
  {
   "cell_type": "code",
   "execution_count": null,
   "id": "88c5d908",
   "metadata": {},
   "outputs": [],
   "source": [
    "s.substring(7, 9)"
   ]
  },
  {
   "cell_type": "code",
   "execution_count": null,
   "id": "1c2f0715",
   "metadata": {},
   "outputs": [],
   "source": [
    "def withPrintWriter(file: File)(op: PrintWriter => Unit) =\n",
    "  val writer = new PrintWriter(file)\n",
    "  try op(writer)\n",
    "  finally writer.close()"
   ]
  },
  {
   "cell_type": "code",
   "execution_count": null,
   "id": "0853f3a2",
   "metadata": {},
   "outputs": [],
   "source": [
    "val file = new File(\"date.txt\")\n",
    "withPrintWriter(file){ writer => \n",
    "  writer.println(new java.util.Date)\n",
    "}"
   ]
  },
  {
   "cell_type": "markdown",
   "id": "bafa77ba",
   "metadata": {},
   "source": [
    "#### 9.5 By-name parameters"
   ]
  },
  {
   "cell_type": "code",
   "execution_count": null,
   "id": "a8c80e5d",
   "metadata": {},
   "outputs": [],
   "source": [
    "withPrintWriter(file){ writer => \n",
    "  writer.println(new java.util.Date)\n",
    "}"
   ]
  },
  {
   "cell_type": "code",
   "execution_count": null,
   "id": "abce97fb",
   "metadata": {},
   "outputs": [],
   "source": [
    "var assertionsEnabled = true\n",
    "def myAssert(predicate: () => Boolean) =\n",
    "  if assertionsEnabled && !predicate() then\n",
    "    throw new AssertionError"
   ]
  },
  {
   "cell_type": "code",
   "execution_count": null,
   "id": "17e2d597",
   "metadata": {},
   "outputs": [],
   "source": [
    "myAssert(() => 5 > 3)"
   ]
  },
  {
   "cell_type": "code",
   "execution_count": null,
   "id": "8a8877a0",
   "metadata": {},
   "outputs": [],
   "source": [
    "myAssert(5 > 3)"
   ]
  },
  {
   "cell_type": "code",
   "execution_count": null,
   "id": "571ed626",
   "metadata": {},
   "outputs": [],
   "source": [
    "def byNameAssert(predicate: => Boolean) =\n",
    "  if assertionsEnabled && !predicate then\n",
    "    throw new AssertionError"
   ]
  },
  {
   "cell_type": "code",
   "execution_count": null,
   "id": "fe1567a4",
   "metadata": {},
   "outputs": [],
   "source": [
    "c(5 > 3)"
   ]
  },
  {
   "cell_type": "code",
   "execution_count": null,
   "id": "cd3957fa",
   "metadata": {},
   "outputs": [],
   "source": [
    "def boolAssert(predicate: Boolean) = \n",
    "  if assertionsEnabled && !predicate then\n",
    "    throw new AssertionError"
   ]
  },
  {
   "cell_type": "code",
   "execution_count": null,
   "id": "9beadd1b",
   "metadata": {},
   "outputs": [],
   "source": [
    "boolAssert(5 > 3)"
   ]
  },
  {
   "cell_type": "code",
   "execution_count": null,
   "id": "882b8371",
   "metadata": {},
   "outputs": [],
   "source": [
    "val x = 5\n",
    "assertionsEnabled = false"
   ]
  },
  {
   "cell_type": "code",
   "execution_count": null,
   "id": "c76d3b4e",
   "metadata": {},
   "outputs": [],
   "source": [
    "boolAssert(x / 0 == 0)"
   ]
  },
  {
   "cell_type": "code",
   "execution_count": null,
   "id": "ebef7fe6",
   "metadata": {},
   "outputs": [],
   "source": [
    "byNameAssert(x / 0 == 0)"
   ]
  },
  {
   "cell_type": "code",
   "execution_count": null,
   "id": "1a9a4de5",
   "metadata": {},
   "outputs": [],
   "source": []
  }
 ],
 "metadata": {
  "kernelspec": {
   "display_name": "Scala",
   "language": "scala",
   "name": "scala"
  },
  "language_info": {
   "codemirror_mode": "text/x-scala",
   "file_extension": ".sc",
   "mimetype": "text/x-scala",
   "name": "scala",
   "nbconvert_exporter": "script",
   "version": "2.13.6"
  }
 },
 "nbformat": 4,
 "nbformat_minor": 5
}
