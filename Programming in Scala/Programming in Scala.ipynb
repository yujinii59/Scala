{
 "cells": [
  {
   "cell_type": "markdown",
   "id": "e66d2f22",
   "metadata": {},
   "source": [
    "### Chapter 1"
   ]
  },
  {
   "cell_type": "code",
   "execution_count": 1,
   "id": "b4a932c3-6e07-4204-b8e6-985e7346f542",
   "metadata": {},
   "outputs": [
    {
     "data": {
      "text/plain": [
       "\u001b[36mcapital\u001b[39m: \u001b[32mMap\u001b[39m[\u001b[32mString\u001b[39m, \u001b[32mString\u001b[39m] = \u001b[33mMap\u001b[39m(\u001b[32m\"US\"\u001b[39m -> \u001b[32m\"Washington\"\u001b[39m, \u001b[32m\"France\"\u001b[39m -> \u001b[32m\"Paris\"\u001b[39m)"
      ]
     },
     "execution_count": 1,
     "metadata": {},
     "output_type": "execute_result"
    }
   ],
   "source": [
    "var capital = Map(\"US\" -> \"Washington\", \"France\" -> \"Paris\")"
   ]
  },
  {
   "cell_type": "code",
   "execution_count": 2,
   "id": "7d07c638-2e73-41b8-a91c-a230aac5409b",
   "metadata": {},
   "outputs": [],
   "source": [
    "capital += (\"Japan\" -> \"Tokyo\")"
   ]
  },
  {
   "cell_type": "code",
   "execution_count": 3,
   "id": "bcbc0fdd-fc24-4cac-8dd0-8df034cd2517",
   "metadata": {},
   "outputs": [
    {
     "name": "stdout",
     "output_type": "stream",
     "text": [
      "Paris\n"
     ]
    }
   ],
   "source": [
    "println(capital(\"France\"))"
   ]
  },
  {
   "cell_type": "code",
   "execution_count": null,
   "id": "7bf7e5d9-47e8-4c7b-a475-6182827ed6cb",
   "metadata": {},
   "outputs": [],
   "source": []
  },
  {
   "cell_type": "code",
   "execution_count": 4,
   "id": "65ab7a51-bdcc-4912-b5f5-452fd6e12eac",
   "metadata": {},
   "outputs": [
    {
     "data": {
      "text/plain": [
       "defined \u001b[32mfunction\u001b[39m \u001b[36mfactorial\u001b[39m"
      ]
     },
     "execution_count": 4,
     "metadata": {},
     "output_type": "execute_result"
    }
   ],
   "source": [
    "def factorial(x: BigInt): BigInt = \n",
    "if x == 0 then 1 else x * factorial(x - 1)"
   ]
  },
  {
   "cell_type": "code",
   "execution_count": 5,
   "id": "dc4d30d5-d16f-48a9-bf9f-f03df78cd3f4",
   "metadata": {},
   "outputs": [
    {
     "data": {
      "text/plain": [
       "\u001b[36mres4\u001b[39m: \u001b[32mBigInt\u001b[39m = 265252859812191058636308480000000"
      ]
     },
     "execution_count": 5,
     "metadata": {},
     "output_type": "execute_result"
    }
   ],
   "source": [
    "factorial(30)"
   ]
  },
  {
   "cell_type": "code",
   "execution_count": null,
   "id": "231be406-180a-4aa7-8d2d-130f4c26a197",
   "metadata": {},
   "outputs": [],
   "source": []
  },
  {
   "cell_type": "code",
   "execution_count": 6,
   "id": "89ff4e00-d5c0-4165-9759-02af610268b5",
   "metadata": {},
   "outputs": [
    {
     "data": {
      "text/plain": [
       "\u001b[32mimport \u001b[39m\u001b[36mjava.math.BigInteger\n",
       "\u001b[39m\n",
       "defined \u001b[32mfunction\u001b[39m \u001b[36mfactorial\u001b[39m"
      ]
     },
     "execution_count": 6,
     "metadata": {},
     "output_type": "execute_result"
    }
   ],
   "source": [
    "import java.math.BigInteger\n",
    "def factorial(x: BigInteger): BigInteger = \n",
    "if (x == BigInteger.ZERO) \n",
    "    BigInteger.ONE\n",
    "else\n",
    "    x.multiply(factorial(x.subtract(BigInteger.ONE)))"
   ]
  },
  {
   "cell_type": "code",
   "execution_count": null,
   "id": "efa9b1a1-1c85-456d-b915-4e3a1f5602f0",
   "metadata": {},
   "outputs": [],
   "source": []
  },
  {
   "cell_type": "code",
   "execution_count": 6,
   "id": "792793cb-2105-4dae-90af-ab91cceba050",
   "metadata": {},
   "outputs": [
    {
     "name": "stderr",
     "output_type": "stream",
     "text": [
      "    |class SetSpec extends AnyFunSuite:\n",
      "    |                      ^^^^^^^^^^^\n",
      "    |                      Not found: type AnyFunSuite    |    test(\"An empty Set should have size 0\"){\n",
      "    |    ^^^^\n",
      "    |    Not found: test    |    test(\"Invoking head on an empty Set should fail\"){\n",
      "    |    ^^^^\n",
      "    |    Not found: test    |        assertThrows[NoSuchElementException]{\n",
      "    |        ^^^^^^^^^^^^\n",
      "    |        Not found: assertThrowsCompilation Failed"
     ]
    },
    {
     "ename": "",
     "evalue": "",
     "output_type": "error",
     "traceback": [
      "Compilation Failed"
     ]
    }
   ],
   "source": [
    "class SetSpec extends AnyFunSuite:\n",
    "    test(\"An empty Set should have size 0\"){\n",
    "        assert(Set.empty.size == 0)\n",
    "    }\n",
    "    \n",
    "    test(\"Invoking head on an empty Set should fail\"){\n",
    "        assertThrows[NoSuchElementException]{\n",
    "            Set.empty.head\n",
    "        }\n",
    "    }"
   ]
  },
  {
   "cell_type": "code",
   "execution_count": 1,
   "id": "a6ae3a9a-e4c3-42bd-bf53-1d52682d135c",
   "metadata": {},
   "outputs": [
    {
     "data": {
      "text/plain": [
       "\u001b[36mxs\u001b[39m: \u001b[32mInclusive\u001b[39m = \u001b[33mRange\u001b[39m(\u001b[32m1\u001b[39m, \u001b[32m2\u001b[39m, \u001b[32m3\u001b[39m)\n",
       "\u001b[36mit\u001b[39m: \u001b[32mIterator\u001b[39m[\u001b[32mInt\u001b[39m] = \u001b[32mnon-empty iterator\u001b[39m"
      ]
     },
     "execution_count": 1,
     "metadata": {},
     "output_type": "execute_result"
    }
   ],
   "source": [
    "val xs = 1 to 3\n",
    "val it = xs.iterator"
   ]
  },
  {
   "cell_type": "code",
   "execution_count": 2,
   "id": "962d6a36",
   "metadata": {},
   "outputs": [
    {
     "data": {
      "text/plain": [
       "\u001b[36mres1\u001b[39m: \u001b[32mInt\u001b[39m = \u001b[32m1\u001b[39m"
      ]
     },
     "execution_count": 2,
     "metadata": {},
     "output_type": "execute_result"
    }
   ],
   "source": [
    "it.next()"
   ]
  },
  {
   "cell_type": "code",
   "execution_count": null,
   "id": "01591026",
   "metadata": {},
   "outputs": [],
   "source": []
  },
  {
   "cell_type": "code",
   "execution_count": 8,
   "id": "c2bf259c",
   "metadata": {},
   "outputs": [
    {
     "data": {
      "text/plain": [
       "\u001b[36mss\u001b[39m: \u001b[32mString\u001b[39m = \u001b[32m\"880911\"\u001b[39m\n",
       "\u001b[36ms\u001b[39m: \u001b[32mString\u001b[39m = \u001b[32m\"3.141592\"\u001b[39m"
      ]
     },
     "execution_count": 8,
     "metadata": {},
     "output_type": "execute_result"
    }
   ],
   "source": [
    "var ss = \"880911\"\n",
    "var s = \"3.141592\""
   ]
  },
  {
   "cell_type": "code",
   "execution_count": 6,
   "id": "04258243",
   "metadata": {},
   "outputs": [
    {
     "data": {
      "text/plain": [
       "\u001b[36mres5\u001b[39m: \u001b[32mInt\u001b[39m = \u001b[32m880911\u001b[39m"
      ]
     },
     "execution_count": 6,
     "metadata": {},
     "output_type": "execute_result"
    }
   ],
   "source": [
    "ss.toInt"
   ]
  },
  {
   "cell_type": "code",
   "execution_count": 9,
   "id": "82854c13",
   "metadata": {},
   "outputs": [
    {
     "data": {
      "text/plain": [
       "\u001b[36mres8\u001b[39m: \u001b[32mFloat\u001b[39m = \u001b[32m3.141592F\u001b[39m"
      ]
     },
     "execution_count": 9,
     "metadata": {},
     "output_type": "execute_result"
    }
   ],
   "source": [
    "s.toFloat"
   ]
  },
  {
   "cell_type": "code",
   "execution_count": null,
   "id": "df854a0e",
   "metadata": {},
   "outputs": [],
   "source": []
  },
  {
   "cell_type": "code",
   "execution_count": 11,
   "id": "75e84b0f",
   "metadata": {},
   "outputs": [
    {
     "data": {
      "text/plain": [
       "defined \u001b[32mclass\u001b[39m \u001b[36mMyClass\u001b[39m"
      ]
     },
     "execution_count": 11,
     "metadata": {},
     "output_type": "execute_result"
    }
   ],
   "source": [
    "/* Java\n",
    "class MyClass { // this is Java\n",
    "    private int index;\n",
    "    private String name;\n",
    "    \n",
    "    public MyClass(int index, String name){\n",
    "        this.index = index;\n",
    "        this.name = name;\n",
    "    }\n",
    "}\n",
    "*/\n",
    "\n",
    "// Scala\n",
    "class MyClass(index: Int, name: String)"
   ]
  },
  {
   "cell_type": "code",
   "execution_count": null,
   "id": "b3ee0106",
   "metadata": {},
   "outputs": [],
   "source": []
  },
  {
   "cell_type": "code",
   "execution_count": 16,
   "id": "c3ee9b8f",
   "metadata": {},
   "outputs": [
    {
     "data": {
      "text/plain": [
       "\u001b[36mname\u001b[39m: \u001b[32mString\u001b[39m = \u001b[32m\"Starbucks\"\u001b[39m\n",
       "\u001b[36mnameHasUpperCase\u001b[39m: \u001b[32mBoolean\u001b[39m = \u001b[32mtrue\u001b[39m"
      ]
     },
     "execution_count": 16,
     "metadata": {},
     "output_type": "execute_result"
    }
   ],
   "source": [
    "/* Java\n",
    "boolean nameHasUpperCase = false;\n",
    "for (int i = 0; i < name.length(); ++i){\n",
    "    if (Character.isUppercase(name.charAt(i))){\n",
    "        nameHasUpperCase = true;\n",
    "        break;\n",
    "    }\n",
    "}\n",
    "*/\n",
    "\n",
    "val name = \"Starbucks\"\n",
    "val nameHasUpperCase = name.exists(_.isUpper)"
   ]
  },
  {
   "cell_type": "code",
   "execution_count": null,
   "id": "01e03405",
   "metadata": {},
   "outputs": [],
   "source": []
  },
  {
   "cell_type": "code",
   "execution_count": 21,
   "id": "faeffe61",
   "metadata": {},
   "outputs": [
    {
     "data": {
      "text/plain": [
       "\u001b[32mimport \u001b[39m\u001b[36mscala.collection.mutable.Map\n",
       "\u001b[39m\n",
       "\u001b[32mimport \u001b[39m\u001b[36mscala.collection.mutable.HashMap\n",
       "\u001b[39m"
      ]
     },
     "execution_count": 21,
     "metadata": {},
     "output_type": "execute_result"
    }
   ],
   "source": [
    "import scala.collection.mutable.Map\n",
    "import scala.collection.mutable.HashMap"
   ]
  },
  {
   "cell_type": "code",
   "execution_count": 22,
   "id": "ac4b3881",
   "metadata": {},
   "outputs": [
    {
     "data": {
      "text/plain": [
       "\u001b[36mx\u001b[39m: \u001b[32mHashMap\u001b[39m[\u001b[32mInt\u001b[39m, \u001b[32mString\u001b[39m] = \u001b[33mHashMap\u001b[39m()"
      ]
     },
     "execution_count": 22,
     "metadata": {},
     "output_type": "execute_result"
    }
   ],
   "source": [
    "val x: HashMap[Int, String] = new HashMap[Int, String]()"
   ]
  },
  {
   "cell_type": "code",
   "execution_count": 23,
   "id": "6982f672",
   "metadata": {},
   "outputs": [
    {
     "data": {
      "text/plain": [
       "\u001b[36mx\u001b[39m: \u001b[32mHashMap\u001b[39m[\u001b[32mInt\u001b[39m, \u001b[32mString\u001b[39m] = \u001b[33mHashMap\u001b[39m()"
      ]
     },
     "execution_count": 23,
     "metadata": {},
     "output_type": "execute_result"
    }
   ],
   "source": [
    "val x = new HashMap[Int, String]()"
   ]
  },
  {
   "cell_type": "code",
   "execution_count": 24,
   "id": "3123809f",
   "metadata": {},
   "outputs": [
    {
     "data": {
      "text/plain": [
       "\u001b[36mx\u001b[39m: \u001b[32mMap\u001b[39m[\u001b[32mInt\u001b[39m, \u001b[32mString\u001b[39m] = \u001b[33mHashMap\u001b[39m()"
      ]
     },
     "execution_count": 24,
     "metadata": {},
     "output_type": "execute_result"
    }
   ],
   "source": [
    "val x: Map[Int, String] = new HashMap()"
   ]
  },
  {
   "cell_type": "code",
   "execution_count": null,
   "id": "8a6c6229",
   "metadata": {},
   "outputs": [],
   "source": []
  },
  {
   "cell_type": "markdown",
   "id": "0f8c8297",
   "metadata": {},
   "source": [
    "### Chapter 2"
   ]
  },
  {
   "cell_type": "code",
   "execution_count": 1,
   "id": "82fb1575",
   "metadata": {},
   "outputs": [
    {
     "data": {
      "text/plain": [
       "\u001b[36mres0\u001b[39m: \u001b[32mInt\u001b[39m = \u001b[32m3\u001b[39m"
      ]
     },
     "execution_count": 1,
     "metadata": {},
     "output_type": "execute_result"
    }
   ],
   "source": [
    "1 + 2"
   ]
  },
  {
   "cell_type": "code",
   "execution_count": 2,
   "id": "68412db2",
   "metadata": {},
   "outputs": [
    {
     "data": {
      "text/plain": [
       "\u001b[36mres1\u001b[39m: \u001b[32mInt\u001b[39m = \u001b[32m9\u001b[39m"
      ]
     },
     "execution_count": 2,
     "metadata": {},
     "output_type": "execute_result"
    }
   ],
   "source": [
    "res0 * 3"
   ]
  },
  {
   "cell_type": "code",
   "execution_count": 3,
   "id": "a0172eb6",
   "metadata": {},
   "outputs": [
    {
     "name": "stdout",
     "output_type": "stream",
     "text": [
      "Hello, world!\n"
     ]
    }
   ],
   "source": [
    "println(\"Hello, world!\")"
   ]
  },
  {
   "cell_type": "code",
   "execution_count": 4,
   "id": "c3794a1e",
   "metadata": {},
   "outputs": [
    {
     "data": {
      "text/plain": [
       "\u001b[36mmsg\u001b[39m: \u001b[32mString\u001b[39m = \u001b[32m\"Hello, world!\"\u001b[39m"
      ]
     },
     "execution_count": 4,
     "metadata": {},
     "output_type": "execute_result"
    }
   ],
   "source": [
    "val msg = \"Hello, world!\""
   ]
  },
  {
   "cell_type": "code",
   "execution_count": 4,
   "id": "3a5aa5ba",
   "metadata": {},
   "outputs": [
    {
     "name": "stderr",
     "output_type": "stream",
     "text": [
      "    |val msg2 = java.lang.String = \"Hello again, world!\"\n",
      "    |           ^^^^^^^^^^^^^^^^\n",
      "    |           Java defined class String is not a value    |val msg2 = java.lang.String = \"Hello again, world!\"\n",
      "    |                              ^^^^^^^^^^^^^^^^^^^^^\n",
      "    |                            Found:    (\"Hello again, world!\" : String)\n",
      "    |                            Required: object StringCompilation Failed"
     ]
    },
    {
     "ename": "",
     "evalue": "",
     "output_type": "error",
     "traceback": [
      "Compilation Failed"
     ]
    }
   ],
   "source": [
    "val msg2 = java.lang.String = \"Hello again, world!\""
   ]
  },
  {
   "cell_type": "code",
   "execution_count": 5,
   "id": "ed43f30d",
   "metadata": {},
   "outputs": [
    {
     "data": {
      "text/plain": [
       "\u001b[36mmsg3\u001b[39m: \u001b[32mString\u001b[39m = \u001b[32m\"Hello yet again, world!\"\u001b[39m"
      ]
     },
     "execution_count": 5,
     "metadata": {},
     "output_type": "execute_result"
    }
   ],
   "source": [
    "val msg3: String = \"Hello yet again, world!\""
   ]
  },
  {
   "cell_type": "code",
   "execution_count": 6,
   "id": "b409c5b3",
   "metadata": {},
   "outputs": [
    {
     "name": "stdout",
     "output_type": "stream",
     "text": [
      "Hello, world!\n"
     ]
    }
   ],
   "source": [
    "println(msg)"
   ]
  },
  {
   "cell_type": "code",
   "execution_count": 6,
   "id": "d1a9331c",
   "metadata": {},
   "outputs": [
    {
     "name": "stderr",
     "output_type": "stream",
     "text": [
      "    |val res6 = msg = \"Goodbye cruel world!\"\n",
      "    |           ^^^^^^^^^^^^^^^^^^^^^^^^^^^^\n",
      "    |           Reassignment to val msgCompilation Failed"
     ]
    },
    {
     "ename": "",
     "evalue": "",
     "output_type": "error",
     "traceback": [
      "Compilation Failed"
     ]
    }
   ],
   "source": [
    "msg = \"Goodbye cruel world!\""
   ]
  },
  {
   "cell_type": "code",
   "execution_count": 7,
   "id": "1197c6d9",
   "metadata": {},
   "outputs": [
    {
     "data": {
      "text/plain": [
       "\u001b[36mgreeting\u001b[39m: \u001b[32mString\u001b[39m = \u001b[32m\"Hello, world!\"\u001b[39m"
      ]
     },
     "execution_count": 7,
     "metadata": {},
     "output_type": "execute_result"
    }
   ],
   "source": [
    "var greeting = \"Hello, world!\""
   ]
  },
  {
   "cell_type": "code",
   "execution_count": 8,
   "id": "3edc73d9",
   "metadata": {},
   "outputs": [],
   "source": [
    "greeting = \"Leave me alone, world!\""
   ]
  },
  {
   "cell_type": "code",
   "execution_count": 9,
   "id": "38e0210f",
   "metadata": {},
   "outputs": [
    {
     "name": "stdout",
     "output_type": "stream",
     "text": [
      "Leave me alone, world!\n"
     ]
    }
   ],
   "source": [
    "println(greeting)"
   ]
  },
  {
   "cell_type": "code",
   "execution_count": 10,
   "id": "9ad5ed30",
   "metadata": {},
   "outputs": [
    {
     "data": {
      "text/plain": [
       "\u001b[36mmultiLine\u001b[39m: \u001b[32mString\u001b[39m = \u001b[32m\"This is the next line.\"\u001b[39m"
      ]
     },
     "execution_count": 10,
     "metadata": {},
     "output_type": "execute_result"
    }
   ],
   "source": [
    "val multiLine = \n",
    "    \"This is the next line.\""
   ]
  },
  {
   "cell_type": "code",
   "execution_count": 10,
   "id": "2f444def",
   "metadata": {},
   "outputs": [],
   "source": [
    "val oops = \n",
    "\n",
    "// You typed two blank lines. Starting a new command"
   ]
  },
  {
   "cell_type": "code",
   "execution_count": 11,
   "id": "bc9a47e5",
   "metadata": {},
   "outputs": [
    {
     "data": {
      "text/plain": [
       "defined \u001b[32mfunction\u001b[39m \u001b[36mmax\u001b[39m"
      ]
     },
     "execution_count": 11,
     "metadata": {},
     "output_type": "execute_result"
    }
   ],
   "source": [
    "def max(x: Int, y: Int): Int = \n",
    "    if x > y then x\n",
    "    else y"
   ]
  },
  {
   "cell_type": "code",
   "execution_count": 14,
   "id": "e32e625c",
   "metadata": {},
   "outputs": [
    {
     "data": {
      "text/plain": [
       "defined \u001b[32mfunction\u001b[39m \u001b[36mmax\u001b[39m"
      ]
     },
     "execution_count": 14,
     "metadata": {},
     "output_type": "execute_result"
    }
   ],
   "source": [
    "def max(x: Int, y: Int) = if x > y then x else y"
   ]
  },
  {
   "cell_type": "code",
   "execution_count": 15,
   "id": "adf8be5d",
   "metadata": {},
   "outputs": [
    {
     "data": {
      "text/plain": [
       "\u001b[36mbigger\u001b[39m: \u001b[32mInt\u001b[39m = \u001b[32m5\u001b[39m"
      ]
     },
     "execution_count": 15,
     "metadata": {},
     "output_type": "execute_result"
    }
   ],
   "source": [
    "val bigger = max(3, 5)"
   ]
  },
  {
   "cell_type": "code",
   "execution_count": 16,
   "id": "a001f7e5",
   "metadata": {},
   "outputs": [
    {
     "data": {
      "text/plain": [
       "defined \u001b[32mfunction\u001b[39m \u001b[36mgreet\u001b[39m"
      ]
     },
     "execution_count": 16,
     "metadata": {},
     "output_type": "execute_result"
    }
   ],
   "source": [
    "def greet() = println(\"Hello, world!\")"
   ]
  },
  {
   "cell_type": "code",
   "execution_count": 17,
   "id": "a8283937",
   "metadata": {},
   "outputs": [
    {
     "name": "stdout",
     "output_type": "stream",
     "text": [
      "Hello, world!\n"
     ]
    }
   ],
   "source": [
    "greet()"
   ]
  },
  {
   "cell_type": "code",
   "execution_count": 18,
   "id": "ecdad3f6",
   "metadata": {},
   "outputs": [
    {
     "data": {
      "text/plain": [
       "defined \u001b[32mfunction\u001b[39m \u001b[36mm\u001b[39m"
      ]
     },
     "execution_count": 18,
     "metadata": {},
     "output_type": "execute_result"
    }
   ],
   "source": [
    "@main def m() =\n",
    "    println(\"Hello, world, from a script!\")"
   ]
  },
  {
   "cell_type": "code",
   "execution_count": 19,
   "id": "286800bd",
   "metadata": {},
   "outputs": [
    {
     "data": {
      "text/plain": [
       "defined \u001b[32mfunction\u001b[39m \u001b[36mm\u001b[39m"
      ]
     },
     "execution_count": 19,
     "metadata": {},
     "output_type": "execute_result"
    }
   ],
   "source": [
    "@main def m(args: String*) = \n",
    "    // Say hello to the first argument\n",
    "    println(\"Hello, \" + args(0) + \"!\")"
   ]
  },
  {
   "cell_type": "code",
   "execution_count": 23,
   "id": "7da17c82",
   "metadata": {},
   "outputs": [
    {
     "name": "stdout",
     "output_type": "stream",
     "text": [
      "Hello, earth!\n"
     ]
    }
   ],
   "source": [
    "m(\"earth\", \"planet\")"
   ]
  },
  {
   "cell_type": "code",
   "execution_count": 24,
   "id": "c199d308",
   "metadata": {},
   "outputs": [
    {
     "data": {
      "text/plain": [
       "defined \u001b[32mfunction\u001b[39m \u001b[36mm\u001b[39m"
      ]
     },
     "execution_count": 24,
     "metadata": {},
     "output_type": "execute_result"
    }
   ],
   "source": [
    "@main def m(args: String*) =\n",
    "    var i = 0\n",
    "    while i < args.length do\n",
    "        println(args(i))\n",
    "        i += 1"
   ]
  },
  {
   "cell_type": "code",
   "execution_count": 25,
   "id": "90e5bde4",
   "metadata": {},
   "outputs": [
    {
     "name": "stdout",
     "output_type": "stream",
     "text": [
      "earth\n",
      "jupyter\n",
      "solar\n"
     ]
    }
   ],
   "source": [
    "m(\"earth\",\"jupyter\",\"solar\")"
   ]
  },
  {
   "cell_type": "code",
   "execution_count": 26,
   "id": "f8c0f4e2",
   "metadata": {},
   "outputs": [
    {
     "data": {
      "text/plain": [
       "\u001b[36mls\u001b[39m: \u001b[32mList\u001b[39m[\u001b[32mInt\u001b[39m] = \u001b[33mList\u001b[39m(\u001b[32m1\u001b[39m, \u001b[32m2\u001b[39m, \u001b[32m3\u001b[39m, \u001b[32m4\u001b[39m)"
      ]
     },
     "execution_count": 26,
     "metadata": {},
     "output_type": "execute_result"
    }
   ],
   "source": [
    "val ls = List(1,2,3,4)"
   ]
  },
  {
   "cell_type": "code",
   "execution_count": 28,
   "id": "94f3fc41",
   "metadata": {},
   "outputs": [
    {
     "data": {
      "text/plain": [
       "\u001b[36mres27\u001b[39m: \u001b[32mInt\u001b[39m = \u001b[32m3\u001b[39m"
      ]
     },
     "execution_count": 28,
     "metadata": {},
     "output_type": "execute_result"
    }
   ],
   "source": [
    "ls(2)"
   ]
  },
  {
   "cell_type": "code",
   "execution_count": 29,
   "id": "fc875faf",
   "metadata": {},
   "outputs": [
    {
     "data": {
      "text/plain": [
       "defined \u001b[32mfunction\u001b[39m \u001b[36mm\u001b[39m"
      ]
     },
     "execution_count": 29,
     "metadata": {},
     "output_type": "execute_result"
    }
   ],
   "source": [
    "@main def m(args: String*) =\n",
    "    var i = 0\n",
    "    while i < args.length do\n",
    "        if i != 0 then\n",
    "            print(\" \")\n",
    "        print(args(i))\n",
    "        i += 1\n",
    "    println()"
   ]
  },
  {
   "cell_type": "code",
   "execution_count": 30,
   "id": "501dd84c",
   "metadata": {},
   "outputs": [
    {
     "name": "stdout",
     "output_type": "stream",
     "text": [
      "Scala is even more fun\n"
     ]
    }
   ],
   "source": [
    "m(\"Scala\",\"is\",\"even\",\"more\",\"fun\")"
   ]
  },
  {
   "cell_type": "code",
   "execution_count": 31,
   "id": "f2019c1d",
   "metadata": {},
   "outputs": [
    {
     "data": {
      "text/plain": [
       "defined \u001b[32mfunction\u001b[39m \u001b[36mm\u001b[39m"
      ]
     },
     "execution_count": 31,
     "metadata": {},
     "output_type": "execute_result"
    }
   ],
   "source": [
    "@main def m(args: String*) = {\n",
    "    var i = 0;\n",
    "    while (i < args.length) {\n",
    "        if (i != 0) {\n",
    "            print(\" \");\n",
    "        }\n",
    "        print(args(i));\n",
    "        i += 1;\n",
    "    }\n",
    "    println();\n",
    "}"
   ]
  },
  {
   "cell_type": "code",
   "execution_count": 33,
   "id": "764949a6",
   "metadata": {},
   "outputs": [
    {
     "name": "stdout",
     "output_type": "stream",
     "text": [
      "Scala is written by Java style\n"
     ]
    }
   ],
   "source": [
    "m(\"Scala\",\"is\",\"written\",\"by\",\"Java\",\"style\")"
   ]
  },
  {
   "cell_type": "code",
   "execution_count": 1,
   "id": "028aa4bb",
   "metadata": {},
   "outputs": [
    {
     "data": {
      "text/plain": [
       "defined \u001b[32mfunction\u001b[39m \u001b[36mm\u001b[39m"
      ]
     },
     "execution_count": 1,
     "metadata": {},
     "output_type": "execute_result"
    }
   ],
   "source": [
    "@main def m(args: String*) = \n",
    "    args.foreach(arg => println(arg))"
   ]
  },
  {
   "cell_type": "code",
   "execution_count": 2,
   "id": "aca22328",
   "metadata": {},
   "outputs": [
    {
     "name": "stdout",
     "output_type": "stream",
     "text": [
      "Concise\n",
      "is\n",
      "nice\n"
     ]
    }
   ],
   "source": [
    "m(\"Concise\",\"is\",\"nice\")"
   ]
  },
  {
   "cell_type": "code",
   "execution_count": 3,
   "id": "44b72cef",
   "metadata": {},
   "outputs": [
    {
     "data": {
      "text/plain": [
       "defined \u001b[32mfunction\u001b[39m \u001b[36mm\u001b[39m"
      ]
     },
     "execution_count": 3,
     "metadata": {},
     "output_type": "execute_result"
    }
   ],
   "source": [
    "@main def m(args: String*) = \n",
    "    args.foreach((arg: String) => println(arg))"
   ]
  },
  {
   "cell_type": "code",
   "execution_count": 4,
   "id": "953721b0",
   "metadata": {},
   "outputs": [
    {
     "name": "stdout",
     "output_type": "stream",
     "text": [
      "Concise\n",
      "is\n",
      "nice\n"
     ]
    }
   ],
   "source": [
    "m(\"Concise\",\"is\",\"nice\")"
   ]
  },
  {
   "cell_type": "code",
   "execution_count": 5,
   "id": "b1692b69",
   "metadata": {},
   "outputs": [
    {
     "data": {
      "text/plain": [
       "defined \u001b[32mfunction\u001b[39m \u001b[36mm\u001b[39m"
      ]
     },
     "execution_count": 5,
     "metadata": {},
     "output_type": "execute_result"
    }
   ],
   "source": [
    "@main def m(args: String*) =\n",
    "    args.foreach(println)"
   ]
  },
  {
   "cell_type": "code",
   "execution_count": 6,
   "id": "0e7eb938",
   "metadata": {},
   "outputs": [
    {
     "name": "stdout",
     "output_type": "stream",
     "text": [
      "Concise\n",
      "is\n",
      "nice\n"
     ]
    }
   ],
   "source": [
    "m(\"Concise\",\"is\",\"nice\")"
   ]
  },
  {
   "cell_type": "code",
   "execution_count": 7,
   "id": "0cc8b37d",
   "metadata": {},
   "outputs": [
    {
     "data": {
      "text/plain": [
       "defined \u001b[32mfunction\u001b[39m \u001b[36mm\u001b[39m"
      ]
     },
     "execution_count": 7,
     "metadata": {},
     "output_type": "execute_result"
    }
   ],
   "source": [
    "@main def m(args: String*) = \n",
    "    for arg <- args do\n",
    "        println(arg)"
   ]
  },
  {
   "cell_type": "code",
   "execution_count": 8,
   "id": "92882ff4",
   "metadata": {},
   "outputs": [
    {
     "name": "stdout",
     "output_type": "stream",
     "text": [
      "for\n",
      "arg\n",
      "in\n",
      "args\n"
     ]
    }
   ],
   "source": [
    "m(\"for\",\"arg\",\"in\",\"args\")"
   ]
  },
  {
   "cell_type": "code",
   "execution_count": null,
   "id": "308806fe",
   "metadata": {},
   "outputs": [],
   "source": []
  },
  {
   "cell_type": "markdown",
   "id": "f53a5f93",
   "metadata": {},
   "source": [
    "### Chapter 3"
   ]
  },
  {
   "cell_type": "code",
   "execution_count": 9,
   "id": "1ea74c67",
   "metadata": {},
   "outputs": [
    {
     "data": {
      "text/plain": [
       "\u001b[36mbig\u001b[39m: \u001b[32mBigInteger\u001b[39m = 12345"
      ]
     },
     "execution_count": 9,
     "metadata": {},
     "output_type": "execute_result"
    }
   ],
   "source": [
    "val big = new java.math.BigInteger(\"12345\")"
   ]
  },
  {
   "cell_type": "code",
   "execution_count": 11,
   "id": "5a88f85a",
   "metadata": {},
   "outputs": [
    {
     "data": {
      "text/plain": [
       "\u001b[36mgreetStrings\u001b[39m: \u001b[32mArray\u001b[39m[\u001b[32mString\u001b[39m] = \u001b[33mArray\u001b[39m(\n",
       "  \u001b[32m\"Hello\"\u001b[39m,\n",
       "  \u001b[32m\", \"\u001b[39m,\n",
       "  \u001b[32m\"\"\"world!\n",
       "\"\"\"\u001b[39m\n",
       ")"
      ]
     },
     "execution_count": 11,
     "metadata": {},
     "output_type": "execute_result"
    }
   ],
   "source": [
    "val greetStrings = new Array[String](3)\n",
    "// val greetStrings : Array[String] = new Array[String](3)\n",
    "greetStrings(0) = \"Hello\"\n",
    "greetStrings(1) = \", \"\n",
    "greetStrings(2) = \"world!\\n\"\n"
   ]
  },
  {
   "cell_type": "code",
   "execution_count": 12,
   "id": "bf0642e9",
   "metadata": {},
   "outputs": [
    {
     "name": "stdout",
     "output_type": "stream",
     "text": [
      "Hello, world!\n"
     ]
    }
   ],
   "source": [
    "for i <- 0 to 2 do\n",
    "    print(greetStrings(i))"
   ]
  },
  {
   "cell_type": "code",
   "execution_count": 13,
   "id": "2ab1545c",
   "metadata": {},
   "outputs": [
    {
     "name": "stdout",
     "output_type": "stream",
     "text": [
      "Hello, world!\n"
     ]
    },
    {
     "data": {
      "text/plain": [
       "\u001b[36mgreetStrings\u001b[39m: \u001b[32mArray\u001b[39m[\u001b[32mString\u001b[39m] = \u001b[33mArray\u001b[39m(\n",
       "  \u001b[32m\"Hello\"\u001b[39m,\n",
       "  \u001b[32m\", \"\u001b[39m,\n",
       "  \u001b[32m\"\"\"world!\n",
       "\"\"\"\u001b[39m\n",
       ")"
      ]
     },
     "execution_count": 13,
     "metadata": {},
     "output_type": "execute_result"
    }
   ],
   "source": [
    "val greetStrings = new Array[String](3)\n",
    "greetStrings.update(0, \"Hello\")\n",
    "greetStrings.update(1, \", \")\n",
    "greetStrings.update(2, \"world!\\n\")\n",
    "\n",
    "for i <- 0.to(2) do\n",
    "    print(greetStrings.apply(i))"
   ]
  },
  {
   "cell_type": "code",
   "execution_count": 14,
   "id": "ec992a83",
   "metadata": {},
   "outputs": [
    {
     "data": {
      "text/plain": [
       "\u001b[36mnumNames\u001b[39m: \u001b[32mArray\u001b[39m[\u001b[32mString\u001b[39m] = \u001b[33mArray\u001b[39m(\u001b[32m\"zero\"\u001b[39m, \u001b[32m\"one\"\u001b[39m, \u001b[32m\"two\"\u001b[39m)"
      ]
     },
     "execution_count": 14,
     "metadata": {},
     "output_type": "execute_result"
    }
   ],
   "source": [
    "val numNames = Array(\"zero\",\"one\",\"two\")"
   ]
  },
  {
   "cell_type": "code",
   "execution_count": 15,
   "id": "afca176a",
   "metadata": {},
   "outputs": [
    {
     "data": {
      "text/plain": [
       "\u001b[36mnumNames2\u001b[39m: \u001b[32mArray\u001b[39m[\u001b[32mString\u001b[39m] = \u001b[33mArray\u001b[39m(\u001b[32m\"zero\"\u001b[39m, \u001b[32m\"one\"\u001b[39m, \u001b[32m\"two\"\u001b[39m)"
      ]
     },
     "execution_count": 15,
     "metadata": {},
     "output_type": "execute_result"
    }
   ],
   "source": [
    "val numNames2 = Array.apply(\"zero\",\"one\",\"two\")"
   ]
  },
  {
   "cell_type": "code",
   "execution_count": 1,
   "id": "a346f44b",
   "metadata": {},
   "outputs": [
    {
     "data": {
      "text/plain": [
       "\u001b[36moneTwoThree\u001b[39m: \u001b[32mList\u001b[39m[\u001b[32mInt\u001b[39m] = \u001b[33mList\u001b[39m(\u001b[32m1\u001b[39m, \u001b[32m2\u001b[39m, \u001b[32m3\u001b[39m)"
      ]
     },
     "execution_count": 1,
     "metadata": {},
     "output_type": "execute_result"
    }
   ],
   "source": [
    "val oneTwoThree = List(1, 2, 3)"
   ]
  },
  {
   "cell_type": "code",
   "execution_count": 2,
   "id": "074d4cc7",
   "metadata": {},
   "outputs": [
    {
     "data": {
      "text/plain": [
       "\u001b[36moneTwo\u001b[39m: \u001b[32mList\u001b[39m[\u001b[32mInt\u001b[39m] = \u001b[33mList\u001b[39m(\u001b[32m1\u001b[39m, \u001b[32m2\u001b[39m)\n",
       "\u001b[36mthreeFour\u001b[39m: \u001b[32mList\u001b[39m[\u001b[32mInt\u001b[39m] = \u001b[33mList\u001b[39m(\u001b[32m3\u001b[39m, \u001b[32m4\u001b[39m)\n",
       "\u001b[36moneTwoThreeFour\u001b[39m: \u001b[32mList\u001b[39m[\u001b[32mInt\u001b[39m] = \u001b[33mList\u001b[39m(\u001b[32m1\u001b[39m, \u001b[32m2\u001b[39m, \u001b[32m3\u001b[39m, \u001b[32m4\u001b[39m)"
      ]
     },
     "execution_count": 2,
     "metadata": {},
     "output_type": "execute_result"
    }
   ],
   "source": [
    "val oneTwo = List(1, 2)\n",
    "val threeFour = List(3, 4)\n",
    "val oneTwoThreeFour = oneTwo ::: threeFour"
   ]
  },
  {
   "cell_type": "code",
   "execution_count": 3,
   "id": "568bb278",
   "metadata": {},
   "outputs": [
    {
     "data": {
      "text/plain": [
       "\u001b[36mtwoThree\u001b[39m: \u001b[32mList\u001b[39m[\u001b[32mInt\u001b[39m] = \u001b[33mList\u001b[39m(\u001b[32m2\u001b[39m, \u001b[32m3\u001b[39m)\n",
       "\u001b[36moneTwoThree\u001b[39m: \u001b[32mList\u001b[39m[\u001b[32mInt\u001b[39m] = \u001b[33mList\u001b[39m(\u001b[32m1\u001b[39m, \u001b[32m2\u001b[39m, \u001b[32m3\u001b[39m)"
      ]
     },
     "execution_count": 3,
     "metadata": {},
     "output_type": "execute_result"
    }
   ],
   "source": [
    "val twoThree = List(2, 3)\n",
    "val oneTwoThree = 1 :: twoThree"
   ]
  },
  {
   "cell_type": "code",
   "execution_count": 4,
   "id": "4a8efe8c",
   "metadata": {},
   "outputs": [
    {
     "data": {
      "text/plain": [
       "\u001b[36moneTwoThree\u001b[39m: \u001b[32mList\u001b[39m[\u001b[32mInt\u001b[39m] = \u001b[33mList\u001b[39m(\u001b[32m1\u001b[39m, \u001b[32m2\u001b[39m, \u001b[32m3\u001b[39m)"
      ]
     },
     "execution_count": 4,
     "metadata": {},
     "output_type": "execute_result"
    }
   ],
   "source": [
    "val oneTwoThree = 1 :: 2 :: 3 :: Nil"
   ]
  },
  {
   "cell_type": "code",
   "execution_count": 7,
   "id": "e52f3b45",
   "metadata": {},
   "outputs": [
    {
     "data": {
      "text/plain": [
       "\u001b[36mres6_0\u001b[39m: \u001b[32mList\u001b[39m[\u001b[32mNothing\u001b[39m] = \u001b[33mList\u001b[39m()\n",
       "\u001b[36mres6_1\u001b[39m: scala.collection.immutable.Nil.type = \u001b[33mList\u001b[39m()"
      ]
     },
     "execution_count": 7,
     "metadata": {},
     "output_type": "execute_result"
    }
   ],
   "source": [
    "// The empty List\n",
    "List.empty\n",
    "Nil"
   ]
  },
  {
   "cell_type": "code",
   "execution_count": 8,
   "id": "98b66508",
   "metadata": {},
   "outputs": [
    {
     "data": {
      "text/plain": [
       "\u001b[36mres7\u001b[39m: \u001b[32mList\u001b[39m[\u001b[32mString\u001b[39m] = \u001b[33mList\u001b[39m(\u001b[32m\"Cool\"\u001b[39m, \u001b[32m\"tools\"\u001b[39m, \u001b[32m\"rule\"\u001b[39m)"
      ]
     },
     "execution_count": 8,
     "metadata": {},
     "output_type": "execute_result"
    }
   ],
   "source": [
    "List(\"Cool\",\"tools\",\"rule\")"
   ]
  },
  {
   "cell_type": "code",
   "execution_count": 9,
   "id": "7d445a9d",
   "metadata": {},
   "outputs": [
    {
     "data": {
      "text/plain": [
       "\u001b[36mthrill\u001b[39m: \u001b[32mList\u001b[39m[\u001b[32mString\u001b[39m] = \u001b[33mList\u001b[39m(\u001b[32m\"Will\"\u001b[39m, \u001b[32m\"fill\"\u001b[39m, \u001b[32m\"until\"\u001b[39m)"
      ]
     },
     "execution_count": 9,
     "metadata": {},
     "output_type": "execute_result"
    }
   ],
   "source": [
    "val thrill = \"Will\" :: \"fill\" :: \"until\" :: Nil"
   ]
  },
  {
   "cell_type": "code",
   "execution_count": 10,
   "id": "933a4bde",
   "metadata": {},
   "outputs": [
    {
     "data": {
      "text/plain": [
       "\u001b[36mres9\u001b[39m: \u001b[32mList\u001b[39m[\u001b[32mString\u001b[39m] = \u001b[33mList\u001b[39m(\u001b[32m\"a\"\u001b[39m, \u001b[32m\"b\"\u001b[39m, \u001b[32m\"c\"\u001b[39m, \u001b[32m\"d\"\u001b[39m)"
      ]
     },
     "execution_count": 10,
     "metadata": {},
     "output_type": "execute_result"
    }
   ],
   "source": [
    "List(\"a\", \"b\") ::: List(\"c\", \"d\")"
   ]
  },
  {
   "cell_type": "code",
   "execution_count": 11,
   "id": "feef03ec",
   "metadata": {},
   "outputs": [
    {
     "data": {
      "text/plain": [
       "\u001b[36mres10\u001b[39m: \u001b[32mString\u001b[39m = \u001b[32m\"until\"\u001b[39m"
      ]
     },
     "execution_count": 11,
     "metadata": {},
     "output_type": "execute_result"
    }
   ],
   "source": [
    "thrill(2)"
   ]
  },
  {
   "cell_type": "code",
   "execution_count": 12,
   "id": "94be7084",
   "metadata": {},
   "outputs": [
    {
     "data": {
      "text/plain": [
       "\u001b[36mres11\u001b[39m: \u001b[32mInt\u001b[39m = \u001b[32m2\u001b[39m"
      ]
     },
     "execution_count": 12,
     "metadata": {},
     "output_type": "execute_result"
    }
   ],
   "source": [
    "thrill.count(s => s.length == 4)"
   ]
  },
  {
   "cell_type": "code",
   "execution_count": 14,
   "id": "0eff3416",
   "metadata": {},
   "outputs": [
    {
     "data": {
      "text/plain": [
       "\u001b[36mres13\u001b[39m: \u001b[32mList\u001b[39m[\u001b[32mString\u001b[39m] = \u001b[33mList\u001b[39m(\u001b[32m\"until\"\u001b[39m)"
      ]
     },
     "execution_count": 14,
     "metadata": {},
     "output_type": "execute_result"
    }
   ],
   "source": [
    "thrill.drop(2)"
   ]
  },
  {
   "cell_type": "code",
   "execution_count": 15,
   "id": "7857badf",
   "metadata": {},
   "outputs": [
    {
     "data": {
      "text/plain": [
       "\u001b[36mres14\u001b[39m: \u001b[32mList\u001b[39m[\u001b[32mString\u001b[39m] = \u001b[33mList\u001b[39m(\u001b[32m\"Will\"\u001b[39m)"
      ]
     },
     "execution_count": 15,
     "metadata": {},
     "output_type": "execute_result"
    }
   ],
   "source": [
    "thrill.dropRight(2)"
   ]
  },
  {
   "cell_type": "code",
   "execution_count": 16,
   "id": "bdccd172",
   "metadata": {},
   "outputs": [
    {
     "data": {
      "text/plain": [
       "\u001b[36mres15\u001b[39m: \u001b[32mBoolean\u001b[39m = \u001b[32mtrue\u001b[39m"
      ]
     },
     "execution_count": 16,
     "metadata": {},
     "output_type": "execute_result"
    }
   ],
   "source": [
    "thrill.exists(s => s == \"until\")"
   ]
  },
  {
   "cell_type": "code",
   "execution_count": 17,
   "id": "d7361b36",
   "metadata": {},
   "outputs": [
    {
     "data": {
      "text/plain": [
       "\u001b[36mres16\u001b[39m: \u001b[32mList\u001b[39m[\u001b[32mString\u001b[39m] = \u001b[33mList\u001b[39m(\u001b[32m\"Will\"\u001b[39m, \u001b[32m\"fill\"\u001b[39m)"
      ]
     },
     "execution_count": 17,
     "metadata": {},
     "output_type": "execute_result"
    }
   ],
   "source": [
    "thrill.filter(s => s.length == 4)"
   ]
  },
  {
   "cell_type": "code",
   "execution_count": 18,
   "id": "877a401d",
   "metadata": {},
   "outputs": [
    {
     "data": {
      "text/plain": [
       "\u001b[36mres17\u001b[39m: \u001b[32mBoolean\u001b[39m = \u001b[32mtrue\u001b[39m"
      ]
     },
     "execution_count": 18,
     "metadata": {},
     "output_type": "execute_result"
    }
   ],
   "source": [
    "thrill.forall(s => s.endsWith(\"l\"))"
   ]
  },
  {
   "cell_type": "code",
   "execution_count": 24,
   "id": "2bb7e9bd",
   "metadata": {},
   "outputs": [
    {
     "data": {
      "text/plain": [
       "\u001b[36mres23\u001b[39m: \u001b[32mBoolean\u001b[39m = \u001b[32mfalse\u001b[39m"
      ]
     },
     "execution_count": 24,
     "metadata": {},
     "output_type": "execute_result"
    }
   ],
   "source": [
    "thrill.forall(s => s.startsWith(\"f\"))"
   ]
  },
  {
   "cell_type": "code",
   "execution_count": 19,
   "id": "6ccbf5eb",
   "metadata": {},
   "outputs": [
    {
     "name": "stdout",
     "output_type": "stream",
     "text": [
      "Willfilluntil"
     ]
    }
   ],
   "source": [
    "thrill.foreach(s => print(s))"
   ]
  },
  {
   "cell_type": "code",
   "execution_count": 25,
   "id": "aec4e9af",
   "metadata": {},
   "outputs": [
    {
     "name": "stdout",
     "output_type": "stream",
     "text": [
      "Willfilluntil"
     ]
    }
   ],
   "source": [
    "thrill.foreach(print)"
   ]
  },
  {
   "cell_type": "code",
   "execution_count": 26,
   "id": "53df2323",
   "metadata": {},
   "outputs": [
    {
     "data": {
      "text/plain": [
       "\u001b[36mres25\u001b[39m: \u001b[32mString\u001b[39m = \u001b[32m\"Will\"\u001b[39m"
      ]
     },
     "execution_count": 26,
     "metadata": {},
     "output_type": "execute_result"
    }
   ],
   "source": [
    "thrill.head"
   ]
  },
  {
   "cell_type": "code",
   "execution_count": 27,
   "id": "9e6cb25d",
   "metadata": {},
   "outputs": [
    {
     "data": {
      "text/plain": [
       "\u001b[36mres26\u001b[39m: \u001b[32mList\u001b[39m[\u001b[32mString\u001b[39m] = \u001b[33mList\u001b[39m(\u001b[32m\"Will\"\u001b[39m, \u001b[32m\"fill\"\u001b[39m)"
      ]
     },
     "execution_count": 27,
     "metadata": {},
     "output_type": "execute_result"
    }
   ],
   "source": [
    "thrill.init"
   ]
  },
  {
   "cell_type": "code",
   "execution_count": 28,
   "id": "cb6ab5d8",
   "metadata": {},
   "outputs": [
    {
     "data": {
      "text/plain": [
       "\u001b[36mres27\u001b[39m: \u001b[32mBoolean\u001b[39m = \u001b[32mfalse\u001b[39m"
      ]
     },
     "execution_count": 28,
     "metadata": {},
     "output_type": "execute_result"
    }
   ],
   "source": [
    "thrill.isEmpty"
   ]
  },
  {
   "cell_type": "code",
   "execution_count": 29,
   "id": "3e5b78ff",
   "metadata": {},
   "outputs": [
    {
     "data": {
      "text/plain": [
       "\u001b[36mres28\u001b[39m: \u001b[32mString\u001b[39m = \u001b[32m\"until\"\u001b[39m"
      ]
     },
     "execution_count": 29,
     "metadata": {},
     "output_type": "execute_result"
    }
   ],
   "source": [
    "thrill.last"
   ]
  },
  {
   "cell_type": "code",
   "execution_count": 30,
   "id": "480bb663",
   "metadata": {},
   "outputs": [
    {
     "data": {
      "text/plain": [
       "\u001b[36mres29\u001b[39m: \u001b[32mInt\u001b[39m = \u001b[32m3\u001b[39m"
      ]
     },
     "execution_count": 30,
     "metadata": {},
     "output_type": "execute_result"
    }
   ],
   "source": [
    "thrill.length"
   ]
  },
  {
   "cell_type": "code",
   "execution_count": 31,
   "id": "639acb2c",
   "metadata": {},
   "outputs": [
    {
     "data": {
      "text/plain": [
       "\u001b[36mres30\u001b[39m: \u001b[32mList\u001b[39m[\u001b[32mString\u001b[39m] = \u001b[33mList\u001b[39m(\u001b[32m\"Willy\"\u001b[39m, \u001b[32m\"filly\"\u001b[39m, \u001b[32m\"untily\"\u001b[39m)"
      ]
     },
     "execution_count": 31,
     "metadata": {},
     "output_type": "execute_result"
    }
   ],
   "source": [
    "thrill.map(s => s + \"y\")"
   ]
  },
  {
   "cell_type": "code",
   "execution_count": 32,
   "id": "57699384",
   "metadata": {},
   "outputs": [
    {
     "data": {
      "text/plain": [
       "\u001b[36mres31\u001b[39m: \u001b[32mString\u001b[39m = \u001b[32m\"Will, fill, until\"\u001b[39m"
      ]
     },
     "execution_count": 32,
     "metadata": {},
     "output_type": "execute_result"
    }
   ],
   "source": [
    "// make string\n",
    "thrill.mkString(\", \")"
   ]
  },
  {
   "cell_type": "code",
   "execution_count": 33,
   "id": "c6e44422",
   "metadata": {},
   "outputs": [
    {
     "data": {
      "text/plain": [
       "\u001b[36mres32\u001b[39m: \u001b[32mList\u001b[39m[\u001b[32mString\u001b[39m] = \u001b[33mList\u001b[39m(\u001b[32m\"until\"\u001b[39m)"
      ]
     },
     "execution_count": 33,
     "metadata": {},
     "output_type": "execute_result"
    }
   ],
   "source": [
    "thrill.filterNot(s => s.length == 4)"
   ]
  },
  {
   "cell_type": "code",
   "execution_count": 34,
   "id": "6f5206ea",
   "metadata": {},
   "outputs": [
    {
     "data": {
      "text/plain": [
       "\u001b[36mres33\u001b[39m: \u001b[32mList\u001b[39m[\u001b[32mString\u001b[39m] = \u001b[33mList\u001b[39m(\u001b[32m\"until\"\u001b[39m, \u001b[32m\"fill\"\u001b[39m, \u001b[32m\"Will\"\u001b[39m)"
      ]
     },
     "execution_count": 34,
     "metadata": {},
     "output_type": "execute_result"
    }
   ],
   "source": [
    "thrill.reverse"
   ]
  },
  {
   "cell_type": "code",
   "execution_count": 35,
   "id": "b55028ad",
   "metadata": {},
   "outputs": [
    {
     "data": {
      "text/plain": [
       "\u001b[36mres34\u001b[39m: \u001b[32mList\u001b[39m[\u001b[32mString\u001b[39m] = \u001b[33mList\u001b[39m(\u001b[32m\"fill\"\u001b[39m, \u001b[32m\"until\"\u001b[39m, \u001b[32m\"Will\"\u001b[39m)"
      ]
     },
     "execution_count": 35,
     "metadata": {},
     "output_type": "execute_result"
    }
   ],
   "source": [
    "thrill.sortWith((s, t) => s.charAt(0).toLower < t.charAt(0).toLower)"
   ]
  },
  {
   "cell_type": "code",
   "execution_count": 36,
   "id": "dfbf38ae",
   "metadata": {},
   "outputs": [
    {
     "data": {
      "text/plain": [
       "\u001b[36mres35\u001b[39m: \u001b[32mList\u001b[39m[\u001b[32mString\u001b[39m] = \u001b[33mList\u001b[39m(\u001b[32m\"fill\"\u001b[39m, \u001b[32m\"until\"\u001b[39m)"
      ]
     },
     "execution_count": 36,
     "metadata": {},
     "output_type": "execute_result"
    }
   ],
   "source": [
    "thrill.tail"
   ]
  },
  {
   "cell_type": "code",
   "execution_count": 37,
   "id": "20a3d754",
   "metadata": {},
   "outputs": [
    {
     "data": {
      "text/plain": [
       "\u001b[36mss\u001b[39m: \u001b[32mString\u001b[39m = \u001b[32m\"abcde\"\u001b[39m"
      ]
     },
     "execution_count": 37,
     "metadata": {},
     "output_type": "execute_result"
    }
   ],
   "source": [
    "val ss = \"abcde\""
   ]
  },
  {
   "cell_type": "code",
   "execution_count": 41,
   "id": "3e5e1ade",
   "metadata": {},
   "outputs": [
    {
     "data": {
      "text/plain": [
       "\u001b[36mi\u001b[39m: \u001b[32mInclusive\u001b[39m = \u001b[33mRange\u001b[39m(\u001b[32m0\u001b[39m, \u001b[32m1\u001b[39m, \u001b[32m2\u001b[39m, \u001b[32m3\u001b[39m, \u001b[32m4\u001b[39m)"
      ]
     },
     "execution_count": 41,
     "metadata": {},
     "output_type": "execute_result"
    }
   ],
   "source": [
    "var i = 0 to ss.length - 1"
   ]
  },
  {
   "cell_type": "code",
   "execution_count": 43,
   "id": "57cb2df5",
   "metadata": {},
   "outputs": [
    {
     "name": "stdout",
     "output_type": "stream",
     "text": [
      "abcde"
     ]
    }
   ],
   "source": [
    "for idx <- i do\n",
    "    print(ss.charAt(idx).toLower)"
   ]
  },
  {
   "cell_type": "code",
   "execution_count": 44,
   "id": "4cb1e5a6",
   "metadata": {},
   "outputs": [
    {
     "name": "stdout",
     "output_type": "stream",
     "text": [
      "ABCDE"
     ]
    }
   ],
   "source": [
    "for idx <- i do\n",
    "    print(ss.charAt(idx).toUpper)"
   ]
  },
  {
   "cell_type": "code",
   "execution_count": 45,
   "id": "e49ca82d",
   "metadata": {},
   "outputs": [
    {
     "data": {
      "text/plain": [
       "\u001b[36mpair\u001b[39m: (\u001b[32mInt\u001b[39m, \u001b[32mString\u001b[39m) = (\u001b[32m99\u001b[39m, \u001b[32m\"Luftballons\"\u001b[39m)\n",
       "\u001b[36mnum\u001b[39m: \u001b[32mInt\u001b[39m = \u001b[32m99\u001b[39m\n",
       "\u001b[36mwhat\u001b[39m: \u001b[32mString\u001b[39m = \u001b[32m\"Luftballons\"\u001b[39m"
      ]
     },
     "execution_count": 45,
     "metadata": {},
     "output_type": "execute_result"
    }
   ],
   "source": [
    "val pair = (99, \"Luftballons\")\n",
    "val num = pair(0)\n",
    "val what = pair(1)"
   ]
  },
  {
   "cell_type": "code",
   "execution_count": 46,
   "id": "54f844b8",
   "metadata": {},
   "outputs": [
    {
     "data": {
      "text/plain": [
       "\u001b[36mjetSet\u001b[39m: \u001b[32mSet\u001b[39m[\u001b[32mString\u001b[39m] = \u001b[33mSet\u001b[39m(\u001b[32m\"Boeing\"\u001b[39m, \u001b[32m\"Airbus\"\u001b[39m, \u001b[32m\"Lear\"\u001b[39m)\n",
       "\u001b[36mquery\u001b[39m: \u001b[32mBoolean\u001b[39m = \u001b[32mfalse\u001b[39m"
      ]
     },
     "execution_count": 46,
     "metadata": {},
     "output_type": "execute_result"
    }
   ],
   "source": [
    "var jetSet = Set(\"Boeing\",\"Airbus\")\n",
    "jetSet += \"Lear\"\n",
    "val query = jetSet.contains(\"Cessna\")"
   ]
  },
  {
   "cell_type": "code",
   "execution_count": 47,
   "id": "ebf4d1b5",
   "metadata": {},
   "outputs": [
    {
     "data": {
      "text/plain": [
       "\u001b[32mimport \u001b[39m\u001b[36mscala.collection.mutable\n",
       "\u001b[39m\n",
       "\u001b[36mmovieSet\u001b[39m: \u001b[32mSet\u001b[39m[\u001b[32mString\u001b[39m] = \u001b[33mHashSet\u001b[39m(\u001b[32m\"Spotlight\"\u001b[39m, \u001b[32m\"Parasite\"\u001b[39m, \u001b[32m\"Moonlight\"\u001b[39m)\n",
       "\u001b[36mres46_2\u001b[39m: \u001b[32mSet\u001b[39m[\u001b[32mString\u001b[39m] = \u001b[33mHashSet\u001b[39m(\u001b[32m\"Spotlight\"\u001b[39m, \u001b[32m\"Parasite\"\u001b[39m, \u001b[32m\"Moonlight\"\u001b[39m)"
      ]
     },
     "execution_count": 47,
     "metadata": {},
     "output_type": "execute_result"
    }
   ],
   "source": [
    "import scala.collection.mutable\n",
    "val movieSet = mutable.Set(\"Spotlight\",\"Moonlight\")\n",
    "movieSet += \"Parasite\""
   ]
  },
  {
   "cell_type": "code",
   "execution_count": 48,
   "id": "053e5565",
   "metadata": {},
   "outputs": [
    {
     "data": {
      "text/plain": [
       "\u001b[32mimport \u001b[39m\u001b[36mscala.collection.immutable.HashSet\n",
       "\u001b[39m\n",
       "\u001b[36mhashSet\u001b[39m: \u001b[32mHashSet\u001b[39m[\u001b[32mString\u001b[39m] = \u001b[33mHashSet\u001b[39m(\u001b[32m\"Chilies\"\u001b[39m, \u001b[32m\"Tomatoes\"\u001b[39m)\n",
       "\u001b[36mingredients\u001b[39m: \u001b[32mHashSet\u001b[39m[\u001b[32mString\u001b[39m] = \u001b[33mHashSet\u001b[39m(\u001b[32m\"Chilies\"\u001b[39m, \u001b[32m\"Tomatoes\"\u001b[39m, \u001b[32m\"Coriander\"\u001b[39m)"
      ]
     },
     "execution_count": 48,
     "metadata": {},
     "output_type": "execute_result"
    }
   ],
   "source": [
    "import scala.collection.immutable.HashSet\n",
    "val hashSet = HashSet(\"Tomatoes\",\"Chilies\")\n",
    "val ingredients = hashSet + \"Coriander\""
   ]
  },
  {
   "cell_type": "code",
   "execution_count": 50,
   "id": "efbfcbe5",
   "metadata": {},
   "outputs": [
    {
     "data": {
      "text/plain": [
       "\u001b[32mimport \u001b[39m\u001b[36mscala.collection.mutable\n",
       "\n",
       "\u001b[39m\n",
       "\u001b[36mtreasureMap\u001b[39m: \u001b[32mMap\u001b[39m[\u001b[32mInt\u001b[39m, \u001b[32mString\u001b[39m] = \u001b[33mHashMap\u001b[39m(\n",
       "  \u001b[32m1\u001b[39m -> \u001b[32m\"Go to island.\"\u001b[39m,\n",
       "  \u001b[32m2\u001b[39m -> \u001b[32m\"Find big X on ground.\"\u001b[39m,\n",
       "  \u001b[32m3\u001b[39m -> \u001b[32m\"Dig.\"\u001b[39m\n",
       ")\n",
       "\u001b[36mres49_2\u001b[39m: \u001b[32mMap\u001b[39m[\u001b[32mInt\u001b[39m, \u001b[32mString\u001b[39m] = \u001b[33mHashMap\u001b[39m(\n",
       "  \u001b[32m1\u001b[39m -> \u001b[32m\"Go to island.\"\u001b[39m,\n",
       "  \u001b[32m2\u001b[39m -> \u001b[32m\"Find big X on ground.\"\u001b[39m,\n",
       "  \u001b[32m3\u001b[39m -> \u001b[32m\"Dig.\"\u001b[39m\n",
       ")\n",
       "\u001b[36mres49_3\u001b[39m: \u001b[32mMap\u001b[39m[\u001b[32mInt\u001b[39m, \u001b[32mString\u001b[39m] = \u001b[33mHashMap\u001b[39m(\n",
       "  \u001b[32m1\u001b[39m -> \u001b[32m\"Go to island.\"\u001b[39m,\n",
       "  \u001b[32m2\u001b[39m -> \u001b[32m\"Find big X on ground.\"\u001b[39m,\n",
       "  \u001b[32m3\u001b[39m -> \u001b[32m\"Dig.\"\u001b[39m\n",
       ")\n",
       "\u001b[36mres49_4\u001b[39m: \u001b[32mMap\u001b[39m[\u001b[32mInt\u001b[39m, \u001b[32mString\u001b[39m] = \u001b[33mHashMap\u001b[39m(\n",
       "  \u001b[32m1\u001b[39m -> \u001b[32m\"Go to island.\"\u001b[39m,\n",
       "  \u001b[32m2\u001b[39m -> \u001b[32m\"Find big X on ground.\"\u001b[39m,\n",
       "  \u001b[32m3\u001b[39m -> \u001b[32m\"Dig.\"\u001b[39m\n",
       ")\n",
       "\u001b[36mstep2\u001b[39m: \u001b[32mString\u001b[39m = \u001b[32m\"Find big X on ground.\"\u001b[39m"
      ]
     },
     "execution_count": 50,
     "metadata": {},
     "output_type": "execute_result"
    }
   ],
   "source": [
    "import scala.collection.mutable\n",
    "\n",
    "val treasureMap = mutable.Map.empty[Int, String]\n",
    "treasureMap += (1 -> \"Go to island.\")\n",
    "treasureMap += (2 -> \"Find big X on ground.\")\n",
    "treasureMap += (3 -> \"Dig.\")\n",
    "\n",
    "val step2 = treasureMap(2)"
   ]
  },
  {
   "cell_type": "code",
   "execution_count": 51,
   "id": "a2b200e5",
   "metadata": {},
   "outputs": [
    {
     "data": {
      "text/plain": [
       "\u001b[36mromanNumeral\u001b[39m: \u001b[32mMap\u001b[39m[\u001b[32mInt\u001b[39m, \u001b[32mString\u001b[39m] = \u001b[33mHashMap\u001b[39m(\n",
       "  \u001b[32m5\u001b[39m -> \u001b[32m\"V\"\u001b[39m,\n",
       "  \u001b[32m1\u001b[39m -> \u001b[32m\"I\"\u001b[39m,\n",
       "  \u001b[32m2\u001b[39m -> \u001b[32m\"II\"\u001b[39m,\n",
       "  \u001b[32m3\u001b[39m -> \u001b[32m\"III\"\u001b[39m,\n",
       "  \u001b[32m4\u001b[39m -> \u001b[32m\"IV\"\u001b[39m\n",
       ")\n",
       "\u001b[36mfour\u001b[39m: \u001b[32mString\u001b[39m = \u001b[32m\"IV\"\u001b[39m"
      ]
     },
     "execution_count": 51,
     "metadata": {},
     "output_type": "execute_result"
    }
   ],
   "source": [
    "val romanNumeral = Map(\n",
    "    1 -> \"I\",\n",
    "    2 -> \"II\",\n",
    "    3 -> \"III\",\n",
    "    4 -> \"IV\",\n",
    "    5 -> \"V\"\n",
    ")\n",
    "\n",
    "val four = romanNumeral(4)"
   ]
  },
  {
   "cell_type": "code",
   "execution_count": 52,
   "id": "590d11a8",
   "metadata": {},
   "outputs": [
    {
     "data": {
      "text/plain": [
       "defined \u001b[32mfunction\u001b[39m \u001b[36mprintArgs\u001b[39m"
      ]
     },
     "execution_count": 52,
     "metadata": {},
     "output_type": "execute_result"
    }
   ],
   "source": [
    "// imperative style\n",
    "def printArgs(args: List[String]): Unit =\n",
    "    var i = 0\n",
    "    while i < args.length do\n",
    "        println(args(i))\n",
    "        i += 1"
   ]
  },
  {
   "cell_type": "code",
   "execution_count": 53,
   "id": "8d2c7c40",
   "metadata": {},
   "outputs": [
    {
     "name": "stdout",
     "output_type": "stream",
     "text": [
      "A\n",
      "B\n",
      "C\n"
     ]
    }
   ],
   "source": [
    "printArgs(List(\"A\",\"B\",\"C\"))"
   ]
  },
  {
   "cell_type": "code",
   "execution_count": 54,
   "id": "34f02bfe",
   "metadata": {},
   "outputs": [
    {
     "data": {
      "text/plain": [
       "defined \u001b[32mfunction\u001b[39m \u001b[36mprintArgs2\u001b[39m\n",
       "defined \u001b[32mfunction\u001b[39m \u001b[36mprintArgs3\u001b[39m"
      ]
     },
     "execution_count": 54,
     "metadata": {},
     "output_type": "execute_result"
    }
   ],
   "source": [
    "// more functional style\n",
    "def printArgs2(args: List[String]): Unit =\n",
    "    for arg <- args do\n",
    "        println(arg)\n",
    "\n",
    "// or\n",
    "def printArgs3(args: List[String]): Unit =\n",
    "    args.foreach(println)"
   ]
  },
  {
   "cell_type": "code",
   "execution_count": 55,
   "id": "8826271f",
   "metadata": {},
   "outputs": [
    {
     "data": {
      "text/plain": [
       "defined \u001b[32mfunction\u001b[39m \u001b[36mformatArgs\u001b[39m"
      ]
     },
     "execution_count": 55,
     "metadata": {},
     "output_type": "execute_result"
    }
   ],
   "source": [
    "def formatArgs(args: List[String]) = args.mkString(\"\\n\")"
   ]
  },
  {
   "cell_type": "code",
   "execution_count": 62,
   "id": "d3ca3b57",
   "metadata": {},
   "outputs": [
    {
     "data": {
      "text/plain": [
       "\u001b[36mss\u001b[39m: \u001b[32mString\u001b[39m = \u001b[32m\"\"\"A\n",
       "B\n",
       "C\"\"\"\u001b[39m"
      ]
     },
     "execution_count": 62,
     "metadata": {},
     "output_type": "execute_result"
    }
   ],
   "source": [
    "val ss = formatArgs(List(\"A\",\"B\",\"C\"))"
   ]
  },
  {
   "cell_type": "code",
   "execution_count": 63,
   "id": "2475472b",
   "metadata": {},
   "outputs": [
    {
     "data": {
      "text/plain": [
       "\u001b[36madjectives\u001b[39m: \u001b[32mList\u001b[39m[\u001b[32mString\u001b[39m] = \u001b[33mList\u001b[39m(\u001b[32m\"One\"\u001b[39m, \u001b[32m\"Two\"\u001b[39m, \u001b[32m\"Red\"\u001b[39m, \u001b[32m\"Blue\"\u001b[39m)"
      ]
     },
     "execution_count": 63,
     "metadata": {},
     "output_type": "execute_result"
    }
   ],
   "source": [
    "val adjectives = List(\"One\",\"Two\",\"Red\",\"Blue\")"
   ]
  },
  {
   "cell_type": "code",
   "execution_count": 64,
   "id": "3294c505",
   "metadata": {},
   "outputs": [
    {
     "data": {
      "text/plain": [
       "\u001b[36mnouns\u001b[39m: \u001b[32mList\u001b[39m[\u001b[32mString\u001b[39m] = \u001b[33mList\u001b[39m(\u001b[32m\"One Fish\"\u001b[39m, \u001b[32m\"Two Fish\"\u001b[39m, \u001b[32m\"Red Fish\"\u001b[39m, \u001b[32m\"Blue Fish\"\u001b[39m)"
      ]
     },
     "execution_count": 64,
     "metadata": {},
     "output_type": "execute_result"
    }
   ],
   "source": [
    "val nouns = adjectives.map(adj => adj + \" Fish\")"
   ]
  },
  {
   "cell_type": "code",
   "execution_count": 65,
   "id": "f53c8788",
   "metadata": {},
   "outputs": [
    {
     "data": {
      "text/plain": [
       "\u001b[36mnouns\u001b[39m: \u001b[32mList\u001b[39m[\u001b[32mString\u001b[39m] = \u001b[33mList\u001b[39m(\u001b[32m\"One Fish\"\u001b[39m, \u001b[32m\"Two Fish\"\u001b[39m, \u001b[32m\"Red Fish\"\u001b[39m, \u001b[32m\"Blue Fish\"\u001b[39m)"
      ]
     },
     "execution_count": 65,
     "metadata": {},
     "output_type": "execute_result"
    }
   ],
   "source": [
    "val nouns = \n",
    "    for adj <- adjectives yield\n",
    "        adj + \" Fish\"\n"
   ]
  },
  {
   "cell_type": "code",
   "execution_count": 66,
   "id": "4b0dcea5",
   "metadata": {},
   "outputs": [
    {
     "data": {
      "text/plain": [
       "\u001b[36mlengths\u001b[39m: \u001b[32mList\u001b[39m[\u001b[32mInt\u001b[39m] = \u001b[33mList\u001b[39m(\u001b[32m8\u001b[39m, \u001b[32m8\u001b[39m, \u001b[32m8\u001b[39m, \u001b[32m9\u001b[39m)"
      ]
     },
     "execution_count": 66,
     "metadata": {},
     "output_type": "execute_result"
    }
   ],
   "source": [
    "val lengths = nouns.map(noun => noun.length)"
   ]
  },
  {
   "cell_type": "code",
   "execution_count": 67,
   "id": "41c055f1",
   "metadata": {},
   "outputs": [
    {
     "data": {
      "text/plain": [
       "\u001b[36mlengths\u001b[39m: \u001b[32mList\u001b[39m[\u001b[32mInt\u001b[39m] = \u001b[33mList\u001b[39m(\u001b[32m8\u001b[39m, \u001b[32m8\u001b[39m, \u001b[32m8\u001b[39m, \u001b[32m9\u001b[39m)"
      ]
     },
     "execution_count": 67,
     "metadata": {},
     "output_type": "execute_result"
    }
   ],
   "source": [
    "val lengths = \n",
    "    for noun <- nouns yield\n",
    "        noun.length"
   ]
  },
  {
   "cell_type": "code",
   "execution_count": 68,
   "id": "467d18bc",
   "metadata": {},
   "outputs": [
    {
     "data": {
      "text/plain": [
       "\u001b[36mques\u001b[39m: \u001b[32mVector\u001b[39m[\u001b[32mString\u001b[39m] = \u001b[33mVector\u001b[39m(\u001b[32m\"Who\"\u001b[39m, \u001b[32m\"What\"\u001b[39m, \u001b[32m\"When\"\u001b[39m, \u001b[32m\"Where\"\u001b[39m, \u001b[32m\"Why\"\u001b[39m)"
      ]
     },
     "execution_count": 68,
     "metadata": {},
     "output_type": "execute_result"
    }
   ],
   "source": [
    "val ques = Vector(\"Who\",\"What\",\"When\",\"Where\",\"Why\")"
   ]
  },
  {
   "cell_type": "code",
   "execution_count": 69,
   "id": "fc68fbb4",
   "metadata": {},
   "outputs": [
    {
     "data": {
      "text/plain": [
       "\u001b[36musingMap\u001b[39m: \u001b[32mVector\u001b[39m[\u001b[32mString\u001b[39m] = \u001b[33mVector\u001b[39m(\u001b[32m\"who?\"\u001b[39m, \u001b[32m\"what?\"\u001b[39m, \u001b[32m\"when?\"\u001b[39m, \u001b[32m\"where?\"\u001b[39m, \u001b[32m\"why?\"\u001b[39m)"
      ]
     },
     "execution_count": 69,
     "metadata": {},
     "output_type": "execute_result"
    }
   ],
   "source": [
    "val usingMap = ques.map(q => q.toLowerCase + \"?\")"
   ]
  },
  {
   "cell_type": "code",
   "execution_count": 70,
   "id": "dbef3495",
   "metadata": {},
   "outputs": [
    {
     "data": {
      "text/plain": [
       "\u001b[36musingForYield\u001b[39m: \u001b[32mVector\u001b[39m[\u001b[32mString\u001b[39m] = \u001b[33mVector\u001b[39m(\n",
       "  \u001b[32m\"who?\"\u001b[39m,\n",
       "  \u001b[32m\"what?\"\u001b[39m,\n",
       "  \u001b[32m\"when?\"\u001b[39m,\n",
       "  \u001b[32m\"where?\"\u001b[39m,\n",
       "  \u001b[32m\"why?\"\u001b[39m\n",
       ")"
      ]
     },
     "execution_count": 70,
     "metadata": {},
     "output_type": "execute_result"
    }
   ],
   "source": [
    "val usingForYield = \n",
    "    for q <- ques yield\n",
    "        q.toLowerCase + \"?\""
   ]
  },
  {
   "cell_type": "code",
   "execution_count": 71,
   "id": "bed2a606",
   "metadata": {},
   "outputs": [
    {
     "data": {
      "text/plain": [
       "\u001b[36mstartsW\u001b[39m: \u001b[32mOption\u001b[39m[\u001b[32mString\u001b[39m] = \u001b[33mSome\u001b[39m(value = \u001b[32m\"Who\"\u001b[39m)\n",
       "\u001b[36mhasLen4\u001b[39m: \u001b[32mOption\u001b[39m[\u001b[32mString\u001b[39m] = \u001b[33mSome\u001b[39m(value = \u001b[32m\"What\"\u001b[39m)\n",
       "\u001b[36mhasLen5\u001b[39m: \u001b[32mOption\u001b[39m[\u001b[32mString\u001b[39m] = \u001b[33mSome\u001b[39m(value = \u001b[32m\"Where\"\u001b[39m)\n",
       "\u001b[36mstartsH\u001b[39m: \u001b[32mOption\u001b[39m[\u001b[32mString\u001b[39m] = \u001b[32mNone\u001b[39m"
      ]
     },
     "execution_count": 71,
     "metadata": {},
     "output_type": "execute_result"
    }
   ],
   "source": [
    "val startsW = ques.find(q => q.startsWith(\"W\"))\n",
    "val hasLen4 = ques.find(q => q.length == 4)\n",
    "val hasLen5 = ques.find(q => q.length == 5)\n",
    "val startsH = ques.find(q => q.startsWith(\"H\"))"
   ]
  },
  {
   "cell_type": "code",
   "execution_count": 72,
   "id": "662be1ac",
   "metadata": {},
   "outputs": [
    {
     "data": {
      "text/plain": [
       "\u001b[36mres71\u001b[39m: \u001b[32mOption\u001b[39m[\u001b[32mString\u001b[39m] = \u001b[33mSome\u001b[39m(value = \u001b[32m\"WHO\"\u001b[39m)"
      ]
     },
     "execution_count": 72,
     "metadata": {},
     "output_type": "execute_result"
    }
   ],
   "source": [
    "startsW.map(word => word.toUpperCase)"
   ]
  },
  {
   "cell_type": "code",
   "execution_count": 73,
   "id": "5d82f6af",
   "metadata": {},
   "outputs": [
    {
     "data": {
      "text/plain": [
       "\u001b[36mres72\u001b[39m: \u001b[32mOption\u001b[39m[\u001b[32mString\u001b[39m] = \u001b[33mSome\u001b[39m(value = \u001b[32m\"WHO\"\u001b[39m)"
      ]
     },
     "execution_count": 73,
     "metadata": {},
     "output_type": "execute_result"
    }
   ],
   "source": [
    "for word <- startsW yield word.toUpperCase"
   ]
  },
  {
   "cell_type": "code",
   "execution_count": 74,
   "id": "24c24fe2",
   "metadata": {},
   "outputs": [
    {
     "data": {
      "text/plain": [
       "\u001b[36mres73\u001b[39m: \u001b[32mOption\u001b[39m[\u001b[32mString\u001b[39m] = \u001b[32mNone\u001b[39m"
      ]
     },
     "execution_count": 74,
     "metadata": {},
     "output_type": "execute_result"
    }
   ],
   "source": [
    "startsH.map(word => word.toUpperCase)"
   ]
  },
  {
   "cell_type": "code",
   "execution_count": 75,
   "id": "7df9d04c",
   "metadata": {},
   "outputs": [
    {
     "data": {
      "text/plain": [
       "\u001b[36mres74\u001b[39m: \u001b[32mOption\u001b[39m[\u001b[32mString\u001b[39m] = \u001b[32mNone\u001b[39m"
      ]
     },
     "execution_count": 75,
     "metadata": {},
     "output_type": "execute_result"
    }
   ],
   "source": [
    "for word <- startsH yield word.toUpperCase"
   ]
  },
  {
   "cell_type": "markdown",
   "id": "c71a0733",
   "metadata": {},
   "source": [
    "### Chapter 4"
   ]
  },
  {
   "cell_type": "code",
   "execution_count": 1,
   "id": "e010c279",
   "metadata": {},
   "outputs": [],
   "source": [
    "class ChecksumAccumulator:\n",
    "    // class definition goes here, indented"
   ]
  },
  {
   "cell_type": "code",
   "execution_count": 2,
   "id": "efb71ed9",
   "metadata": {},
   "outputs": [
    {
     "ename": "",
     "evalue": "",
     "output_type": "error",
     "traceback": [
      "\u001b[31mjava.lang.StackOverflowError\u001b[39m\n  ammonite.$sess.cmd0$Helper$ChecksumAccumulator.<init>(\u001b[32mcmd0.sc\u001b[39m:\u001b[32m106\u001b[39m)\n  ammonite.$sess.cmd0$Helper$ChecksumAccumulator.<init>(\u001b[32mcmd0.sc\u001b[39m:\u001b[32m106\u001b[39m)\n  ammonite.$sess.cmd0$Helper$ChecksumAccumulator.<init>(\u001b[32mcmd0.sc\u001b[39m:\u001b[32m106\u001b[39m)\n  ammonite.$sess.cmd0$Helper$ChecksumAccumulator.<init>(\u001b[32mcmd0.sc\u001b[39m:\u001b[32m106\u001b[39m)\n  ammonite.$sess.cmd0$Helper$ChecksumAccumulator.<init>(\u001b[32mcmd0.sc\u001b[39m:\u001b[32m106\u001b[39m)\n  ammonite.$sess.cmd0$Helper$ChecksumAccumulator.<init>(\u001b[32mcmd0.sc\u001b[39m:\u001b[32m106\u001b[39m)\n  ammonite.$sess.cmd0$Helper$ChecksumAccumulator.<init>(\u001b[32mcmd0.sc\u001b[39m:\u001b[32m106\u001b[39m)\n  ammonite.$sess.cmd0$Helper$ChecksumAccumulator.<init>(\u001b[32mcmd0.sc\u001b[39m:\u001b[32m106\u001b[39m)\n  ammonite.$sess.cmd0$Helper$ChecksumAccumulator.<init>(\u001b[32mcmd0.sc\u001b[39m:\u001b[32m106\u001b[39m)\n  ammonite.$sess.cmd0$Helper$ChecksumAccumulator.<init>(\u001b[32mcmd0.sc\u001b[39m:\u001b[32m106\u001b[39m)\n  ammonite.$sess.cmd0$Helper$ChecksumAccumulator.<init>(\u001b[32mcmd0.sc\u001b[39m:\u001b[32m106\u001b[39m)\n  ammonite.$sess.cmd0$Helper$ChecksumAccumulator.<init>(\u001b[32mcmd0.sc\u001b[39m:\u001b[32m106\u001b[39m)\n  ammonite.$sess.cmd0$Helper$ChecksumAccumulator.<init>(\u001b[32mcmd0.sc\u001b[39m:\u001b[32m106\u001b[39m)\n  ammonite.$sess.cmd0$Helper$ChecksumAccumulator.<init>(\u001b[32mcmd0.sc\u001b[39m:\u001b[32m106\u001b[39m)\n  ammonite.$sess.cmd0$Helper$ChecksumAccumulator.<init>(\u001b[32mcmd0.sc\u001b[39m:\u001b[32m106\u001b[39m)\n  ammonite.$sess.cmd0$Helper$ChecksumAccumulator.<init>(\u001b[32mcmd0.sc\u001b[39m:\u001b[32m106\u001b[39m)\n  ammonite.$sess.cmd0$Helper$ChecksumAccumulator.<init>(\u001b[32mcmd0.sc\u001b[39m:\u001b[32m106\u001b[39m)\n  ammonite.$sess.cmd0$Helper$ChecksumAccumulator.<init>(\u001b[32mcmd0.sc\u001b[39m:\u001b[32m106\u001b[39m)\n  ammonite.$sess.cmd0$Helper$ChecksumAccumulator.<init>(\u001b[32mcmd0.sc\u001b[39m:\u001b[32m106\u001b[39m)\n  ammonite.$sess.cmd0$Helper$ChecksumAccumulator.<init>(\u001b[32mcmd0.sc\u001b[39m:\u001b[32m106\u001b[39m)\n  ammonite.$sess.cmd0$Helper$ChecksumAccumulator.<init>(\u001b[32mcmd0.sc\u001b[39m:\u001b[32m106\u001b[39m)\n  ammonite.$sess.cmd0$Helper$ChecksumAccumulator.<init>(\u001b[32mcmd0.sc\u001b[39m:\u001b[32m106\u001b[39m)\n  ammonite.$sess.cmd0$Helper$ChecksumAccumulator.<init>(\u001b[32mcmd0.sc\u001b[39m:\u001b[32m106\u001b[39m)\n  ammonite.$sess.cmd0$Helper$ChecksumAccumulator.<init>(\u001b[32mcmd0.sc\u001b[39m:\u001b[32m106\u001b[39m)\n  ammonite.$sess.cmd0$Helper$ChecksumAccumulator.<init>(\u001b[32mcmd0.sc\u001b[39m:\u001b[32m106\u001b[39m)\n  ammonite.$sess.cmd0$Helper$ChecksumAccumulator.<init>(\u001b[32mcmd0.sc\u001b[39m:\u001b[32m106\u001b[39m)\n  ammonite.$sess.cmd0$Helper$ChecksumAccumulator.<init>(\u001b[32mcmd0.sc\u001b[39m:\u001b[32m106\u001b[39m)\n  ammonite.$sess.cmd0$Helper$ChecksumAccumulator.<init>(\u001b[32mcmd0.sc\u001b[39m:\u001b[32m106\u001b[39m)\n  ammonite.$sess.cmd0$Helper$ChecksumAccumulator.<init>(\u001b[32mcmd0.sc\u001b[39m:\u001b[32m106\u001b[39m)\n  ammonite.$sess.cmd0$Helper$ChecksumAccumulator.<init>(\u001b[32mcmd0.sc\u001b[39m:\u001b[32m106\u001b[39m)\n  ammonite.$sess.cmd0$Helper$ChecksumAccumulator.<init>(\u001b[32mcmd0.sc\u001b[39m:\u001b[32m106\u001b[39m)\n  ammonite.$sess.cmd0$Helper$ChecksumAccumulator.<init>(\u001b[32mcmd0.sc\u001b[39m:\u001b[32m106\u001b[39m)\n  ammonite.$sess.cmd0$Helper$ChecksumAccumulator.<init>(\u001b[32mcmd0.sc\u001b[39m:\u001b[32m106\u001b[39m)\n  ammonite.$sess.cmd0$Helper$ChecksumAccumulator.<init>(\u001b[32mcmd0.sc\u001b[39m:\u001b[32m106\u001b[39m)\n  ammonite.$sess.cmd0$Helper$ChecksumAccumulator.<init>(\u001b[32mcmd0.sc\u001b[39m:\u001b[32m106\u001b[39m)\n  ammonite.$sess.cmd0$Helper$ChecksumAccumulator.<init>(\u001b[32mcmd0.sc\u001b[39m:\u001b[32m106\u001b[39m)\n  ammonite.$sess.cmd0$Helper$ChecksumAccumulator.<init>(\u001b[32mcmd0.sc\u001b[39m:\u001b[32m106\u001b[39m)\n  ammonite.$sess.cmd0$Helper$ChecksumAccumulator.<init>(\u001b[32mcmd0.sc\u001b[39m:\u001b[32m106\u001b[39m)\n  ammonite.$sess.cmd0$Helper$ChecksumAccumulator.<init>(\u001b[32mcmd0.sc\u001b[39m:\u001b[32m106\u001b[39m)\n  ammonite.$sess.cmd0$Helper$ChecksumAccumulator.<init>(\u001b[32mcmd0.sc\u001b[39m:\u001b[32m106\u001b[39m)\n  ammonite.$sess.cmd0$Helper$ChecksumAccumulator.<init>(\u001b[32mcmd0.sc\u001b[39m:\u001b[32m106\u001b[39m)\n  ammonite.$sess.cmd0$Helper$ChecksumAccumulator.<init>(\u001b[32mcmd0.sc\u001b[39m:\u001b[32m106\u001b[39m)\n  ammonite.$sess.cmd0$Helper$ChecksumAccumulator.<init>(\u001b[32mcmd0.sc\u001b[39m:\u001b[32m106\u001b[39m)\n  ammonite.$sess.cmd0$Helper$ChecksumAccumulator.<init>(\u001b[32mcmd0.sc\u001b[39m:\u001b[32m106\u001b[39m)\n  ammonite.$sess.cmd0$Helper$ChecksumAccumulator.<init>(\u001b[32mcmd0.sc\u001b[39m:\u001b[32m106\u001b[39m)\n  ammonite.$sess.cmd0$Helper$ChecksumAccumulator.<init>(\u001b[32mcmd0.sc\u001b[39m:\u001b[32m106\u001b[39m)\n  ammonite.$sess.cmd0$Helper$ChecksumAccumulator.<init>(\u001b[32mcmd0.sc\u001b[39m:\u001b[32m106\u001b[39m)\n  ammonite.$sess.cmd0$Helper$ChecksumAccumulator.<init>(\u001b[32mcmd0.sc\u001b[39m:\u001b[32m106\u001b[39m)\n  ammonite.$sess.cmd0$Helper$ChecksumAccumulator.<init>(\u001b[32mcmd0.sc\u001b[39m:\u001b[32m106\u001b[39m)\n  ammonite.$sess.cmd0$Helper$ChecksumAccumulator.<init>(\u001b[32mcmd0.sc\u001b[39m:\u001b[32m106\u001b[39m)\n  ammonite.$sess.cmd0$Helper$ChecksumAccumulator.<init>(\u001b[32mcmd0.sc\u001b[39m:\u001b[32m106\u001b[39m)\n  ammonite.$sess.cmd0$Helper$ChecksumAccumulator.<init>(\u001b[32mcmd0.sc\u001b[39m:\u001b[32m106\u001b[39m)\n  ammonite.$sess.cmd0$Helper$ChecksumAccumulator.<init>(\u001b[32mcmd0.sc\u001b[39m:\u001b[32m106\u001b[39m)\n  ammonite.$sess.cmd0$Helper$ChecksumAccumulator.<init>(\u001b[32mcmd0.sc\u001b[39m:\u001b[32m106\u001b[39m)\n  ammonite.$sess.cmd0$Helper$ChecksumAccumulator.<init>(\u001b[32mcmd0.sc\u001b[39m:\u001b[32m106\u001b[39m)\n  ammonite.$sess.cmd0$Helper$ChecksumAccumulator.<init>(\u001b[32mcmd0.sc\u001b[39m:\u001b[32m106\u001b[39m)\n  ammonite.$sess.cmd0$Helper$ChecksumAccumulator.<init>(\u001b[32mcmd0.sc\u001b[39m:\u001b[32m106\u001b[39m)\n  ammonite.$sess.cmd0$Helper$ChecksumAccumulator.<init>(\u001b[32mcmd0.sc\u001b[39m:\u001b[32m106\u001b[39m)\n  ammonite.$sess.cmd0$Helper$ChecksumAccumulator.<init>(\u001b[32mcmd0.sc\u001b[39m:\u001b[32m106\u001b[39m)\n  ammonite.$sess.cmd0$Helper$ChecksumAccumulator.<init>(\u001b[32mcmd0.sc\u001b[39m:\u001b[32m106\u001b[39m)\n  ammonite.$sess.cmd0$Helper$ChecksumAccumulator.<init>(\u001b[32mcmd0.sc\u001b[39m:\u001b[32m106\u001b[39m)\n  ammonite.$sess.cmd0$Helper$ChecksumAccumulator.<init>(\u001b[32mcmd0.sc\u001b[39m:\u001b[32m106\u001b[39m)\n  ammonite.$sess.cmd0$Helper$ChecksumAccumulator.<init>(\u001b[32mcmd0.sc\u001b[39m:\u001b[32m106\u001b[39m)\n  ammonite.$sess.cmd0$Helper$ChecksumAccumulator.<init>(\u001b[32mcmd0.sc\u001b[39m:\u001b[32m106\u001b[39m)\n  ammonite.$sess.cmd0$Helper$ChecksumAccumulator.<init>(\u001b[32mcmd0.sc\u001b[39m:\u001b[32m106\u001b[39m)\n  ammonite.$sess.cmd0$Helper$ChecksumAccumulator.<init>(\u001b[32mcmd0.sc\u001b[39m:\u001b[32m106\u001b[39m)\n  ammonite.$sess.cmd0$Helper$ChecksumAccumulator.<init>(\u001b[32mcmd0.sc\u001b[39m:\u001b[32m106\u001b[39m)\n  ammonite.$sess.cmd0$Helper$ChecksumAccumulator.<init>(\u001b[32mcmd0.sc\u001b[39m:\u001b[32m106\u001b[39m)\n  ammonite.$sess.cmd0$Helper$ChecksumAccumulator.<init>(\u001b[32mcmd0.sc\u001b[39m:\u001b[32m106\u001b[39m)\n  ammonite.$sess.cmd0$Helper$ChecksumAccumulator.<init>(\u001b[32mcmd0.sc\u001b[39m:\u001b[32m106\u001b[39m)\n  ammonite.$sess.cmd0$Helper$ChecksumAccumulator.<init>(\u001b[32mcmd0.sc\u001b[39m:\u001b[32m106\u001b[39m)\n  ammonite.$sess.cmd0$Helper$ChecksumAccumulator.<init>(\u001b[32mcmd0.sc\u001b[39m:\u001b[32m106\u001b[39m)\n  ammonite.$sess.cmd0$Helper$ChecksumAccumulator.<init>(\u001b[32mcmd0.sc\u001b[39m:\u001b[32m106\u001b[39m)\n  ammonite.$sess.cmd0$Helper$ChecksumAccumulator.<init>(\u001b[32mcmd0.sc\u001b[39m:\u001b[32m106\u001b[39m)\n  ammonite.$sess.cmd0$Helper$ChecksumAccumulator.<init>(\u001b[32mcmd0.sc\u001b[39m:\u001b[32m106\u001b[39m)\n  ammonite.$sess.cmd0$Helper$ChecksumAccumulator.<init>(\u001b[32mcmd0.sc\u001b[39m:\u001b[32m106\u001b[39m)\n  ammonite.$sess.cmd0$Helper$ChecksumAccumulator.<init>(\u001b[32mcmd0.sc\u001b[39m:\u001b[32m106\u001b[39m)\n  ammonite.$sess.cmd0$Helper$ChecksumAccumulator.<init>(\u001b[32mcmd0.sc\u001b[39m:\u001b[32m106\u001b[39m)\n  ammonite.$sess.cmd0$Helper$ChecksumAccumulator.<init>(\u001b[32mcmd0.sc\u001b[39m:\u001b[32m106\u001b[39m)\n  ammonite.$sess.cmd0$Helper$ChecksumAccumulator.<init>(\u001b[32mcmd0.sc\u001b[39m:\u001b[32m106\u001b[39m)\n  ammonite.$sess.cmd0$Helper$ChecksumAccumulator.<init>(\u001b[32mcmd0.sc\u001b[39m:\u001b[32m106\u001b[39m)\n  ammonite.$sess.cmd0$Helper$ChecksumAccumulator.<init>(\u001b[32mcmd0.sc\u001b[39m:\u001b[32m106\u001b[39m)\n  ammonite.$sess.cmd0$Helper$ChecksumAccumulator.<init>(\u001b[32mcmd0.sc\u001b[39m:\u001b[32m106\u001b[39m)\n  ammonite.$sess.cmd0$Helper$ChecksumAccumulator.<init>(\u001b[32mcmd0.sc\u001b[39m:\u001b[32m106\u001b[39m)\n  ammonite.$sess.cmd0$Helper$ChecksumAccumulator.<init>(\u001b[32mcmd0.sc\u001b[39m:\u001b[32m106\u001b[39m)\n  ammonite.$sess.cmd0$Helper$ChecksumAccumulator.<init>(\u001b[32mcmd0.sc\u001b[39m:\u001b[32m106\u001b[39m)\n  ammonite.$sess.cmd0$Helper$ChecksumAccumulator.<init>(\u001b[32mcmd0.sc\u001b[39m:\u001b[32m106\u001b[39m)\n  ammonite.$sess.cmd0$Helper$ChecksumAccumulator.<init>(\u001b[32mcmd0.sc\u001b[39m:\u001b[32m106\u001b[39m)\n  ammonite.$sess.cmd0$Helper$ChecksumAccumulator.<init>(\u001b[32mcmd0.sc\u001b[39m:\u001b[32m106\u001b[39m)\n  ammonite.$sess.cmd0$Helper$ChecksumAccumulator.<init>(\u001b[32mcmd0.sc\u001b[39m:\u001b[32m106\u001b[39m)\n  ammonite.$sess.cmd0$Helper$ChecksumAccumulator.<init>(\u001b[32mcmd0.sc\u001b[39m:\u001b[32m106\u001b[39m)\n  ammonite.$sess.cmd0$Helper$ChecksumAccumulator.<init>(\u001b[32mcmd0.sc\u001b[39m:\u001b[32m106\u001b[39m)\n  ammonite.$sess.cmd0$Helper$ChecksumAccumulator.<init>(\u001b[32mcmd0.sc\u001b[39m:\u001b[32m106\u001b[39m)\n  ammonite.$sess.cmd0$Helper$ChecksumAccumulator.<init>(\u001b[32mcmd0.sc\u001b[39m:\u001b[32m106\u001b[39m)\n  ammonite.$sess.cmd0$Helper$ChecksumAccumulator.<init>(\u001b[32mcmd0.sc\u001b[39m:\u001b[32m106\u001b[39m)\n  ammonite.$sess.cmd0$Helper$ChecksumAccumulator.<init>(\u001b[32mcmd0.sc\u001b[39m:\u001b[32m106\u001b[39m)\n  ammonite.$sess.cmd0$Helper$ChecksumAccumulator.<init>(\u001b[32mcmd0.sc\u001b[39m:\u001b[32m106\u001b[39m)\n  ammonite.$sess.cmd0$Helper$ChecksumAccumulator.<init>(\u001b[32mcmd0.sc\u001b[39m:\u001b[32m106\u001b[39m)\n  ammonite.$sess.cmd0$Helper$ChecksumAccumulator.<init>(\u001b[32mcmd0.sc\u001b[39m:\u001b[32m106\u001b[39m)\n  ammonite.$sess.cmd0$Helper$ChecksumAccumulator.<init>(\u001b[32mcmd0.sc\u001b[39m:\u001b[32m106\u001b[39m)\n  ammonite.$sess.cmd0$Helper$ChecksumAccumulator.<init>(\u001b[32mcmd0.sc\u001b[39m:\u001b[32m106\u001b[39m)\n  ammonite.$sess.cmd0$Helper$ChecksumAccumulator.<init>(\u001b[32mcmd0.sc\u001b[39m:\u001b[32m106\u001b[39m)\n  ammonite.$sess.cmd0$Helper$ChecksumAccumulator.<init>(\u001b[32mcmd0.sc\u001b[39m:\u001b[32m106\u001b[39m)\n  ammonite.$sess.cmd0$Helper$ChecksumAccumulator.<init>(\u001b[32mcmd0.sc\u001b[39m:\u001b[32m106\u001b[39m)\n  ammonite.$sess.cmd0$Helper$ChecksumAccumulator.<init>(\u001b[32mcmd0.sc\u001b[39m:\u001b[32m106\u001b[39m)\n  ammonite.$sess.cmd0$Helper$ChecksumAccumulator.<init>(\u001b[32mcmd0.sc\u001b[39m:\u001b[32m106\u001b[39m)\n  ammonite.$sess.cmd0$Helper$ChecksumAccumulator.<init>(\u001b[32mcmd0.sc\u001b[39m:\u001b[32m106\u001b[39m)\n  ammonite.$sess.cmd0$Helper$ChecksumAccumulator.<init>(\u001b[32mcmd0.sc\u001b[39m:\u001b[32m106\u001b[39m)\n  ammonite.$sess.cmd0$Helper$ChecksumAccumulator.<init>(\u001b[32mcmd0.sc\u001b[39m:\u001b[32m106\u001b[39m)\n  ammonite.$sess.cmd0$Helper$ChecksumAccumulator.<init>(\u001b[32mcmd0.sc\u001b[39m:\u001b[32m106\u001b[39m)\n  ammonite.$sess.cmd0$Helper$ChecksumAccumulator.<init>(\u001b[32mcmd0.sc\u001b[39m:\u001b[32m106\u001b[39m)\n  ammonite.$sess.cmd0$Helper$ChecksumAccumulator.<init>(\u001b[32mcmd0.sc\u001b[39m:\u001b[32m106\u001b[39m)\n  ammonite.$sess.cmd0$Helper$ChecksumAccumulator.<init>(\u001b[32mcmd0.sc\u001b[39m:\u001b[32m106\u001b[39m)\n  ammonite.$sess.cmd0$Helper$ChecksumAccumulator.<init>(\u001b[32mcmd0.sc\u001b[39m:\u001b[32m106\u001b[39m)\n  ammonite.$sess.cmd0$Helper$ChecksumAccumulator.<init>(\u001b[32mcmd0.sc\u001b[39m:\u001b[32m106\u001b[39m)\n  ammonite.$sess.cmd0$Helper$ChecksumAccumulator.<init>(\u001b[32mcmd0.sc\u001b[39m:\u001b[32m106\u001b[39m)\n  ammonite.$sess.cmd0$Helper$ChecksumAccumulator.<init>(\u001b[32mcmd0.sc\u001b[39m:\u001b[32m106\u001b[39m)\n  ammonite.$sess.cmd0$Helper$ChecksumAccumulator.<init>(\u001b[32mcmd0.sc\u001b[39m:\u001b[32m106\u001b[39m)\n  ammonite.$sess.cmd0$Helper$ChecksumAccumulator.<init>(\u001b[32mcmd0.sc\u001b[39m:\u001b[32m106\u001b[39m)\n  ammonite.$sess.cmd0$Helper$ChecksumAccumulator.<init>(\u001b[32mcmd0.sc\u001b[39m:\u001b[32m106\u001b[39m)\n  ammonite.$sess.cmd0$Helper$ChecksumAccumulator.<init>(\u001b[32mcmd0.sc\u001b[39m:\u001b[32m106\u001b[39m)\n  ammonite.$sess.cmd0$Helper$ChecksumAccumulator.<init>(\u001b[32mcmd0.sc\u001b[39m:\u001b[32m106\u001b[39m)\n  ammonite.$sess.cmd0$Helper$ChecksumAccumulator.<init>(\u001b[32mcmd0.sc\u001b[39m:\u001b[32m106\u001b[39m)\n  ammonite.$sess.cmd0$Helper$ChecksumAccumulator.<init>(\u001b[32mcmd0.sc\u001b[39m:\u001b[32m106\u001b[39m)\n  ammonite.$sess.cmd0$Helper$ChecksumAccumulator.<init>(\u001b[32mcmd0.sc\u001b[39m:\u001b[32m106\u001b[39m)\n  ammonite.$sess.cmd0$Helper$ChecksumAccumulator.<init>(\u001b[32mcmd0.sc\u001b[39m:\u001b[32m106\u001b[39m)\n  ammonite.$sess.cmd0$Helper$ChecksumAccumulator.<init>(\u001b[32mcmd0.sc\u001b[39m:\u001b[32m106\u001b[39m)\n  ammonite.$sess.cmd0$Helper$ChecksumAccumulator.<init>(\u001b[32mcmd0.sc\u001b[39m:\u001b[32m106\u001b[39m)\n  ammonite.$sess.cmd0$Helper$ChecksumAccumulator.<init>(\u001b[32mcmd0.sc\u001b[39m:\u001b[32m106\u001b[39m)\n  ammonite.$sess.cmd0$Helper$ChecksumAccumulator.<init>(\u001b[32mcmd0.sc\u001b[39m:\u001b[32m106\u001b[39m)\n  ammonite.$sess.cmd0$Helper$ChecksumAccumulator.<init>(\u001b[32mcmd0.sc\u001b[39m:\u001b[32m106\u001b[39m)\n  ammonite.$sess.cmd0$Helper$ChecksumAccumulator.<init>(\u001b[32mcmd0.sc\u001b[39m:\u001b[32m106\u001b[39m)\n  ammonite.$sess.cmd0$Helper$ChecksumAccumulator.<init>(\u001b[32mcmd0.sc\u001b[39m:\u001b[32m106\u001b[39m)\n  ammonite.$sess.cmd0$Helper$ChecksumAccumulator.<init>(\u001b[32mcmd0.sc\u001b[39m:\u001b[32m106\u001b[39m)\n  ammonite.$sess.cmd0$Helper$ChecksumAccumulator.<init>(\u001b[32mcmd0.sc\u001b[39m:\u001b[32m106\u001b[39m)\n  ammonite.$sess.cmd0$Helper$ChecksumAccumulator.<init>(\u001b[32mcmd0.sc\u001b[39m:\u001b[32m106\u001b[39m)\n  ammonite.$sess.cmd0$Helper$ChecksumAccumulator.<init>(\u001b[32mcmd0.sc\u001b[39m:\u001b[32m106\u001b[39m)\n  ammonite.$sess.cmd0$Helper$ChecksumAccumulator.<init>(\u001b[32mcmd0.sc\u001b[39m:\u001b[32m106\u001b[39m)\n  ammonite.$sess.cmd0$Helper$ChecksumAccumulator.<init>(\u001b[32mcmd0.sc\u001b[39m:\u001b[32m106\u001b[39m)\n  ammonite.$sess.cmd0$Helper$ChecksumAccumulator.<init>(\u001b[32mcmd0.sc\u001b[39m:\u001b[32m106\u001b[39m)\n  ammonite.$sess.cmd0$Helper$ChecksumAccumulator.<init>(\u001b[32mcmd0.sc\u001b[39m:\u001b[32m106\u001b[39m)\n  ammonite.$sess.cmd0$Helper$ChecksumAccumulator.<init>(\u001b[32mcmd0.sc\u001b[39m:\u001b[32m106\u001b[39m)\n  ammonite.$sess.cmd0$Helper$ChecksumAccumulator.<init>(\u001b[32mcmd0.sc\u001b[39m:\u001b[32m106\u001b[39m)\n  ammonite.$sess.cmd0$Helper$ChecksumAccumulator.<init>(\u001b[32mcmd0.sc\u001b[39m:\u001b[32m106\u001b[39m)\n  ammonite.$sess.cmd0$Helper$ChecksumAccumulator.<init>(\u001b[32mcmd0.sc\u001b[39m:\u001b[32m106\u001b[39m)\n  ammonite.$sess.cmd0$Helper$ChecksumAccumulator.<init>(\u001b[32mcmd0.sc\u001b[39m:\u001b[32m106\u001b[39m)\n  ammonite.$sess.cmd0$Helper$ChecksumAccumulator.<init>(\u001b[32mcmd0.sc\u001b[39m:\u001b[32m106\u001b[39m)\n  ammonite.$sess.cmd0$Helper$ChecksumAccumulator.<init>(\u001b[32mcmd0.sc\u001b[39m:\u001b[32m106\u001b[39m)\n  ammonite.$sess.cmd0$Helper$ChecksumAccumulator.<init>(\u001b[32mcmd0.sc\u001b[39m:\u001b[32m106\u001b[39m)\n  ammonite.$sess.cmd0$Helper$ChecksumAccumulator.<init>(\u001b[32mcmd0.sc\u001b[39m:\u001b[32m106\u001b[39m)\n  ammonite.$sess.cmd0$Helper$ChecksumAccumulator.<init>(\u001b[32mcmd0.sc\u001b[39m:\u001b[32m106\u001b[39m)\n  ammonite.$sess.cmd0$Helper$ChecksumAccumulator.<init>(\u001b[32mcmd0.sc\u001b[39m:\u001b[32m106\u001b[39m)\n  ammonite.$sess.cmd0$Helper$ChecksumAccumulator.<init>(\u001b[32mcmd0.sc\u001b[39m:\u001b[32m106\u001b[39m)\n  ammonite.$sess.cmd0$Helper$ChecksumAccumulator.<init>(\u001b[32mcmd0.sc\u001b[39m:\u001b[32m106\u001b[39m)\n  ammonite.$sess.cmd0$Helper$ChecksumAccumulator.<init>(\u001b[32mcmd0.sc\u001b[39m:\u001b[32m106\u001b[39m)\n  ammonite.$sess.cmd0$Helper$ChecksumAccumulator.<init>(\u001b[32mcmd0.sc\u001b[39m:\u001b[32m106\u001b[39m)\n  ammonite.$sess.cmd0$Helper$ChecksumAccumulator.<init>(\u001b[32mcmd0.sc\u001b[39m:\u001b[32m106\u001b[39m)\n  ammonite.$sess.cmd0$Helper$ChecksumAccumulator.<init>(\u001b[32mcmd0.sc\u001b[39m:\u001b[32m106\u001b[39m)\n  ammonite.$sess.cmd0$Helper$ChecksumAccumulator.<init>(\u001b[32mcmd0.sc\u001b[39m:\u001b[32m106\u001b[39m)\n  ammonite.$sess.cmd0$Helper$ChecksumAccumulator.<init>(\u001b[32mcmd0.sc\u001b[39m:\u001b[32m106\u001b[39m)\n  ammonite.$sess.cmd0$Helper$ChecksumAccumulator.<init>(\u001b[32mcmd0.sc\u001b[39m:\u001b[32m106\u001b[39m)\n  ammonite.$sess.cmd0$Helper$ChecksumAccumulator.<init>(\u001b[32mcmd0.sc\u001b[39m:\u001b[32m106\u001b[39m)\n  ammonite.$sess.cmd0$Helper$ChecksumAccumulator.<init>(\u001b[32mcmd0.sc\u001b[39m:\u001b[32m106\u001b[39m)\n  ammonite.$sess.cmd0$Helper$ChecksumAccumulator.<init>(\u001b[32mcmd0.sc\u001b[39m:\u001b[32m106\u001b[39m)\n  ammonite.$sess.cmd0$Helper$ChecksumAccumulator.<init>(\u001b[32mcmd0.sc\u001b[39m:\u001b[32m106\u001b[39m)\n  ammonite.$sess.cmd0$Helper$ChecksumAccumulator.<init>(\u001b[32mcmd0.sc\u001b[39m:\u001b[32m106\u001b[39m)\n  ammonite.$sess.cmd0$Helper$ChecksumAccumulator.<init>(\u001b[32mcmd0.sc\u001b[39m:\u001b[32m106\u001b[39m)\n  ammonite.$sess.cmd0$Helper$ChecksumAccumulator.<init>(\u001b[32mcmd0.sc\u001b[39m:\u001b[32m106\u001b[39m)\n  ammonite.$sess.cmd0$Helper$ChecksumAccumulator.<init>(\u001b[32mcmd0.sc\u001b[39m:\u001b[32m106\u001b[39m)\n  ammonite.$sess.cmd0$Helper$ChecksumAccumulator.<init>(\u001b[32mcmd0.sc\u001b[39m:\u001b[32m106\u001b[39m)\n  ammonite.$sess.cmd0$Helper$ChecksumAccumulator.<init>(\u001b[32mcmd0.sc\u001b[39m:\u001b[32m106\u001b[39m)\n  ammonite.$sess.cmd0$Helper$ChecksumAccumulator.<init>(\u001b[32mcmd0.sc\u001b[39m:\u001b[32m106\u001b[39m)\n  ammonite.$sess.cmd0$Helper$ChecksumAccumulator.<init>(\u001b[32mcmd0.sc\u001b[39m:\u001b[32m106\u001b[39m)\n  ammonite.$sess.cmd0$Helper$ChecksumAccumulator.<init>(\u001b[32mcmd0.sc\u001b[39m:\u001b[32m106\u001b[39m)\n  ammonite.$sess.cmd0$Helper$ChecksumAccumulator.<init>(\u001b[32mcmd0.sc\u001b[39m:\u001b[32m106\u001b[39m)\n  ammonite.$sess.cmd0$Helper$ChecksumAccumulator.<init>(\u001b[32mcmd0.sc\u001b[39m:\u001b[32m106\u001b[39m)\n  ammonite.$sess.cmd0$Helper$ChecksumAccumulator.<init>(\u001b[32mcmd0.sc\u001b[39m:\u001b[32m106\u001b[39m)\n  ammonite.$sess.cmd0$Helper$ChecksumAccumulator.<init>(\u001b[32mcmd0.sc\u001b[39m:\u001b[32m106\u001b[39m)\n  ammonite.$sess.cmd0$Helper$ChecksumAccumulator.<init>(\u001b[32mcmd0.sc\u001b[39m:\u001b[32m106\u001b[39m)\n  ammonite.$sess.cmd0$Helper$ChecksumAccumulator.<init>(\u001b[32mcmd0.sc\u001b[39m:\u001b[32m106\u001b[39m)\n  ammonite.$sess.cmd0$Helper$ChecksumAccumulator.<init>(\u001b[32mcmd0.sc\u001b[39m:\u001b[32m106\u001b[39m)\n  ammonite.$sess.cmd0$Helper$ChecksumAccumulator.<init>(\u001b[32mcmd0.sc\u001b[39m:\u001b[32m106\u001b[39m)\n  ammonite.$sess.cmd0$Helper$ChecksumAccumulator.<init>(\u001b[32mcmd0.sc\u001b[39m:\u001b[32m106\u001b[39m)\n  ammonite.$sess.cmd0$Helper$ChecksumAccumulator.<init>(\u001b[32mcmd0.sc\u001b[39m:\u001b[32m106\u001b[39m)\n  ammonite.$sess.cmd0$Helper$ChecksumAccumulator.<init>(\u001b[32mcmd0.sc\u001b[39m:\u001b[32m106\u001b[39m)\n  ammonite.$sess.cmd0$Helper$ChecksumAccumulator.<init>(\u001b[32mcmd0.sc\u001b[39m:\u001b[32m106\u001b[39m)\n  ammonite.$sess.cmd0$Helper$ChecksumAccumulator.<init>(\u001b[32mcmd0.sc\u001b[39m:\u001b[32m106\u001b[39m)\n  ammonite.$sess.cmd0$Helper$ChecksumAccumulator.<init>(\u001b[32mcmd0.sc\u001b[39m:\u001b[32m106\u001b[39m)\n  ammonite.$sess.cmd0$Helper$ChecksumAccumulator.<init>(\u001b[32mcmd0.sc\u001b[39m:\u001b[32m106\u001b[39m)\n  ammonite.$sess.cmd0$Helper$ChecksumAccumulator.<init>(\u001b[32mcmd0.sc\u001b[39m:\u001b[32m106\u001b[39m)\n  ammonite.$sess.cmd0$Helper$ChecksumAccumulator.<init>(\u001b[32mcmd0.sc\u001b[39m:\u001b[32m106\u001b[39m)\n  ammonite.$sess.cmd0$Helper$ChecksumAccumulator.<init>(\u001b[32mcmd0.sc\u001b[39m:\u001b[32m106\u001b[39m)\n  ammonite.$sess.cmd0$Helper$ChecksumAccumulator.<init>(\u001b[32mcmd0.sc\u001b[39m:\u001b[32m106\u001b[39m)\n  ammonite.$sess.cmd0$Helper$ChecksumAccumulator.<init>(\u001b[32mcmd0.sc\u001b[39m:\u001b[32m106\u001b[39m)\n  ammonite.$sess.cmd0$Helper$ChecksumAccumulator.<init>(\u001b[32mcmd0.sc\u001b[39m:\u001b[32m106\u001b[39m)\n  ammonite.$sess.cmd0$Helper$ChecksumAccumulator.<init>(\u001b[32mcmd0.sc\u001b[39m:\u001b[32m106\u001b[39m)\n  ammonite.$sess.cmd0$Helper$ChecksumAccumulator.<init>(\u001b[32mcmd0.sc\u001b[39m:\u001b[32m106\u001b[39m)\n  ammonite.$sess.cmd0$Helper$ChecksumAccumulator.<init>(\u001b[32mcmd0.sc\u001b[39m:\u001b[32m106\u001b[39m)\n  ammonite.$sess.cmd0$Helper$ChecksumAccumulator.<init>(\u001b[32mcmd0.sc\u001b[39m:\u001b[32m106\u001b[39m)\n  ammonite.$sess.cmd0$Helper$ChecksumAccumulator.<init>(\u001b[32mcmd0.sc\u001b[39m:\u001b[32m106\u001b[39m)\n  ammonite.$sess.cmd0$Helper$ChecksumAccumulator.<init>(\u001b[32mcmd0.sc\u001b[39m:\u001b[32m106\u001b[39m)\n  ammonite.$sess.cmd0$Helper$ChecksumAccumulator.<init>(\u001b[32mcmd0.sc\u001b[39m:\u001b[32m106\u001b[39m)\n  ammonite.$sess.cmd0$Helper$ChecksumAccumulator.<init>(\u001b[32mcmd0.sc\u001b[39m:\u001b[32m106\u001b[39m)\n  ammonite.$sess.cmd0$Helper$ChecksumAccumulator.<init>(\u001b[32mcmd0.sc\u001b[39m:\u001b[32m106\u001b[39m)\n  ammonite.$sess.cmd0$Helper$ChecksumAccumulator.<init>(\u001b[32mcmd0.sc\u001b[39m:\u001b[32m106\u001b[39m)\n  ammonite.$sess.cmd0$Helper$ChecksumAccumulator.<init>(\u001b[32mcmd0.sc\u001b[39m:\u001b[32m106\u001b[39m)\n  ammonite.$sess.cmd0$Helper$ChecksumAccumulator.<init>(\u001b[32mcmd0.sc\u001b[39m:\u001b[32m106\u001b[39m)\n  ammonite.$sess.cmd0$Helper$ChecksumAccumulator.<init>(\u001b[32mcmd0.sc\u001b[39m:\u001b[32m106\u001b[39m)\n  ammonite.$sess.cmd0$Helper$ChecksumAccumulator.<init>(\u001b[32mcmd0.sc\u001b[39m:\u001b[32m106\u001b[39m)\n  ammonite.$sess.cmd0$Helper$ChecksumAccumulator.<init>(\u001b[32mcmd0.sc\u001b[39m:\u001b[32m106\u001b[39m)\n  ammonite.$sess.cmd0$Helper$ChecksumAccumulator.<init>(\u001b[32mcmd0.sc\u001b[39m:\u001b[32m106\u001b[39m)\n  ammonite.$sess.cmd0$Helper$ChecksumAccumulator.<init>(\u001b[32mcmd0.sc\u001b[39m:\u001b[32m106\u001b[39m)\n  ammonite.$sess.cmd0$Helper$ChecksumAccumulator.<init>(\u001b[32mcmd0.sc\u001b[39m:\u001b[32m106\u001b[39m)\n  ammonite.$sess.cmd0$Helper$ChecksumAccumulator.<init>(\u001b[32mcmd0.sc\u001b[39m:\u001b[32m106\u001b[39m)\n  ammonite.$sess.cmd0$Helper$ChecksumAccumulator.<init>(\u001b[32mcmd0.sc\u001b[39m:\u001b[32m106\u001b[39m)\n  ammonite.$sess.cmd0$Helper$ChecksumAccumulator.<init>(\u001b[32mcmd0.sc\u001b[39m:\u001b[32m106\u001b[39m)\n  ammonite.$sess.cmd0$Helper$ChecksumAccumulator.<init>(\u001b[32mcmd0.sc\u001b[39m:\u001b[32m106\u001b[39m)\n  ammonite.$sess.cmd0$Helper$ChecksumAccumulator.<init>(\u001b[32mcmd0.sc\u001b[39m:\u001b[32m106\u001b[39m)\n  ammonite.$sess.cmd0$Helper$ChecksumAccumulator.<init>(\u001b[32mcmd0.sc\u001b[39m:\u001b[32m106\u001b[39m)\n  ammonite.$sess.cmd0$Helper$ChecksumAccumulator.<init>(\u001b[32mcmd0.sc\u001b[39m:\u001b[32m106\u001b[39m)\n  ammonite.$sess.cmd0$Helper$ChecksumAccumulator.<init>(\u001b[32mcmd0.sc\u001b[39m:\u001b[32m106\u001b[39m)\n  ammonite.$sess.cmd0$Helper$ChecksumAccumulator.<init>(\u001b[32mcmd0.sc\u001b[39m:\u001b[32m106\u001b[39m)\n  ammonite.$sess.cmd0$Helper$ChecksumAccumulator.<init>(\u001b[32mcmd0.sc\u001b[39m:\u001b[32m106\u001b[39m)\n  ammonite.$sess.cmd0$Helper$ChecksumAccumulator.<init>(\u001b[32mcmd0.sc\u001b[39m:\u001b[32m106\u001b[39m)\n  ammonite.$sess.cmd0$Helper$ChecksumAccumulator.<init>(\u001b[32mcmd0.sc\u001b[39m:\u001b[32m106\u001b[39m)\n  ammonite.$sess.cmd0$Helper$ChecksumAccumulator.<init>(\u001b[32mcmd0.sc\u001b[39m:\u001b[32m106\u001b[39m)\n  ammonite.$sess.cmd0$Helper$ChecksumAccumulator.<init>(\u001b[32mcmd0.sc\u001b[39m:\u001b[32m106\u001b[39m)\n  ammonite.$sess.cmd0$Helper$ChecksumAccumulator.<init>(\u001b[32mcmd0.sc\u001b[39m:\u001b[32m106\u001b[39m)\n  ammonite.$sess.cmd0$Helper$ChecksumAccumulator.<init>(\u001b[32mcmd0.sc\u001b[39m:\u001b[32m106\u001b[39m)\n  ammonite.$sess.cmd0$Helper$ChecksumAccumulator.<init>(\u001b[32mcmd0.sc\u001b[39m:\u001b[32m106\u001b[39m)\n  ammonite.$sess.cmd0$Helper$ChecksumAccumulator.<init>(\u001b[32mcmd0.sc\u001b[39m:\u001b[32m106\u001b[39m)\n  ammonite.$sess.cmd0$Helper$ChecksumAccumulator.<init>(\u001b[32mcmd0.sc\u001b[39m:\u001b[32m106\u001b[39m)\n  ammonite.$sess.cmd0$Helper$ChecksumAccumulator.<init>(\u001b[32mcmd0.sc\u001b[39m:\u001b[32m106\u001b[39m)\n  ammonite.$sess.cmd0$Helper$ChecksumAccumulator.<init>(\u001b[32mcmd0.sc\u001b[39m:\u001b[32m106\u001b[39m)\n  ammonite.$sess.cmd0$Helper$ChecksumAccumulator.<init>(\u001b[32mcmd0.sc\u001b[39m:\u001b[32m106\u001b[39m)\n  ammonite.$sess.cmd0$Helper$ChecksumAccumulator.<init>(\u001b[32mcmd0.sc\u001b[39m:\u001b[32m106\u001b[39m)\n  ammonite.$sess.cmd0$Helper$ChecksumAccumulator.<init>(\u001b[32mcmd0.sc\u001b[39m:\u001b[32m106\u001b[39m)\n  ammonite.$sess.cmd0$Helper$ChecksumAccumulator.<init>(\u001b[32mcmd0.sc\u001b[39m:\u001b[32m106\u001b[39m)\n  ammonite.$sess.cmd0$Helper$ChecksumAccumulator.<init>(\u001b[32mcmd0.sc\u001b[39m:\u001b[32m106\u001b[39m)\n  ammonite.$sess.cmd0$Helper$ChecksumAccumulator.<init>(\u001b[32mcmd0.sc\u001b[39m:\u001b[32m106\u001b[39m)\n  ammonite.$sess.cmd0$Helper$ChecksumAccumulator.<init>(\u001b[32mcmd0.sc\u001b[39m:\u001b[32m106\u001b[39m)\n  ammonite.$sess.cmd0$Helper$ChecksumAccumulator.<init>(\u001b[32mcmd0.sc\u001b[39m:\u001b[32m106\u001b[39m)\n  ammonite.$sess.cmd0$Helper$ChecksumAccumulator.<init>(\u001b[32mcmd0.sc\u001b[39m:\u001b[32m106\u001b[39m)\n  ammonite.$sess.cmd0$Helper$ChecksumAccumulator.<init>(\u001b[32mcmd0.sc\u001b[39m:\u001b[32m106\u001b[39m)\n  ammonite.$sess.cmd0$Helper$ChecksumAccumulator.<init>(\u001b[32mcmd0.sc\u001b[39m:\u001b[32m106\u001b[39m)\n  ammonite.$sess.cmd0$Helper$ChecksumAccumulator.<init>(\u001b[32mcmd0.sc\u001b[39m:\u001b[32m106\u001b[39m)\n  ammonite.$sess.cmd0$Helper$ChecksumAccumulator.<init>(\u001b[32mcmd0.sc\u001b[39m:\u001b[32m106\u001b[39m)\n  ammonite.$sess.cmd0$Helper$ChecksumAccumulator.<init>(\u001b[32mcmd0.sc\u001b[39m:\u001b[32m106\u001b[39m)\n  ammonite.$sess.cmd0$Helper$ChecksumAccumulator.<init>(\u001b[32mcmd0.sc\u001b[39m:\u001b[32m106\u001b[39m)\n  ammonite.$sess.cmd0$Helper$ChecksumAccumulator.<init>(\u001b[32mcmd0.sc\u001b[39m:\u001b[32m106\u001b[39m)\n  ammonite.$sess.cmd0$Helper$ChecksumAccumulator.<init>(\u001b[32mcmd0.sc\u001b[39m:\u001b[32m106\u001b[39m)\n  ammonite.$sess.cmd0$Helper$ChecksumAccumulator.<init>(\u001b[32mcmd0.sc\u001b[39m:\u001b[32m106\u001b[39m)\n  ammonite.$sess.cmd0$Helper$ChecksumAccumulator.<init>(\u001b[32mcmd0.sc\u001b[39m:\u001b[32m106\u001b[39m)\n  ammonite.$sess.cmd0$Helper$ChecksumAccumulator.<init>(\u001b[32mcmd0.sc\u001b[39m:\u001b[32m106\u001b[39m)\n  ammonite.$sess.cmd0$Helper$ChecksumAccumulator.<init>(\u001b[32mcmd0.sc\u001b[39m:\u001b[32m106\u001b[39m)\n  ammonite.$sess.cmd0$Helper$ChecksumAccumulator.<init>(\u001b[32mcmd0.sc\u001b[39m:\u001b[32m106\u001b[39m)\n  ammonite.$sess.cmd0$Helper$ChecksumAccumulator.<init>(\u001b[32mcmd0.sc\u001b[39m:\u001b[32m106\u001b[39m)\n  ammonite.$sess.cmd0$Helper$ChecksumAccumulator.<init>(\u001b[32mcmd0.sc\u001b[39m:\u001b[32m106\u001b[39m)\n  ammonite.$sess.cmd0$Helper$ChecksumAccumulator.<init>(\u001b[32mcmd0.sc\u001b[39m:\u001b[32m106\u001b[39m)\n  ammonite.$sess.cmd0$Helper$ChecksumAccumulator.<init>(\u001b[32mcmd0.sc\u001b[39m:\u001b[32m106\u001b[39m)\n  ammonite.$sess.cmd0$Helper$ChecksumAccumulator.<init>(\u001b[32mcmd0.sc\u001b[39m:\u001b[32m106\u001b[39m)\n  ammonite.$sess.cmd0$Helper$ChecksumAccumulator.<init>(\u001b[32mcmd0.sc\u001b[39m:\u001b[32m106\u001b[39m)\n  ammonite.$sess.cmd0$Helper$ChecksumAccumulator.<init>(\u001b[32mcmd0.sc\u001b[39m:\u001b[32m106\u001b[39m)\n  ammonite.$sess.cmd0$Helper$ChecksumAccumulator.<init>(\u001b[32mcmd0.sc\u001b[39m:\u001b[32m106\u001b[39m)\n  ammonite.$sess.cmd0$Helper$ChecksumAccumulator.<init>(\u001b[32mcmd0.sc\u001b[39m:\u001b[32m106\u001b[39m)\n  ammonite.$sess.cmd0$Helper$ChecksumAccumulator.<init>(\u001b[32mcmd0.sc\u001b[39m:\u001b[32m106\u001b[39m)\n  ammonite.$sess.cmd0$Helper$ChecksumAccumulator.<init>(\u001b[32mcmd0.sc\u001b[39m:\u001b[32m106\u001b[39m)\n  ammonite.$sess.cmd0$Helper$ChecksumAccumulator.<init>(\u001b[32mcmd0.sc\u001b[39m:\u001b[32m106\u001b[39m)\n  ammonite.$sess.cmd0$Helper$ChecksumAccumulator.<init>(\u001b[32mcmd0.sc\u001b[39m:\u001b[32m106\u001b[39m)\n  ammonite.$sess.cmd0$Helper$ChecksumAccumulator.<init>(\u001b[32mcmd0.sc\u001b[39m:\u001b[32m106\u001b[39m)\n  ammonite.$sess.cmd0$Helper$ChecksumAccumulator.<init>(\u001b[32mcmd0.sc\u001b[39m:\u001b[32m106\u001b[39m)\n  ammonite.$sess.cmd0$Helper$ChecksumAccumulator.<init>(\u001b[32mcmd0.sc\u001b[39m:\u001b[32m106\u001b[39m)\n  ammonite.$sess.cmd0$Helper$ChecksumAccumulator.<init>(\u001b[32mcmd0.sc\u001b[39m:\u001b[32m106\u001b[39m)\n  ammonite.$sess.cmd0$Helper$ChecksumAccumulator.<init>(\u001b[32mcmd0.sc\u001b[39m:\u001b[32m106\u001b[39m)\n  ammonite.$sess.cmd0$Helper$ChecksumAccumulator.<init>(\u001b[32mcmd0.sc\u001b[39m:\u001b[32m106\u001b[39m)\n  ammonite.$sess.cmd0$Helper$ChecksumAccumulator.<init>(\u001b[32mcmd0.sc\u001b[39m:\u001b[32m106\u001b[39m)\n  ammonite.$sess.cmd0$Helper$ChecksumAccumulator.<init>(\u001b[32mcmd0.sc\u001b[39m:\u001b[32m106\u001b[39m)\n  ammonite.$sess.cmd0$Helper$ChecksumAccumulator.<init>(\u001b[32mcmd0.sc\u001b[39m:\u001b[32m106\u001b[39m)\n  ammonite.$sess.cmd0$Helper$ChecksumAccumulator.<init>(\u001b[32mcmd0.sc\u001b[39m:\u001b[32m106\u001b[39m)\n  ammonite.$sess.cmd0$Helper$ChecksumAccumulator.<init>(\u001b[32mcmd0.sc\u001b[39m:\u001b[32m106\u001b[39m)\n  ammonite.$sess.cmd0$Helper$ChecksumAccumulator.<init>(\u001b[32mcmd0.sc\u001b[39m:\u001b[32m106\u001b[39m)\n  ammonite.$sess.cmd0$Helper$ChecksumAccumulator.<init>(\u001b[32mcmd0.sc\u001b[39m:\u001b[32m106\u001b[39m)\n  ammonite.$sess.cmd0$Helper$ChecksumAccumulator.<init>(\u001b[32mcmd0.sc\u001b[39m:\u001b[32m106\u001b[39m)\n  ammonite.$sess.cmd0$Helper$ChecksumAccumulator.<init>(\u001b[32mcmd0.sc\u001b[39m:\u001b[32m106\u001b[39m)\n  ammonite.$sess.cmd0$Helper$ChecksumAccumulator.<init>(\u001b[32mcmd0.sc\u001b[39m:\u001b[32m106\u001b[39m)\n  ammonite.$sess.cmd0$Helper$ChecksumAccumulator.<init>(\u001b[32mcmd0.sc\u001b[39m:\u001b[32m106\u001b[39m)\n  ammonite.$sess.cmd0$Helper$ChecksumAccumulator.<init>(\u001b[32mcmd0.sc\u001b[39m:\u001b[32m106\u001b[39m)\n  ammonite.$sess.cmd0$Helper$ChecksumAccumulator.<init>(\u001b[32mcmd0.sc\u001b[39m:\u001b[32m106\u001b[39m)\n  ammonite.$sess.cmd0$Helper$ChecksumAccumulator.<init>(\u001b[32mcmd0.sc\u001b[39m:\u001b[32m106\u001b[39m)\n  ammonite.$sess.cmd0$Helper$ChecksumAccumulator.<init>(\u001b[32mcmd0.sc\u001b[39m:\u001b[32m106\u001b[39m)\n  ammonite.$sess.cmd0$Helper$ChecksumAccumulator.<init>(\u001b[32mcmd0.sc\u001b[39m:\u001b[32m106\u001b[39m)\n  ammonite.$sess.cmd0$Helper$ChecksumAccumulator.<init>(\u001b[32mcmd0.sc\u001b[39m:\u001b[32m106\u001b[39m)\n  ammonite.$sess.cmd0$Helper$ChecksumAccumulator.<init>(\u001b[32mcmd0.sc\u001b[39m:\u001b[32m106\u001b[39m)\n  ammonite.$sess.cmd0$Helper$ChecksumAccumulator.<init>(\u001b[32mcmd0.sc\u001b[39m:\u001b[32m106\u001b[39m)\n  ammonite.$sess.cmd0$Helper$ChecksumAccumulator.<init>(\u001b[32mcmd0.sc\u001b[39m:\u001b[32m106\u001b[39m)\n  ammonite.$sess.cmd0$Helper$ChecksumAccumulator.<init>(\u001b[32mcmd0.sc\u001b[39m:\u001b[32m106\u001b[39m)\n  ammonite.$sess.cmd0$Helper$ChecksumAccumulator.<init>(\u001b[32mcmd0.sc\u001b[39m:\u001b[32m106\u001b[39m)\n  ammonite.$sess.cmd0$Helper$ChecksumAccumulator.<init>(\u001b[32mcmd0.sc\u001b[39m:\u001b[32m106\u001b[39m)\n  ammonite.$sess.cmd0$Helper$ChecksumAccumulator.<init>(\u001b[32mcmd0.sc\u001b[39m:\u001b[32m106\u001b[39m)\n  ammonite.$sess.cmd0$Helper$ChecksumAccumulator.<init>(\u001b[32mcmd0.sc\u001b[39m:\u001b[32m106\u001b[39m)\n  ammonite.$sess.cmd0$Helper$ChecksumAccumulator.<init>(\u001b[32mcmd0.sc\u001b[39m:\u001b[32m106\u001b[39m)\n  ammonite.$sess.cmd0$Helper$ChecksumAccumulator.<init>(\u001b[32mcmd0.sc\u001b[39m:\u001b[32m106\u001b[39m)\n  ammonite.$sess.cmd0$Helper$ChecksumAccumulator.<init>(\u001b[32mcmd0.sc\u001b[39m:\u001b[32m106\u001b[39m)\n  ammonite.$sess.cmd0$Helper$ChecksumAccumulator.<init>(\u001b[32mcmd0.sc\u001b[39m:\u001b[32m106\u001b[39m)\n  ammonite.$sess.cmd0$Helper$ChecksumAccumulator.<init>(\u001b[32mcmd0.sc\u001b[39m:\u001b[32m106\u001b[39m)\n  ammonite.$sess.cmd0$Helper$ChecksumAccumulator.<init>(\u001b[32mcmd0.sc\u001b[39m:\u001b[32m106\u001b[39m)\n  ammonite.$sess.cmd0$Helper$ChecksumAccumulator.<init>(\u001b[32mcmd0.sc\u001b[39m:\u001b[32m106\u001b[39m)\n  ammonite.$sess.cmd0$Helper$ChecksumAccumulator.<init>(\u001b[32mcmd0.sc\u001b[39m:\u001b[32m106\u001b[39m)\n  ammonite.$sess.cmd0$Helper$ChecksumAccumulator.<init>(\u001b[32mcmd0.sc\u001b[39m:\u001b[32m106\u001b[39m)\n  ammonite.$sess.cmd0$Helper$ChecksumAccumulator.<init>(\u001b[32mcmd0.sc\u001b[39m:\u001b[32m106\u001b[39m)\n  ammonite.$sess.cmd0$Helper$ChecksumAccumulator.<init>(\u001b[32mcmd0.sc\u001b[39m:\u001b[32m106\u001b[39m)\n  ammonite.$sess.cmd0$Helper$ChecksumAccumulator.<init>(\u001b[32mcmd0.sc\u001b[39m:\u001b[32m106\u001b[39m)\n  ammonite.$sess.cmd0$Helper$ChecksumAccumulator.<init>(\u001b[32mcmd0.sc\u001b[39m:\u001b[32m106\u001b[39m)\n  ammonite.$sess.cmd0$Helper$ChecksumAccumulator.<init>(\u001b[32mcmd0.sc\u001b[39m:\u001b[32m106\u001b[39m)\n  ammonite.$sess.cmd0$Helper$ChecksumAccumulator.<init>(\u001b[32mcmd0.sc\u001b[39m:\u001b[32m106\u001b[39m)\n  ammonite.$sess.cmd0$Helper$ChecksumAccumulator.<init>(\u001b[32mcmd0.sc\u001b[39m:\u001b[32m106\u001b[39m)\n  ammonite.$sess.cmd0$Helper$ChecksumAccumulator.<init>(\u001b[32mcmd0.sc\u001b[39m:\u001b[32m106\u001b[39m)\n  ammonite.$sess.cmd0$Helper$ChecksumAccumulator.<init>(\u001b[32mcmd0.sc\u001b[39m:\u001b[32m106\u001b[39m)\n  ammonite.$sess.cmd0$Helper$ChecksumAccumulator.<init>(\u001b[32mcmd0.sc\u001b[39m:\u001b[32m106\u001b[39m)\n  ammonite.$sess.cmd0$Helper$ChecksumAccumulator.<init>(\u001b[32mcmd0.sc\u001b[39m:\u001b[32m106\u001b[39m)\n  ammonite.$sess.cmd0$Helper$ChecksumAccumulator.<init>(\u001b[32mcmd0.sc\u001b[39m:\u001b[32m106\u001b[39m)\n  ammonite.$sess.cmd0$Helper$ChecksumAccumulator.<init>(\u001b[32mcmd0.sc\u001b[39m:\u001b[32m106\u001b[39m)\n  ammonite.$sess.cmd0$Helper$ChecksumAccumulator.<init>(\u001b[32mcmd0.sc\u001b[39m:\u001b[32m106\u001b[39m)\n  ammonite.$sess.cmd0$Helper$ChecksumAccumulator.<init>(\u001b[32mcmd0.sc\u001b[39m:\u001b[32m106\u001b[39m)\n  ammonite.$sess.cmd0$Helper$ChecksumAccumulator.<init>(\u001b[32mcmd0.sc\u001b[39m:\u001b[32m106\u001b[39m)\n  ammonite.$sess.cmd0$Helper$ChecksumAccumulator.<init>(\u001b[32mcmd0.sc\u001b[39m:\u001b[32m106\u001b[39m)\n  ammonite.$sess.cmd0$Helper$ChecksumAccumulator.<init>(\u001b[32mcmd0.sc\u001b[39m:\u001b[32m106\u001b[39m)\n  ammonite.$sess.cmd0$Helper$ChecksumAccumulator.<init>(\u001b[32mcmd0.sc\u001b[39m:\u001b[32m106\u001b[39m)\n  ammonite.$sess.cmd0$Helper$ChecksumAccumulator.<init>(\u001b[32mcmd0.sc\u001b[39m:\u001b[32m106\u001b[39m)\n  ammonite.$sess.cmd0$Helper$ChecksumAccumulator.<init>(\u001b[32mcmd0.sc\u001b[39m:\u001b[32m106\u001b[39m)\n  ammonite.$sess.cmd0$Helper$ChecksumAccumulator.<init>(\u001b[32mcmd0.sc\u001b[39m:\u001b[32m106\u001b[39m)\n  ammonite.$sess.cmd0$Helper$ChecksumAccumulator.<init>(\u001b[32mcmd0.sc\u001b[39m:\u001b[32m106\u001b[39m)\n  ammonite.$sess.cmd0$Helper$ChecksumAccumulator.<init>(\u001b[32mcmd0.sc\u001b[39m:\u001b[32m106\u001b[39m)\n  ammonite.$sess.cmd0$Helper$ChecksumAccumulator.<init>(\u001b[32mcmd0.sc\u001b[39m:\u001b[32m106\u001b[39m)\n  ammonite.$sess.cmd0$Helper$ChecksumAccumulator.<init>(\u001b[32mcmd0.sc\u001b[39m:\u001b[32m106\u001b[39m)\n  ammonite.$sess.cmd0$Helper$ChecksumAccumulator.<init>(\u001b[32mcmd0.sc\u001b[39m:\u001b[32m106\u001b[39m)\n  ammonite.$sess.cmd0$Helper$ChecksumAccumulator.<init>(\u001b[32mcmd0.sc\u001b[39m:\u001b[32m106\u001b[39m)\n  ammonite.$sess.cmd0$Helper$ChecksumAccumulator.<init>(\u001b[32mcmd0.sc\u001b[39m:\u001b[32m106\u001b[39m)\n  ammonite.$sess.cmd0$Helper$ChecksumAccumulator.<init>(\u001b[32mcmd0.sc\u001b[39m:\u001b[32m106\u001b[39m)\n  ammonite.$sess.cmd0$Helper$ChecksumAccumulator.<init>(\u001b[32mcmd0.sc\u001b[39m:\u001b[32m106\u001b[39m)\n  ammonite.$sess.cmd0$Helper$ChecksumAccumulator.<init>(\u001b[32mcmd0.sc\u001b[39m:\u001b[32m106\u001b[39m)\n  ammonite.$sess.cmd0$Helper$ChecksumAccumulator.<init>(\u001b[32mcmd0.sc\u001b[39m:\u001b[32m106\u001b[39m)\n  ammonite.$sess.cmd0$Helper$ChecksumAccumulator.<init>(\u001b[32mcmd0.sc\u001b[39m:\u001b[32m106\u001b[39m)\n  ammonite.$sess.cmd0$Helper$ChecksumAccumulator.<init>(\u001b[32mcmd0.sc\u001b[39m:\u001b[32m106\u001b[39m)\n  ammonite.$sess.cmd0$Helper$ChecksumAccumulator.<init>(\u001b[32mcmd0.sc\u001b[39m:\u001b[32m106\u001b[39m)\n  ammonite.$sess.cmd0$Helper$ChecksumAccumulator.<init>(\u001b[32mcmd0.sc\u001b[39m:\u001b[32m106\u001b[39m)\n  ammonite.$sess.cmd0$Helper$ChecksumAccumulator.<init>(\u001b[32mcmd0.sc\u001b[39m:\u001b[32m106\u001b[39m)\n  ammonite.$sess.cmd0$Helper$ChecksumAccumulator.<init>(\u001b[32mcmd0.sc\u001b[39m:\u001b[32m106\u001b[39m)\n  ammonite.$sess.cmd0$Helper$ChecksumAccumulator.<init>(\u001b[32mcmd0.sc\u001b[39m:\u001b[32m106\u001b[39m)\n  ammonite.$sess.cmd0$Helper$ChecksumAccumulator.<init>(\u001b[32mcmd0.sc\u001b[39m:\u001b[32m106\u001b[39m)\n  ammonite.$sess.cmd0$Helper$ChecksumAccumulator.<init>(\u001b[32mcmd0.sc\u001b[39m:\u001b[32m106\u001b[39m)\n  ammonite.$sess.cmd0$Helper$ChecksumAccumulator.<init>(\u001b[32mcmd0.sc\u001b[39m:\u001b[32m106\u001b[39m)\n  ammonite.$sess.cmd0$Helper$ChecksumAccumulator.<init>(\u001b[32mcmd0.sc\u001b[39m:\u001b[32m106\u001b[39m)\n  ammonite.$sess.cmd0$Helper$ChecksumAccumulator.<init>(\u001b[32mcmd0.sc\u001b[39m:\u001b[32m106\u001b[39m)\n  ammonite.$sess.cmd0$Helper$ChecksumAccumulator.<init>(\u001b[32mcmd0.sc\u001b[39m:\u001b[32m106\u001b[39m)\n  ammonite.$sess.cmd0$Helper$ChecksumAccumulator.<init>(\u001b[32mcmd0.sc\u001b[39m:\u001b[32m106\u001b[39m)\n  ammonite.$sess.cmd0$Helper$ChecksumAccumulator.<init>(\u001b[32mcmd0.sc\u001b[39m:\u001b[32m106\u001b[39m)\n  ammonite.$sess.cmd0$Helper$ChecksumAccumulator.<init>(\u001b[32mcmd0.sc\u001b[39m:\u001b[32m106\u001b[39m)\n  ammonite.$sess.cmd0$Helper$ChecksumAccumulator.<init>(\u001b[32mcmd0.sc\u001b[39m:\u001b[32m106\u001b[39m)\n  ammonite.$sess.cmd0$Helper$ChecksumAccumulator.<init>(\u001b[32mcmd0.sc\u001b[39m:\u001b[32m106\u001b[39m)\n  ammonite.$sess.cmd0$Helper$ChecksumAccumulator.<init>(\u001b[32mcmd0.sc\u001b[39m:\u001b[32m106\u001b[39m)\n  ammonite.$sess.cmd0$Helper$ChecksumAccumulator.<init>(\u001b[32mcmd0.sc\u001b[39m:\u001b[32m106\u001b[39m)\n  ammonite.$sess.cmd0$Helper$ChecksumAccumulator.<init>(\u001b[32mcmd0.sc\u001b[39m:\u001b[32m106\u001b[39m)\n  ammonite.$sess.cmd0$Helper$ChecksumAccumulator.<init>(\u001b[32mcmd0.sc\u001b[39m:\u001b[32m106\u001b[39m)\n  ammonite.$sess.cmd0$Helper$ChecksumAccumulator.<init>(\u001b[32mcmd0.sc\u001b[39m:\u001b[32m106\u001b[39m)\n  ammonite.$sess.cmd0$Helper$ChecksumAccumulator.<init>(\u001b[32mcmd0.sc\u001b[39m:\u001b[32m106\u001b[39m)\n  ammonite.$sess.cmd0$Helper$ChecksumAccumulator.<init>(\u001b[32mcmd0.sc\u001b[39m:\u001b[32m106\u001b[39m)\n  ammonite.$sess.cmd0$Helper$ChecksumAccumulator.<init>(\u001b[32mcmd0.sc\u001b[39m:\u001b[32m106\u001b[39m)\n  ammonite.$sess.cmd0$Helper$ChecksumAccumulator.<init>(\u001b[32mcmd0.sc\u001b[39m:\u001b[32m106\u001b[39m)\n  ammonite.$sess.cmd0$Helper$ChecksumAccumulator.<init>(\u001b[32mcmd0.sc\u001b[39m:\u001b[32m106\u001b[39m)\n  ammonite.$sess.cmd0$Helper$ChecksumAccumulator.<init>(\u001b[32mcmd0.sc\u001b[39m:\u001b[32m106\u001b[39m)\n  ammonite.$sess.cmd0$Helper$ChecksumAccumulator.<init>(\u001b[32mcmd0.sc\u001b[39m:\u001b[32m106\u001b[39m)\n  ammonite.$sess.cmd0$Helper$ChecksumAccumulator.<init>(\u001b[32mcmd0.sc\u001b[39m:\u001b[32m106\u001b[39m)\n  ammonite.$sess.cmd0$Helper$ChecksumAccumulator.<init>(\u001b[32mcmd0.sc\u001b[39m:\u001b[32m106\u001b[39m)\n  ammonite.$sess.cmd0$Helper$ChecksumAccumulator.<init>(\u001b[32mcmd0.sc\u001b[39m:\u001b[32m106\u001b[39m)\n  ammonite.$sess.cmd0$Helper$ChecksumAccumulator.<init>(\u001b[32mcmd0.sc\u001b[39m:\u001b[32m106\u001b[39m)\n  ammonite.$sess.cmd0$Helper$ChecksumAccumulator.<init>(\u001b[32mcmd0.sc\u001b[39m:\u001b[32m106\u001b[39m)\n  ammonite.$sess.cmd0$Helper$ChecksumAccumulator.<init>(\u001b[32mcmd0.sc\u001b[39m:\u001b[32m106\u001b[39m)\n  ammonite.$sess.cmd0$Helper$ChecksumAccumulator.<init>(\u001b[32mcmd0.sc\u001b[39m:\u001b[32m106\u001b[39m)\n  ammonite.$sess.cmd0$Helper$ChecksumAccumulator.<init>(\u001b[32mcmd0.sc\u001b[39m:\u001b[32m106\u001b[39m)\n  ammonite.$sess.cmd0$Helper$ChecksumAccumulator.<init>(\u001b[32mcmd0.sc\u001b[39m:\u001b[32m106\u001b[39m)\n  ammonite.$sess.cmd0$Helper$ChecksumAccumulator.<init>(\u001b[32mcmd0.sc\u001b[39m:\u001b[32m106\u001b[39m)\n  ammonite.$sess.cmd0$Helper$ChecksumAccumulator.<init>(\u001b[32mcmd0.sc\u001b[39m:\u001b[32m106\u001b[39m)\n  ammonite.$sess.cmd0$Helper$ChecksumAccumulator.<init>(\u001b[32mcmd0.sc\u001b[39m:\u001b[32m106\u001b[39m)\n  ammonite.$sess.cmd0$Helper$ChecksumAccumulator.<init>(\u001b[32mcmd0.sc\u001b[39m:\u001b[32m106\u001b[39m)\n  ammonite.$sess.cmd0$Helper$ChecksumAccumulator.<init>(\u001b[32mcmd0.sc\u001b[39m:\u001b[32m106\u001b[39m)\n  ammonite.$sess.cmd0$Helper$ChecksumAccumulator.<init>(\u001b[32mcmd0.sc\u001b[39m:\u001b[32m106\u001b[39m)\n  ammonite.$sess.cmd0$Helper$ChecksumAccumulator.<init>(\u001b[32mcmd0.sc\u001b[39m:\u001b[32m106\u001b[39m)\n  ammonite.$sess.cmd0$Helper$ChecksumAccumulator.<init>(\u001b[32mcmd0.sc\u001b[39m:\u001b[32m106\u001b[39m)\n  ammonite.$sess.cmd0$Helper$ChecksumAccumulator.<init>(\u001b[32mcmd0.sc\u001b[39m:\u001b[32m106\u001b[39m)\n  ammonite.$sess.cmd0$Helper$ChecksumAccumulator.<init>(\u001b[32mcmd0.sc\u001b[39m:\u001b[32m106\u001b[39m)\n  ammonite.$sess.cmd0$Helper$ChecksumAccumulator.<init>(\u001b[32mcmd0.sc\u001b[39m:\u001b[32m106\u001b[39m)\n  ammonite.$sess.cmd0$Helper$ChecksumAccumulator.<init>(\u001b[32mcmd0.sc\u001b[39m:\u001b[32m106\u001b[39m)\n  ammonite.$sess.cmd0$Helper$ChecksumAccumulator.<init>(\u001b[32mcmd0.sc\u001b[39m:\u001b[32m106\u001b[39m)\n  ammonite.$sess.cmd0$Helper$ChecksumAccumulator.<init>(\u001b[32mcmd0.sc\u001b[39m:\u001b[32m106\u001b[39m)\n  ammonite.$sess.cmd0$Helper$ChecksumAccumulator.<init>(\u001b[32mcmd0.sc\u001b[39m:\u001b[32m106\u001b[39m)\n  ammonite.$sess.cmd0$Helper$ChecksumAccumulator.<init>(\u001b[32mcmd0.sc\u001b[39m:\u001b[32m106\u001b[39m)\n  ammonite.$sess.cmd0$Helper$ChecksumAccumulator.<init>(\u001b[32mcmd0.sc\u001b[39m:\u001b[32m106\u001b[39m)\n  ammonite.$sess.cmd0$Helper$ChecksumAccumulator.<init>(\u001b[32mcmd0.sc\u001b[39m:\u001b[32m106\u001b[39m)\n  ammonite.$sess.cmd0$Helper$ChecksumAccumulator.<init>(\u001b[32mcmd0.sc\u001b[39m:\u001b[32m106\u001b[39m)\n  ammonite.$sess.cmd0$Helper$ChecksumAccumulator.<init>(\u001b[32mcmd0.sc\u001b[39m:\u001b[32m106\u001b[39m)\n  ammonite.$sess.cmd0$Helper$ChecksumAccumulator.<init>(\u001b[32mcmd0.sc\u001b[39m:\u001b[32m106\u001b[39m)\n  ammonite.$sess.cmd0$Helper$ChecksumAccumulator.<init>(\u001b[32mcmd0.sc\u001b[39m:\u001b[32m106\u001b[39m)\n  ammonite.$sess.cmd0$Helper$ChecksumAccumulator.<init>(\u001b[32mcmd0.sc\u001b[39m:\u001b[32m106\u001b[39m)\n  ammonite.$sess.cmd0$Helper$ChecksumAccumulator.<init>(\u001b[32mcmd0.sc\u001b[39m:\u001b[32m106\u001b[39m)\n  ammonite.$sess.cmd0$Helper$ChecksumAccumulator.<init>(\u001b[32mcmd0.sc\u001b[39m:\u001b[32m106\u001b[39m)\n  ammonite.$sess.cmd0$Helper$ChecksumAccumulator.<init>(\u001b[32mcmd0.sc\u001b[39m:\u001b[32m106\u001b[39m)\n  ammonite.$sess.cmd0$Helper$ChecksumAccumulator.<init>(\u001b[32mcmd0.sc\u001b[39m:\u001b[32m106\u001b[39m)\n  ammonite.$sess.cmd0$Helper$ChecksumAccumulator.<init>(\u001b[32mcmd0.sc\u001b[39m:\u001b[32m106\u001b[39m)\n  ammonite.$sess.cmd0$Helper$ChecksumAccumulator.<init>(\u001b[32mcmd0.sc\u001b[39m:\u001b[32m106\u001b[39m)\n  ammonite.$sess.cmd0$Helper$ChecksumAccumulator.<init>(\u001b[32mcmd0.sc\u001b[39m:\u001b[32m106\u001b[39m)\n  ammonite.$sess.cmd0$Helper$ChecksumAccumulator.<init>(\u001b[32mcmd0.sc\u001b[39m:\u001b[32m106\u001b[39m)\n  ammonite.$sess.cmd0$Helper$ChecksumAccumulator.<init>(\u001b[32mcmd0.sc\u001b[39m:\u001b[32m106\u001b[39m)\n  ammonite.$sess.cmd0$Helper$ChecksumAccumulator.<init>(\u001b[32mcmd0.sc\u001b[39m:\u001b[32m106\u001b[39m)\n  ammonite.$sess.cmd0$Helper$ChecksumAccumulator.<init>(\u001b[32mcmd0.sc\u001b[39m:\u001b[32m106\u001b[39m)\n  ammonite.$sess.cmd0$Helper$ChecksumAccumulator.<init>(\u001b[32mcmd0.sc\u001b[39m:\u001b[32m106\u001b[39m)\n  ammonite.$sess.cmd0$Helper$ChecksumAccumulator.<init>(\u001b[32mcmd0.sc\u001b[39m:\u001b[32m106\u001b[39m)\n  ammonite.$sess.cmd0$Helper$ChecksumAccumulator.<init>(\u001b[32mcmd0.sc\u001b[39m:\u001b[32m106\u001b[39m)\n  ammonite.$sess.cmd0$Helper$ChecksumAccumulator.<init>(\u001b[32mcmd0.sc\u001b[39m:\u001b[32m106\u001b[39m)\n  ammonite.$sess.cmd0$Helper$ChecksumAccumulator.<init>(\u001b[32mcmd0.sc\u001b[39m:\u001b[32m106\u001b[39m)\n  ammonite.$sess.cmd0$Helper$ChecksumAccumulator.<init>(\u001b[32mcmd0.sc\u001b[39m:\u001b[32m106\u001b[39m)\n  ammonite.$sess.cmd0$Helper$ChecksumAccumulator.<init>(\u001b[32mcmd0.sc\u001b[39m:\u001b[32m106\u001b[39m)\n  ammonite.$sess.cmd0$Helper$ChecksumAccumulator.<init>(\u001b[32mcmd0.sc\u001b[39m:\u001b[32m106\u001b[39m)\n  ammonite.$sess.cmd0$Helper$ChecksumAccumulator.<init>(\u001b[32mcmd0.sc\u001b[39m:\u001b[32m106\u001b[39m)\n  ammonite.$sess.cmd0$Helper$ChecksumAccumulator.<init>(\u001b[32mcmd0.sc\u001b[39m:\u001b[32m106\u001b[39m)\n  ammonite.$sess.cmd0$Helper$ChecksumAccumulator.<init>(\u001b[32mcmd0.sc\u001b[39m:\u001b[32m106\u001b[39m)\n  ammonite.$sess.cmd0$Helper$ChecksumAccumulator.<init>(\u001b[32mcmd0.sc\u001b[39m:\u001b[32m106\u001b[39m)\n  ammonite.$sess.cmd0$Helper$ChecksumAccumulator.<init>(\u001b[32mcmd0.sc\u001b[39m:\u001b[32m106\u001b[39m)\n  ammonite.$sess.cmd0$Helper$ChecksumAccumulator.<init>(\u001b[32mcmd0.sc\u001b[39m:\u001b[32m106\u001b[39m)\n  ammonite.$sess.cmd0$Helper$ChecksumAccumulator.<init>(\u001b[32mcmd0.sc\u001b[39m:\u001b[32m106\u001b[39m)\n  ammonite.$sess.cmd0$Helper$ChecksumAccumulator.<init>(\u001b[32mcmd0.sc\u001b[39m:\u001b[32m106\u001b[39m)\n  ammonite.$sess.cmd0$Helper$ChecksumAccumulator.<init>(\u001b[32mcmd0.sc\u001b[39m:\u001b[32m106\u001b[39m)\n  ammonite.$sess.cmd0$Helper$ChecksumAccumulator.<init>(\u001b[32mcmd0.sc\u001b[39m:\u001b[32m106\u001b[39m)\n  ammonite.$sess.cmd0$Helper$ChecksumAccumulator.<init>(\u001b[32mcmd0.sc\u001b[39m:\u001b[32m106\u001b[39m)\n  ammonite.$sess.cmd0$Helper$ChecksumAccumulator.<init>(\u001b[32mcmd0.sc\u001b[39m:\u001b[32m106\u001b[39m)\n  ammonite.$sess.cmd0$Helper$ChecksumAccumulator.<init>(\u001b[32mcmd0.sc\u001b[39m:\u001b[32m106\u001b[39m)\n  ammonite.$sess.cmd0$Helper$ChecksumAccumulator.<init>(\u001b[32mcmd0.sc\u001b[39m:\u001b[32m106\u001b[39m)\n  ammonite.$sess.cmd0$Helper$ChecksumAccumulator.<init>(\u001b[32mcmd0.sc\u001b[39m:\u001b[32m106\u001b[39m)\n  ammonite.$sess.cmd0$Helper$ChecksumAccumulator.<init>(\u001b[32mcmd0.sc\u001b[39m:\u001b[32m106\u001b[39m)\n  ammonite.$sess.cmd0$Helper$ChecksumAccumulator.<init>(\u001b[32mcmd0.sc\u001b[39m:\u001b[32m106\u001b[39m)\n  ammonite.$sess.cmd0$Helper$ChecksumAccumulator.<init>(\u001b[32mcmd0.sc\u001b[39m:\u001b[32m106\u001b[39m)\n  ammonite.$sess.cmd0$Helper$ChecksumAccumulator.<init>(\u001b[32mcmd0.sc\u001b[39m:\u001b[32m106\u001b[39m)\n  ammonite.$sess.cmd0$Helper$ChecksumAccumulator.<init>(\u001b[32mcmd0.sc\u001b[39m:\u001b[32m106\u001b[39m)\n  ammonite.$sess.cmd0$Helper$ChecksumAccumulator.<init>(\u001b[32mcmd0.sc\u001b[39m:\u001b[32m106\u001b[39m)\n  ammonite.$sess.cmd0$Helper$ChecksumAccumulator.<init>(\u001b[32mcmd0.sc\u001b[39m:\u001b[32m106\u001b[39m)\n  ammonite.$sess.cmd0$Helper$ChecksumAccumulator.<init>(\u001b[32mcmd0.sc\u001b[39m:\u001b[32m106\u001b[39m)\n  ammonite.$sess.cmd0$Helper$ChecksumAccumulator.<init>(\u001b[32mcmd0.sc\u001b[39m:\u001b[32m106\u001b[39m)\n  ammonite.$sess.cmd0$Helper$ChecksumAccumulator.<init>(\u001b[32mcmd0.sc\u001b[39m:\u001b[32m106\u001b[39m)\n  ammonite.$sess.cmd0$Helper$ChecksumAccumulator.<init>(\u001b[32mcmd0.sc\u001b[39m:\u001b[32m106\u001b[39m)\n  ammonite.$sess.cmd0$Helper$ChecksumAccumulator.<init>(\u001b[32mcmd0.sc\u001b[39m:\u001b[32m106\u001b[39m)\n  ammonite.$sess.cmd0$Helper$ChecksumAccumulator.<init>(\u001b[32mcmd0.sc\u001b[39m:\u001b[32m106\u001b[39m)\n  ammonite.$sess.cmd0$Helper$ChecksumAccumulator.<init>(\u001b[32mcmd0.sc\u001b[39m:\u001b[32m106\u001b[39m)\n  ammonite.$sess.cmd0$Helper$ChecksumAccumulator.<init>(\u001b[32mcmd0.sc\u001b[39m:\u001b[32m106\u001b[39m)\n  ammonite.$sess.cmd0$Helper$ChecksumAccumulator.<init>(\u001b[32mcmd0.sc\u001b[39m:\u001b[32m106\u001b[39m)\n  ammonite.$sess.cmd0$Helper$ChecksumAccumulator.<init>(\u001b[32mcmd0.sc\u001b[39m:\u001b[32m106\u001b[39m)\n  ammonite.$sess.cmd0$Helper$ChecksumAccumulator.<init>(\u001b[32mcmd0.sc\u001b[39m:\u001b[32m106\u001b[39m)\n  ammonite.$sess.cmd0$Helper$ChecksumAccumulator.<init>(\u001b[32mcmd0.sc\u001b[39m:\u001b[32m106\u001b[39m)\n  ammonite.$sess.cmd0$Helper$ChecksumAccumulator.<init>(\u001b[32mcmd0.sc\u001b[39m:\u001b[32m106\u001b[39m)\n  ammonite.$sess.cmd0$Helper$ChecksumAccumulator.<init>(\u001b[32mcmd0.sc\u001b[39m:\u001b[32m106\u001b[39m)\n  ammonite.$sess.cmd0$Helper$ChecksumAccumulator.<init>(\u001b[32mcmd0.sc\u001b[39m:\u001b[32m106\u001b[39m)\n  ammonite.$sess.cmd0$Helper$ChecksumAccumulator.<init>(\u001b[32mcmd0.sc\u001b[39m:\u001b[32m106\u001b[39m)\n  ammonite.$sess.cmd0$Helper$ChecksumAccumulator.<init>(\u001b[32mcmd0.sc\u001b[39m:\u001b[32m106\u001b[39m)\n  ammonite.$sess.cmd0$Helper$ChecksumAccumulator.<init>(\u001b[32mcmd0.sc\u001b[39m:\u001b[32m106\u001b[39m)\n  ammonite.$sess.cmd0$Helper$ChecksumAccumulator.<init>(\u001b[32mcmd0.sc\u001b[39m:\u001b[32m106\u001b[39m)\n  ammonite.$sess.cmd0$Helper$ChecksumAccumulator.<init>(\u001b[32mcmd0.sc\u001b[39m:\u001b[32m106\u001b[39m)\n  ammonite.$sess.cmd0$Helper$ChecksumAccumulator.<init>(\u001b[32mcmd0.sc\u001b[39m:\u001b[32m106\u001b[39m)\n  ammonite.$sess.cmd0$Helper$ChecksumAccumulator.<init>(\u001b[32mcmd0.sc\u001b[39m:\u001b[32m106\u001b[39m)\n  ammonite.$sess.cmd0$Helper$ChecksumAccumulator.<init>(\u001b[32mcmd0.sc\u001b[39m:\u001b[32m106\u001b[39m)\n  ammonite.$sess.cmd0$Helper$ChecksumAccumulator.<init>(\u001b[32mcmd0.sc\u001b[39m:\u001b[32m106\u001b[39m)\n  ammonite.$sess.cmd0$Helper$ChecksumAccumulator.<init>(\u001b[32mcmd0.sc\u001b[39m:\u001b[32m106\u001b[39m)\n  ammonite.$sess.cmd0$Helper$ChecksumAccumulator.<init>(\u001b[32mcmd0.sc\u001b[39m:\u001b[32m106\u001b[39m)\n  ammonite.$sess.cmd0$Helper$ChecksumAccumulator.<init>(\u001b[32mcmd0.sc\u001b[39m:\u001b[32m106\u001b[39m)\n  ammonite.$sess.cmd0$Helper$ChecksumAccumulator.<init>(\u001b[32mcmd0.sc\u001b[39m:\u001b[32m106\u001b[39m)\n  ammonite.$sess.cmd0$Helper$ChecksumAccumulator.<init>(\u001b[32mcmd0.sc\u001b[39m:\u001b[32m106\u001b[39m)\n  ammonite.$sess.cmd0$Helper$ChecksumAccumulator.<init>(\u001b[32mcmd0.sc\u001b[39m:\u001b[32m106\u001b[39m)\n  ammonite.$sess.cmd0$Helper$ChecksumAccumulator.<init>(\u001b[32mcmd0.sc\u001b[39m:\u001b[32m106\u001b[39m)\n  ammonite.$sess.cmd0$Helper$ChecksumAccumulator.<init>(\u001b[32mcmd0.sc\u001b[39m:\u001b[32m106\u001b[39m)\n  ammonite.$sess.cmd0$Helper$ChecksumAccumulator.<init>(\u001b[32mcmd0.sc\u001b[39m:\u001b[32m106\u001b[39m)\n  ammonite.$sess.cmd0$Helper$ChecksumAccumulator.<init>(\u001b[32mcmd0.sc\u001b[39m:\u001b[32m106\u001b[39m)\n  ammonite.$sess.cmd0$Helper$ChecksumAccumulator.<init>(\u001b[32mcmd0.sc\u001b[39m:\u001b[32m106\u001b[39m)\n  ammonite.$sess.cmd0$Helper$ChecksumAccumulator.<init>(\u001b[32mcmd0.sc\u001b[39m:\u001b[32m106\u001b[39m)\n  ammonite.$sess.cmd0$Helper$ChecksumAccumulator.<init>(\u001b[32mcmd0.sc\u001b[39m:\u001b[32m106\u001b[39m)\n  ammonite.$sess.cmd0$Helper$ChecksumAccumulator.<init>(\u001b[32mcmd0.sc\u001b[39m:\u001b[32m106\u001b[39m)\n  ammonite.$sess.cmd0$Helper$ChecksumAccumulator.<init>(\u001b[32mcmd0.sc\u001b[39m:\u001b[32m106\u001b[39m)\n  ammonite.$sess.cmd0$Helper$ChecksumAccumulator.<init>(\u001b[32mcmd0.sc\u001b[39m:\u001b[32m106\u001b[39m)\n  ammonite.$sess.cmd0$Helper$ChecksumAccumulator.<init>(\u001b[32mcmd0.sc\u001b[39m:\u001b[32m106\u001b[39m)\n  ammonite.$sess.cmd0$Helper$ChecksumAccumulator.<init>(\u001b[32mcmd0.sc\u001b[39m:\u001b[32m106\u001b[39m)\n  ammonite.$sess.cmd0$Helper$ChecksumAccumulator.<init>(\u001b[32mcmd0.sc\u001b[39m:\u001b[32m106\u001b[39m)\n  ammonite.$sess.cmd0$Helper$ChecksumAccumulator.<init>(\u001b[32mcmd0.sc\u001b[39m:\u001b[32m106\u001b[39m)\n  ammonite.$sess.cmd0$Helper$ChecksumAccumulator.<init>(\u001b[32mcmd0.sc\u001b[39m:\u001b[32m106\u001b[39m)\n  ammonite.$sess.cmd0$Helper$ChecksumAccumulator.<init>(\u001b[32mcmd0.sc\u001b[39m:\u001b[32m106\u001b[39m)\n  ammonite.$sess.cmd0$Helper$ChecksumAccumulator.<init>(\u001b[32mcmd0.sc\u001b[39m:\u001b[32m106\u001b[39m)\n  ammonite.$sess.cmd0$Helper$ChecksumAccumulator.<init>(\u001b[32mcmd0.sc\u001b[39m:\u001b[32m106\u001b[39m)\n  ammonite.$sess.cmd0$Helper$ChecksumAccumulator.<init>(\u001b[32mcmd0.sc\u001b[39m:\u001b[32m106\u001b[39m)\n  ammonite.$sess.cmd0$Helper$ChecksumAccumulator.<init>(\u001b[32mcmd0.sc\u001b[39m:\u001b[32m106\u001b[39m)\n  ammonite.$sess.cmd0$Helper$ChecksumAccumulator.<init>(\u001b[32mcmd0.sc\u001b[39m:\u001b[32m106\u001b[39m)\n  ammonite.$sess.cmd0$Helper$ChecksumAccumulator.<init>(\u001b[32mcmd0.sc\u001b[39m:\u001b[32m106\u001b[39m)\n  ammonite.$sess.cmd0$Helper$ChecksumAccumulator.<init>(\u001b[32mcmd0.sc\u001b[39m:\u001b[32m106\u001b[39m)\n  ammonite.$sess.cmd0$Helper$ChecksumAccumulator.<init>(\u001b[32mcmd0.sc\u001b[39m:\u001b[32m106\u001b[39m)\n  ammonite.$sess.cmd0$Helper$ChecksumAccumulator.<init>(\u001b[32mcmd0.sc\u001b[39m:\u001b[32m106\u001b[39m)\n  ammonite.$sess.cmd0$Helper$ChecksumAccumulator.<init>(\u001b[32mcmd0.sc\u001b[39m:\u001b[32m106\u001b[39m)\n  ammonite.$sess.cmd0$Helper$ChecksumAccumulator.<init>(\u001b[32mcmd0.sc\u001b[39m:\u001b[32m106\u001b[39m)\n  ammonite.$sess.cmd0$Helper$ChecksumAccumulator.<init>(\u001b[32mcmd0.sc\u001b[39m:\u001b[32m106\u001b[39m)\n  ammonite.$sess.cmd0$Helper$ChecksumAccumulator.<init>(\u001b[32mcmd0.sc\u001b[39m:\u001b[32m106\u001b[39m)\n  ammonite.$sess.cmd0$Helper$ChecksumAccumulator.<init>(\u001b[32mcmd0.sc\u001b[39m:\u001b[32m106\u001b[39m)\n  ammonite.$sess.cmd0$Helper$ChecksumAccumulator.<init>(\u001b[32mcmd0.sc\u001b[39m:\u001b[32m106\u001b[39m)\n  ammonite.$sess.cmd0$Helper$ChecksumAccumulator.<init>(\u001b[32mcmd0.sc\u001b[39m:\u001b[32m106\u001b[39m)\n  ammonite.$sess.cmd0$Helper$ChecksumAccumulator.<init>(\u001b[32mcmd0.sc\u001b[39m:\u001b[32m106\u001b[39m)\n  ammonite.$sess.cmd0$Helper$ChecksumAccumulator.<init>(\u001b[32mcmd0.sc\u001b[39m:\u001b[32m106\u001b[39m)\n  ammonite.$sess.cmd0$Helper$ChecksumAccumulator.<init>(\u001b[32mcmd0.sc\u001b[39m:\u001b[32m106\u001b[39m)\n  ammonite.$sess.cmd0$Helper$ChecksumAccumulator.<init>(\u001b[32mcmd0.sc\u001b[39m:\u001b[32m106\u001b[39m)\n  ammonite.$sess.cmd0$Helper$ChecksumAccumulator.<init>(\u001b[32mcmd0.sc\u001b[39m:\u001b[32m106\u001b[39m)\n  ammonite.$sess.cmd0$Helper$ChecksumAccumulator.<init>(\u001b[32mcmd0.sc\u001b[39m:\u001b[32m106\u001b[39m)\n  ammonite.$sess.cmd0$Helper$ChecksumAccumulator.<init>(\u001b[32mcmd0.sc\u001b[39m:\u001b[32m106\u001b[39m)\n  ammonite.$sess.cmd0$Helper$ChecksumAccumulator.<init>(\u001b[32mcmd0.sc\u001b[39m:\u001b[32m106\u001b[39m)\n  ammonite.$sess.cmd0$Helper$ChecksumAccumulator.<init>(\u001b[32mcmd0.sc\u001b[39m:\u001b[32m106\u001b[39m)\n  ammonite.$sess.cmd0$Helper$ChecksumAccumulator.<init>(\u001b[32mcmd0.sc\u001b[39m:\u001b[32m106\u001b[39m)\n  ammonite.$sess.cmd0$Helper$ChecksumAccumulator.<init>(\u001b[32mcmd0.sc\u001b[39m:\u001b[32m106\u001b[39m)\n  ammonite.$sess.cmd0$Helper$ChecksumAccumulator.<init>(\u001b[32mcmd0.sc\u001b[39m:\u001b[32m106\u001b[39m)\n  ammonite.$sess.cmd0$Helper$ChecksumAccumulator.<init>(\u001b[32mcmd0.sc\u001b[39m:\u001b[32m106\u001b[39m)\n  ammonite.$sess.cmd0$Helper$ChecksumAccumulator.<init>(\u001b[32mcmd0.sc\u001b[39m:\u001b[32m106\u001b[39m)\n  ammonite.$sess.cmd0$Helper$ChecksumAccumulator.<init>(\u001b[32mcmd0.sc\u001b[39m:\u001b[32m106\u001b[39m)\n  ammonite.$sess.cmd0$Helper$ChecksumAccumulator.<init>(\u001b[32mcmd0.sc\u001b[39m:\u001b[32m106\u001b[39m)\n  ammonite.$sess.cmd0$Helper$ChecksumAccumulator.<init>(\u001b[32mcmd0.sc\u001b[39m:\u001b[32m106\u001b[39m)\n  ammonite.$sess.cmd0$Helper$ChecksumAccumulator.<init>(\u001b[32mcmd0.sc\u001b[39m:\u001b[32m106\u001b[39m)\n  ammonite.$sess.cmd0$Helper$ChecksumAccumulator.<init>(\u001b[32mcmd0.sc\u001b[39m:\u001b[32m106\u001b[39m)\n  ammonite.$sess.cmd0$Helper$ChecksumAccumulator.<init>(\u001b[32mcmd0.sc\u001b[39m:\u001b[32m106\u001b[39m)\n  ammonite.$sess.cmd0$Helper$ChecksumAccumulator.<init>(\u001b[32mcmd0.sc\u001b[39m:\u001b[32m106\u001b[39m)\n  ammonite.$sess.cmd0$Helper$ChecksumAccumulator.<init>(\u001b[32mcmd0.sc\u001b[39m:\u001b[32m106\u001b[39m)\n  ammonite.$sess.cmd0$Helper$ChecksumAccumulator.<init>(\u001b[32mcmd0.sc\u001b[39m:\u001b[32m106\u001b[39m)\n  ammonite.$sess.cmd0$Helper$ChecksumAccumulator.<init>(\u001b[32mcmd0.sc\u001b[39m:\u001b[32m106\u001b[39m)\n  ammonite.$sess.cmd0$Helper$ChecksumAccumulator.<init>(\u001b[32mcmd0.sc\u001b[39m:\u001b[32m106\u001b[39m)\n  ammonite.$sess.cmd0$Helper$ChecksumAccumulator.<init>(\u001b[32mcmd0.sc\u001b[39m:\u001b[32m106\u001b[39m)\n  ammonite.$sess.cmd0$Helper$ChecksumAccumulator.<init>(\u001b[32mcmd0.sc\u001b[39m:\u001b[32m106\u001b[39m)\n  ammonite.$sess.cmd0$Helper$ChecksumAccumulator.<init>(\u001b[32mcmd0.sc\u001b[39m:\u001b[32m106\u001b[39m)\n  ammonite.$sess.cmd0$Helper$ChecksumAccumulator.<init>(\u001b[32mcmd0.sc\u001b[39m:\u001b[32m106\u001b[39m)\n  ammonite.$sess.cmd0$Helper$ChecksumAccumulator.<init>(\u001b[32mcmd0.sc\u001b[39m:\u001b[32m106\u001b[39m)\n  ammonite.$sess.cmd0$Helper$ChecksumAccumulator.<init>(\u001b[32mcmd0.sc\u001b[39m:\u001b[32m106\u001b[39m)\n  ammonite.$sess.cmd0$Helper$ChecksumAccumulator.<init>(\u001b[32mcmd0.sc\u001b[39m:\u001b[32m106\u001b[39m)\n  ammonite.$sess.cmd0$Helper$ChecksumAccumulator.<init>(\u001b[32mcmd0.sc\u001b[39m:\u001b[32m106\u001b[39m)\n  ammonite.$sess.cmd0$Helper$ChecksumAccumulator.<init>(\u001b[32mcmd0.sc\u001b[39m:\u001b[32m106\u001b[39m)\n  ammonite.$sess.cmd0$Helper$ChecksumAccumulator.<init>(\u001b[32mcmd0.sc\u001b[39m:\u001b[32m106\u001b[39m)\n  ammonite.$sess.cmd0$Helper$ChecksumAccumulator.<init>(\u001b[32mcmd0.sc\u001b[39m:\u001b[32m106\u001b[39m)\n  ammonite.$sess.cmd0$Helper$ChecksumAccumulator.<init>(\u001b[32mcmd0.sc\u001b[39m:\u001b[32m106\u001b[39m)\n  ammonite.$sess.cmd0$Helper$ChecksumAccumulator.<init>(\u001b[32mcmd0.sc\u001b[39m:\u001b[32m106\u001b[39m)\n  ammonite.$sess.cmd0$Helper$ChecksumAccumulator.<init>(\u001b[32mcmd0.sc\u001b[39m:\u001b[32m106\u001b[39m)\n  ammonite.$sess.cmd0$Helper$ChecksumAccumulator.<init>(\u001b[32mcmd0.sc\u001b[39m:\u001b[32m106\u001b[39m)\n  ammonite.$sess.cmd0$Helper$ChecksumAccumulator.<init>(\u001b[32mcmd0.sc\u001b[39m:\u001b[32m106\u001b[39m)\n  ammonite.$sess.cmd0$Helper$ChecksumAccumulator.<init>(\u001b[32mcmd0.sc\u001b[39m:\u001b[32m106\u001b[39m)\n  ammonite.$sess.cmd0$Helper$ChecksumAccumulator.<init>(\u001b[32mcmd0.sc\u001b[39m:\u001b[32m106\u001b[39m)\n  ammonite.$sess.cmd0$Helper$ChecksumAccumulator.<init>(\u001b[32mcmd0.sc\u001b[39m:\u001b[32m106\u001b[39m)\n  ammonite.$sess.cmd0$Helper$ChecksumAccumulator.<init>(\u001b[32mcmd0.sc\u001b[39m:\u001b[32m106\u001b[39m)\n  ammonite.$sess.cmd0$Helper$ChecksumAccumulator.<init>(\u001b[32mcmd0.sc\u001b[39m:\u001b[32m106\u001b[39m)\n  ammonite.$sess.cmd0$Helper$ChecksumAccumulator.<init>(\u001b[32mcmd0.sc\u001b[39m:\u001b[32m106\u001b[39m)\n  ammonite.$sess.cmd0$Helper$ChecksumAccumulator.<init>(\u001b[32mcmd0.sc\u001b[39m:\u001b[32m106\u001b[39m)\n  ammonite.$sess.cmd0$Helper$ChecksumAccumulator.<init>(\u001b[32mcmd0.sc\u001b[39m:\u001b[32m106\u001b[39m)\n  ammonite.$sess.cmd0$Helper$ChecksumAccumulator.<init>(\u001b[32mcmd0.sc\u001b[39m:\u001b[32m106\u001b[39m)\n  ammonite.$sess.cmd0$Helper$ChecksumAccumulator.<init>(\u001b[32mcmd0.sc\u001b[39m:\u001b[32m106\u001b[39m)\n  ammonite.$sess.cmd0$Helper$ChecksumAccumulator.<init>(\u001b[32mcmd0.sc\u001b[39m:\u001b[32m106\u001b[39m)\n  ammonite.$sess.cmd0$Helper$ChecksumAccumulator.<init>(\u001b[32mcmd0.sc\u001b[39m:\u001b[32m106\u001b[39m)\n  ammonite.$sess.cmd0$Helper$ChecksumAccumulator.<init>(\u001b[32mcmd0.sc\u001b[39m:\u001b[32m106\u001b[39m)\n  ammonite.$sess.cmd0$Helper$ChecksumAccumulator.<init>(\u001b[32mcmd0.sc\u001b[39m:\u001b[32m106\u001b[39m)\n  ammonite.$sess.cmd0$Helper$ChecksumAccumulator.<init>(\u001b[32mcmd0.sc\u001b[39m:\u001b[32m106\u001b[39m)\n  ammonite.$sess.cmd0$Helper$ChecksumAccumulator.<init>(\u001b[32mcmd0.sc\u001b[39m:\u001b[32m106\u001b[39m)\n  ammonite.$sess.cmd0$Helper$ChecksumAccumulator.<init>(\u001b[32mcmd0.sc\u001b[39m:\u001b[32m106\u001b[39m)\n  ammonite.$sess.cmd0$Helper$ChecksumAccumulator.<init>(\u001b[32mcmd0.sc\u001b[39m:\u001b[32m106\u001b[39m)\n  ammonite.$sess.cmd0$Helper$ChecksumAccumulator.<init>(\u001b[32mcmd0.sc\u001b[39m:\u001b[32m106\u001b[39m)\n  ammonite.$sess.cmd0$Helper$ChecksumAccumulator.<init>(\u001b[32mcmd0.sc\u001b[39m:\u001b[32m106\u001b[39m)\n  ammonite.$sess.cmd0$Helper$ChecksumAccumulator.<init>(\u001b[32mcmd0.sc\u001b[39m:\u001b[32m106\u001b[39m)\n  ammonite.$sess.cmd0$Helper$ChecksumAccumulator.<init>(\u001b[32mcmd0.sc\u001b[39m:\u001b[32m106\u001b[39m)\n  ammonite.$sess.cmd0$Helper$ChecksumAccumulator.<init>(\u001b[32mcmd0.sc\u001b[39m:\u001b[32m106\u001b[39m)\n  ammonite.$sess.cmd0$Helper$ChecksumAccumulator.<init>(\u001b[32mcmd0.sc\u001b[39m:\u001b[32m106\u001b[39m)\n  ammonite.$sess.cmd0$Helper$ChecksumAccumulator.<init>(\u001b[32mcmd0.sc\u001b[39m:\u001b[32m106\u001b[39m)\n  ammonite.$sess.cmd0$Helper$ChecksumAccumulator.<init>(\u001b[32mcmd0.sc\u001b[39m:\u001b[32m106\u001b[39m)\n  ammonite.$sess.cmd0$Helper$ChecksumAccumulator.<init>(\u001b[32mcmd0.sc\u001b[39m:\u001b[32m106\u001b[39m)\n  ammonite.$sess.cmd0$Helper$ChecksumAccumulator.<init>(\u001b[32mcmd0.sc\u001b[39m:\u001b[32m106\u001b[39m)\n  ammonite.$sess.cmd0$Helper$ChecksumAccumulator.<init>(\u001b[32mcmd0.sc\u001b[39m:\u001b[32m106\u001b[39m)\n  ammonite.$sess.cmd0$Helper$ChecksumAccumulator.<init>(\u001b[32mcmd0.sc\u001b[39m:\u001b[32m106\u001b[39m)\n  ammonite.$sess.cmd0$Helper$ChecksumAccumulator.<init>(\u001b[32mcmd0.sc\u001b[39m:\u001b[32m106\u001b[39m)\n  ammonite.$sess.cmd0$Helper$ChecksumAccumulator.<init>(\u001b[32mcmd0.sc\u001b[39m:\u001b[32m106\u001b[39m)\n  ammonite.$sess.cmd0$Helper$ChecksumAccumulator.<init>(\u001b[32mcmd0.sc\u001b[39m:\u001b[32m106\u001b[39m)\n  ammonite.$sess.cmd0$Helper$ChecksumAccumulator.<init>(\u001b[32mcmd0.sc\u001b[39m:\u001b[32m106\u001b[39m)\n  ammonite.$sess.cmd0$Helper$ChecksumAccumulator.<init>(\u001b[32mcmd0.sc\u001b[39m:\u001b[32m106\u001b[39m)\n  ammonite.$sess.cmd0$Helper$ChecksumAccumulator.<init>(\u001b[32mcmd0.sc\u001b[39m:\u001b[32m106\u001b[39m)\n  ammonite.$sess.cmd0$Helper$ChecksumAccumulator.<init>(\u001b[32mcmd0.sc\u001b[39m:\u001b[32m106\u001b[39m)\n  ammonite.$sess.cmd0$Helper$ChecksumAccumulator.<init>(\u001b[32mcmd0.sc\u001b[39m:\u001b[32m106\u001b[39m)\n  ammonite.$sess.cmd0$Helper$ChecksumAccumulator.<init>(\u001b[32mcmd0.sc\u001b[39m:\u001b[32m106\u001b[39m)\n  ammonite.$sess.cmd0$Helper$ChecksumAccumulator.<init>(\u001b[32mcmd0.sc\u001b[39m:\u001b[32m106\u001b[39m)\n  ammonite.$sess.cmd0$Helper$ChecksumAccumulator.<init>(\u001b[32mcmd0.sc\u001b[39m:\u001b[32m106\u001b[39m)\n  ammonite.$sess.cmd0$Helper$ChecksumAccumulator.<init>(\u001b[32mcmd0.sc\u001b[39m:\u001b[32m106\u001b[39m)\n  ammonite.$sess.cmd0$Helper$ChecksumAccumulator.<init>(\u001b[32mcmd0.sc\u001b[39m:\u001b[32m106\u001b[39m)\n  ammonite.$sess.cmd0$Helper$ChecksumAccumulator.<init>(\u001b[32mcmd0.sc\u001b[39m:\u001b[32m106\u001b[39m)\n  ammonite.$sess.cmd0$Helper$ChecksumAccumulator.<init>(\u001b[32mcmd0.sc\u001b[39m:\u001b[32m106\u001b[39m)\n  ammonite.$sess.cmd0$Helper$ChecksumAccumulator.<init>(\u001b[32mcmd0.sc\u001b[39m:\u001b[32m106\u001b[39m)\n  ammonite.$sess.cmd0$Helper$ChecksumAccumulator.<init>(\u001b[32mcmd0.sc\u001b[39m:\u001b[32m106\u001b[39m)\n  ammonite.$sess.cmd0$Helper$ChecksumAccumulator.<init>(\u001b[32mcmd0.sc\u001b[39m:\u001b[32m106\u001b[39m)\n  ammonite.$sess.cmd0$Helper$ChecksumAccumulator.<init>(\u001b[32mcmd0.sc\u001b[39m:\u001b[32m106\u001b[39m)\n  ammonite.$sess.cmd0$Helper$ChecksumAccumulator.<init>(\u001b[32mcmd0.sc\u001b[39m:\u001b[32m106\u001b[39m)\n  ammonite.$sess.cmd0$Helper$ChecksumAccumulator.<init>(\u001b[32mcmd0.sc\u001b[39m:\u001b[32m106\u001b[39m)\n  ammonite.$sess.cmd0$Helper$ChecksumAccumulator.<init>(\u001b[32mcmd0.sc\u001b[39m:\u001b[32m106\u001b[39m)\n  ammonite.$sess.cmd0$Helper$ChecksumAccumulator.<init>(\u001b[32mcmd0.sc\u001b[39m:\u001b[32m106\u001b[39m)\n  ammonite.$sess.cmd0$Helper$ChecksumAccumulator.<init>(\u001b[32mcmd0.sc\u001b[39m:\u001b[32m106\u001b[39m)\n  ammonite.$sess.cmd0$Helper$ChecksumAccumulator.<init>(\u001b[32mcmd0.sc\u001b[39m:\u001b[32m106\u001b[39m)\n  ammonite.$sess.cmd0$Helper$ChecksumAccumulator.<init>(\u001b[32mcmd0.sc\u001b[39m:\u001b[32m106\u001b[39m)\n  ammonite.$sess.cmd0$Helper$ChecksumAccumulator.<init>(\u001b[32mcmd0.sc\u001b[39m:\u001b[32m106\u001b[39m)\n  ammonite.$sess.cmd0$Helper$ChecksumAccumulator.<init>(\u001b[32mcmd0.sc\u001b[39m:\u001b[32m106\u001b[39m)\n  ammonite.$sess.cmd0$Helper$ChecksumAccumulator.<init>(\u001b[32mcmd0.sc\u001b[39m:\u001b[32m106\u001b[39m)\n  ammonite.$sess.cmd0$Helper$ChecksumAccumulator.<init>(\u001b[32mcmd0.sc\u001b[39m:\u001b[32m106\u001b[39m)\n  ammonite.$sess.cmd0$Helper$ChecksumAccumulator.<init>(\u001b[32mcmd0.sc\u001b[39m:\u001b[32m106\u001b[39m)\n  ammonite.$sess.cmd0$Helper$ChecksumAccumulator.<init>(\u001b[32mcmd0.sc\u001b[39m:\u001b[32m106\u001b[39m)\n  ammonite.$sess.cmd0$Helper$ChecksumAccumulator.<init>(\u001b[32mcmd0.sc\u001b[39m:\u001b[32m106\u001b[39m)\n  ammonite.$sess.cmd0$Helper$ChecksumAccumulator.<init>(\u001b[32mcmd0.sc\u001b[39m:\u001b[32m106\u001b[39m)\n  ammonite.$sess.cmd0$Helper$ChecksumAccumulator.<init>(\u001b[32mcmd0.sc\u001b[39m:\u001b[32m106\u001b[39m)\n  ammonite.$sess.cmd0$Helper$ChecksumAccumulator.<init>(\u001b[32mcmd0.sc\u001b[39m:\u001b[32m106\u001b[39m)\n  ammonite.$sess.cmd0$Helper$ChecksumAccumulator.<init>(\u001b[32mcmd0.sc\u001b[39m:\u001b[32m106\u001b[39m)\n  ammonite.$sess.cmd0$Helper$ChecksumAccumulator.<init>(\u001b[32mcmd0.sc\u001b[39m:\u001b[32m106\u001b[39m)\n  ammonite.$sess.cmd0$Helper$ChecksumAccumulator.<init>(\u001b[32mcmd0.sc\u001b[39m:\u001b[32m106\u001b[39m)\n  ammonite.$sess.cmd0$Helper$ChecksumAccumulator.<init>(\u001b[32mcmd0.sc\u001b[39m:\u001b[32m106\u001b[39m)\n  ammonite.$sess.cmd0$Helper$ChecksumAccumulator.<init>(\u001b[32mcmd0.sc\u001b[39m:\u001b[32m106\u001b[39m)\n  ammonite.$sess.cmd0$Helper$ChecksumAccumulator.<init>(\u001b[32mcmd0.sc\u001b[39m:\u001b[32m106\u001b[39m)\n  ammonite.$sess.cmd0$Helper$ChecksumAccumulator.<init>(\u001b[32mcmd0.sc\u001b[39m:\u001b[32m106\u001b[39m)\n  ammonite.$sess.cmd0$Helper$ChecksumAccumulator.<init>(\u001b[32mcmd0.sc\u001b[39m:\u001b[32m106\u001b[39m)\n  ammonite.$sess.cmd0$Helper$ChecksumAccumulator.<init>(\u001b[32mcmd0.sc\u001b[39m:\u001b[32m106\u001b[39m)\n  ammonite.$sess.cmd0$Helper$ChecksumAccumulator.<init>(\u001b[32mcmd0.sc\u001b[39m:\u001b[32m106\u001b[39m)\n  ammonite.$sess.cmd0$Helper$ChecksumAccumulator.<init>(\u001b[32mcmd0.sc\u001b[39m:\u001b[32m106\u001b[39m)\n  ammonite.$sess.cmd0$Helper$ChecksumAccumulator.<init>(\u001b[32mcmd0.sc\u001b[39m:\u001b[32m106\u001b[39m)\n  ammonite.$sess.cmd0$Helper$ChecksumAccumulator.<init>(\u001b[32mcmd0.sc\u001b[39m:\u001b[32m106\u001b[39m)\n  ammonite.$sess.cmd0$Helper$ChecksumAccumulator.<init>(\u001b[32mcmd0.sc\u001b[39m:\u001b[32m106\u001b[39m)\n  ammonite.$sess.cmd0$Helper$ChecksumAccumulator.<init>(\u001b[32mcmd0.sc\u001b[39m:\u001b[32m106\u001b[39m)\n  ammonite.$sess.cmd0$Helper$ChecksumAccumulator.<init>(\u001b[32mcmd0.sc\u001b[39m:\u001b[32m106\u001b[39m)\n  ammonite.$sess.cmd0$Helper$ChecksumAccumulator.<init>(\u001b[32mcmd0.sc\u001b[39m:\u001b[32m106\u001b[39m)\n  ammonite.$sess.cmd0$Helper$ChecksumAccumulator.<init>(\u001b[32mcmd0.sc\u001b[39m:\u001b[32m106\u001b[39m)\n  ammonite.$sess.cmd0$Helper$ChecksumAccumulator.<init>(\u001b[32mcmd0.sc\u001b[39m:\u001b[32m106\u001b[39m)\n  ammonite.$sess.cmd0$Helper$ChecksumAccumulator.<init>(\u001b[32mcmd0.sc\u001b[39m:\u001b[32m106\u001b[39m)\n  ammonite.$sess.cmd0$Helper$ChecksumAccumulator.<init>(\u001b[32mcmd0.sc\u001b[39m:\u001b[32m106\u001b[39m)\n  ammonite.$sess.cmd0$Helper$ChecksumAccumulator.<init>(\u001b[32mcmd0.sc\u001b[39m:\u001b[32m106\u001b[39m)\n  ammonite.$sess.cmd0$Helper$ChecksumAccumulator.<init>(\u001b[32mcmd0.sc\u001b[39m:\u001b[32m106\u001b[39m)\n  ammonite.$sess.cmd0$Helper$ChecksumAccumulator.<init>(\u001b[32mcmd0.sc\u001b[39m:\u001b[32m106\u001b[39m)\n  ammonite.$sess.cmd0$Helper$ChecksumAccumulator.<init>(\u001b[32mcmd0.sc\u001b[39m:\u001b[32m106\u001b[39m)\n  ammonite.$sess.cmd0$Helper$ChecksumAccumulator.<init>(\u001b[32mcmd0.sc\u001b[39m:\u001b[32m106\u001b[39m)\n  ammonite.$sess.cmd0$Helper$ChecksumAccumulator.<init>(\u001b[32mcmd0.sc\u001b[39m:\u001b[32m106\u001b[39m)\n  ammonite.$sess.cmd0$Helper$ChecksumAccumulator.<init>(\u001b[32mcmd0.sc\u001b[39m:\u001b[32m106\u001b[39m)\n  ammonite.$sess.cmd0$Helper$ChecksumAccumulator.<init>(\u001b[32mcmd0.sc\u001b[39m:\u001b[32m106\u001b[39m)\n  ammonite.$sess.cmd0$Helper$ChecksumAccumulator.<init>(\u001b[32mcmd0.sc\u001b[39m:\u001b[32m106\u001b[39m)\n  ammonite.$sess.cmd0$Helper$ChecksumAccumulator.<init>(\u001b[32mcmd0.sc\u001b[39m:\u001b[32m106\u001b[39m)\n  ammonite.$sess.cmd0$Helper$ChecksumAccumulator.<init>(\u001b[32mcmd0.sc\u001b[39m:\u001b[32m106\u001b[39m)\n  ammonite.$sess.cmd0$Helper$ChecksumAccumulator.<init>(\u001b[32mcmd0.sc\u001b[39m:\u001b[32m106\u001b[39m)\n  ammonite.$sess.cmd0$Helper$ChecksumAccumulator.<init>(\u001b[32mcmd0.sc\u001b[39m:\u001b[32m106\u001b[39m)\n  ammonite.$sess.cmd0$Helper$ChecksumAccumulator.<init>(\u001b[32mcmd0.sc\u001b[39m:\u001b[32m106\u001b[39m)\n  ammonite.$sess.cmd0$Helper$ChecksumAccumulator.<init>(\u001b[32mcmd0.sc\u001b[39m:\u001b[32m106\u001b[39m)\n  ammonite.$sess.cmd0$Helper$ChecksumAccumulator.<init>(\u001b[32mcmd0.sc\u001b[39m:\u001b[32m106\u001b[39m)\n  ammonite.$sess.cmd0$Helper$ChecksumAccumulator.<init>(\u001b[32mcmd0.sc\u001b[39m:\u001b[32m106\u001b[39m)\n  ammonite.$sess.cmd0$Helper$ChecksumAccumulator.<init>(\u001b[32mcmd0.sc\u001b[39m:\u001b[32m106\u001b[39m)\n  ammonite.$sess.cmd0$Helper$ChecksumAccumulator.<init>(\u001b[32mcmd0.sc\u001b[39m:\u001b[32m106\u001b[39m)\n  ammonite.$sess.cmd0$Helper$ChecksumAccumulator.<init>(\u001b[32mcmd0.sc\u001b[39m:\u001b[32m106\u001b[39m)\n  ammonite.$sess.cmd0$Helper$ChecksumAccumulator.<init>(\u001b[32mcmd0.sc\u001b[39m:\u001b[32m106\u001b[39m)\n  ammonite.$sess.cmd0$Helper$ChecksumAccumulator.<init>(\u001b[32mcmd0.sc\u001b[39m:\u001b[32m106\u001b[39m)\n  ammonite.$sess.cmd0$Helper$ChecksumAccumulator.<init>(\u001b[32mcmd0.sc\u001b[39m:\u001b[32m106\u001b[39m)\n  ammonite.$sess.cmd0$Helper$ChecksumAccumulator.<init>(\u001b[32mcmd0.sc\u001b[39m:\u001b[32m106\u001b[39m)\n  ammonite.$sess.cmd0$Helper$ChecksumAccumulator.<init>(\u001b[32mcmd0.sc\u001b[39m:\u001b[32m106\u001b[39m)\n  ammonite.$sess.cmd0$Helper$ChecksumAccumulator.<init>(\u001b[32mcmd0.sc\u001b[39m:\u001b[32m106\u001b[39m)\n  ammonite.$sess.cmd0$Helper$ChecksumAccumulator.<init>(\u001b[32mcmd0.sc\u001b[39m:\u001b[32m106\u001b[39m)\n  ammonite.$sess.cmd0$Helper$ChecksumAccumulator.<init>(\u001b[32mcmd0.sc\u001b[39m:\u001b[32m106\u001b[39m)\n  ammonite.$sess.cmd0$Helper$ChecksumAccumulator.<init>(\u001b[32mcmd0.sc\u001b[39m:\u001b[32m106\u001b[39m)\n  ammonite.$sess.cmd0$Helper$ChecksumAccumulator.<init>(\u001b[32mcmd0.sc\u001b[39m:\u001b[32m106\u001b[39m)\n  ammonite.$sess.cmd0$Helper$ChecksumAccumulator.<init>(\u001b[32mcmd0.sc\u001b[39m:\u001b[32m106\u001b[39m)\n  ammonite.$sess.cmd0$Helper$ChecksumAccumulator.<init>(\u001b[32mcmd0.sc\u001b[39m:\u001b[32m106\u001b[39m)\n  ammonite.$sess.cmd0$Helper$ChecksumAccumulator.<init>(\u001b[32mcmd0.sc\u001b[39m:\u001b[32m106\u001b[39m)\n  ammonite.$sess.cmd0$Helper$ChecksumAccumulator.<init>(\u001b[32mcmd0.sc\u001b[39m:\u001b[32m106\u001b[39m)\n  ammonite.$sess.cmd0$Helper$ChecksumAccumulator.<init>(\u001b[32mcmd0.sc\u001b[39m:\u001b[32m106\u001b[39m)\n  ammonite.$sess.cmd0$Helper$ChecksumAccumulator.<init>(\u001b[32mcmd0.sc\u001b[39m:\u001b[32m106\u001b[39m)\n  ammonite.$sess.cmd0$Helper$ChecksumAccumulator.<init>(\u001b[32mcmd0.sc\u001b[39m:\u001b[32m106\u001b[39m)\n  ammonite.$sess.cmd0$Helper$ChecksumAccumulator.<init>(\u001b[32mcmd0.sc\u001b[39m:\u001b[32m106\u001b[39m)\n  ammonite.$sess.cmd0$Helper$ChecksumAccumulator.<init>(\u001b[32mcmd0.sc\u001b[39m:\u001b[32m106\u001b[39m)\n  ammonite.$sess.cmd0$Helper$ChecksumAccumulator.<init>(\u001b[32mcmd0.sc\u001b[39m:\u001b[32m106\u001b[39m)\n  ammonite.$sess.cmd0$Helper$ChecksumAccumulator.<init>(\u001b[32mcmd0.sc\u001b[39m:\u001b[32m106\u001b[39m)\n  ammonite.$sess.cmd0$Helper$ChecksumAccumulator.<init>(\u001b[32mcmd0.sc\u001b[39m:\u001b[32m106\u001b[39m)\n  ammonite.$sess.cmd0$Helper$ChecksumAccumulator.<init>(\u001b[32mcmd0.sc\u001b[39m:\u001b[32m106\u001b[39m)\n  ammonite.$sess.cmd0$Helper$ChecksumAccumulator.<init>(\u001b[32mcmd0.sc\u001b[39m:\u001b[32m106\u001b[39m)\n  ammonite.$sess.cmd0$Helper$ChecksumAccumulator.<init>(\u001b[32mcmd0.sc\u001b[39m:\u001b[32m106\u001b[39m)\n  ammonite.$sess.cmd0$Helper$ChecksumAccumulator.<init>(\u001b[32mcmd0.sc\u001b[39m:\u001b[32m106\u001b[39m)\n  ammonite.$sess.cmd0$Helper$ChecksumAccumulator.<init>(\u001b[32mcmd0.sc\u001b[39m:\u001b[32m106\u001b[39m)\n  ammonite.$sess.cmd0$Helper$ChecksumAccumulator.<init>(\u001b[32mcmd0.sc\u001b[39m:\u001b[32m106\u001b[39m)\n  ammonite.$sess.cmd0$Helper$ChecksumAccumulator.<init>(\u001b[32mcmd0.sc\u001b[39m:\u001b[32m106\u001b[39m)\n  ammonite.$sess.cmd0$Helper$ChecksumAccumulator.<init>(\u001b[32mcmd0.sc\u001b[39m:\u001b[32m106\u001b[39m)\n  ammonite.$sess.cmd0$Helper$ChecksumAccumulator.<init>(\u001b[32mcmd0.sc\u001b[39m:\u001b[32m106\u001b[39m)\n  ammonite.$sess.cmd0$Helper$ChecksumAccumulator.<init>(\u001b[32mcmd0.sc\u001b[39m:\u001b[32m106\u001b[39m)\n  ammonite.$sess.cmd0$Helper$ChecksumAccumulator.<init>(\u001b[32mcmd0.sc\u001b[39m:\u001b[32m106\u001b[39m)\n  ammonite.$sess.cmd0$Helper$ChecksumAccumulator.<init>(\u001b[32mcmd0.sc\u001b[39m:\u001b[32m106\u001b[39m)\n  ammonite.$sess.cmd0$Helper$ChecksumAccumulator.<init>(\u001b[32mcmd0.sc\u001b[39m:\u001b[32m106\u001b[39m)\n  ammonite.$sess.cmd0$Helper$ChecksumAccumulator.<init>(\u001b[32mcmd0.sc\u001b[39m:\u001b[32m106\u001b[39m)\n  ammonite.$sess.cmd0$Helper$ChecksumAccumulator.<init>(\u001b[32mcmd0.sc\u001b[39m:\u001b[32m106\u001b[39m)\n  ammonite.$sess.cmd0$Helper$ChecksumAccumulator.<init>(\u001b[32mcmd0.sc\u001b[39m:\u001b[32m106\u001b[39m)\n  ammonite.$sess.cmd0$Helper$ChecksumAccumulator.<init>(\u001b[32mcmd0.sc\u001b[39m:\u001b[32m106\u001b[39m)\n  ammonite.$sess.cmd0$Helper$ChecksumAccumulator.<init>(\u001b[32mcmd0.sc\u001b[39m:\u001b[32m106\u001b[39m)\n  ammonite.$sess.cmd0$Helper$ChecksumAccumulator.<init>(\u001b[32mcmd0.sc\u001b[39m:\u001b[32m106\u001b[39m)\n  ammonite.$sess.cmd0$Helper$ChecksumAccumulator.<init>(\u001b[32mcmd0.sc\u001b[39m:\u001b[32m106\u001b[39m)\n  ammonite.$sess.cmd0$Helper$ChecksumAccumulator.<init>(\u001b[32mcmd0.sc\u001b[39m:\u001b[32m106\u001b[39m)\n  ammonite.$sess.cmd0$Helper$ChecksumAccumulator.<init>(\u001b[32mcmd0.sc\u001b[39m:\u001b[32m106\u001b[39m)\n  ammonite.$sess.cmd0$Helper$ChecksumAccumulator.<init>(\u001b[32mcmd0.sc\u001b[39m:\u001b[32m106\u001b[39m)\n  ammonite.$sess.cmd0$Helper$ChecksumAccumulator.<init>(\u001b[32mcmd0.sc\u001b[39m:\u001b[32m106\u001b[39m)\n  ammonite.$sess.cmd0$Helper$ChecksumAccumulator.<init>(\u001b[32mcmd0.sc\u001b[39m:\u001b[32m106\u001b[39m)\n  ammonite.$sess.cmd0$Helper$ChecksumAccumulator.<init>(\u001b[32mcmd0.sc\u001b[39m:\u001b[32m106\u001b[39m)\n  ammonite.$sess.cmd0$Helper$ChecksumAccumulator.<init>(\u001b[32mcmd0.sc\u001b[39m:\u001b[32m106\u001b[39m)\n  ammonite.$sess.cmd0$Helper$ChecksumAccumulator.<init>(\u001b[32mcmd0.sc\u001b[39m:\u001b[32m106\u001b[39m)\n  ammonite.$sess.cmd0$Helper$ChecksumAccumulator.<init>(\u001b[32mcmd0.sc\u001b[39m:\u001b[32m106\u001b[39m)\n  ammonite.$sess.cmd0$Helper$ChecksumAccumulator.<init>(\u001b[32mcmd0.sc\u001b[39m:\u001b[32m106\u001b[39m)\n  ammonite.$sess.cmd0$Helper$ChecksumAccumulator.<init>(\u001b[32mcmd0.sc\u001b[39m:\u001b[32m106\u001b[39m)\n  ammonite.$sess.cmd0$Helper$ChecksumAccumulator.<init>(\u001b[32mcmd0.sc\u001b[39m:\u001b[32m106\u001b[39m)\n  ammonite.$sess.cmd0$Helper$ChecksumAccumulator.<init>(\u001b[32mcmd0.sc\u001b[39m:\u001b[32m106\u001b[39m)\n  ammonite.$sess.cmd0$Helper$ChecksumAccumulator.<init>(\u001b[32mcmd0.sc\u001b[39m:\u001b[32m106\u001b[39m)\n  ammonite.$sess.cmd0$Helper$ChecksumAccumulator.<init>(\u001b[32mcmd0.sc\u001b[39m:\u001b[32m106\u001b[39m)\n  ammonite.$sess.cmd0$Helper$ChecksumAccumulator.<init>(\u001b[32mcmd0.sc\u001b[39m:\u001b[32m106\u001b[39m)\n  ammonite.$sess.cmd0$Helper$ChecksumAccumulator.<init>(\u001b[32mcmd0.sc\u001b[39m:\u001b[32m106\u001b[39m)\n  ammonite.$sess.cmd0$Helper$ChecksumAccumulator.<init>(\u001b[32mcmd0.sc\u001b[39m:\u001b[32m106\u001b[39m)\n  ammonite.$sess.cmd0$Helper$ChecksumAccumulator.<init>(\u001b[32mcmd0.sc\u001b[39m:\u001b[32m106\u001b[39m)\n  ammonite.$sess.cmd0$Helper$ChecksumAccumulator.<init>(\u001b[32mcmd0.sc\u001b[39m:\u001b[32m106\u001b[39m)\n  ammonite.$sess.cmd0$Helper$ChecksumAccumulator.<init>(\u001b[32mcmd0.sc\u001b[39m:\u001b[32m106\u001b[39m)\n  ammonite.$sess.cmd0$Helper$ChecksumAccumulator.<init>(\u001b[32mcmd0.sc\u001b[39m:\u001b[32m106\u001b[39m)\n  ammonite.$sess.cmd0$Helper$ChecksumAccumulator.<init>(\u001b[32mcmd0.sc\u001b[39m:\u001b[32m106\u001b[39m)\n  ammonite.$sess.cmd0$Helper$ChecksumAccumulator.<init>(\u001b[32mcmd0.sc\u001b[39m:\u001b[32m106\u001b[39m)\n  ammonite.$sess.cmd0$Helper$ChecksumAccumulator.<init>(\u001b[32mcmd0.sc\u001b[39m:\u001b[32m106\u001b[39m)\n  ammonite.$sess.cmd0$Helper$ChecksumAccumulator.<init>(\u001b[32mcmd0.sc\u001b[39m:\u001b[32m106\u001b[39m)\n  ammonite.$sess.cmd0$Helper$ChecksumAccumulator.<init>(\u001b[32mcmd0.sc\u001b[39m:\u001b[32m106\u001b[39m)\n  ammonite.$sess.cmd0$Helper$ChecksumAccumulator.<init>(\u001b[32mcmd0.sc\u001b[39m:\u001b[32m106\u001b[39m)\n  ammonite.$sess.cmd0$Helper$ChecksumAccumulator.<init>(\u001b[32mcmd0.sc\u001b[39m:\u001b[32m106\u001b[39m)\n  ammonite.$sess.cmd0$Helper$ChecksumAccumulator.<init>(\u001b[32mcmd0.sc\u001b[39m:\u001b[32m106\u001b[39m)\n  ammonite.$sess.cmd0$Helper$ChecksumAccumulator.<init>(\u001b[32mcmd0.sc\u001b[39m:\u001b[32m106\u001b[39m)\n  ammonite.$sess.cmd0$Helper$ChecksumAccumulator.<init>(\u001b[32mcmd0.sc\u001b[39m:\u001b[32m106\u001b[39m)\n  ammonite.$sess.cmd0$Helper$ChecksumAccumulator.<init>(\u001b[32mcmd0.sc\u001b[39m:\u001b[32m106\u001b[39m)\n  ammonite.$sess.cmd0$Helper$ChecksumAccumulator.<init>(\u001b[32mcmd0.sc\u001b[39m:\u001b[32m106\u001b[39m)\n  ammonite.$sess.cmd0$Helper$ChecksumAccumulator.<init>(\u001b[32mcmd0.sc\u001b[39m:\u001b[32m106\u001b[39m)\n  ammonite.$sess.cmd0$Helper$ChecksumAccumulator.<init>(\u001b[32mcmd0.sc\u001b[39m:\u001b[32m106\u001b[39m)\n  ammonite.$sess.cmd0$Helper$ChecksumAccumulator.<init>(\u001b[32mcmd0.sc\u001b[39m:\u001b[32m106\u001b[39m)\n  ammonite.$sess.cmd0$Helper$ChecksumAccumulator.<init>(\u001b[32mcmd0.sc\u001b[39m:\u001b[32m106\u001b[39m)\n  ammonite.$sess.cmd0$Helper$ChecksumAccumulator.<init>(\u001b[32mcmd0.sc\u001b[39m:\u001b[32m106\u001b[39m)\n  ammonite.$sess.cmd0$Helper$ChecksumAccumulator.<init>(\u001b[32mcmd0.sc\u001b[39m:\u001b[32m106\u001b[39m)\n  ammonite.$sess.cmd0$Helper$ChecksumAccumulator.<init>(\u001b[32mcmd0.sc\u001b[39m:\u001b[32m106\u001b[39m)\n  ammonite.$sess.cmd0$Helper$ChecksumAccumulator.<init>(\u001b[32mcmd0.sc\u001b[39m:\u001b[32m106\u001b[39m)\n  ammonite.$sess.cmd0$Helper$ChecksumAccumulator.<init>(\u001b[32mcmd0.sc\u001b[39m:\u001b[32m106\u001b[39m)\n  ammonite.$sess.cmd0$Helper$ChecksumAccumulator.<init>(\u001b[32mcmd0.sc\u001b[39m:\u001b[32m106\u001b[39m)\n  ammonite.$sess.cmd0$Helper$ChecksumAccumulator.<init>(\u001b[32mcmd0.sc\u001b[39m:\u001b[32m106\u001b[39m)\n  ammonite.$sess.cmd0$Helper$ChecksumAccumulator.<init>(\u001b[32mcmd0.sc\u001b[39m:\u001b[32m106\u001b[39m)\n  ammonite.$sess.cmd0$Helper$ChecksumAccumulator.<init>(\u001b[32mcmd0.sc\u001b[39m:\u001b[32m106\u001b[39m)\n  ammonite.$sess.cmd0$Helper$ChecksumAccumulator.<init>(\u001b[32mcmd0.sc\u001b[39m:\u001b[32m106\u001b[39m)\n  ammonite.$sess.cmd0$Helper$ChecksumAccumulator.<init>(\u001b[32mcmd0.sc\u001b[39m:\u001b[32m106\u001b[39m)\n  ammonite.$sess.cmd0$Helper$ChecksumAccumulator.<init>(\u001b[32mcmd0.sc\u001b[39m:\u001b[32m106\u001b[39m)\n  ammonite.$sess.cmd0$Helper$ChecksumAccumulator.<init>(\u001b[32mcmd0.sc\u001b[39m:\u001b[32m106\u001b[39m)\n  ammonite.$sess.cmd0$Helper$ChecksumAccumulator.<init>(\u001b[32mcmd0.sc\u001b[39m:\u001b[32m106\u001b[39m)\n  ammonite.$sess.cmd0$Helper$ChecksumAccumulator.<init>(\u001b[32mcmd0.sc\u001b[39m:\u001b[32m106\u001b[39m)\n  ammonite.$sess.cmd0$Helper$ChecksumAccumulator.<init>(\u001b[32mcmd0.sc\u001b[39m:\u001b[32m106\u001b[39m)\n  ammonite.$sess.cmd0$Helper$ChecksumAccumulator.<init>(\u001b[32mcmd0.sc\u001b[39m:\u001b[32m106\u001b[39m)\n  ammonite.$sess.cmd0$Helper$ChecksumAccumulator.<init>(\u001b[32mcmd0.sc\u001b[39m:\u001b[32m106\u001b[39m)\n  ammonite.$sess.cmd0$Helper$ChecksumAccumulator.<init>(\u001b[32mcmd0.sc\u001b[39m:\u001b[32m106\u001b[39m)\n  ammonite.$sess.cmd0$Helper$ChecksumAccumulator.<init>(\u001b[32mcmd0.sc\u001b[39m:\u001b[32m106\u001b[39m)\n  ammonite.$sess.cmd0$Helper$ChecksumAccumulator.<init>(\u001b[32mcmd0.sc\u001b[39m:\u001b[32m106\u001b[39m)\n  ammonite.$sess.cmd0$Helper$ChecksumAccumulator.<init>(\u001b[32mcmd0.sc\u001b[39m:\u001b[32m106\u001b[39m)\n  ammonite.$sess.cmd0$Helper$ChecksumAccumulator.<init>(\u001b[32mcmd0.sc\u001b[39m:\u001b[32m106\u001b[39m)\n  ammonite.$sess.cmd0$Helper$ChecksumAccumulator.<init>(\u001b[32mcmd0.sc\u001b[39m:\u001b[32m106\u001b[39m)\n  ammonite.$sess.cmd0$Helper$ChecksumAccumulator.<init>(\u001b[32mcmd0.sc\u001b[39m:\u001b[32m106\u001b[39m)\n  ammonite.$sess.cmd0$Helper$ChecksumAccumulator.<init>(\u001b[32mcmd0.sc\u001b[39m:\u001b[32m106\u001b[39m)\n  ammonite.$sess.cmd0$Helper$ChecksumAccumulator.<init>(\u001b[32mcmd0.sc\u001b[39m:\u001b[32m106\u001b[39m)\n  ammonite.$sess.cmd0$Helper$ChecksumAccumulator.<init>(\u001b[32mcmd0.sc\u001b[39m:\u001b[32m106\u001b[39m)\n  ammonite.$sess.cmd0$Helper$ChecksumAccumulator.<init>(\u001b[32mcmd0.sc\u001b[39m:\u001b[32m106\u001b[39m)\n  ammonite.$sess.cmd0$Helper$ChecksumAccumulator.<init>(\u001b[32mcmd0.sc\u001b[39m:\u001b[32m106\u001b[39m)\n  ammonite.$sess.cmd0$Helper$ChecksumAccumulator.<init>(\u001b[32mcmd0.sc\u001b[39m:\u001b[32m106\u001b[39m)\n  ammonite.$sess.cmd0$Helper$ChecksumAccumulator.<init>(\u001b[32mcmd0.sc\u001b[39m:\u001b[32m106\u001b[39m)\n  ammonite.$sess.cmd0$Helper$ChecksumAccumulator.<init>(\u001b[32mcmd0.sc\u001b[39m:\u001b[32m106\u001b[39m)\n  ammonite.$sess.cmd0$Helper$ChecksumAccumulator.<init>(\u001b[32mcmd0.sc\u001b[39m:\u001b[32m106\u001b[39m)\n  ammonite.$sess.cmd0$Helper$ChecksumAccumulator.<init>(\u001b[32mcmd0.sc\u001b[39m:\u001b[32m106\u001b[39m)\n  ammonite.$sess.cmd0$Helper$ChecksumAccumulator.<init>(\u001b[32mcmd0.sc\u001b[39m:\u001b[32m106\u001b[39m)\n  ammonite.$sess.cmd0$Helper$ChecksumAccumulator.<init>(\u001b[32mcmd0.sc\u001b[39m:\u001b[32m106\u001b[39m)\n  ammonite.$sess.cmd0$Helper$ChecksumAccumulator.<init>(\u001b[32mcmd0.sc\u001b[39m:\u001b[32m106\u001b[39m)\n  ammonite.$sess.cmd0$Helper$ChecksumAccumulator.<init>(\u001b[32mcmd0.sc\u001b[39m:\u001b[32m106\u001b[39m)\n  ammonite.$sess.cmd0$Helper$ChecksumAccumulator.<init>(\u001b[32mcmd0.sc\u001b[39m:\u001b[32m106\u001b[39m)\n  ammonite.$sess.cmd0$Helper$ChecksumAccumulator.<init>(\u001b[32mcmd0.sc\u001b[39m:\u001b[32m106\u001b[39m)\n  ammonite.$sess.cmd0$Helper$ChecksumAccumulator.<init>(\u001b[32mcmd0.sc\u001b[39m:\u001b[32m106\u001b[39m)\n  ammonite.$sess.cmd0$Helper$ChecksumAccumulator.<init>(\u001b[32mcmd0.sc\u001b[39m:\u001b[32m106\u001b[39m)\n  ammonite.$sess.cmd0$Helper$ChecksumAccumulator.<init>(\u001b[32mcmd0.sc\u001b[39m:\u001b[32m106\u001b[39m)\n  ammonite.$sess.cmd0$Helper$ChecksumAccumulator.<init>(\u001b[32mcmd0.sc\u001b[39m:\u001b[32m106\u001b[39m)\n  ammonite.$sess.cmd0$Helper$ChecksumAccumulator.<init>(\u001b[32mcmd0.sc\u001b[39m:\u001b[32m106\u001b[39m)\n  ammonite.$sess.cmd0$Helper$ChecksumAccumulator.<init>(\u001b[32mcmd0.sc\u001b[39m:\u001b[32m106\u001b[39m)\n  ammonite.$sess.cmd0$Helper$ChecksumAccumulator.<init>(\u001b[32mcmd0.sc\u001b[39m:\u001b[32m106\u001b[39m)\n  ammonite.$sess.cmd0$Helper$ChecksumAccumulator.<init>(\u001b[32mcmd0.sc\u001b[39m:\u001b[32m106\u001b[39m)\n  ammonite.$sess.cmd0$Helper$ChecksumAccumulator.<init>(\u001b[32mcmd0.sc\u001b[39m:\u001b[32m106\u001b[39m)\n  ammonite.$sess.cmd0$Helper$ChecksumAccumulator.<init>(\u001b[32mcmd0.sc\u001b[39m:\u001b[32m106\u001b[39m)\n  ammonite.$sess.cmd0$Helper$ChecksumAccumulator.<init>(\u001b[32mcmd0.sc\u001b[39m:\u001b[32m106\u001b[39m)\n  ammonite.$sess.cmd0$Helper$ChecksumAccumulator.<init>(\u001b[32mcmd0.sc\u001b[39m:\u001b[32m106\u001b[39m)\n  ammonite.$sess.cmd0$Helper$ChecksumAccumulator.<init>(\u001b[32mcmd0.sc\u001b[39m:\u001b[32m106\u001b[39m)\n  ammonite.$sess.cmd0$Helper$ChecksumAccumulator.<init>(\u001b[32mcmd0.sc\u001b[39m:\u001b[32m106\u001b[39m)\n  ammonite.$sess.cmd0$Helper$ChecksumAccumulator.<init>(\u001b[32mcmd0.sc\u001b[39m:\u001b[32m106\u001b[39m)\n  ammonite.$sess.cmd0$Helper$ChecksumAccumulator.<init>(\u001b[32mcmd0.sc\u001b[39m:\u001b[32m106\u001b[39m)\n  ammonite.$sess.cmd0$Helper$ChecksumAccumulator.<init>(\u001b[32mcmd0.sc\u001b[39m:\u001b[32m106\u001b[39m)\n  ammonite.$sess.cmd0$Helper$ChecksumAccumulator.<init>(\u001b[32mcmd0.sc\u001b[39m:\u001b[32m106\u001b[39m)\n  ammonite.$sess.cmd0$Helper$ChecksumAccumulator.<init>(\u001b[32mcmd0.sc\u001b[39m:\u001b[32m106\u001b[39m)\n  ammonite.$sess.cmd0$Helper$ChecksumAccumulator.<init>(\u001b[32mcmd0.sc\u001b[39m:\u001b[32m106\u001b[39m)\n  ammonite.$sess.cmd0$Helper$ChecksumAccumulator.<init>(\u001b[32mcmd0.sc\u001b[39m:\u001b[32m106\u001b[39m)\n  ammonite.$sess.cmd0$Helper$ChecksumAccumulator.<init>(\u001b[32mcmd0.sc\u001b[39m:\u001b[32m106\u001b[39m)\n  ammonite.$sess.cmd0$Helper$ChecksumAccumulator.<init>(\u001b[32mcmd0.sc\u001b[39m:\u001b[32m106\u001b[39m)\n  ammonite.$sess.cmd0$Helper$ChecksumAccumulator.<init>(\u001b[32mcmd0.sc\u001b[39m:\u001b[32m106\u001b[39m)\n  ammonite.$sess.cmd0$Helper$ChecksumAccumulator.<init>(\u001b[32mcmd0.sc\u001b[39m:\u001b[32m106\u001b[39m)\n  ammonite.$sess.cmd0$Helper$ChecksumAccumulator.<init>(\u001b[32mcmd0.sc\u001b[39m:\u001b[32m106\u001b[39m)\n  ammonite.$sess.cmd0$Helper$ChecksumAccumulator.<init>(\u001b[32mcmd0.sc\u001b[39m:\u001b[32m106\u001b[39m)\n  ammonite.$sess.cmd0$Helper$ChecksumAccumulator.<init>(\u001b[32mcmd0.sc\u001b[39m:\u001b[32m106\u001b[39m)\n  ammonite.$sess.cmd0$Helper$ChecksumAccumulator.<init>(\u001b[32mcmd0.sc\u001b[39m:\u001b[32m106\u001b[39m)\n  ammonite.$sess.cmd0$Helper$ChecksumAccumulator.<init>(\u001b[32mcmd0.sc\u001b[39m:\u001b[32m106\u001b[39m)\n  ammonite.$sess.cmd0$Helper$ChecksumAccumulator.<init>(\u001b[32mcmd0.sc\u001b[39m:\u001b[32m106\u001b[39m)\n  ammonite.$sess.cmd0$Helper$ChecksumAccumulator.<init>(\u001b[32mcmd0.sc\u001b[39m:\u001b[32m106\u001b[39m)\n  ammonite.$sess.cmd0$Helper$ChecksumAccumulator.<init>(\u001b[32mcmd0.sc\u001b[39m:\u001b[32m106\u001b[39m)\n  ammonite.$sess.cmd0$Helper$ChecksumAccumulator.<init>(\u001b[32mcmd0.sc\u001b[39m:\u001b[32m106\u001b[39m)\n  ammonite.$sess.cmd0$Helper$ChecksumAccumulator.<init>(\u001b[32mcmd0.sc\u001b[39m:\u001b[32m106\u001b[39m)\n  ammonite.$sess.cmd0$Helper$ChecksumAccumulator.<init>(\u001b[32mcmd0.sc\u001b[39m:\u001b[32m106\u001b[39m)\n  ammonite.$sess.cmd0$Helper$ChecksumAccumulator.<init>(\u001b[32mcmd0.sc\u001b[39m:\u001b[32m106\u001b[39m)\n  ammonite.$sess.cmd0$Helper$ChecksumAccumulator.<init>(\u001b[32mcmd0.sc\u001b[39m:\u001b[32m106\u001b[39m)\n  ammonite.$sess.cmd0$Helper$ChecksumAccumulator.<init>(\u001b[32mcmd0.sc\u001b[39m:\u001b[32m106\u001b[39m)\n  ammonite.$sess.cmd0$Helper$ChecksumAccumulator.<init>(\u001b[32mcmd0.sc\u001b[39m:\u001b[32m106\u001b[39m)\n  ammonite.$sess.cmd0$Helper$ChecksumAccumulator.<init>(\u001b[32mcmd0.sc\u001b[39m:\u001b[32m106\u001b[39m)\n  ammonite.$sess.cmd0$Helper$ChecksumAccumulator.<init>(\u001b[32mcmd0.sc\u001b[39m:\u001b[32m106\u001b[39m)\n  ammonite.$sess.cmd0$Helper$ChecksumAccumulator.<init>(\u001b[32mcmd0.sc\u001b[39m:\u001b[32m106\u001b[39m)\n  ammonite.$sess.cmd0$Helper$ChecksumAccumulator.<init>(\u001b[32mcmd0.sc\u001b[39m:\u001b[32m106\u001b[39m)\n  ammonite.$sess.cmd0$Helper$ChecksumAccumulator.<init>(\u001b[32mcmd0.sc\u001b[39m:\u001b[32m106\u001b[39m)\n  ammonite.$sess.cmd0$Helper$ChecksumAccumulator.<init>(\u001b[32mcmd0.sc\u001b[39m:\u001b[32m106\u001b[39m)\n  ammonite.$sess.cmd0$Helper$ChecksumAccumulator.<init>(\u001b[32mcmd0.sc\u001b[39m:\u001b[32m106\u001b[39m)\n  ammonite.$sess.cmd0$Helper$ChecksumAccumulator.<init>(\u001b[32mcmd0.sc\u001b[39m:\u001b[32m106\u001b[39m)\n  ammonite.$sess.cmd0$Helper$ChecksumAccumulator.<init>(\u001b[32mcmd0.sc\u001b[39m:\u001b[32m106\u001b[39m)\n  ammonite.$sess.cmd0$Helper$ChecksumAccumulator.<init>(\u001b[32mcmd0.sc\u001b[39m:\u001b[32m106\u001b[39m)\n  ammonite.$sess.cmd0$Helper$ChecksumAccumulator.<init>(\u001b[32mcmd0.sc\u001b[39m:\u001b[32m106\u001b[39m)\n  ammonite.$sess.cmd0$Helper$ChecksumAccumulator.<init>(\u001b[32mcmd0.sc\u001b[39m:\u001b[32m106\u001b[39m)\n  ammonite.$sess.cmd0$Helper$ChecksumAccumulator.<init>(\u001b[32mcmd0.sc\u001b[39m:\u001b[32m106\u001b[39m)\n  ammonite.$sess.cmd0$Helper$ChecksumAccumulator.<init>(\u001b[32mcmd0.sc\u001b[39m:\u001b[32m106\u001b[39m)\n  ammonite.$sess.cmd0$Helper$ChecksumAccumulator.<init>(\u001b[32mcmd0.sc\u001b[39m:\u001b[32m106\u001b[39m)\n  ammonite.$sess.cmd0$Helper$ChecksumAccumulator.<init>(\u001b[32mcmd0.sc\u001b[39m:\u001b[32m106\u001b[39m)\n  ammonite.$sess.cmd0$Helper$ChecksumAccumulator.<init>(\u001b[32mcmd0.sc\u001b[39m:\u001b[32m106\u001b[39m)\n  ammonite.$sess.cmd0$Helper$ChecksumAccumulator.<init>(\u001b[32mcmd0.sc\u001b[39m:\u001b[32m106\u001b[39m)\n  ammonite.$sess.cmd0$Helper$ChecksumAccumulator.<init>(\u001b[32mcmd0.sc\u001b[39m:\u001b[32m106\u001b[39m)\n  ammonite.$sess.cmd0$Helper$ChecksumAccumulator.<init>(\u001b[32mcmd0.sc\u001b[39m:\u001b[32m106\u001b[39m)\n  ammonite.$sess.cmd0$Helper$ChecksumAccumulator.<init>(\u001b[32mcmd0.sc\u001b[39m:\u001b[32m106\u001b[39m)\n  ammonite.$sess.cmd0$Helper$ChecksumAccumulator.<init>(\u001b[32mcmd0.sc\u001b[39m:\u001b[32m106\u001b[39m)\n  ammonite.$sess.cmd0$Helper$ChecksumAccumulator.<init>(\u001b[32mcmd0.sc\u001b[39m:\u001b[32m106\u001b[39m)\n  ammonite.$sess.cmd0$Helper$ChecksumAccumulator.<init>(\u001b[32mcmd0.sc\u001b[39m:\u001b[32m106\u001b[39m)\n  ammonite.$sess.cmd0$Helper$ChecksumAccumulator.<init>(\u001b[32mcmd0.sc\u001b[39m:\u001b[32m106\u001b[39m)\n  ammonite.$sess.cmd0$Helper$ChecksumAccumulator.<init>(\u001b[32mcmd0.sc\u001b[39m:\u001b[32m106\u001b[39m)\n  ammonite.$sess.cmd0$Helper$ChecksumAccumulator.<init>(\u001b[32mcmd0.sc\u001b[39m:\u001b[32m106\u001b[39m)\n  ammonite.$sess.cmd0$Helper$ChecksumAccumulator.<init>(\u001b[32mcmd0.sc\u001b[39m:\u001b[32m106\u001b[39m)\n  ammonite.$sess.cmd0$Helper$ChecksumAccumulator.<init>(\u001b[32mcmd0.sc\u001b[39m:\u001b[32m106\u001b[39m)\n  ammonite.$sess.cmd0$Helper$ChecksumAccumulator.<init>(\u001b[32mcmd0.sc\u001b[39m:\u001b[32m106\u001b[39m)\n  ammonite.$sess.cmd0$Helper$ChecksumAccumulator.<init>(\u001b[32mcmd0.sc\u001b[39m:\u001b[32m106\u001b[39m)\n  ammonite.$sess.cmd0$Helper$ChecksumAccumulator.<init>(\u001b[32mcmd0.sc\u001b[39m:\u001b[32m106\u001b[39m)\n  ammonite.$sess.cmd0$Helper$ChecksumAccumulator.<init>(\u001b[32mcmd0.sc\u001b[39m:\u001b[32m106\u001b[39m)\n  ammonite.$sess.cmd0$Helper$ChecksumAccumulator.<init>(\u001b[32mcmd0.sc\u001b[39m:\u001b[32m106\u001b[39m)\n  ammonite.$sess.cmd0$Helper$ChecksumAccumulator.<init>(\u001b[32mcmd0.sc\u001b[39m:\u001b[32m106\u001b[39m)\n  ammonite.$sess.cmd0$Helper$ChecksumAccumulator.<init>(\u001b[32mcmd0.sc\u001b[39m:\u001b[32m106\u001b[39m)\n  ammonite.$sess.cmd0$Helper$ChecksumAccumulator.<init>(\u001b[32mcmd0.sc\u001b[39m:\u001b[32m106\u001b[39m)\n  ammonite.$sess.cmd0$Helper$ChecksumAccumulator.<init>(\u001b[32mcmd0.sc\u001b[39m:\u001b[32m106\u001b[39m)\n  ammonite.$sess.cmd0$Helper$ChecksumAccumulator.<init>(\u001b[32mcmd0.sc\u001b[39m:\u001b[32m106\u001b[39m)\n  ammonite.$sess.cmd0$Helper$ChecksumAccumulator.<init>(\u001b[32mcmd0.sc\u001b[39m:\u001b[32m106\u001b[39m)\n  ammonite.$sess.cmd0$Helper$ChecksumAccumulator.<init>(\u001b[32mcmd0.sc\u001b[39m:\u001b[32m106\u001b[39m)\n  ammonite.$sess.cmd0$Helper$ChecksumAccumulator.<init>(\u001b[32mcmd0.sc\u001b[39m:\u001b[32m106\u001b[39m)\n  ammonite.$sess.cmd0$Helper$ChecksumAccumulator.<init>(\u001b[32mcmd0.sc\u001b[39m:\u001b[32m106\u001b[39m)\n  ammonite.$sess.cmd0$Helper$ChecksumAccumulator.<init>(\u001b[32mcmd0.sc\u001b[39m:\u001b[32m106\u001b[39m)\n  ammonite.$sess.cmd0$Helper$ChecksumAccumulator.<init>(\u001b[32mcmd0.sc\u001b[39m:\u001b[32m106\u001b[39m)\n  ammonite.$sess.cmd0$Helper$ChecksumAccumulator.<init>(\u001b[32mcmd0.sc\u001b[39m:\u001b[32m106\u001b[39m)\n  ammonite.$sess.cmd0$Helper$ChecksumAccumulator.<init>(\u001b[32mcmd0.sc\u001b[39m:\u001b[32m106\u001b[39m)\n  ammonite.$sess.cmd0$Helper$ChecksumAccumulator.<init>(\u001b[32mcmd0.sc\u001b[39m:\u001b[32m106\u001b[39m)\n  ammonite.$sess.cmd0$Helper$ChecksumAccumulator.<init>(\u001b[32mcmd0.sc\u001b[39m:\u001b[32m106\u001b[39m)\n  ammonite.$sess.cmd0$Helper$ChecksumAccumulator.<init>(\u001b[32mcmd0.sc\u001b[39m:\u001b[32m106\u001b[39m)\n  ammonite.$sess.cmd0$Helper$ChecksumAccumulator.<init>(\u001b[32mcmd0.sc\u001b[39m:\u001b[32m106\u001b[39m)\n  ammonite.$sess.cmd0$Helper$ChecksumAccumulator.<init>(\u001b[32mcmd0.sc\u001b[39m:\u001b[32m106\u001b[39m)\n  ammonite.$sess.cmd0$Helper$ChecksumAccumulator.<init>(\u001b[32mcmd0.sc\u001b[39m:\u001b[32m106\u001b[39m)\n  ammonite.$sess.cmd0$Helper$ChecksumAccumulator.<init>(\u001b[32mcmd0.sc\u001b[39m:\u001b[32m106\u001b[39m)\n  ammonite.$sess.cmd0$Helper$ChecksumAccumulator.<init>(\u001b[32mcmd0.sc\u001b[39m:\u001b[32m106\u001b[39m)\n  ammonite.$sess.cmd0$Helper$ChecksumAccumulator.<init>(\u001b[32mcmd0.sc\u001b[39m:\u001b[32m106\u001b[39m)\n  ammonite.$sess.cmd0$Helper$ChecksumAccumulator.<init>(\u001b[32mcmd0.sc\u001b[39m:\u001b[32m106\u001b[39m)\n  ammonite.$sess.cmd0$Helper$ChecksumAccumulator.<init>(\u001b[32mcmd0.sc\u001b[39m:\u001b[32m106\u001b[39m)\n  ammonite.$sess.cmd0$Helper$ChecksumAccumulator.<init>(\u001b[32mcmd0.sc\u001b[39m:\u001b[32m106\u001b[39m)\n  ammonite.$sess.cmd0$Helper$ChecksumAccumulator.<init>(\u001b[32mcmd0.sc\u001b[39m:\u001b[32m106\u001b[39m)\n  ammonite.$sess.cmd0$Helper$ChecksumAccumulator.<init>(\u001b[32mcmd0.sc\u001b[39m:\u001b[32m106\u001b[39m)\n  ammonite.$sess.cmd0$Helper$ChecksumAccumulator.<init>(\u001b[32mcmd0.sc\u001b[39m:\u001b[32m106\u001b[39m)\n  ammonite.$sess.cmd0$Helper$ChecksumAccumulator.<init>(\u001b[32mcmd0.sc\u001b[39m:\u001b[32m106\u001b[39m)\n  ammonite.$sess.cmd0$Helper$ChecksumAccumulator.<init>(\u001b[32mcmd0.sc\u001b[39m:\u001b[32m106\u001b[39m)\n  ammonite.$sess.cmd0$Helper$ChecksumAccumulator.<init>(\u001b[32mcmd0.sc\u001b[39m:\u001b[32m106\u001b[39m)\n  ammonite.$sess.cmd0$Helper$ChecksumAccumulator.<init>(\u001b[32mcmd0.sc\u001b[39m:\u001b[32m106\u001b[39m)\n  ammonite.$sess.cmd0$Helper$ChecksumAccumulator.<init>(\u001b[32mcmd0.sc\u001b[39m:\u001b[32m106\u001b[39m)\n  ammonite.$sess.cmd0$Helper$ChecksumAccumulator.<init>(\u001b[32mcmd0.sc\u001b[39m:\u001b[32m106\u001b[39m)\n  ammonite.$sess.cmd0$Helper$ChecksumAccumulator.<init>(\u001b[32mcmd0.sc\u001b[39m:\u001b[32m106\u001b[39m)\n  ammonite.$sess.cmd0$Helper$ChecksumAccumulator.<init>(\u001b[32mcmd0.sc\u001b[39m:\u001b[32m106\u001b[39m)\n  ammonite.$sess.cmd0$Helper$ChecksumAccumulator.<init>(\u001b[32mcmd0.sc\u001b[39m:\u001b[32m106\u001b[39m)\n  ammonite.$sess.cmd0$Helper$ChecksumAccumulator.<init>(\u001b[32mcmd0.sc\u001b[39m:\u001b[32m106\u001b[39m)\n  ammonite.$sess.cmd0$Helper$ChecksumAccumulator.<init>(\u001b[32mcmd0.sc\u001b[39m:\u001b[32m106\u001b[39m)\n  ammonite.$sess.cmd0$Helper$ChecksumAccumulator.<init>(\u001b[32mcmd0.sc\u001b[39m:\u001b[32m106\u001b[39m)\n  ammonite.$sess.cmd0$Helper$ChecksumAccumulator.<init>(\u001b[32mcmd0.sc\u001b[39m:\u001b[32m106\u001b[39m)\n  ammonite.$sess.cmd0$Helper$ChecksumAccumulator.<init>(\u001b[32mcmd0.sc\u001b[39m:\u001b[32m106\u001b[39m)\n  ammonite.$sess.cmd0$Helper$ChecksumAccumulator.<init>(\u001b[32mcmd0.sc\u001b[39m:\u001b[32m106\u001b[39m)\n  ammonite.$sess.cmd0$Helper$ChecksumAccumulator.<init>(\u001b[32mcmd0.sc\u001b[39m:\u001b[32m106\u001b[39m)\n  ammonite.$sess.cmd0$Helper$ChecksumAccumulator.<init>(\u001b[32mcmd0.sc\u001b[39m:\u001b[32m106\u001b[39m)\n  ammonite.$sess.cmd0$Helper$ChecksumAccumulator.<init>(\u001b[32mcmd0.sc\u001b[39m:\u001b[32m106\u001b[39m)\n  ammonite.$sess.cmd0$Helper$ChecksumAccumulator.<init>(\u001b[32mcmd0.sc\u001b[39m:\u001b[32m106\u001b[39m)\n  ammonite.$sess.cmd0$Helper$ChecksumAccumulator.<init>(\u001b[32mcmd0.sc\u001b[39m:\u001b[32m106\u001b[39m)\n  ammonite.$sess.cmd0$Helper$ChecksumAccumulator.<init>(\u001b[32mcmd0.sc\u001b[39m:\u001b[32m106\u001b[39m)\n  ammonite.$sess.cmd0$Helper$ChecksumAccumulator.<init>(\u001b[32mcmd0.sc\u001b[39m:\u001b[32m106\u001b[39m)\n  ammonite.$sess.cmd0$Helper$ChecksumAccumulator.<init>(\u001b[32mcmd0.sc\u001b[39m:\u001b[32m106\u001b[39m)\n  ammonite.$sess.cmd0$Helper$ChecksumAccumulator.<init>(\u001b[32mcmd0.sc\u001b[39m:\u001b[32m106\u001b[39m)\n  ammonite.$sess.cmd0$Helper$ChecksumAccumulator.<init>(\u001b[32mcmd0.sc\u001b[39m:\u001b[32m106\u001b[39m)\n  ammonite.$sess.cmd0$Helper$ChecksumAccumulator.<init>(\u001b[32mcmd0.sc\u001b[39m:\u001b[32m106\u001b[39m)\n  ammonite.$sess.cmd0$Helper$ChecksumAccumulator.<init>(\u001b[32mcmd0.sc\u001b[39m:\u001b[32m106\u001b[39m)\n  ammonite.$sess.cmd0$Helper$ChecksumAccumulator.<init>(\u001b[32mcmd0.sc\u001b[39m:\u001b[32m106\u001b[39m)\n  ammonite.$sess.cmd0$Helper$ChecksumAccumulator.<init>(\u001b[32mcmd0.sc\u001b[39m:\u001b[32m106\u001b[39m)\n  ammonite.$sess.cmd0$Helper$ChecksumAccumulator.<init>(\u001b[32mcmd0.sc\u001b[39m:\u001b[32m106\u001b[39m)\n  ammonite.$sess.cmd0$Helper$ChecksumAccumulator.<init>(\u001b[32mcmd0.sc\u001b[39m:\u001b[32m106\u001b[39m)\n  ammonite.$sess.cmd0$Helper$ChecksumAccumulator.<init>(\u001b[32mcmd0.sc\u001b[39m:\u001b[32m106\u001b[39m)\n  ammonite.$sess.cmd0$Helper$ChecksumAccumulator.<init>(\u001b[32mcmd0.sc\u001b[39m:\u001b[32m106\u001b[39m)\n  ammonite.$sess.cmd0$Helper$ChecksumAccumulator.<init>(\u001b[32mcmd0.sc\u001b[39m:\u001b[32m106\u001b[39m)\n  ammonite.$sess.cmd0$Helper$ChecksumAccumulator.<init>(\u001b[32mcmd0.sc\u001b[39m:\u001b[32m106\u001b[39m)\n  ammonite.$sess.cmd0$Helper$ChecksumAccumulator.<init>(\u001b[32mcmd0.sc\u001b[39m:\u001b[32m106\u001b[39m)\n  ammonite.$sess.cmd0$Helper$ChecksumAccumulator.<init>(\u001b[32mcmd0.sc\u001b[39m:\u001b[32m106\u001b[39m)\n  ammonite.$sess.cmd0$Helper$ChecksumAccumulator.<init>(\u001b[32mcmd0.sc\u001b[39m:\u001b[32m106\u001b[39m)\n  ammonite.$sess.cmd0$Helper$ChecksumAccumulator.<init>(\u001b[32mcmd0.sc\u001b[39m:\u001b[32m106\u001b[39m)\n  ammonite.$sess.cmd0$Helper$ChecksumAccumulator.<init>(\u001b[32mcmd0.sc\u001b[39m:\u001b[32m106\u001b[39m)\n  ammonite.$sess.cmd0$Helper$ChecksumAccumulator.<init>(\u001b[32mcmd0.sc\u001b[39m:\u001b[32m106\u001b[39m)\n  ammonite.$sess.cmd0$Helper$ChecksumAccumulator.<init>(\u001b[32mcmd0.sc\u001b[39m:\u001b[32m106\u001b[39m)\n  ammonite.$sess.cmd0$Helper$ChecksumAccumulator.<init>(\u001b[32mcmd0.sc\u001b[39m:\u001b[32m106\u001b[39m)\n  ammonite.$sess.cmd0$Helper$ChecksumAccumulator.<init>(\u001b[32mcmd0.sc\u001b[39m:\u001b[32m106\u001b[39m)\n  ammonite.$sess.cmd0$Helper$ChecksumAccumulator.<init>(\u001b[32mcmd0.sc\u001b[39m:\u001b[32m106\u001b[39m)\n  ammonite.$sess.cmd0$Helper$ChecksumAccumulator.<init>(\u001b[32mcmd0.sc\u001b[39m:\u001b[32m106\u001b[39m)\n  ammonite.$sess.cmd0$Helper$ChecksumAccumulator.<init>(\u001b[32mcmd0.sc\u001b[39m:\u001b[32m106\u001b[39m)\n  ammonite.$sess.cmd0$Helper$ChecksumAccumulator.<init>(\u001b[32mcmd0.sc\u001b[39m:\u001b[32m106\u001b[39m)\n  ammonite.$sess.cmd0$Helper$ChecksumAccumulator.<init>(\u001b[32mcmd0.sc\u001b[39m:\u001b[32m106\u001b[39m)\n  ammonite.$sess.cmd0$Helper$ChecksumAccumulator.<init>(\u001b[32mcmd0.sc\u001b[39m:\u001b[32m106\u001b[39m)\n  ammonite.$sess.cmd0$Helper$ChecksumAccumulator.<init>(\u001b[32mcmd0.sc\u001b[39m:\u001b[32m106\u001b[39m)\n  ammonite.$sess.cmd0$Helper$ChecksumAccumulator.<init>(\u001b[32mcmd0.sc\u001b[39m:\u001b[32m106\u001b[39m)\n  ammonite.$sess.cmd0$Helper$ChecksumAccumulator.<init>(\u001b[32mcmd0.sc\u001b[39m:\u001b[32m106\u001b[39m)\n  ammonite.$sess.cmd0$Helper$ChecksumAccumulator.<init>(\u001b[32mcmd0.sc\u001b[39m:\u001b[32m106\u001b[39m)\n  ammonite.$sess.cmd0$Helper$ChecksumAccumulator.<init>(\u001b[32mcmd0.sc\u001b[39m:\u001b[32m106\u001b[39m)\n  ammonite.$sess.cmd0$Helper$ChecksumAccumulator.<init>(\u001b[32mcmd0.sc\u001b[39m:\u001b[32m106\u001b[39m)\n  ammonite.$sess.cmd0$Helper$ChecksumAccumulator.<init>(\u001b[32mcmd0.sc\u001b[39m:\u001b[32m106\u001b[39m)\n  ammonite.$sess.cmd0$Helper$ChecksumAccumulator.<init>(\u001b[32mcmd0.sc\u001b[39m:\u001b[32m106\u001b[39m)\n  ammonite.$sess.cmd0$Helper$ChecksumAccumulator.<init>(\u001b[32mcmd0.sc\u001b[39m:\u001b[32m106\u001b[39m)\n  ammonite.$sess.cmd0$Helper$ChecksumAccumulator.<init>(\u001b[32mcmd0.sc\u001b[39m:\u001b[32m106\u001b[39m)\n  ammonite.$sess.cmd0$Helper$ChecksumAccumulator.<init>(\u001b[32mcmd0.sc\u001b[39m:\u001b[32m106\u001b[39m)\n  ammonite.$sess.cmd0$Helper$ChecksumAccumulator.<init>(\u001b[32mcmd0.sc\u001b[39m:\u001b[32m106\u001b[39m)\n  ammonite.$sess.cmd0$Helper$ChecksumAccumulator.<init>(\u001b[32mcmd0.sc\u001b[39m:\u001b[32m106\u001b[39m)\n  ammonite.$sess.cmd0$Helper$ChecksumAccumulator.<init>(\u001b[32mcmd0.sc\u001b[39m:\u001b[32m106\u001b[39m)\n  ammonite.$sess.cmd0$Helper$ChecksumAccumulator.<init>(\u001b[32mcmd0.sc\u001b[39m:\u001b[32m106\u001b[39m)\n  ammonite.$sess.cmd0$Helper$ChecksumAccumulator.<init>(\u001b[32mcmd0.sc\u001b[39m:\u001b[32m106\u001b[39m)\n  ammonite.$sess.cmd0$Helper$ChecksumAccumulator.<init>(\u001b[32mcmd0.sc\u001b[39m:\u001b[32m106\u001b[39m)\n  ammonite.$sess.cmd0$Helper$ChecksumAccumulator.<init>(\u001b[32mcmd0.sc\u001b[39m:\u001b[32m106\u001b[39m)\n  ammonite.$sess.cmd0$Helper$ChecksumAccumulator.<init>(\u001b[32mcmd0.sc\u001b[39m:\u001b[32m106\u001b[39m)\n  ammonite.$sess.cmd0$Helper$ChecksumAccumulator.<init>(\u001b[32mcmd0.sc\u001b[39m:\u001b[32m106\u001b[39m)\n  ammonite.$sess.cmd0$Helper$ChecksumAccumulator.<init>(\u001b[32mcmd0.sc\u001b[39m:\u001b[32m106\u001b[39m)\n  ammonite.$sess.cmd0$Helper$ChecksumAccumulator.<init>(\u001b[32mcmd0.sc\u001b[39m:\u001b[32m106\u001b[39m)\n  ammonite.$sess.cmd0$Helper$ChecksumAccumulator.<init>(\u001b[32mcmd0.sc\u001b[39m:\u001b[32m106\u001b[39m)\n  ammonite.$sess.cmd0$Helper$ChecksumAccumulator.<init>(\u001b[32mcmd0.sc\u001b[39m:\u001b[32m106\u001b[39m)\n  ammonite.$sess.cmd0$Helper$ChecksumAccumulator.<init>(\u001b[32mcmd0.sc\u001b[39m:\u001b[32m106\u001b[39m)\n  ammonite.$sess.cmd0$Helper$ChecksumAccumulator.<init>(\u001b[32mcmd0.sc\u001b[39m:\u001b[32m106\u001b[39m)\n  ammonite.$sess.cmd0$Helper$ChecksumAccumulator.<init>(\u001b[32mcmd0.sc\u001b[39m:\u001b[32m106\u001b[39m)\n  ammonite.$sess.cmd0$Helper$ChecksumAccumulator.<init>(\u001b[32mcmd0.sc\u001b[39m:\u001b[32m106\u001b[39m)\n  ammonite.$sess.cmd0$Helper$ChecksumAccumulator.<init>(\u001b[32mcmd0.sc\u001b[39m:\u001b[32m106\u001b[39m)\n  ammonite.$sess.cmd0$Helper$ChecksumAccumulator.<init>(\u001b[32mcmd0.sc\u001b[39m:\u001b[32m106\u001b[39m)\n  ammonite.$sess.cmd0$Helper$ChecksumAccumulator.<init>(\u001b[32mcmd0.sc\u001b[39m:\u001b[32m106\u001b[39m)\n  ammonite.$sess.cmd0$Helper$ChecksumAccumulator.<init>(\u001b[32mcmd0.sc\u001b[39m:\u001b[32m106\u001b[39m)\n  ammonite.$sess.cmd0$Helper$ChecksumAccumulator.<init>(\u001b[32mcmd0.sc\u001b[39m:\u001b[32m106\u001b[39m)\n  ammonite.$sess.cmd0$Helper$ChecksumAccumulator.<init>(\u001b[32mcmd0.sc\u001b[39m:\u001b[32m106\u001b[39m)\n  ammonite.$sess.cmd0$Helper$ChecksumAccumulator.<init>(\u001b[32mcmd0.sc\u001b[39m:\u001b[32m106\u001b[39m)\n  ammonite.$sess.cmd0$Helper$ChecksumAccumulator.<init>(\u001b[32mcmd0.sc\u001b[39m:\u001b[32m106\u001b[39m)\n  ammonite.$sess.cmd0$Helper$ChecksumAccumulator.<init>(\u001b[32mcmd0.sc\u001b[39m:\u001b[32m106\u001b[39m)\n  ammonite.$sess.cmd0$Helper$ChecksumAccumulator.<init>(\u001b[32mcmd0.sc\u001b[39m:\u001b[32m106\u001b[39m)\n  ammonite.$sess.cmd0$Helper$ChecksumAccumulator.<init>(\u001b[32mcmd0.sc\u001b[39m:\u001b[32m106\u001b[39m)\n  ammonite.$sess.cmd0$Helper$ChecksumAccumulator.<init>(\u001b[32mcmd0.sc\u001b[39m:\u001b[32m106\u001b[39m)\n  ammonite.$sess.cmd0$Helper$ChecksumAccumulator.<init>(\u001b[32mcmd0.sc\u001b[39m:\u001b[32m106\u001b[39m)\n  ammonite.$sess.cmd0$Helper$ChecksumAccumulator.<init>(\u001b[32mcmd0.sc\u001b[39m:\u001b[32m106\u001b[39m)\n  ammonite.$sess.cmd0$Helper$ChecksumAccumulator.<init>(\u001b[32mcmd0.sc\u001b[39m:\u001b[32m106\u001b[39m)\n  ammonite.$sess.cmd0$Helper$ChecksumAccumulator.<init>(\u001b[32mcmd0.sc\u001b[39m:\u001b[32m106\u001b[39m)\n  ammonite.$sess.cmd0$Helper$ChecksumAccumulator.<init>(\u001b[32mcmd0.sc\u001b[39m:\u001b[32m106\u001b[39m)\n  ammonite.$sess.cmd0$Helper$ChecksumAccumulator.<init>(\u001b[32mcmd0.sc\u001b[39m:\u001b[32m106\u001b[39m)\n  ammonite.$sess.cmd0$Helper$ChecksumAccumulator.<init>(\u001b[32mcmd0.sc\u001b[39m:\u001b[32m106\u001b[39m)\n  ammonite.$sess.cmd0$Helper$ChecksumAccumulator.<init>(\u001b[32mcmd0.sc\u001b[39m:\u001b[32m106\u001b[39m)\n  ammonite.$sess.cmd0$Helper$ChecksumAccumulator.<init>(\u001b[32mcmd0.sc\u001b[39m:\u001b[32m106\u001b[39m)\n  ammonite.$sess.cmd0$Helper$ChecksumAccumulator.<init>(\u001b[32mcmd0.sc\u001b[39m:\u001b[32m106\u001b[39m)\n  ammonite.$sess.cmd0$Helper$ChecksumAccumulator.<init>(\u001b[32mcmd0.sc\u001b[39m:\u001b[32m106\u001b[39m)\n  ammonite.$sess.cmd0$Helper$ChecksumAccumulator.<init>(\u001b[32mcmd0.sc\u001b[39m:\u001b[32m106\u001b[39m)\n  ammonite.$sess.cmd0$Helper$ChecksumAccumulator.<init>(\u001b[32mcmd0.sc\u001b[39m:\u001b[32m106\u001b[39m)\n  ammonite.$sess.cmd0$Helper$ChecksumAccumulator.<init>(\u001b[32mcmd0.sc\u001b[39m:\u001b[32m106\u001b[39m)\n  ammonite.$sess.cmd0$Helper$ChecksumAccumulator.<init>(\u001b[32mcmd0.sc\u001b[39m:\u001b[32m106\u001b[39m)\n  ammonite.$sess.cmd0$Helper$ChecksumAccumulator.<init>(\u001b[32mcmd0.sc\u001b[39m:\u001b[32m106\u001b[39m)\n  ammonite.$sess.cmd0$Helper$ChecksumAccumulator.<init>(\u001b[32mcmd0.sc\u001b[39m:\u001b[32m106\u001b[39m)\n  ammonite.$sess.cmd0$Helper$ChecksumAccumulator.<init>(\u001b[32mcmd0.sc\u001b[39m:\u001b[32m106\u001b[39m)\n  ammonite.$sess.cmd0$Helper$ChecksumAccumulator.<init>(\u001b[32mcmd0.sc\u001b[39m:\u001b[32m106\u001b[39m)\n  ammonite.$sess.cmd0$Helper$ChecksumAccumulator.<init>(\u001b[32mcmd0.sc\u001b[39m:\u001b[32m106\u001b[39m)\n  ammonite.$sess.cmd0$Helper$ChecksumAccumulator.<init>(\u001b[32mcmd0.sc\u001b[39m:\u001b[32m106\u001b[39m)\n  ammonite.$sess.cmd0$Helper$ChecksumAccumulator.<init>(\u001b[32mcmd0.sc\u001b[39m:\u001b[32m106\u001b[39m)\n  ammonite.$sess.cmd0$Helper$ChecksumAccumulator.<init>(\u001b[32mcmd0.sc\u001b[39m:\u001b[32m106\u001b[39m)\n  ammonite.$sess.cmd0$Helper$ChecksumAccumulator.<init>(\u001b[32mcmd0.sc\u001b[39m:\u001b[32m106\u001b[39m)\n  ammonite.$sess.cmd0$Helper$ChecksumAccumulator.<init>(\u001b[32mcmd0.sc\u001b[39m:\u001b[32m106\u001b[39m)\n  ammonite.$sess.cmd0$Helper$ChecksumAccumulator.<init>(\u001b[32mcmd0.sc\u001b[39m:\u001b[32m106\u001b[39m)\n  ammonite.$sess.cmd0$Helper$ChecksumAccumulator.<init>(\u001b[32mcmd0.sc\u001b[39m:\u001b[32m106\u001b[39m)\n  ammonite.$sess.cmd0$Helper$ChecksumAccumulator.<init>(\u001b[32mcmd0.sc\u001b[39m:\u001b[32m106\u001b[39m)\n  ammonite.$sess.cmd0$Helper$ChecksumAccumulator.<init>(\u001b[32mcmd0.sc\u001b[39m:\u001b[32m106\u001b[39m)\n  ammonite.$sess.cmd0$Helper$ChecksumAccumulator.<init>(\u001b[32mcmd0.sc\u001b[39m:\u001b[32m106\u001b[39m)\n  ammonite.$sess.cmd0$Helper$ChecksumAccumulator.<init>(\u001b[32mcmd0.sc\u001b[39m:\u001b[32m106\u001b[39m)\n  ammonite.$sess.cmd0$Helper$ChecksumAccumulator.<init>(\u001b[32mcmd0.sc\u001b[39m:\u001b[32m106\u001b[39m)\n  ammonite.$sess.cmd0$Helper$ChecksumAccumulator.<init>(\u001b[32mcmd0.sc\u001b[39m:\u001b[32m106\u001b[39m)\n  ammonite.$sess.cmd0$Helper$ChecksumAccumulator.<init>(\u001b[32mcmd0.sc\u001b[39m:\u001b[32m106\u001b[39m)\n  ammonite.$sess.cmd0$Helper$ChecksumAccumulator.<init>(\u001b[32mcmd0.sc\u001b[39m:\u001b[32m106\u001b[39m)\n  ammonite.$sess.cmd0$Helper$ChecksumAccumulator.<init>(\u001b[32mcmd0.sc\u001b[39m:\u001b[32m106\u001b[39m)\n  ammonite.$sess.cmd0$Helper$ChecksumAccumulator.<init>(\u001b[32mcmd0.sc\u001b[39m:\u001b[32m106\u001b[39m)\n  ammonite.$sess.cmd0$Helper$ChecksumAccumulator.<init>(\u001b[32mcmd0.sc\u001b[39m:\u001b[32m106\u001b[39m)\n  ammonite.$sess.cmd0$Helper$ChecksumAccumulator.<init>(\u001b[32mcmd0.sc\u001b[39m:\u001b[32m106\u001b[39m)\n  ammonite.$sess.cmd0$Helper$ChecksumAccumulator.<init>(\u001b[32mcmd0.sc\u001b[39m:\u001b[32m106\u001b[39m)\n  ammonite.$sess.cmd0$Helper$ChecksumAccumulator.<init>(\u001b[32mcmd0.sc\u001b[39m:\u001b[32m106\u001b[39m)\n  ammonite.$sess.cmd0$Helper$ChecksumAccumulator.<init>(\u001b[32mcmd0.sc\u001b[39m:\u001b[32m106\u001b[39m)\n  ammonite.$sess.cmd0$Helper$ChecksumAccumulator.<init>(\u001b[32mcmd0.sc\u001b[39m:\u001b[32m106\u001b[39m)\n  ammonite.$sess.cmd0$Helper$ChecksumAccumulator.<init>(\u001b[32mcmd0.sc\u001b[39m:\u001b[32m106\u001b[39m)\n  ammonite.$sess.cmd0$Helper$ChecksumAccumulator.<init>(\u001b[32mcmd0.sc\u001b[39m:\u001b[32m106\u001b[39m)\n  ammonite.$sess.cmd0$Helper$ChecksumAccumulator.<init>(\u001b[32mcmd0.sc\u001b[39m:\u001b[32m106\u001b[39m)\n  ammonite.$sess.cmd0$Helper$ChecksumAccumulator.<init>(\u001b[32mcmd0.sc\u001b[39m:\u001b[32m106\u001b[39m)\n  ammonite.$sess.cmd0$Helper$ChecksumAccumulator.<init>(\u001b[32mcmd0.sc\u001b[39m:\u001b[32m106\u001b[39m)\n  ammonite.$sess.cmd0$Helper$ChecksumAccumulator.<init>(\u001b[32mcmd0.sc\u001b[39m:\u001b[32m106\u001b[39m)\n  ammonite.$sess.cmd0$Helper$ChecksumAccumulator.<init>(\u001b[32mcmd0.sc\u001b[39m:\u001b[32m106\u001b[39m)\n  ammonite.$sess.cmd0$Helper$ChecksumAccumulator.<init>(\u001b[32mcmd0.sc\u001b[39m:\u001b[32m106\u001b[39m)\n  ammonite.$sess.cmd0$Helper$ChecksumAccumulator.<init>(\u001b[32mcmd0.sc\u001b[39m:\u001b[32m106\u001b[39m)\n  ammonite.$sess.cmd0$Helper$ChecksumAccumulator.<init>(\u001b[32mcmd0.sc\u001b[39m:\u001b[32m106\u001b[39m)\n  ammonite.$sess.cmd0$Helper$ChecksumAccumulator.<init>(\u001b[32mcmd0.sc\u001b[39m:\u001b[32m106\u001b[39m)\n  ammonite.$sess.cmd0$Helper$ChecksumAccumulator.<init>(\u001b[32mcmd0.sc\u001b[39m:\u001b[32m106\u001b[39m)\n  ammonite.$sess.cmd0$Helper$ChecksumAccumulator.<init>(\u001b[32mcmd0.sc\u001b[39m:\u001b[32m106\u001b[39m)"
     ]
    }
   ],
   "source": [
    "new ChecksumAccumulator"
   ]
  },
  {
   "cell_type": "code",
   "execution_count": 3,
   "id": "d85bf9f7",
   "metadata": {},
   "outputs": [
    {
     "data": {
      "text/plain": [
       "defined \u001b[32mclass\u001b[39m \u001b[36mChecksumAccumulator\u001b[39m"
      ]
     },
     "execution_count": 3,
     "metadata": {},
     "output_type": "execute_result"
    }
   ],
   "source": [
    "class ChecksumAccumulator:\n",
    "    var sum = 0"
   ]
  },
  {
   "cell_type": "code",
   "execution_count": 4,
   "id": "ae1085ef",
   "metadata": {},
   "outputs": [
    {
     "data": {
      "text/plain": [
       "\u001b[36macc\u001b[39m: \u001b[32mChecksumAccumulator\u001b[39m = ammonite.$sess.cmd2$Helper$ChecksumAccumulator@47253459\n",
       "\u001b[36mcsa\u001b[39m: \u001b[32mChecksumAccumulator\u001b[39m = ammonite.$sess.cmd2$Helper$ChecksumAccumulator@60ca848"
      ]
     },
     "execution_count": 4,
     "metadata": {},
     "output_type": "execute_result"
    }
   ],
   "source": [
    "val acc = new ChecksumAccumulator\n",
    "val csa = new ChecksumAccumulator"
   ]
  },
  {
   "cell_type": "code",
   "execution_count": 5,
   "id": "b2fe2a6b",
   "metadata": {},
   "outputs": [],
   "source": [
    "acc.sum = 3"
   ]
  },
  {
   "cell_type": "code",
   "execution_count": 5,
   "id": "b87fb49b",
   "metadata": {},
   "outputs": [
    {
     "name": "stderr",
     "output_type": "stream",
     "text": [
      "    |val res5 = acc = new ChecksumAccumulator\n",
      "    |           ^^^^^^^^^^^^^^^^^^^^^^^^^^^^^\n",
      "    |           Reassignment to val accCompilation Failed"
     ]
    },
    {
     "ename": "",
     "evalue": "",
     "output_type": "error",
     "traceback": [
      "Compilation Failed"
     ]
    }
   ],
   "source": [
    "acc = new ChecksumAccumulator"
   ]
  },
  {
   "cell_type": "code",
   "execution_count": 6,
   "id": "f16b6b34",
   "metadata": {},
   "outputs": [
    {
     "data": {
      "text/plain": [
       "defined \u001b[32mclass\u001b[39m \u001b[36mChecksumAccumulator\u001b[39m"
      ]
     },
     "execution_count": 6,
     "metadata": {},
     "output_type": "execute_result"
    }
   ],
   "source": [
    "class ChecksumAccumulator:\n",
    "    private var sum = 0"
   ]
  },
  {
   "cell_type": "code",
   "execution_count": 6,
   "id": "2de7dee0",
   "metadata": {},
   "outputs": [
    {
     "name": "stderr",
     "output_type": "stream",
     "text": [
      "    |val res6_1 = acc.sum = 5\n",
      "    |             ^^^^^^^\n",
      "    |variable sum cannot be accessed as a member of (Helper.this.acc : cmd6.this.cmd5.ChecksumAccumulator) from class Helper.Compilation Failed"
     ]
    },
    {
     "ename": "",
     "evalue": "",
     "output_type": "error",
     "traceback": [
      "Compilation Failed"
     ]
    }
   ],
   "source": [
    "val acc = new ChecksumAccumulator\n",
    "acc.sum = 5"
   ]
  },
  {
   "cell_type": "code",
   "execution_count": 8,
   "id": "3347c5f2",
   "metadata": {},
   "outputs": [
    {
     "data": {
      "text/plain": [
       "defined \u001b[32mclass\u001b[39m \u001b[36mChecksumAccumulator\u001b[39m"
      ]
     },
     "execution_count": 8,
     "metadata": {},
     "output_type": "execute_result"
    }
   ],
   "source": [
    "class ChecksumAccumulator:\n",
    "    private var sum = 0\n",
    "    def add(b: Byte): Unit =\n",
    "        // b = 1 // This won't compile, because b is a val\n",
    "        sum += b\n",
    "    def checksum(): Int = \n",
    "        return ~(sum & 0xFF) + 1"
   ]
  },
  {
   "cell_type": "code",
   "execution_count": 1,
   "id": "2bd3a5df",
   "metadata": {},
   "outputs": [
    {
     "data": {
      "text/plain": [
       "defined \u001b[32mclass\u001b[39m \u001b[36mChecksumAccumulator\u001b[39m"
      ]
     },
     "execution_count": 1,
     "metadata": {},
     "output_type": "execute_result"
    }
   ],
   "source": [
    "class ChecksumAccumulator:\n",
    "    private var sum = 0\n",
    "    def add(b: Byte) = sum += b\n",
    "    def checksum() = ~(sum & 0xFF) + 1"
   ]
  },
  {
   "cell_type": "code",
   "execution_count": 10,
   "id": "eaf95b80",
   "metadata": {},
   "outputs": [
    {
     "name": "stdout",
     "output_type": "stream",
     "text": [
      "hello\n"
     ]
    },
    {
     "data": {
      "text/plain": [
       "\u001b[36ms\u001b[39m: \u001b[32mString\u001b[39m = \u001b[32m\"hello\"\u001b[39m"
      ]
     },
     "execution_count": 10,
     "metadata": {},
     "output_type": "execute_result"
    }
   ],
   "source": [
    "val s = \"hello\"; println(s)"
   ]
  },
  {
   "cell_type": "code",
   "execution_count": 11,
   "id": "9e0acf80",
   "metadata": {},
   "outputs": [
    {
     "data": {
      "text/plain": [
       "\u001b[36mx\u001b[39m: \u001b[32mInt\u001b[39m = \u001b[32m3\u001b[39m\n",
       "\u001b[36mres10_1\u001b[39m: \u001b[32mString\u001b[39m = \u001b[32m\"ok\"\u001b[39m"
      ]
     },
     "execution_count": 11,
     "metadata": {},
     "output_type": "execute_result"
    }
   ],
   "source": [
    "val x = 3\n",
    "if x < 2 then\n",
    "    \"too small\"\n",
    "else\n",
    "    \"ok\""
   ]
  },
  {
   "cell_type": "code",
   "execution_count": 2,
   "id": "e5174c1c",
   "metadata": {},
   "outputs": [
    {
     "data": {
      "text/plain": [
       "\u001b[32mimport \u001b[39m\u001b[36mscala.collection.mutable\n",
       "\n",
       "\u001b[39m\n",
       "defined \u001b[32mobject\u001b[39m \u001b[36mChecksumAccumulator\u001b[39m"
      ]
     },
     "execution_count": 2,
     "metadata": {},
     "output_type": "execute_result"
    }
   ],
   "source": [
    "import scala.collection.mutable\n",
    "\n",
    "object ChecksumAccumulator:\n",
    "    private val cache = mutable.Map.empty[String, Int]\n",
    "    def calculate(s: String): Int =\n",
    "        if cache.contains(s) then\n",
    "            cache(s)\n",
    "        else\n",
    "            val acc = new ChecksumAccumulator // 위에서 정의한 ChecksumAccumulator 클래스 부름\n",
    "            for c <- s do\n",
    "                acc.add((c >> 8).toByte)\n",
    "                acc.add(c.toByte)\n",
    "            val cs = acc.checksum()\n",
    "            cache += (s -> cs)\n",
    "            cs"
   ]
  },
  {
   "cell_type": "code",
   "execution_count": 2,
   "id": "56bb5fe9",
   "metadata": {},
   "outputs": [
    {
     "name": "stderr",
     "output_type": "stream",
     "text": [
      "    |val res2 = ChecksumAccumulator.calculate(\"Every value is an object.\")\n",
      "    |           ^^^^^^^^^^^^^^^^^^^\n",
      "    | Reference to ChecksumAccumulator is ambiguous,\n",
      "    | it is both imported by name by import (cmd2.this.cmd0 : \n",
      "    |   (ammonite.$sess.cmd0.instance : ammonite.$sess.cmd0.wrapper.Helper)\n",
      "    | ).ChecksumAccumulator\n",
      "    | and imported by name subsequently by import (cmd2.this.cmd1 : \n",
      "    |   (ammonite.$sess.cmd1.instance : ammonite.$sess.cmd1.wrapper.Helper)\n",
      "    | ).ChecksumAccumulatorCompilation Failed"
     ]
    },
    {
     "ename": "",
     "evalue": "",
     "output_type": "error",
     "traceback": [
      "Compilation Failed"
     ]
    }
   ],
   "source": [
    "ChecksumAccumulator.calculate(\"Every value is an object.\")"
   ]
  },
  {
   "cell_type": "code",
   "execution_count": 13,
   "id": "260129b0",
   "metadata": {},
   "outputs": [
    {
     "data": {
      "text/plain": [
       "defined \u001b[32mclass\u001b[39m \u001b[36mPerson\u001b[39m"
      ]
     },
     "execution_count": 13,
     "metadata": {},
     "output_type": "execute_result"
    }
   ],
   "source": [
    "case class Person(name: String, age: Int)"
   ]
  },
  {
   "cell_type": "code",
   "execution_count": 14,
   "id": "dc9f9a52",
   "metadata": {},
   "outputs": [
    {
     "data": {
      "text/plain": [
       "\u001b[36mp\u001b[39m: \u001b[32mPerson\u001b[39m = \u001b[33mPerson\u001b[39m(name = \u001b[32m\"Sally\"\u001b[39m, age = \u001b[32m39\u001b[39m)"
      ]
     },
     "execution_count": 14,
     "metadata": {},
     "output_type": "execute_result"
    }
   ],
   "source": [
    "val p = Person(\"Sally\",39)"
   ]
  },
  {
   "cell_type": "code",
   "execution_count": 15,
   "id": "963900b7",
   "metadata": {},
   "outputs": [
    {
     "data": {
      "text/plain": [
       "\u001b[36mres14_0\u001b[39m: \u001b[32mString\u001b[39m = \u001b[32m\"Sally\"\u001b[39m\n",
       "\u001b[36mres14_1\u001b[39m: \u001b[32mInt\u001b[39m = \u001b[32m39\u001b[39m"
      ]
     },
     "execution_count": 15,
     "metadata": {},
     "output_type": "execute_result"
    }
   ],
   "source": [
    "p.name\n",
    "p.age"
   ]
  },
  {
   "cell_type": "code",
   "execution_count": 16,
   "id": "508b88ec",
   "metadata": {},
   "outputs": [
    {
     "data": {
      "text/plain": [
       "\u001b[36mres15\u001b[39m: \u001b[32mString\u001b[39m = \u001b[32m\"Person(Sally,39)\"\u001b[39m"
      ]
     },
     "execution_count": 16,
     "metadata": {},
     "output_type": "execute_result"
    }
   ],
   "source": [
    "p.toString"
   ]
  },
  {
   "cell_type": "code",
   "execution_count": 17,
   "id": "7463e8e4",
   "metadata": {},
   "outputs": [
    {
     "data": {
      "text/plain": [
       "\u001b[36mres16_0\u001b[39m: \u001b[32mBoolean\u001b[39m = \u001b[32mfalse\u001b[39m\n",
       "\u001b[36mres16_1\u001b[39m: \u001b[32mBoolean\u001b[39m = \u001b[32mfalse\u001b[39m\n",
       "\u001b[36mres16_2\u001b[39m: \u001b[32mBoolean\u001b[39m = \u001b[32mfalse\u001b[39m\n",
       "\u001b[36mres16_3\u001b[39m: \u001b[32mBoolean\u001b[39m = \u001b[32mfalse\u001b[39m\n",
       "\u001b[36mres16_4\u001b[39m: \u001b[32mBoolean\u001b[39m = \u001b[32mtrue\u001b[39m\n",
       "\u001b[36mres16_5\u001b[39m: \u001b[32mBoolean\u001b[39m = \u001b[32mtrue\u001b[39m"
      ]
     },
     "execution_count": 17,
     "metadata": {},
     "output_type": "execute_result"
    }
   ],
   "source": [
    "p == Person(\"Sally\", 21)\n",
    "p.hashCode == Person(\"Sally\", 21).hashCode\n",
    "p == Person(\"James\", 39)\n",
    "p.hashCode == Person(\"James\", 39).hashCode\n",
    "p == Person(\"Sally\",39)\n",
    "p.hashCode == Person(\"Sally\",39).hashCode"
   ]
  },
  {
   "cell_type": "code",
   "execution_count": 18,
   "id": "2c1d7087",
   "metadata": {},
   "outputs": [
    {
     "data": {
      "text/plain": [
       "\u001b[36mres17\u001b[39m: \u001b[32mInt\u001b[39m = \u001b[32m-310542551\u001b[39m"
      ]
     },
     "execution_count": 18,
     "metadata": {},
     "output_type": "execute_result"
    }
   ],
   "source": [
    "p.hashCode"
   ]
  },
  {
   "cell_type": "code",
   "execution_count": 19,
   "id": "22283335",
   "metadata": {},
   "outputs": [
    {
     "data": {
      "text/plain": [
       "defined \u001b[32mclass\u001b[39m \u001b[36mPerson\u001b[39m\n",
       "defined \u001b[32mobject\u001b[39m \u001b[36mPerson\u001b[39m"
      ]
     },
     "execution_count": 19,
     "metadata": {},
     "output_type": "execute_result"
    }
   ],
   "source": [
    "case class Person(name: String, age: Int):\n",
    "    def appendToName(suffix: String): Person =\n",
    "        Person(s\"$name$suffix\", age)\n",
    "\n",
    "object Person:\n",
    "    // Ensure non-empty name is capitalized\n",
    "    def apply(name: String, age: Int): Person =\n",
    "        val capitalizedName =\n",
    "            if !name.isEmpty then\n",
    "                val firstChar = name.charAt(0).toUpper\n",
    "                val restOfName = name.substring(1)\n",
    "                s\"$firstChar$restOfName\"\n",
    "            else throw new IllegalArgumentException(\"Empty name\")\n",
    "        new Person(capitalizedName, age)"
   ]
  },
  {
   "cell_type": "code",
   "execution_count": 20,
   "id": "a9e7b8ac",
   "metadata": {},
   "outputs": [
    {
     "data": {
      "text/plain": [
       "\u001b[36mq\u001b[39m: \u001b[32mPerson\u001b[39m = \u001b[33mPerson\u001b[39m(name = \u001b[32m\"Sally\"\u001b[39m, age = \u001b[32m39\u001b[39m)"
      ]
     },
     "execution_count": 20,
     "metadata": {},
     "output_type": "execute_result"
    }
   ],
   "source": [
    "val q = Person(\"sally\", 39)"
   ]
  },
  {
   "cell_type": "code",
   "execution_count": 21,
   "id": "3dd75269",
   "metadata": {},
   "outputs": [
    {
     "data": {
      "text/plain": [
       "\u001b[36mres20\u001b[39m: \u001b[32mPerson\u001b[39m = \u001b[33mPerson\u001b[39m(name = \u001b[32m\"Sally Smith\"\u001b[39m, age = \u001b[32m39\u001b[39m)"
      ]
     },
     "execution_count": 21,
     "metadata": {},
     "output_type": "execute_result"
    }
   ],
   "source": [
    "q.appendToName(\" Smith\")"
   ]
  },
  {
   "cell_type": "code",
   "execution_count": 21,
   "id": "ea7db849",
   "metadata": {},
   "outputs": [
    {
     "name": "stderr",
     "output_type": "stream",
     "text": [
      "    |import ChecksumAccumulator.calculate\n",
      "    |       ^^^^^^^^^^^^^^^^^^^\n",
      "    |Reference to ChecksumAccumulator is ambiguous,\n",
      "    |it is both imported by name by import (cmd21.this.cmd8 : \n",
      "    |  (ammonite.$sess.cmd8.instance : ammonite.$sess.cmd8.wrapper.Helper)\n",
      "    |).ChecksumAccumulator\n",
      "    |and imported by name subsequently by import (cmd21.this.cmd11 : \n",
      "    |  (ammonite.$sess.cmd11.instance : ammonite.$sess.cmd11.wrapper.Helper)\n",
      "    |).ChecksumAccumulatorCompilation Failed"
     ]
    },
    {
     "ename": "",
     "evalue": "",
     "output_type": "error",
     "traceback": [
      "Compilation Failed"
     ]
    }
   ],
   "source": [
    "import ChecksumAccumulator.calculate\n",
    "\n",
    "object Summer:\n",
    "    def main(args: Array[String]): Unit =\n",
    "        for arg <- args do\n",
    "            println(arg + \": \" + calculate(arg))"
   ]
  },
  {
   "cell_type": "markdown",
   "id": "2399329f",
   "metadata": {},
   "source": [
    "### Chapter 5"
   ]
  },
  {
   "cell_type": "code",
   "execution_count": 7,
   "id": "f8493b3e",
   "metadata": {},
   "outputs": [
    {
     "data": {
      "text/plain": [
       "\u001b[36mhex\u001b[39m: \u001b[32mInt\u001b[39m = \u001b[32m5\u001b[39m\n",
       "\u001b[36mhex2\u001b[39m: \u001b[32mInt\u001b[39m = \u001b[32m255\u001b[39m\n",
       "\u001b[36mmagix\u001b[39m: \u001b[32mInt\u001b[39m = \u001b[32m-889275714\u001b[39m\n",
       "\u001b[36mbillion\u001b[39m: \u001b[32mInt\u001b[39m = \u001b[32m1000000000\u001b[39m"
      ]
     },
     "execution_count": 7,
     "metadata": {},
     "output_type": "execute_result"
    }
   ],
   "source": [
    "val hex = 0x5\n",
    "val hex2 = 0x00FF\n",
    "val magix = 0xcafebabe\n",
    "val billion = 1_000_000_000"
   ]
  },
  {
   "cell_type": "code",
   "execution_count": 2,
   "id": "48c07898",
   "metadata": {},
   "outputs": [
    {
     "data": {
      "text/plain": [
       "\u001b[36mdec1\u001b[39m: \u001b[32mInt\u001b[39m = \u001b[32m31\u001b[39m\n",
       "\u001b[36mdec2\u001b[39m: \u001b[32mInt\u001b[39m = \u001b[32m255\u001b[39m\n",
       "\u001b[36mdec3\u001b[39m: \u001b[32mInt\u001b[39m = \u001b[32m20\u001b[39m"
      ]
     },
     "execution_count": 2,
     "metadata": {},
     "output_type": "execute_result"
    }
   ],
   "source": [
    "val dec1 = 31\n",
    "val dec2 = 255\n",
    "val dec3 = 20"
   ]
  },
  {
   "cell_type": "code",
   "execution_count": 3,
   "id": "86465eea",
   "metadata": {},
   "outputs": [
    {
     "data": {
      "text/plain": [
       "\u001b[36mprog\u001b[39m: \u001b[32mLong\u001b[39m = \u001b[32m3405691582L\u001b[39m\n",
       "\u001b[36mtower\u001b[39m: \u001b[32mLong\u001b[39m = \u001b[32m35L\u001b[39m\n",
       "\u001b[36mof\u001b[39m: \u001b[32mLong\u001b[39m = \u001b[32m31L\u001b[39m"
      ]
     },
     "execution_count": 3,
     "metadata": {},
     "output_type": "execute_result"
    }
   ],
   "source": [
    "val prog = 0XCAFEBABEL\n",
    "val tower = 35L\n",
    "val of = 31l"
   ]
  },
  {
   "cell_type": "code",
   "execution_count": 8,
   "id": "6fe67799",
   "metadata": {},
   "outputs": [
    {
     "data": {
      "text/plain": [
       "\u001b[36mlittle\u001b[39m: \u001b[32mShort\u001b[39m = \u001b[32m367\u001b[39m\n",
       "\u001b[36mlittler\u001b[39m: \u001b[32mByte\u001b[39m = \u001b[32m38\u001b[39m"
      ]
     },
     "execution_count": 8,
     "metadata": {},
     "output_type": "execute_result"
    }
   ],
   "source": [
    "val little: Short = 367\n",
    "val littler: Byte = 38"
   ]
  },
  {
   "cell_type": "code",
   "execution_count": 9,
   "id": "17966ced",
   "metadata": {},
   "outputs": [
    {
     "data": {
      "text/plain": [
       "\u001b[36mbig\u001b[39m: \u001b[32mDouble\u001b[39m = \u001b[32m1.2345\u001b[39m\n",
       "\u001b[36mbigger\u001b[39m: \u001b[32mDouble\u001b[39m = \u001b[32m12.345\u001b[39m\n",
       "\u001b[36mbiggerStill\u001b[39m: \u001b[32mDouble\u001b[39m = \u001b[32m1.23E47\u001b[39m\n",
       "\u001b[36mtrillion\u001b[39m: \u001b[32mDouble\u001b[39m = \u001b[32m1.0E12\u001b[39m"
      ]
     },
     "execution_count": 9,
     "metadata": {},
     "output_type": "execute_result"
    }
   ],
   "source": [
    "val big = 1.2345\n",
    "val bigger = 1.2345e1\n",
    "val biggerStill = 123E45\n",
    "val trillion = 1_000_000_000e3"
   ]
  },
  {
   "cell_type": "code",
   "execution_count": 11,
   "id": "b3071d52",
   "metadata": {},
   "outputs": [
    {
     "data": {
      "text/plain": [
       "\u001b[36mlittle\u001b[39m: \u001b[32mFloat\u001b[39m = \u001b[32m1.2345F\u001b[39m\n",
       "\u001b[36mlittleBigger\u001b[39m: \u001b[32mFloat\u001b[39m = \u001b[32m300000.0F\u001b[39m"
      ]
     },
     "execution_count": 11,
     "metadata": {},
     "output_type": "execute_result"
    }
   ],
   "source": [
    "val little = 1.2345F\n",
    "val littleBigger = 3e5f"
   ]
  },
  {
   "cell_type": "code",
   "execution_count": 12,
   "id": "3f8d3a9c",
   "metadata": {},
   "outputs": [
    {
     "data": {
      "text/plain": [
       "\u001b[36manotherDouble\u001b[39m: \u001b[32mDouble\u001b[39m = \u001b[32m300000.0\u001b[39m\n",
       "\u001b[36myetAnother\u001b[39m: \u001b[32mDouble\u001b[39m = \u001b[32m300000.0\u001b[39m"
      ]
     },
     "execution_count": 12,
     "metadata": {},
     "output_type": "execute_result"
    }
   ],
   "source": [
    "val anotherDouble = 3e5\n",
    "val yetAnother = 3e5D"
   ]
  },
  {
   "cell_type": "code",
   "execution_count": 15,
   "id": "48c52c15",
   "metadata": {},
   "outputs": [
    {
     "name": "stderr",
     "output_type": "stream",
     "text": [
      "(console)\n",
      "  |import scala.language.experimental.genericNumberLiterals\n",
      "  |       ^^^^^^^^^^^^^^^^^^^^^^^^^^^^^^^^^^^^^^^^^^^^^^^^^\n",
      "  |Experimental features may only be used with nightly or snapshot version of compiler"
     ]
    },
    {
     "ename": "",
     "evalue": "",
     "output_type": "error",
     "traceback": [
      "(console)\n  |import scala.language.experimental.genericNumberLiterals\n  |       ^^^^^^^^^^^^^^^^^^^^^^^^^^^^^^^^^^^^^^^^^^^^^^^^^\n  |Experimental features may only be used with nightly or snapshot version of compiler"
     ]
    }
   ],
   "source": [
    "import scala.language.experimental.genericNumberLiterals"
   ]
  },
  {
   "cell_type": "code",
   "execution_count": 12,
   "id": "8e0e30c0",
   "metadata": {},
   "outputs": [
    {
     "name": "stderr",
     "output_type": "stream",
     "text": [
      "    |val invoice: BigInt = 1_000_000_000_000_000_000_000\n",
      "    |                      ^^^^^^^^^^^^^^^^^^^^^^^^^^^^^\n",
      "    |                      number too largeCompilation Failed"
     ]
    },
    {
     "ename": "",
     "evalue": "",
     "output_type": "error",
     "traceback": [
      "Compilation Failed"
     ]
    }
   ],
   "source": [
    "val invoice: BigInt = 1_000_000_000_000_000_000_000\n",
    "val pi: BigDecimal = 3.1415926535897932384626433833"
   ]
  },
  {
   "cell_type": "code",
   "execution_count": 16,
   "id": "b7a6ce4d",
   "metadata": {},
   "outputs": [
    {
     "data": {
      "text/plain": [
       "\u001b[36ma\u001b[39m: \u001b[32mChar\u001b[39m = \u001b[32m'A'\u001b[39m"
      ]
     },
     "execution_count": 16,
     "metadata": {},
     "output_type": "execute_result"
    }
   ],
   "source": [
    "val a = 'A'"
   ]
  },
  {
   "cell_type": "code",
   "execution_count": 17,
   "id": "b513c786",
   "metadata": {},
   "outputs": [
    {
     "data": {
      "text/plain": [
       "\u001b[36md\u001b[39m: \u001b[32mChar\u001b[39m = \u001b[32m'A'\u001b[39m\n",
       "\u001b[36mf\u001b[39m: \u001b[32mChar\u001b[39m = \u001b[32m'D'\u001b[39m"
      ]
     },
     "execution_count": 17,
     "metadata": {},
     "output_type": "execute_result"
    }
   ],
   "source": [
    "val d = '\\u0041'\n",
    "val f = '\\u0044'"
   ]
  },
  {
   "cell_type": "code",
   "execution_count": 17,
   "id": "c7cb9bce",
   "metadata": {},
   "outputs": [
    {
     "name": "stderr",
     "output_type": "stream",
     "text": [
      "    |val B\\u0041\\u0044 = 1\n",
      "    |           ^\n",
      "    |           Not found: \\    |val B\\u0041\\u0044 = 1\n",
      "    |     ^\n",
      "    |     Not found: \\Compilation Failed"
     ]
    },
    {
     "ename": "",
     "evalue": "",
     "output_type": "error",
     "traceback": [
      "Compilation Failed"
     ]
    }
   ],
   "source": [
    "val B\\u0041\\u0044 = 1\n",
    "// val BAD: Int = 1"
   ]
  },
  {
   "cell_type": "code",
   "execution_count": 20,
   "id": "5b7ae1d3",
   "metadata": {},
   "outputs": [
    {
     "data": {
      "text/plain": [
       "\u001b[36mbackslash\u001b[39m: \u001b[32mChar\u001b[39m = \u001b[32m'\\\\'\u001b[39m"
      ]
     },
     "execution_count": 20,
     "metadata": {},
     "output_type": "execute_result"
    }
   ],
   "source": [
    "val backslash = '\\\\'\n",
    "// val backslah: Char = \\"
   ]
  },
  {
   "cell_type": "code",
   "execution_count": 21,
   "id": "7e1e584d",
   "metadata": {},
   "outputs": [
    {
     "data": {
      "text/plain": [
       "\u001b[36mhello\u001b[39m: \u001b[32mString\u001b[39m = \u001b[32m\"hello\"\u001b[39m"
      ]
     },
     "execution_count": 21,
     "metadata": {},
     "output_type": "execute_result"
    }
   ],
   "source": [
    "val hello = \"hello\""
   ]
  },
  {
   "cell_type": "code",
   "execution_count": 24,
   "id": "d3dc34d3",
   "metadata": {},
   "outputs": [
    {
     "data": {
      "text/plain": [
       "\u001b[36mline_feed\u001b[39m: \u001b[32mChar\u001b[39m = \u001b[32m'\\n'\u001b[39m\n",
       "\u001b[36mlineFeed\u001b[39m: \u001b[32mChar\u001b[39m = \u001b[32m'\\n'\u001b[39m\n",
       "\u001b[36mbackspace\u001b[39m: \u001b[32mChar\u001b[39m = \u001b[32m'\\b'\u001b[39m\n",
       "\u001b[36mBackspace\u001b[39m: \u001b[32mChar\u001b[39m = \u001b[32m'\\b'\u001b[39m\n",
       "\u001b[36mtab\u001b[39m: \u001b[32mChar\u001b[39m = \u001b[32m'\\t'\u001b[39m\n",
       "\u001b[36mTab\u001b[39m: \u001b[32mChar\u001b[39m = \u001b[32m'\\t'\u001b[39m\n",
       "\u001b[36mform_feed\u001b[39m: \u001b[32mChar\u001b[39m = \u001b[32m'\\f'\u001b[39m\n",
       "\u001b[36mformFeed\u001b[39m: \u001b[32mChar\u001b[39m = \u001b[32m'\\f'\u001b[39m\n",
       "\u001b[36mcarriage_return\u001b[39m: \u001b[32mChar\u001b[39m = \u001b[32m'\\r'\u001b[39m\n",
       "\u001b[36mcarriageReturn\u001b[39m: \u001b[32mChar\u001b[39m = \u001b[32m'\\r'\u001b[39m\n",
       "\u001b[36mdouble_quote\u001b[39m: \u001b[32mChar\u001b[39m = \u001b[32m'\\\"'\u001b[39m\n",
       "\u001b[36mdoubleQuote\u001b[39m: \u001b[32mChar\u001b[39m = \u001b[32m'\\\"'\u001b[39m\n",
       "\u001b[36msingle_quote\u001b[39m: \u001b[32mChar\u001b[39m = \u001b[32m'''\u001b[39m\n",
       "\u001b[36msingleQuote\u001b[39m: \u001b[32mChar\u001b[39m = \u001b[32m'''\u001b[39m\n",
       "\u001b[36mbackslash\u001b[39m: \u001b[32mChar\u001b[39m = \u001b[32m'\\\\'\u001b[39m\n",
       "\u001b[36mBackslash\u001b[39m: \u001b[32mChar\u001b[39m = \u001b[32m'\\\\'\u001b[39m"
      ]
     },
     "execution_count": 24,
     "metadata": {},
     "output_type": "execute_result"
    }
   ],
   "source": [
    "val line_feed = '\\n'\n",
    "val lineFeed = '\\u000A'\n",
    "\n",
    "val backspace = '\\b'\n",
    "val Backspace = '\\u0008'\n",
    "\n",
    "val tab = '\\t'\n",
    "val Tab = '\\u0009'\n",
    "\n",
    "val form_feed = '\\f'\n",
    "val formFeed = '\\u000C'\n",
    "\n",
    "val carriage_return = '\\r'\n",
    "val carriageReturn = '\\u000D'\n",
    "\n",
    "val double_quote = '\\\"'\n",
    "val doubleQuote = '\\u0022'\n",
    "\n",
    "val single_quote = '\\''\n",
    "val singleQuote = '\\u0027'\n",
    "\n",
    "val backslash = '\\\\'\n",
    "val Backslash = '\\u005C'"
   ]
  },
  {
   "cell_type": "code",
   "execution_count": 25,
   "id": "01c9afd0",
   "metadata": {},
   "outputs": [
    {
     "data": {
      "text/plain": [
       "\u001b[36mescapes\u001b[39m: \u001b[32mString\u001b[39m = \u001b[32m\"\\\\\\\"'\"\u001b[39m"
      ]
     },
     "execution_count": 25,
     "metadata": {},
     "output_type": "execute_result"
    }
   ],
   "source": [
    "val escapes = \"\\\\\\\"\\'\""
   ]
  },
  {
   "cell_type": "code",
   "execution_count": 31,
   "id": "0a7f45b2",
   "metadata": {},
   "outputs": [
    {
     "name": "stdout",
     "output_type": "stream",
     "text": [
      "Welcome to Ultamix 3000.\n",
      "           Type \"HELP\" for help.\n"
     ]
    }
   ],
   "source": [
    "println(\"\"\"Welcome to Ultamix 3000.\n",
    "           Type \"HELP\" for help.\"\"\")"
   ]
  },
  {
   "cell_type": "code",
   "execution_count": 32,
   "id": "11641f2f",
   "metadata": {},
   "outputs": [
    {
     "name": "stdout",
     "output_type": "stream",
     "text": [
      "Welcome to Ultamix 3000.\n",
      "Type \"HELP\" for help.\n"
     ]
    }
   ],
   "source": [
    "println(\"\"\"|Welcome to Ultamix 3000.\n",
    "           |Type \"HELP\" for help.\"\"\".stripMargin)"
   ]
  },
  {
   "cell_type": "code",
   "execution_count": 33,
   "id": "16e7afb0",
   "metadata": {},
   "outputs": [
    {
     "data": {
      "text/plain": [
       "\u001b[36mbool\u001b[39m: \u001b[32mBoolean\u001b[39m = \u001b[32mtrue\u001b[39m\n",
       "\u001b[36mfool\u001b[39m: \u001b[32mBoolean\u001b[39m = \u001b[32mfalse\u001b[39m"
      ]
     },
     "execution_count": 33,
     "metadata": {},
     "output_type": "execute_result"
    }
   ],
   "source": [
    "val bool = true\n",
    "val fool = false"
   ]
  },
  {
   "cell_type": "code",
   "execution_count": 34,
   "id": "73710eeb",
   "metadata": {},
   "outputs": [
    {
     "name": "stdout",
     "output_type": "stream",
     "text": [
      "Hello, reader!\n"
     ]
    },
    {
     "data": {
      "text/plain": [
       "\u001b[36mname\u001b[39m: \u001b[32mString\u001b[39m = \u001b[32m\"reader\"\u001b[39m"
      ]
     },
     "execution_count": 34,
     "metadata": {},
     "output_type": "execute_result"
    }
   ],
   "source": [
    "val name = \"reader\"\n",
    "println(s\"Hello, $name!\")"
   ]
  },
  {
   "cell_type": "code",
   "execution_count": 35,
   "id": "0b06929c",
   "metadata": {},
   "outputs": [
    {
     "data": {
      "text/plain": [
       "\u001b[36mres34\u001b[39m: \u001b[32mString\u001b[39m = \u001b[32m\"The answer is 42.\"\u001b[39m"
      ]
     },
     "execution_count": 35,
     "metadata": {},
     "output_type": "execute_result"
    }
   ],
   "source": [
    "s\"The answer is ${6 * 7}.\""
   ]
  },
  {
   "cell_type": "code",
   "execution_count": 36,
   "id": "007493e3",
   "metadata": {},
   "outputs": [
    {
     "name": "stdout",
     "output_type": "stream",
     "text": [
      "No\\\\\\\\escape!\n"
     ]
    }
   ],
   "source": [
    "println(raw\"No\\\\\\\\escape!\")"
   ]
  },
  {
   "cell_type": "code",
   "execution_count": 37,
   "id": "50144a74",
   "metadata": {},
   "outputs": [
    {
     "data": {
      "text/plain": [
       "\u001b[36mres36\u001b[39m: \u001b[32mString\u001b[39m = \u001b[32m\"3.14159\"\u001b[39m"
      ]
     },
     "execution_count": 37,
     "metadata": {},
     "output_type": "execute_result"
    }
   ],
   "source": [
    "f\"${math.Pi}%.5f\""
   ]
  },
  {
   "cell_type": "code",
   "execution_count": 38,
   "id": "62ef63d6",
   "metadata": {},
   "outputs": [
    {
     "data": {
      "text/plain": [
       "\u001b[36mpi\u001b[39m: \u001b[32mString\u001b[39m = \u001b[32m\"Pi\"\u001b[39m\n",
       "\u001b[36mres37_1\u001b[39m: \u001b[32mString\u001b[39m = \u001b[32m\"Pi is approximately 3.14159265.\"\u001b[39m"
      ]
     },
     "execution_count": 38,
     "metadata": {},
     "output_type": "execute_result"
    }
   ],
   "source": [
    "val pi = \"Pi\"\n",
    "f\"$pi is approximately ${math.Pi}%.8f.\""
   ]
  },
  {
   "cell_type": "code",
   "execution_count": 39,
   "id": "49ad1a21",
   "metadata": {},
   "outputs": [
    {
     "data": {
      "text/plain": [
       "\u001b[36msum\u001b[39m: \u001b[32mInt\u001b[39m = \u001b[32m3\u001b[39m"
      ]
     },
     "execution_count": 39,
     "metadata": {},
     "output_type": "execute_result"
    }
   ],
   "source": [
    "val sum = 1 + 2"
   ]
  },
  {
   "cell_type": "code",
   "execution_count": 40,
   "id": "c6f01c5b",
   "metadata": {},
   "outputs": [
    {
     "data": {
      "text/plain": [
       "\u001b[36msumMore\u001b[39m: \u001b[32mInt\u001b[39m = \u001b[32m3\u001b[39m"
      ]
     },
     "execution_count": 40,
     "metadata": {},
     "output_type": "execute_result"
    }
   ],
   "source": [
    "val sumMore = 1.+(2)"
   ]
  },
  {
   "cell_type": "code",
   "execution_count": 41,
   "id": "b8257e0f",
   "metadata": {},
   "outputs": [
    {
     "data": {
      "text/plain": [
       "\u001b[36mlongSum\u001b[39m: \u001b[32mLong\u001b[39m = \u001b[32m3L\u001b[39m"
      ]
     },
     "execution_count": 41,
     "metadata": {},
     "output_type": "execute_result"
    }
   ],
   "source": [
    "val longSum = 1 + 2L"
   ]
  },
  {
   "cell_type": "code",
   "execution_count": 42,
   "id": "69e3195c",
   "metadata": {},
   "outputs": [
    {
     "data": {
      "text/plain": [
       "\u001b[36ms\u001b[39m: \u001b[32mString\u001b[39m = \u001b[32m\"Hello, world!\"\u001b[39m"
      ]
     },
     "execution_count": 42,
     "metadata": {},
     "output_type": "execute_result"
    }
   ],
   "source": [
    "val s = \"Hello, world!\""
   ]
  },
  {
   "cell_type": "code",
   "execution_count": 43,
   "id": "264dee95",
   "metadata": {},
   "outputs": [
    {
     "data": {
      "text/plain": [
       "\u001b[36mres42\u001b[39m: \u001b[32mInt\u001b[39m = \u001b[32m4\u001b[39m"
      ]
     },
     "execution_count": 43,
     "metadata": {},
     "output_type": "execute_result"
    }
   ],
   "source": [
    "s indexOf 'o'"
   ]
  },
  {
   "cell_type": "code",
   "execution_count": 44,
   "id": "d47454bc",
   "metadata": {},
   "outputs": [
    {
     "data": {
      "text/plain": [
       "\u001b[36mres43\u001b[39m: \u001b[32mInt\u001b[39m = \u001b[32m4\u001b[39m"
      ]
     },
     "execution_count": 44,
     "metadata": {},
     "output_type": "execute_result"
    }
   ],
   "source": [
    "s.indexOf('o')"
   ]
  },
  {
   "cell_type": "code",
   "execution_count": 45,
   "id": "21da3588",
   "metadata": {},
   "outputs": [
    {
     "data": {
      "text/plain": [
       "\u001b[36mres44\u001b[39m: \u001b[32mDouble\u001b[39m = \u001b[32m-2.0\u001b[39m"
      ]
     },
     "execution_count": 45,
     "metadata": {},
     "output_type": "execute_result"
    }
   ],
   "source": [
    "-2.0"
   ]
  },
  {
   "cell_type": "code",
   "execution_count": 46,
   "id": "f765315f",
   "metadata": {},
   "outputs": [
    {
     "data": {
      "text/plain": [
       "\u001b[36mres45\u001b[39m: \u001b[32mDouble\u001b[39m = \u001b[32m-2.0\u001b[39m"
      ]
     },
     "execution_count": 46,
     "metadata": {},
     "output_type": "execute_result"
    }
   ],
   "source": [
    "(2.0).unary_-"
   ]
  },
  {
   "cell_type": "code",
   "execution_count": 47,
   "id": "77bad60c",
   "metadata": {},
   "outputs": [
    {
     "data": {
      "text/plain": [
       "\u001b[36ms\u001b[39m: \u001b[32mString\u001b[39m = \u001b[32m\"Hello, world!\"\u001b[39m"
      ]
     },
     "execution_count": 47,
     "metadata": {},
     "output_type": "execute_result"
    }
   ],
   "source": [
    "val s = \"Hello, world!\""
   ]
  },
  {
   "cell_type": "code",
   "execution_count": 48,
   "id": "5d1bcc73",
   "metadata": {},
   "outputs": [
    {
     "data": {
      "text/plain": [
       "\u001b[36mres47\u001b[39m: \u001b[32mString\u001b[39m = \u001b[32m\"hello, world!\"\u001b[39m"
      ]
     },
     "execution_count": 48,
     "metadata": {},
     "output_type": "execute_result"
    }
   ],
   "source": [
    "s.toLowerCase"
   ]
  },
  {
   "cell_type": "code",
   "execution_count": 49,
   "id": "d722d490",
   "metadata": {},
   "outputs": [
    {
     "data": {
      "text/plain": [
       "\u001b[32mimport \u001b[39m\u001b[36mscala.language.postfixOps\n",
       "\n",
       "\u001b[39m\n",
       "\u001b[36mres48_1\u001b[39m: \u001b[32mString\u001b[39m = \u001b[32m\"hello, world!\"\u001b[39m"
      ]
     },
     "execution_count": 49,
     "metadata": {},
     "output_type": "execute_result"
    }
   ],
   "source": [
    "import scala.language.postfixOps\n",
    "\n",
    "s toLowerCase"
   ]
  },
  {
   "cell_type": "code",
   "execution_count": 50,
   "id": "0644d876",
   "metadata": {},
   "outputs": [
    {
     "data": {
      "text/plain": [
       "\u001b[36mres49_0\u001b[39m: \u001b[32mDouble\u001b[39m = \u001b[32m3.5\u001b[39m\n",
       "\u001b[36mres49_1\u001b[39m: \u001b[32mInt\u001b[39m = \u001b[32m2\u001b[39m\n",
       "\u001b[36mres49_2\u001b[39m: \u001b[32mInt\u001b[39m = \u001b[32m1\u001b[39m\n",
       "\u001b[36mres49_3\u001b[39m: \u001b[32mLong\u001b[39m = \u001b[32m6L\u001b[39m\n",
       "\u001b[36mres49_4\u001b[39m: \u001b[32mInt\u001b[39m = \u001b[32m2\u001b[39m\n",
       "\u001b[36mres49_5\u001b[39m: \u001b[32mInt\u001b[39m = \u001b[32m3\u001b[39m\n",
       "\u001b[36mres49_6\u001b[39m: \u001b[32mFloat\u001b[39m = \u001b[32m2.75F\u001b[39m\n",
       "\u001b[36mres49_7\u001b[39m: \u001b[32mDouble\u001b[39m = \u001b[32m3.0\u001b[39m"
      ]
     },
     "execution_count": 50,
     "metadata": {},
     "output_type": "execute_result"
    }
   ],
   "source": [
    "1.2 + 2.3\n",
    "3 - 1\n",
    "'b' - 'a'\n",
    "2L * 3L\n",
    "11 / 4\n",
    "11 % 4\n",
    "11.0f / 4.0f\n",
    "11.0 % 4.0"
   ]
  },
  {
   "cell_type": "code",
   "execution_count": 51,
   "id": "84fdb29d",
   "metadata": {},
   "outputs": [
    {
     "data": {
      "text/plain": [
       "\u001b[36mres50\u001b[39m: \u001b[32mDouble\u001b[39m = \u001b[32m-1.0\u001b[39m"
      ]
     },
     "execution_count": 51,
     "metadata": {},
     "output_type": "execute_result"
    }
   ],
   "source": [
    "math.IEEEremainder(11.0, 4.0)"
   ]
  },
  {
   "cell_type": "code",
   "execution_count": 52,
   "id": "02f4a7fc",
   "metadata": {},
   "outputs": [
    {
     "data": {
      "text/plain": [
       "\u001b[36mneg\u001b[39m: \u001b[32mInt\u001b[39m = \u001b[32m-2\u001b[39m\n",
       "\u001b[36my\u001b[39m: \u001b[32mInt\u001b[39m = \u001b[32m3\u001b[39m\n",
       "\u001b[36mres51_2\u001b[39m: \u001b[32mInt\u001b[39m = \u001b[32m2\u001b[39m"
      ]
     },
     "execution_count": 52,
     "metadata": {},
     "output_type": "execute_result"
    }
   ],
   "source": [
    "val neg = 1 + -3\n",
    "val y = +3\n",
    "-neg"
   ]
  },
  {
   "cell_type": "code",
   "execution_count": 53,
   "id": "b23062a5",
   "metadata": {},
   "outputs": [
    {
     "data": {
      "text/plain": [
       "\u001b[36mres52_0\u001b[39m: \u001b[32mBoolean\u001b[39m = \u001b[32mfalse\u001b[39m\n",
       "\u001b[36mres52_1\u001b[39m: \u001b[32mBoolean\u001b[39m = \u001b[32mtrue\u001b[39m\n",
       "\u001b[36mres52_2\u001b[39m: \u001b[32mBoolean\u001b[39m = \u001b[32mtrue\u001b[39m\n",
       "\u001b[36mres52_3\u001b[39m: \u001b[32mBoolean\u001b[39m = \u001b[32mfalse\u001b[39m\n",
       "\u001b[36mres52_4\u001b[39m: \u001b[32mBoolean\u001b[39m = \u001b[32mtrue\u001b[39m\n",
       "\u001b[36muntrue\u001b[39m: \u001b[32mBoolean\u001b[39m = \u001b[32mfalse\u001b[39m"
      ]
     },
     "execution_count": 53,
     "metadata": {},
     "output_type": "execute_result"
    }
   ],
   "source": [
    "1 > 2\n",
    "1 < 2\n",
    "1.0 <= 1.0\n",
    "3.5f >= 3.6f\n",
    "'a' >= 'A'\n",
    "val untrue = !true"
   ]
  },
  {
   "cell_type": "code",
   "execution_count": 54,
   "id": "7bd492cf",
   "metadata": {},
   "outputs": [
    {
     "data": {
      "text/plain": [
       "\u001b[36mtoBe\u001b[39m: \u001b[32mBoolean\u001b[39m = \u001b[32mtrue\u001b[39m\n",
       "\u001b[36mquestion\u001b[39m: \u001b[32mBoolean\u001b[39m = \u001b[32mtrue\u001b[39m\n",
       "\u001b[36mparadox\u001b[39m: \u001b[32mBoolean\u001b[39m = \u001b[32mfalse\u001b[39m"
      ]
     },
     "execution_count": 54,
     "metadata": {},
     "output_type": "execute_result"
    }
   ],
   "source": [
    "val toBe = true\n",
    "val question = toBe || !toBe\n",
    "val paradox = toBe && !toBe"
   ]
  },
  {
   "cell_type": "code",
   "execution_count": 55,
   "id": "8e823e55",
   "metadata": {},
   "outputs": [
    {
     "data": {
      "text/plain": [
       "defined \u001b[32mfunction\u001b[39m \u001b[36msalt\u001b[39m"
      ]
     },
     "execution_count": 55,
     "metadata": {},
     "output_type": "execute_result"
    }
   ],
   "source": [
    "def salt() = { println(\"salt\"); false}"
   ]
  },
  {
   "cell_type": "code",
   "execution_count": 56,
   "id": "12375d96",
   "metadata": {},
   "outputs": [
    {
     "name": "stdout",
     "output_type": "stream",
     "text": [
      "salt\n"
     ]
    },
    {
     "data": {
      "text/plain": [
       "\u001b[36mres55\u001b[39m: \u001b[32mBoolean\u001b[39m = \u001b[32mfalse\u001b[39m"
      ]
     },
     "execution_count": 56,
     "metadata": {},
     "output_type": "execute_result"
    }
   ],
   "source": [
    "salt()"
   ]
  },
  {
   "cell_type": "code",
   "execution_count": 57,
   "id": "fd112024",
   "metadata": {},
   "outputs": [
    {
     "data": {
      "text/plain": [
       "defined \u001b[32mfunction\u001b[39m \u001b[36mpepper\u001b[39m"
      ]
     },
     "execution_count": 57,
     "metadata": {},
     "output_type": "execute_result"
    }
   ],
   "source": [
    "def pepper() = { println(\"pepper\"); true }"
   ]
  },
  {
   "cell_type": "code",
   "execution_count": 58,
   "id": "6183efa7",
   "metadata": {},
   "outputs": [
    {
     "name": "stdout",
     "output_type": "stream",
     "text": [
      "pepper\n"
     ]
    },
    {
     "data": {
      "text/plain": [
       "\u001b[36mres57\u001b[39m: \u001b[32mBoolean\u001b[39m = \u001b[32mtrue\u001b[39m"
      ]
     },
     "execution_count": 58,
     "metadata": {},
     "output_type": "execute_result"
    }
   ],
   "source": [
    "pepper()"
   ]
  },
  {
   "cell_type": "code",
   "execution_count": 59,
   "id": "3571a4a0",
   "metadata": {},
   "outputs": [
    {
     "name": "stdout",
     "output_type": "stream",
     "text": [
      "pepper\n",
      "salt\n"
     ]
    },
    {
     "data": {
      "text/plain": [
       "\u001b[36mres58\u001b[39m: \u001b[32mBoolean\u001b[39m = \u001b[32mfalse\u001b[39m"
      ]
     },
     "execution_count": 59,
     "metadata": {},
     "output_type": "execute_result"
    }
   ],
   "source": [
    "pepper() && salt()"
   ]
  },
  {
   "cell_type": "code",
   "execution_count": 60,
   "id": "7e32dc7d",
   "metadata": {},
   "outputs": [
    {
     "name": "stdout",
     "output_type": "stream",
     "text": [
      "salt\n"
     ]
    },
    {
     "data": {
      "text/plain": [
       "\u001b[36mres59\u001b[39m: \u001b[32mBoolean\u001b[39m = \u001b[32mfalse\u001b[39m"
      ]
     },
     "execution_count": 60,
     "metadata": {},
     "output_type": "execute_result"
    }
   ],
   "source": [
    "salt() && pepper()"
   ]
  },
  {
   "cell_type": "code",
   "execution_count": 61,
   "id": "3eacc908",
   "metadata": {},
   "outputs": [
    {
     "name": "stdout",
     "output_type": "stream",
     "text": [
      "salt\n",
      "pepper\n"
     ]
    },
    {
     "data": {
      "text/plain": [
       "\u001b[36mres60\u001b[39m: \u001b[32mBoolean\u001b[39m = \u001b[32mtrue\u001b[39m"
      ]
     },
     "execution_count": 61,
     "metadata": {},
     "output_type": "execute_result"
    }
   ],
   "source": [
    "salt() || pepper()"
   ]
  },
  {
   "cell_type": "code",
   "execution_count": 71,
   "id": "371dcf22",
   "metadata": {},
   "outputs": [
    {
     "data": {
      "text/plain": [
       "\u001b[36mres70_0\u001b[39m: \u001b[32mInt\u001b[39m = \u001b[32m0\u001b[39m\n",
       "\u001b[36mres70_1\u001b[39m: \u001b[32mInt\u001b[39m = \u001b[32m3\u001b[39m\n",
       "\u001b[36mres70_2\u001b[39m: \u001b[32mInt\u001b[39m = \u001b[32m2\u001b[39m\n",
       "\u001b[36mres70_3\u001b[39m: \u001b[32mInt\u001b[39m = \u001b[32m-2\u001b[39m"
      ]
     },
     "execution_count": 71,
     "metadata": {},
     "output_type": "execute_result"
    }
   ],
   "source": [
    "1 & 2 // 0001 & 0010 = 0000\n",
    "1 | 2 // 0001 | 0010 = 0011\n",
    "1 ^ 3 // 0001 ^ 0010 = 0010\n",
    "~1 // ~0001 = 11111111...10"
   ]
  },
  {
   "cell_type": "code",
   "execution_count": 81,
   "id": "f8f03565",
   "metadata": {},
   "outputs": [
    {
     "data": {
      "text/plain": [
       "\u001b[36mres80_0\u001b[39m: \u001b[32mInt\u001b[39m = \u001b[32m-1\u001b[39m\n",
       "\u001b[36mres80_1\u001b[39m: \u001b[32mInt\u001b[39m = \u001b[32m1\u001b[39m\n",
       "\u001b[36mres80_2\u001b[39m: \u001b[32mInt\u001b[39m = \u001b[32m4\u001b[39m"
      ]
     },
     "execution_count": 81,
     "metadata": {},
     "output_type": "execute_result"
    }
   ],
   "source": [
    "-1 >> 31\n",
    "-1 >>> 31\n",
    "1 << 2"
   ]
  },
  {
   "cell_type": "code",
   "execution_count": 82,
   "id": "17040bc9",
   "metadata": {},
   "outputs": [
    {
     "data": {
      "text/plain": [
       "\u001b[36mres81_0\u001b[39m: \u001b[32mBoolean\u001b[39m = \u001b[32mfalse\u001b[39m\n",
       "\u001b[36mres81_1\u001b[39m: \u001b[32mBoolean\u001b[39m = \u001b[32mtrue\u001b[39m\n",
       "\u001b[36mres81_2\u001b[39m: \u001b[32mBoolean\u001b[39m = \u001b[32mtrue\u001b[39m"
      ]
     },
     "execution_count": 82,
     "metadata": {},
     "output_type": "execute_result"
    }
   ],
   "source": [
    "1 == 2\n",
    "1 != 2\n",
    "2 == 2"
   ]
  },
  {
   "cell_type": "code",
   "execution_count": 83,
   "id": "9b71ad4b",
   "metadata": {},
   "outputs": [
    {
     "data": {
      "text/plain": [
       "\u001b[36mres82_0\u001b[39m: \u001b[32mBoolean\u001b[39m = \u001b[32mtrue\u001b[39m\n",
       "\u001b[36mres82_1\u001b[39m: \u001b[32mBoolean\u001b[39m = \u001b[32mfalse\u001b[39m"
      ]
     },
     "execution_count": 83,
     "metadata": {},
     "output_type": "execute_result"
    }
   ],
   "source": [
    "List(1, 2, 3) == List(1, 2, 3)\n",
    "List(1, 2, 3) == List(4, 5, 6)"
   ]
  },
  {
   "cell_type": "code",
   "execution_count": 83,
   "id": "4cb0497b",
   "metadata": {},
   "outputs": [
    {
     "name": "stderr",
     "output_type": "stream",
     "text": [
      "    |val res83_1 = List(1, 2, 3) == \"hello\"\n",
      "    |              ^^^^^^^^^^^^^^^^^^^^^^^^\n",
      "    |Values of types List[Int] and String cannot be compared with == or !=\n",
      "    |\n",
      "    |One of the following imports might make progress towards fixing the problem:\n",
      "    |\n",
      "    |  import shapeless.~?>.idKeyWitness\n",
      "    |  import shapeless.~?>.idValueWitness\n",
      "    |  import shapeless.~?>.witness\n",
      "    |Compilation Failed"
     ]
    },
    {
     "ename": "",
     "evalue": "",
     "output_type": "error",
     "traceback": [
      "Compilation Failed"
     ]
    }
   ],
   "source": [
    "1 == 1.0\n",
    "List(1, 2, 3) == \"hello\""
   ]
  },
  {
   "cell_type": "code",
   "execution_count": 84,
   "id": "0c2f84d1",
   "metadata": {},
   "outputs": [
    {
     "data": {
      "text/plain": [
       "\u001b[36mres83_0\u001b[39m: \u001b[32mBoolean\u001b[39m = \u001b[32mfalse\u001b[39m\n",
       "\u001b[36mres83_1\u001b[39m: \u001b[32mBoolean\u001b[39m = \u001b[32mfalse\u001b[39m"
      ]
     },
     "execution_count": 84,
     "metadata": {},
     "output_type": "execute_result"
    }
   ],
   "source": [
    "List(1, 2, 3) == null\n",
    "null == List(1, 2, 3)"
   ]
  },
  {
   "cell_type": "code",
   "execution_count": 85,
   "id": "8d1d1c7c",
   "metadata": {},
   "outputs": [
    {
     "data": {
      "text/plain": [
       "\u001b[36mres84\u001b[39m: \u001b[32mBoolean\u001b[39m = \u001b[32mtrue\u001b[39m"
      ]
     },
     "execution_count": 85,
     "metadata": {},
     "output_type": "execute_result"
    }
   ],
   "source": [
    "(\"he\" + \"llo\") == \"hello\""
   ]
  },
  {
   "cell_type": "code",
   "execution_count": 87,
   "id": "2be9a2ba",
   "metadata": {},
   "outputs": [
    {
     "data": {
      "text/plain": [
       "\u001b[36mres86_0\u001b[39m: \u001b[32mInt\u001b[39m = \u001b[32m16\u001b[39m\n",
       "\u001b[36mres86_1\u001b[39m: \u001b[32mInt\u001b[39m = \u001b[32m28\u001b[39m"
      ]
     },
     "execution_count": 87,
     "metadata": {},
     "output_type": "execute_result"
    }
   ],
   "source": [
    "2 + 2 * 7\n",
    "(2 + 2) * 7"
   ]
  },
  {
   "cell_type": "code",
   "execution_count": 88,
   "id": "62950b2d",
   "metadata": {},
   "outputs": [
    {
     "data": {
      "text/plain": [
       "\u001b[36mres87\u001b[39m: \u001b[32mInt\u001b[39m = \u001b[32m32\u001b[39m"
      ]
     },
     "execution_count": 88,
     "metadata": {},
     "output_type": "execute_result"
    }
   ],
   "source": [
    "2 << 2 + 2"
   ]
  },
  {
   "cell_type": "code",
   "execution_count": 89,
   "id": "93de342e",
   "metadata": {},
   "outputs": [
    {
     "data": {
      "text/plain": [
       "\u001b[36mres88\u001b[39m: \u001b[32mInt\u001b[39m = \u001b[32m16\u001b[39m"
      ]
     },
     "execution_count": 89,
     "metadata": {},
     "output_type": "execute_result"
    }
   ],
   "source": [
    "2 + 2 << 2"
   ]
  },
  {
   "cell_type": "code",
   "execution_count": 90,
   "id": "2cfb9a0e",
   "metadata": {},
   "outputs": [
    {
     "data": {
      "text/plain": [
       "\u001b[36mx\u001b[39m: \u001b[32mInt\u001b[39m = \u001b[32m8\u001b[39m\n",
       "\u001b[36my\u001b[39m: \u001b[32mInt\u001b[39m = \u001b[32m3\u001b[39m"
      ]
     },
     "execution_count": 90,
     "metadata": {},
     "output_type": "execute_result"
    }
   ],
   "source": [
    "var x = 2\n",
    "val y = 3\n",
    "x *= y + 1"
   ]
  },
  {
   "cell_type": "code",
   "execution_count": 91,
   "id": "0401129d",
   "metadata": {},
   "outputs": [
    {
     "data": {
      "text/plain": [
       "\u001b[36ma\u001b[39m: \u001b[32mList\u001b[39m[\u001b[32mInt\u001b[39m] = \u001b[33mList\u001b[39m(\u001b[32m1\u001b[39m, \u001b[32m3\u001b[39m)\n",
       "\u001b[36mb\u001b[39m: \u001b[32mList\u001b[39m[\u001b[32mInt\u001b[39m] = \u001b[33mList\u001b[39m(\u001b[32m2\u001b[39m, \u001b[32m4\u001b[39m)\n",
       "\u001b[36mres90_2\u001b[39m: \u001b[32mList\u001b[39m[\u001b[32mInt\u001b[39m] = \u001b[33mList\u001b[39m(\u001b[32m1\u001b[39m, \u001b[32m3\u001b[39m, \u001b[32m2\u001b[39m, \u001b[32m4\u001b[39m)"
      ]
     },
     "execution_count": 91,
     "metadata": {},
     "output_type": "execute_result"
    }
   ],
   "source": [
    "val a = List(1,3)\n",
    "val b = List(2,4)\n",
    "{val x = a; b.:::(x)}"
   ]
  },
  {
   "cell_type": "code",
   "execution_count": 93,
   "id": "4d853de6",
   "metadata": {},
   "outputs": [
    {
     "data": {
      "text/plain": [
       "\u001b[36ma\u001b[39m: \u001b[32mList\u001b[39m[\u001b[32mInt\u001b[39m] = \u001b[33mList\u001b[39m(\u001b[32m1\u001b[39m, \u001b[32m3\u001b[39m)\n",
       "\u001b[36mb\u001b[39m: \u001b[32mList\u001b[39m[\u001b[32mInt\u001b[39m] = \u001b[33mList\u001b[39m(\u001b[32m2\u001b[39m, \u001b[32m4\u001b[39m)\n",
       "\u001b[36mc\u001b[39m: \u001b[32mList\u001b[39m[\u001b[32mInt\u001b[39m] = \u001b[33mList\u001b[39m(\u001b[32m5\u001b[39m, \u001b[32m6\u001b[39m)\n",
       "\u001b[36mres92_3\u001b[39m: \u001b[32mList\u001b[39m[\u001b[32mInt\u001b[39m] = \u001b[33mList\u001b[39m(\u001b[32m1\u001b[39m, \u001b[32m3\u001b[39m, \u001b[32m2\u001b[39m, \u001b[32m4\u001b[39m, \u001b[32m5\u001b[39m, \u001b[32m6\u001b[39m)\n",
       "\u001b[36mres92_4\u001b[39m: \u001b[32mList\u001b[39m[\u001b[32mInt\u001b[39m] = \u001b[33mList\u001b[39m(\u001b[32m1\u001b[39m, \u001b[32m3\u001b[39m, \u001b[32m2\u001b[39m, \u001b[32m4\u001b[39m, \u001b[32m5\u001b[39m, \u001b[32m6\u001b[39m)\n",
       "\u001b[36mres92_5\u001b[39m: \u001b[32mList\u001b[39m[\u001b[32mInt\u001b[39m] = \u001b[33mList\u001b[39m(\u001b[32m1\u001b[39m, \u001b[32m3\u001b[39m, \u001b[32m2\u001b[39m, \u001b[32m4\u001b[39m, \u001b[32m5\u001b[39m, \u001b[32m6\u001b[39m)"
      ]
     },
     "execution_count": 93,
     "metadata": {},
     "output_type": "execute_result"
    }
   ],
   "source": [
    "val a = List(1,3)\n",
    "val b = List(2,4)\n",
    "val c = List(5,6)\n",
    "a ::: b ::: c\n",
    "(a ::: b) ::: c\n",
    "a ::: (b ::: c)"
   ]
  },
  {
   "cell_type": "code",
   "execution_count": 94,
   "id": "7c4ad440",
   "metadata": {},
   "outputs": [
    {
     "data": {
      "text/plain": [
       "\u001b[36mres93_0\u001b[39m: \u001b[32mInt\u001b[39m = \u001b[32m5\u001b[39m\n",
       "\u001b[36mres93_1\u001b[39m: \u001b[32mInt\u001b[39m = \u001b[32m0\u001b[39m\n",
       "\u001b[36mres93_2\u001b[39m: \u001b[32mDouble\u001b[39m = \u001b[32m2.7\u001b[39m\n",
       "\u001b[36mres93_3\u001b[39m: \u001b[32mLong\u001b[39m = \u001b[32m-3L\u001b[39m\n",
       "\u001b[36mres93_4\u001b[39m: \u001b[32mBoolean\u001b[39m = \u001b[32mfalse\u001b[39m\n",
       "\u001b[36mres93_5\u001b[39m: \u001b[32mBoolean\u001b[39m = \u001b[32mtrue\u001b[39m\n",
       "\u001b[36mres93_6\u001b[39m: \u001b[32mInclusive\u001b[39m = \u001b[33mRange\u001b[39m(\u001b[32m4\u001b[39m, \u001b[32m5\u001b[39m, \u001b[32m6\u001b[39m)\n",
       "\u001b[36mres93_7\u001b[39m: \u001b[32mString\u001b[39m = \u001b[32m\"Bob\"\u001b[39m\n",
       "\u001b[36mres93_8\u001b[39m: \u001b[32mString\u001b[39m = \u001b[32m\"bert\"\u001b[39m"
      ]
     },
     "execution_count": 94,
     "metadata": {},
     "output_type": "execute_result"
    }
   ],
   "source": [
    "0.max(5)\n",
    "0.min(5)\n",
    "-2.7.abs\n",
    "-2.7.round\n",
    "1.5.isInfinity\n",
    "(1.0 / 0).isInfinity\n",
    "4 to 6\n",
    "\"bob\".capitalize\n",
    "\"robert\".drop(2)"
   ]
  },
  {
   "cell_type": "markdown",
   "id": "1f76488d",
   "metadata": {},
   "source": [
    "### Chapter 6"
   ]
  },
  {
   "cell_type": "code",
   "execution_count": 0,
   "id": "f10317c2",
   "metadata": {},
   "outputs": [
    {
     "name": "stderr",
     "output_type": "stream",
     "text": [
      "    |val oneHalf = Rational(1, 2)\n",
      "    |              ^^^^^^^^\n",
      "    |              Not found: RationalCompilation Failed"
     ]
    },
    {
     "ename": "",
     "evalue": "",
     "output_type": "error",
     "traceback": [
      "Compilation Failed"
     ]
    }
   ],
   "source": [
    "val oneHalf = Rational(1, 2)"
   ]
  },
  {
   "cell_type": "code",
   "execution_count": 0,
   "id": "34843642",
   "metadata": {},
   "outputs": [
    {
     "name": "stderr",
     "output_type": "stream",
     "text": [
      "    |val twoThirds = Rational(2, 3)\n",
      "    |                ^^^^^^^^\n",
      "    |                Not found: RationalCompilation Failed"
     ]
    },
    {
     "ename": "",
     "evalue": "",
     "output_type": "error",
     "traceback": [
      "Compilation Failed"
     ]
    }
   ],
   "source": [
    "val twoThirds = Rational(2, 3)"
   ]
  },
  {
   "cell_type": "code",
   "execution_count": 0,
   "id": "c5137c1c",
   "metadata": {},
   "outputs": [
    {
     "name": "stderr",
     "output_type": "stream",
     "text": [
      "    |val res0 = (oneHalf / 7) + (1 + twoThirds)\n",
      "    |            ^^^^^^^\n",
      "    |            Not found: oneHalfCompilation Failed"
     ]
    },
    {
     "ename": "",
     "evalue": "",
     "output_type": "error",
     "traceback": [
      "Compilation Failed"
     ]
    }
   ],
   "source": [
    "(oneHalf / 7) + (1 + twoThirds)"
   ]
  },
  {
   "cell_type": "code",
   "execution_count": 1,
   "id": "68474660",
   "metadata": {},
   "outputs": [
    {
     "data": {
      "text/plain": [
       "defined \u001b[32mclass\u001b[39m \u001b[36mRational\u001b[39m"
      ]
     },
     "execution_count": 1,
     "metadata": {},
     "output_type": "execute_result"
    }
   ],
   "source": [
    "class Rational(n: Int, d: Int)"
   ]
  },
  {
   "cell_type": "code",
   "execution_count": 2,
   "id": "8c61ab55",
   "metadata": {},
   "outputs": [
    {
     "data": {
      "text/plain": [
       "defined \u001b[32mclass\u001b[39m \u001b[36mRational\u001b[39m"
      ]
     },
     "execution_count": 2,
     "metadata": {},
     "output_type": "execute_result"
    }
   ],
   "source": [
    "class Rational(n: Int, d: Int):\n",
    "    println(\"Created \" + n + \"/\" + d)"
   ]
  },
  {
   "cell_type": "code",
   "execution_count": 3,
   "id": "031025ca",
   "metadata": {},
   "outputs": [
    {
     "name": "stdout",
     "output_type": "stream",
     "text": [
      "Created 1/2\n"
     ]
    },
    {
     "data": {
      "text/plain": [
       "\u001b[36mres2\u001b[39m: \u001b[32mRational\u001b[39m = ammonite.$sess.cmd1$Helper$Rational@537bac0c"
      ]
     },
     "execution_count": 3,
     "metadata": {},
     "output_type": "execute_result"
    }
   ],
   "source": [
    "new Rational(1, 2)"
   ]
  },
  {
   "cell_type": "code",
   "execution_count": 4,
   "id": "6c033964",
   "metadata": {},
   "outputs": [
    {
     "name": "stdout",
     "output_type": "stream",
     "text": [
      "Created 1/2\n"
     ]
    },
    {
     "data": {
      "text/plain": [
       "\u001b[36mres3\u001b[39m: \u001b[32mRational\u001b[39m = ammonite.$sess.cmd1$Helper$Rational@1f0ce893"
      ]
     },
     "execution_count": 4,
     "metadata": {},
     "output_type": "execute_result"
    }
   ],
   "source": [
    "Rational(1, 2)"
   ]
  },
  {
   "cell_type": "code",
   "execution_count": 5,
   "id": "dca83451",
   "metadata": {},
   "outputs": [
    {
     "data": {
      "text/plain": [
       "defined \u001b[32mclass\u001b[39m \u001b[36mRational\u001b[39m"
      ]
     },
     "execution_count": 5,
     "metadata": {},
     "output_type": "execute_result"
    }
   ],
   "source": [
    "class Rational(n: Int, d: Int):\n",
    "    override def toString = s\"$n/$d\""
   ]
  },
  {
   "cell_type": "code",
   "execution_count": 6,
   "id": "7a7ad0b9",
   "metadata": {},
   "outputs": [
    {
     "data": {
      "text/plain": [
       "\u001b[36mname\u001b[39m: \u001b[32mString\u001b[39m = \u001b[32m\"\"\u001b[39m"
      ]
     },
     "execution_count": 6,
     "metadata": {},
     "output_type": "execute_result"
    }
   ],
   "source": [
    "var name = \"\""
   ]
  },
  {
   "cell_type": "code",
   "execution_count": 6,
   "id": "34310a7b",
   "metadata": {},
   "outputs": [
    {
     "name": "stderr",
     "output_type": "stream",
     "text": [
      "    |val res6 = name= readLine(\"What's your name?\")\n",
      "    |                 ^^^^^^^^\n",
      "    |                 Not found: readLineCompilation Failed"
     ]
    },
    {
     "ename": "",
     "evalue": "",
     "output_type": "error",
     "traceback": [
      "Compilation Failed"
     ]
    }
   ],
   "source": [
    "name= readLine(\"What's your name?\")"
   ]
  },
  {
   "cell_type": "code",
   "execution_count": 7,
   "id": "d25e6212",
   "metadata": {},
   "outputs": [
    {
     "data": {
      "text/plain": [
       "defined \u001b[32mclass\u001b[39m \u001b[36mRational\u001b[39m"
      ]
     },
     "execution_count": 7,
     "metadata": {},
     "output_type": "execute_result"
    }
   ],
   "source": [
    "class Rational(n: Int, d: Int):\n",
    "    override def toString = s\"$n/$d\""
   ]
  },
  {
   "cell_type": "code",
   "execution_count": 24,
   "id": "aa8c49f8",
   "metadata": {},
   "outputs": [
    {
     "data": {
      "text/plain": [
       "\u001b[36mx\u001b[39m: \u001b[32mRational\u001b[39m = 1/3"
      ]
     },
     "execution_count": 24,
     "metadata": {},
     "output_type": "execute_result"
    }
   ],
   "source": [
    "val x = Rational(1, 3)"
   ]
  },
  {
   "cell_type": "code",
   "execution_count": 25,
   "id": "c0fd2df7",
   "metadata": {},
   "outputs": [
    {
     "data": {
      "text/plain": [
       "\u001b[36my\u001b[39m: \u001b[32mRational\u001b[39m = 5/7"
      ]
     },
     "execution_count": 25,
     "metadata": {},
     "output_type": "execute_result"
    }
   ],
   "source": [
    "val y = Rational(5, 7)"
   ]
  },
  {
   "cell_type": "code",
   "execution_count": 10,
   "id": "fca624d1",
   "metadata": {},
   "outputs": [
    {
     "data": {
      "text/plain": [
       "\u001b[36mres9\u001b[39m: \u001b[32mRational\u001b[39m = 5/0"
      ]
     },
     "execution_count": 10,
     "metadata": {},
     "output_type": "execute_result"
    }
   ],
   "source": [
    "Rational(5, 0)"
   ]
  },
  {
   "cell_type": "code",
   "execution_count": 11,
   "id": "6b66aedf",
   "metadata": {},
   "outputs": [
    {
     "data": {
      "text/plain": [
       "defined \u001b[32mclass\u001b[39m \u001b[36mRational\u001b[39m"
      ]
     },
     "execution_count": 11,
     "metadata": {},
     "output_type": "execute_result"
    }
   ],
   "source": [
    "class Rational(n: Int, d: Int):\n",
    "    require(d != 0) // false 의 경우 IllegalArgumentException으로 넘어감\n",
    "    override def toString = s\"$n/$d\""
   ]
  },
  {
   "cell_type": "code",
   "execution_count": 11,
   "id": "10622d9a",
   "metadata": {},
   "outputs": [
    {
     "name": "stderr",
     "output_type": "stream",
     "text": [
      "    |        Rational(n * that.d + that.n * d, d * that.d)\n",
      "    |                     ^^^^^^\n",
      "    |value d cannot be accessed as a member of (that : Helper.this.Rational) from class Rational.    |        Rational(n * that.d + that.n * d, d * that.d)\n",
      "    |                                              ^^^^^^\n",
      "    |value d cannot be accessed as a member of (that : Helper.this.Rational) from class Rational.Compilation Failed"
     ]
    },
    {
     "ename": "",
     "evalue": "",
     "output_type": "error",
     "traceback": [
      "Compilation Failed"
     ]
    }
   ],
   "source": [
    "class Rational(n: Int, d: Int): // This won't compile\n",
    "    require(d != 0)\n",
    "    override def toString = s\"$n/$d\"\n",
    "    def add(that: Rational): Rational =\n",
    "        Rational(n * that.d + that.n * d, d * that.d)"
   ]
  },
  {
   "cell_type": "code",
   "execution_count": 12,
   "id": "faaf5d87",
   "metadata": {},
   "outputs": [
    {
     "data": {
      "text/plain": [
       "defined \u001b[32mclass\u001b[39m \u001b[36mRational\u001b[39m"
      ]
     },
     "execution_count": 12,
     "metadata": {},
     "output_type": "execute_result"
    }
   ],
   "source": [
    "class Rational(n: Int, d: Int): \n",
    "    require(d != 0)\n",
    "    val numer: Int = n\n",
    "    val denom: Int = d\n",
    "    override def toString = s\"$numer/$denom\"\n",
    "    def add(that: Rational): Rational =\n",
    "        Rational(\n",
    "            numer * that.denom + that.numer * denom,\n",
    "            denom * that.denom\n",
    "        )"
   ]
  },
  {
   "cell_type": "code",
   "execution_count": 13,
   "id": "bf7f309c",
   "metadata": {},
   "outputs": [
    {
     "data": {
      "text/plain": [
       "\u001b[36moneHalf\u001b[39m: \u001b[32mRational\u001b[39m = 1/2\n",
       "\u001b[36mtwoThird\u001b[39m: \u001b[32mRational\u001b[39m = 2/3\n",
       "\u001b[36mres12_2\u001b[39m: \u001b[32mRational\u001b[39m = 7/6"
      ]
     },
     "execution_count": 13,
     "metadata": {},
     "output_type": "execute_result"
    }
   ],
   "source": [
    "val oneHalf = Rational(1, 2)\n",
    "val twoThird = Rational(2, 3)\n",
    "oneHalf.add(twoThird)"
   ]
  },
  {
   "cell_type": "code",
   "execution_count": 14,
   "id": "32c73195",
   "metadata": {},
   "outputs": [
    {
     "data": {
      "text/plain": [
       "\u001b[36mr\u001b[39m: \u001b[32mRational\u001b[39m = 1/2\n",
       "\u001b[36mres13_1\u001b[39m: \u001b[32mInt\u001b[39m = \u001b[32m1\u001b[39m\n",
       "\u001b[36mres13_2\u001b[39m: \u001b[32mInt\u001b[39m = \u001b[32m2\u001b[39m"
      ]
     },
     "execution_count": 14,
     "metadata": {},
     "output_type": "execute_result"
    }
   ],
   "source": [
    "val r = Rational(1, 2)\n",
    "r.numer\n",
    "r.denom"
   ]
  },
  {
   "cell_type": "code",
   "execution_count": 16,
   "id": "8f494770",
   "metadata": {},
   "outputs": [
    {
     "data": {
      "text/plain": [
       "defined \u001b[32mclass\u001b[39m \u001b[36mRational\u001b[39m"
      ]
     },
     "execution_count": 16,
     "metadata": {},
     "output_type": "execute_result"
    }
   ],
   "source": [
    "class Rational(n: Int, d: Int): \n",
    "    require(d != 0)\n",
    "    val numer: Int = n\n",
    "    val denom: Int = d\n",
    "    override def toString = s\"$numer/$denom\"\n",
    "    \n",
    "    def add(that: Rational): Rational =\n",
    "        Rational(\n",
    "            numer * that.denom + that.numer * denom,\n",
    "            denom * that.denom\n",
    "        )\n",
    "        \n",
    "    def lessThan(that: Rational) = \n",
    "        this.numer * that.denom < that.numer * this.denom\n",
    "\n",
    "    def max(that: Rational) = \n",
    "        if this.lessThan(that) then that else this"
   ]
  },
  {
   "cell_type": "code",
   "execution_count": 17,
   "id": "885e8ebc",
   "metadata": {},
   "outputs": [
    {
     "data": {
      "text/plain": [
       "defined \u001b[32mclass\u001b[39m \u001b[36mRational\u001b[39m"
      ]
     },
     "execution_count": 17,
     "metadata": {},
     "output_type": "execute_result"
    }
   ],
   "source": [
    "class Rational(n: Int, d: Int):\n",
    "    require(d != 0)\n",
    "    val numer: Int = n\n",
    "    val denom: Int = d\n",
    "\n",
    "    def this(n: Int) = this(n, 1)  // auxiliary constructor\n",
    "    override def toString = s\"$numer/$denom\"\n",
    "    def add(that: Rational): Rational = \n",
    "        Rational(\n",
    "            numer * that.denom + that.numer * denom,\n",
    "            denom * that.denom\n",
    "        )"
   ]
  },
  {
   "cell_type": "code",
   "execution_count": 18,
   "id": "bae1ae79",
   "metadata": {},
   "outputs": [
    {
     "data": {
      "text/plain": [
       "\u001b[36my\u001b[39m: \u001b[32mRational\u001b[39m = 3/1"
      ]
     },
     "execution_count": 18,
     "metadata": {},
     "output_type": "execute_result"
    }
   ],
   "source": [
    "val y = Rational(3)"
   ]
  },
  {
   "cell_type": "code",
   "execution_count": 19,
   "id": "0a9ec029",
   "metadata": {},
   "outputs": [
    {
     "data": {
      "text/plain": [
       "\u001b[36mres18\u001b[39m: \u001b[32mRational\u001b[39m = 66/42"
      ]
     },
     "execution_count": 19,
     "metadata": {},
     "output_type": "execute_result"
    }
   ],
   "source": [
    "Rational(66, 42)"
   ]
  },
  {
   "cell_type": "code",
   "execution_count": 20,
   "id": "c235632a",
   "metadata": {},
   "outputs": [
    {
     "data": {
      "text/plain": [
       "defined \u001b[32mclass\u001b[39m \u001b[36mRational\u001b[39m"
      ]
     },
     "execution_count": 20,
     "metadata": {},
     "output_type": "execute_result"
    }
   ],
   "source": [
    "class Rational(n: Int, d: Int):\n",
    "    require(d != 0)\n",
    "    private val g = gcd(n.abs, d.abs)\n",
    "    val numer: Int = n / g\n",
    "    val denom: Int = d / g\n",
    "\n",
    "    def this(n: Int) = this(n, 1)  // auxiliary constructor\n",
    "    override def toString = s\"$numer/$denom\"\n",
    "    def add(that: Rational): Rational = \n",
    "        Rational(\n",
    "            numer * that.denom + that.numer * denom,\n",
    "            denom * that.denom\n",
    "        )\n",
    "    \n",
    "    private def gcd(a: Int, b: Int): Int = \n",
    "        if b == 0 then a else gcd(b, a % b)"
   ]
  },
  {
   "cell_type": "code",
   "execution_count": 23,
   "id": "e5a8fd3b",
   "metadata": {},
   "outputs": [
    {
     "data": {
      "text/plain": [
       "\u001b[36mres22\u001b[39m: \u001b[32mRational\u001b[39m = 11/7"
      ]
     },
     "execution_count": 23,
     "metadata": {},
     "output_type": "execute_result"
    }
   ],
   "source": [
    "Rational(66, 42)"
   ]
  },
  {
   "cell_type": "code",
   "execution_count": 25,
   "id": "f6380352",
   "metadata": {},
   "outputs": [
    {
     "name": "stderr",
     "output_type": "stream",
     "text": [
      "    |val res25 = x + y\n",
      "    |            ^^^\n",
      "    |value + is not a member of ammonite.$sess.cmd23.wrapper.cmd19.Rational, but could be made available as an extension method.\n",
      "    |\n",
      "    |One of the following imports might make progress towards fixing the problem:\n",
      "    |\n",
      "    |  import math.Fractional.Implicits.infixFractionalOps\n",
      "    |  import math.Integral.Implicits.infixIntegralOps\n",
      "    |  import math.Numeric.Implicits.infixNumericOps\n",
      "    |Compilation Failed"
     ]
    },
    {
     "ename": "",
     "evalue": "",
     "output_type": "error",
     "traceback": [
      "Compilation Failed"
     ]
    }
   ],
   "source": [
    "x + y"
   ]
  },
  {
   "cell_type": "code",
   "execution_count": 26,
   "id": "4f9c94cc",
   "metadata": {},
   "outputs": [
    {
     "data": {
      "text/plain": [
       "\u001b[36mres25\u001b[39m: \u001b[32mRational\u001b[39m = 22/21"
      ]
     },
     "execution_count": 26,
     "metadata": {},
     "output_type": "execute_result"
    }
   ],
   "source": [
    "x.add(y)"
   ]
  },
  {
   "cell_type": "code",
   "execution_count": 27,
   "id": "5c922671",
   "metadata": {},
   "outputs": [
    {
     "data": {
      "text/plain": [
       "\u001b[36mres26\u001b[39m: \u001b[32mRational\u001b[39m = 22/21"
      ]
     },
     "execution_count": 27,
     "metadata": {},
     "output_type": "execute_result"
    }
   ],
   "source": [
    "x add y"
   ]
  },
  {
   "cell_type": "code",
   "execution_count": 28,
   "id": "e87083bf",
   "metadata": {},
   "outputs": [
    {
     "data": {
      "text/plain": [
       "defined \u001b[32mclass\u001b[39m \u001b[36mRational\u001b[39m"
      ]
     },
     "execution_count": 28,
     "metadata": {},
     "output_type": "execute_result"
    }
   ],
   "source": [
    "class Rational(n: Int, d: Int):\n",
    "    require(d != 0)\n",
    "    private val g = gcd(n.abs, d.abs)\n",
    "    val numer: Int = n / g\n",
    "    val denom: Int = d / g\n",
    "\n",
    "    def this(n: Int) = this(n, 1)\n",
    "    def +(that: Rational): Rational = \n",
    "        Rational(\n",
    "            numer * that.denom + that.numer * denom,\n",
    "            denom * that.denom\n",
    "        )\n",
    "    def *(that: Rational): Rational =\n",
    "        Rational(numer * that.numer, denom * that.denom)\n",
    "\n",
    "    override def toString = s\"$numer/$denom\"\n",
    "    private def gcd(a: Int, b: Int): Int = \n",
    "        if b == 0 then a else gcd(b, a % b)"
   ]
  },
  {
   "cell_type": "code",
   "execution_count": 29,
   "id": "6c891fa9",
   "metadata": {},
   "outputs": [
    {
     "data": {
      "text/plain": [
       "\u001b[36mx\u001b[39m: \u001b[32mRational\u001b[39m = 1/2\n",
       "\u001b[36my\u001b[39m: \u001b[32mRational\u001b[39m = 2/3\n",
       "\u001b[36mres28_2\u001b[39m: \u001b[32mRational\u001b[39m = 7/6"
      ]
     },
     "execution_count": 29,
     "metadata": {},
     "output_type": "execute_result"
    }
   ],
   "source": [
    "val x = Rational(1, 2)\n",
    "val y = Rational(2, 3)\n",
    "x + y"
   ]
  },
  {
   "cell_type": "code",
   "execution_count": 30,
   "id": "8dc790cd",
   "metadata": {},
   "outputs": [
    {
     "data": {
      "text/plain": [
       "\u001b[36mres29\u001b[39m: \u001b[32mRational\u001b[39m = 7/6"
      ]
     },
     "execution_count": 30,
     "metadata": {},
     "output_type": "execute_result"
    }
   ],
   "source": [
    "x.+(y)"
   ]
  },
  {
   "cell_type": "code",
   "execution_count": 31,
   "id": "a807c2be",
   "metadata": {},
   "outputs": [
    {
     "data": {
      "text/plain": [
       "\u001b[36mres30_0\u001b[39m: \u001b[32mRational\u001b[39m = 5/6\n",
       "\u001b[36mres30_1\u001b[39m: \u001b[32mRational\u001b[39m = 2/3\n",
       "\u001b[36mres30_2\u001b[39m: \u001b[32mRational\u001b[39m = 5/6"
      ]
     },
     "execution_count": 31,
     "metadata": {},
     "output_type": "execute_result"
    }
   ],
   "source": [
    "x + x * y\n",
    "(x + x) * y\n",
    "x + (x * y)"
   ]
  },
  {
   "cell_type": "code",
   "execution_count": 32,
   "id": "4039b4f1",
   "metadata": {},
   "outputs": [
    {
     "data": {
      "text/plain": [
       "\u001b[36mr\u001b[39m: \u001b[32mRational\u001b[39m = 2/3\n",
       "\u001b[36mres31_1\u001b[39m: \u001b[32mRational\u001b[39m = 4/9\n",
       "\u001b[36mres31_2\u001b[39m: \u001b[32mRational\u001b[39m = 4/3"
      ]
     },
     "execution_count": 32,
     "metadata": {},
     "output_type": "execute_result"
    }
   ],
   "source": [
    "val r = Rational(2, 3)\n",
    "r * r\n",
    "r * Rational(2) // r * 2"
   ]
  },
  {
   "cell_type": "code",
   "execution_count": 33,
   "id": "0b1ae78b",
   "metadata": {},
   "outputs": [
    {
     "data": {
      "text/plain": [
       "defined \u001b[32mclass\u001b[39m \u001b[36mRational\u001b[39m"
      ]
     },
     "execution_count": 33,
     "metadata": {},
     "output_type": "execute_result"
    }
   ],
   "source": [
    "class Rational(n: Int, d: Int):\n",
    "    require(d != 0)\n",
    "    private val g = gcd(n.abs, d.abs)\n",
    "    val numer: Int = n / g\n",
    "    val denom: Int = d / g\n",
    "\n",
    "    def this(n: Int) = this(n, 1)\n",
    "\n",
    "    def +(that: Rational): Rational = \n",
    "        Rational(\n",
    "            numer * that.denom + that.numer * denom,\n",
    "            denom * that.denom\n",
    "        )\n",
    "    def +(i: Int): Rational =\n",
    "        Rational(numer + i * denom, denom)\n",
    "\n",
    "    def -(that: Rational): Rational =\n",
    "        Rational(\n",
    "            numer * that.denom - that.numer * denom,\n",
    "            denom * that.denom\n",
    "        )\n",
    "    def -(i: Int): Rational =\n",
    "        Rational(numer - i * denom, denom)\n",
    "\n",
    "    def *(that: Rational): Rational =\n",
    "        Rational(numer * that.numer, denom * that.denom)\n",
    "    def *(i: Int): Rational =\n",
    "        Rational(numer * i, denom)\n",
    "\n",
    "    def /(that: Rational): Rational =\n",
    "        Rational(numer * that.denom, denom * that.numer)\n",
    "    def /(i: Int): Rational =\n",
    "        Rational(numer, denom * i)\n",
    "    \n",
    "    override def toString = s\"$numer/$denom\"\n",
    "    private def gcd(a: Int, b: Int): Int = \n",
    "        if b == 0 then a else gcd(b, a % b)"
   ]
  },
  {
   "cell_type": "code",
   "execution_count": 33,
   "id": "b7fe92c7",
   "metadata": {},
   "outputs": [
    {
     "name": "stderr",
     "output_type": "stream",
     "text": [
      "    |val res33 = 2 * r\n",
      "    |            ^^^\n",
      "    |None of the overloaded alternatives of method * in class Int with types\n",
      "    | (x: Double): Double\n",
      "    | (x: Float): Float\n",
      "    | (x: Long): Long\n",
      "    | (x: Int): Int\n",
      "    | (x: Char): Int\n",
      "    | (x: Short): Int\n",
      "    | (x: Byte): Int\n",
      "    |match arguments ((cmd33.this.cmd31.r : ammonite.$sess.cmd31.wrapper.cmd27.Rational))Compilation Failed"
     ]
    },
    {
     "ename": "",
     "evalue": "",
     "output_type": "error",
     "traceback": [
      "Compilation Failed"
     ]
    }
   ],
   "source": [
    "2 * r"
   ]
  },
  {
   "cell_type": "code",
   "execution_count": 34,
   "id": "89c2bb9b",
   "metadata": {},
   "outputs": [
    {
     "name": "stderr",
     "output_type": "stream",
     "text": [
      "    |        def +(y: Rational) = Rational(x) + y\n",
      "    |                                     ^\n",
      "    |                    Overloaded or recursive method + needs return type    |        def -(y: Rational) = Rational(x) - y\n",
      "    |                                     ^\n",
      "    |                    Overloaded or recursive method - needs return type    |        def *(y: Rational) = Rational(x) * y\n",
      "    |                                     ^\n",
      "    |                    Overloaded or recursive method * needs return type    |        def /(y: Rational) = Rational(x) / y\n",
      "    |                                     ^\n",
      "    |                    Overloaded or recursive method / needs return typeCompilation Failed"
     ]
    },
    {
     "ename": "",
     "evalue": "",
     "output_type": "error",
     "traceback": [
      "Compilation Failed"
     ]
    }
   ],
   "source": [
    "class Rational(n: Int, d: Int):\n",
    "    require(d != 0)\n",
    "    private val g = gcd(n.abs, d.abs)\n",
    "    val numer: Int = n / g\n",
    "    val denom: Int = d / g\n",
    "\n",
    "    def this(n: Int) = this(n, 1)\n",
    "\n",
    "\n",
    "    def +(that: Rational): Rational = \n",
    "        Rational(\n",
    "            numer * that.denom + that.numer * denom,\n",
    "            denom * that.denom\n",
    "        )\n",
    "    def +(i: Int): Rational =\n",
    "        Rational(numer + i * denom, denom)\n",
    "\n",
    "    def -(that: Rational): Rational =\n",
    "        Rational(\n",
    "            numer * that.denom - that.numer * denom,\n",
    "            denom * that.denom\n",
    "        )\n",
    "    def -(i: Int): Rational =\n",
    "        Rational(numer - i * denom, denom)\n",
    "\n",
    "    def *(that: Rational): Rational =\n",
    "        Rational(numer * that.numer, denom * that.denom)\n",
    "    def *(i: Int): Rational =\n",
    "        Rational(numer * i, denom)\n",
    "\n",
    "    def /(that: Rational): Rational =\n",
    "        Rational(numer * that.denom, denom * that.numer)\n",
    "    def /(i: Int): Rational =\n",
    "        Rational(numer, denom * i)\n",
    "\n",
    "    extension (x: Int)\n",
    "        def +(y: Rational) = Rational(x) + y\n",
    "        def -(y: Rational) = Rational(x) - y\n",
    "        def *(y: Rational) = Rational(x) * y\n",
    "        def /(y: Rational) = Rational(x) / y\n",
    "    \n",
    "    override def toString = s\"$numer/$denom\"\n",
    "    private def gcd(a: Int, b: Int): Int = \n",
    "        if b == 0 then a else gcd(b, a % b)\n",
    "\n"
   ]
  },
  {
   "cell_type": "code",
   "execution_count": 34,
   "id": "2f9b6ac0",
   "metadata": {},
   "outputs": [
    {
     "name": "stderr",
     "output_type": "stream",
     "text": [
      "    |val res34 = extension(x: Int)\n",
      "    |            ^^^^^^^^^\n",
      "    |            Not found: extension    |val res34 = extension(x: Int)\n",
      "    |                      ^\n",
      "    |Found:    (cmd34.this.cmd28.x : ammonite.$sess.cmd28².wrapper.cmd27.Rational)\n",
      "    |Required: Int\n",
      "    |\n",
      "    |where:    cmd28  is a value in class cmd34\n",
      "    |          cmd28² is a object in package ammonite.$sess    |    def +(y: Rational) = Rational(x) + y\n",
      "    |                                  ^\n",
      "    |Found:    (cmd34.this.cmd28.x : ammonite.$sess.cmd28².wrapper.cmd27.Rational)\n",
      "    |Required: Int\n",
      "    |\n",
      "    |where:    cmd28  is a value in class cmd34\n",
      "    |          cmd28² is a object in package ammonite.$sess    |    def -(y: Rational) = Rational(x) - y\n",
      "    |                                  ^\n",
      "    |Found:    (cmd34.this.cmd28.x : ammonite.$sess.cmd28².wrapper.cmd27.Rational)\n",
      "    |Required: Int\n",
      "    |\n",
      "    |where:    cmd28  is a value in class cmd34\n",
      "    |          cmd28² is a object in package ammonite.$sess    |    def *(y: Rational) = Rational(x) * y\n",
      "    |                                  ^\n",
      "    |Found:    (cmd34.this.cmd28.x : ammonite.$sess.cmd28².wrapper.cmd27.Rational)\n",
      "    |Required: Int\n",
      "    |\n",
      "    |where:    cmd28  is a value in class cmd34\n",
      "    |          cmd28² is a object in package ammonite.$sess    |    def /(y: Rational) = Rational(x) / y\n",
      "    |                                  ^\n",
      "    |Found:    (cmd34.this.cmd28.x : ammonite.$sess.cmd28².wrapper.cmd27.Rational)\n",
      "    |Required: Int\n",
      "    |\n",
      "    |where:    cmd28  is a value in class cmd34\n",
      "    |          cmd28² is a object in package ammonite.$sessCompilation Failed"
     ]
    },
    {
     "ename": "",
     "evalue": "",
     "output_type": "error",
     "traceback": [
      "Compilation Failed"
     ]
    }
   ],
   "source": [
    "\n",
    "extension(x: Int)\n",
    "    def +(y: Rational) = Rational(x) + y\n",
    "    def -(y: Rational) = Rational(x) - y\n",
    "    def *(y: Rational) = Rational(x) * y\n",
    "    def /(y: Rational) = Rational(x) / y"
   ]
  },
  {
   "cell_type": "code",
   "execution_count": null,
   "id": "882ba9b2",
   "metadata": {},
   "outputs": [],
   "source": []
  }
 ],
 "metadata": {
  "kernelspec": {
   "display_name": "Scala",
   "language": "scala",
   "name": "scala"
  },
  "language_info": {
   "codemirror_mode": "text/x-scala",
   "file_extension": ".sc",
   "mimetype": "text/x-scala",
   "name": "scala",
   "nbconvert_exporter": "script",
   "version": "2.13.6"
  }
 },
 "nbformat": 4,
 "nbformat_minor": 5
}
