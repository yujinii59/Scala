{
 "cells": [
  {
   "cell_type": "markdown",
   "id": "e66d2f22",
   "metadata": {},
   "source": [
    "### Chapter 1"
   ]
  },
  {
   "cell_type": "code",
   "execution_count": 1,
   "id": "b4a932c3-6e07-4204-b8e6-985e7346f542",
   "metadata": {},
   "outputs": [
    {
     "data": {
      "text/plain": [
       "\u001b[36mcapital\u001b[39m: \u001b[32mMap\u001b[39m[\u001b[32mString\u001b[39m, \u001b[32mString\u001b[39m] = \u001b[33mMap\u001b[39m(\u001b[32m\"US\"\u001b[39m -> \u001b[32m\"Washington\"\u001b[39m, \u001b[32m\"France\"\u001b[39m -> \u001b[32m\"Paris\"\u001b[39m)"
      ]
     },
     "execution_count": 1,
     "metadata": {},
     "output_type": "execute_result"
    }
   ],
   "source": [
    "var capital = Map(\"US\" -> \"Washington\", \"France\" -> \"Paris\")"
   ]
  },
  {
   "cell_type": "code",
   "execution_count": 2,
   "id": "7d07c638-2e73-41b8-a91c-a230aac5409b",
   "metadata": {},
   "outputs": [],
   "source": [
    "capital += (\"Japan\" -> \"Tokyo\")"
   ]
  },
  {
   "cell_type": "code",
   "execution_count": 3,
   "id": "bcbc0fdd-fc24-4cac-8dd0-8df034cd2517",
   "metadata": {},
   "outputs": [
    {
     "name": "stdout",
     "output_type": "stream",
     "text": [
      "Paris\n"
     ]
    }
   ],
   "source": [
    "println(capital(\"France\"))"
   ]
  },
  {
   "cell_type": "code",
   "execution_count": null,
   "id": "7bf7e5d9-47e8-4c7b-a475-6182827ed6cb",
   "metadata": {},
   "outputs": [],
   "source": []
  },
  {
   "cell_type": "code",
   "execution_count": 4,
   "id": "65ab7a51-bdcc-4912-b5f5-452fd6e12eac",
   "metadata": {},
   "outputs": [
    {
     "data": {
      "text/plain": [
       "defined \u001b[32mfunction\u001b[39m \u001b[36mfactorial\u001b[39m"
      ]
     },
     "execution_count": 4,
     "metadata": {},
     "output_type": "execute_result"
    }
   ],
   "source": [
    "def factorial(x: BigInt): BigInt = \n",
    "if x == 0 then 1 else x * factorial(x - 1)"
   ]
  },
  {
   "cell_type": "code",
   "execution_count": 5,
   "id": "dc4d30d5-d16f-48a9-bf9f-f03df78cd3f4",
   "metadata": {},
   "outputs": [
    {
     "data": {
      "text/plain": [
       "\u001b[36mres4\u001b[39m: \u001b[32mBigInt\u001b[39m = 265252859812191058636308480000000"
      ]
     },
     "execution_count": 5,
     "metadata": {},
     "output_type": "execute_result"
    }
   ],
   "source": [
    "factorial(30)"
   ]
  },
  {
   "cell_type": "code",
   "execution_count": null,
   "id": "231be406-180a-4aa7-8d2d-130f4c26a197",
   "metadata": {},
   "outputs": [],
   "source": []
  },
  {
   "cell_type": "code",
   "execution_count": 6,
   "id": "89ff4e00-d5c0-4165-9759-02af610268b5",
   "metadata": {},
   "outputs": [
    {
     "data": {
      "text/plain": [
       "\u001b[32mimport \u001b[39m\u001b[36mjava.math.BigInteger\n",
       "\u001b[39m\n",
       "defined \u001b[32mfunction\u001b[39m \u001b[36mfactorial\u001b[39m"
      ]
     },
     "execution_count": 6,
     "metadata": {},
     "output_type": "execute_result"
    }
   ],
   "source": [
    "import java.math.BigInteger\n",
    "def factorial(x: BigInteger): BigInteger = \n",
    "if (x == BigInteger.ZERO) \n",
    "    BigInteger.ONE\n",
    "else\n",
    "    x.multiply(factorial(x.subtract(BigInteger.ONE)))"
   ]
  },
  {
   "cell_type": "code",
   "execution_count": null,
   "id": "efa9b1a1-1c85-456d-b915-4e3a1f5602f0",
   "metadata": {},
   "outputs": [],
   "source": []
  },
  {
   "cell_type": "code",
   "execution_count": 6,
   "id": "792793cb-2105-4dae-90af-ab91cceba050",
   "metadata": {},
   "outputs": [
    {
     "name": "stderr",
     "output_type": "stream",
     "text": [
      "    |class SetSpec extends AnyFunSuite:\n",
      "    |                      ^^^^^^^^^^^\n",
      "    |                      Not found: type AnyFunSuite    |    test(\"An empty Set should have size 0\"){\n",
      "    |    ^^^^\n",
      "    |    Not found: test    |    test(\"Invoking head on an empty Set should fail\"){\n",
      "    |    ^^^^\n",
      "    |    Not found: test    |        assertThrows[NoSuchElementException]{\n",
      "    |        ^^^^^^^^^^^^\n",
      "    |        Not found: assertThrowsCompilation Failed"
     ]
    },
    {
     "ename": "",
     "evalue": "",
     "output_type": "error",
     "traceback": [
      "Compilation Failed"
     ]
    }
   ],
   "source": [
    "class SetSpec extends AnyFunSuite:\n",
    "    test(\"An empty Set should have size 0\"){\n",
    "        assert(Set.empty.size == 0)\n",
    "    }\n",
    "    \n",
    "    test(\"Invoking head on an empty Set should fail\"){\n",
    "        assertThrows[NoSuchElementException]{\n",
    "            Set.empty.head\n",
    "        }\n",
    "    }"
   ]
  },
  {
   "cell_type": "code",
   "execution_count": 1,
   "id": "a6ae3a9a-e4c3-42bd-bf53-1d52682d135c",
   "metadata": {},
   "outputs": [
    {
     "data": {
      "text/plain": [
       "\u001b[36mxs\u001b[39m: \u001b[32mInclusive\u001b[39m = \u001b[33mRange\u001b[39m(\u001b[32m1\u001b[39m, \u001b[32m2\u001b[39m, \u001b[32m3\u001b[39m)\n",
       "\u001b[36mit\u001b[39m: \u001b[32mIterator\u001b[39m[\u001b[32mInt\u001b[39m] = \u001b[32mnon-empty iterator\u001b[39m"
      ]
     },
     "execution_count": 1,
     "metadata": {},
     "output_type": "execute_result"
    }
   ],
   "source": [
    "val xs = 1 to 3\n",
    "val it = xs.iterator"
   ]
  },
  {
   "cell_type": "code",
   "execution_count": 2,
   "id": "962d6a36",
   "metadata": {},
   "outputs": [
    {
     "data": {
      "text/plain": [
       "\u001b[36mres1\u001b[39m: \u001b[32mInt\u001b[39m = \u001b[32m1\u001b[39m"
      ]
     },
     "execution_count": 2,
     "metadata": {},
     "output_type": "execute_result"
    }
   ],
   "source": [
    "it.next()"
   ]
  },
  {
   "cell_type": "code",
   "execution_count": null,
   "id": "01591026",
   "metadata": {},
   "outputs": [],
   "source": []
  },
  {
   "cell_type": "code",
   "execution_count": 8,
   "id": "c2bf259c",
   "metadata": {},
   "outputs": [
    {
     "data": {
      "text/plain": [
       "\u001b[36mss\u001b[39m: \u001b[32mString\u001b[39m = \u001b[32m\"880911\"\u001b[39m\n",
       "\u001b[36ms\u001b[39m: \u001b[32mString\u001b[39m = \u001b[32m\"3.141592\"\u001b[39m"
      ]
     },
     "execution_count": 8,
     "metadata": {},
     "output_type": "execute_result"
    }
   ],
   "source": [
    "var ss = \"880911\"\n",
    "var s = \"3.141592\""
   ]
  },
  {
   "cell_type": "code",
   "execution_count": 6,
   "id": "04258243",
   "metadata": {},
   "outputs": [
    {
     "data": {
      "text/plain": [
       "\u001b[36mres5\u001b[39m: \u001b[32mInt\u001b[39m = \u001b[32m880911\u001b[39m"
      ]
     },
     "execution_count": 6,
     "metadata": {},
     "output_type": "execute_result"
    }
   ],
   "source": [
    "ss.toInt"
   ]
  },
  {
   "cell_type": "code",
   "execution_count": 9,
   "id": "82854c13",
   "metadata": {},
   "outputs": [
    {
     "data": {
      "text/plain": [
       "\u001b[36mres8\u001b[39m: \u001b[32mFloat\u001b[39m = \u001b[32m3.141592F\u001b[39m"
      ]
     },
     "execution_count": 9,
     "metadata": {},
     "output_type": "execute_result"
    }
   ],
   "source": [
    "s.toFloat"
   ]
  },
  {
   "cell_type": "code",
   "execution_count": null,
   "id": "df854a0e",
   "metadata": {},
   "outputs": [],
   "source": []
  },
  {
   "cell_type": "code",
   "execution_count": 11,
   "id": "75e84b0f",
   "metadata": {},
   "outputs": [
    {
     "data": {
      "text/plain": [
       "defined \u001b[32mclass\u001b[39m \u001b[36mMyClass\u001b[39m"
      ]
     },
     "execution_count": 11,
     "metadata": {},
     "output_type": "execute_result"
    }
   ],
   "source": [
    "/* Java\n",
    "class MyClass { // this is Java\n",
    "    private int index;\n",
    "    private String name;\n",
    "    \n",
    "    public MyClass(int index, String name){\n",
    "        this.index = index;\n",
    "        this.name = name;\n",
    "    }\n",
    "}\n",
    "*/\n",
    "\n",
    "// Scala\n",
    "class MyClass(index: Int, name: String)"
   ]
  },
  {
   "cell_type": "code",
   "execution_count": null,
   "id": "b3ee0106",
   "metadata": {},
   "outputs": [],
   "source": []
  },
  {
   "cell_type": "code",
   "execution_count": 16,
   "id": "c3ee9b8f",
   "metadata": {},
   "outputs": [
    {
     "data": {
      "text/plain": [
       "\u001b[36mname\u001b[39m: \u001b[32mString\u001b[39m = \u001b[32m\"Starbucks\"\u001b[39m\n",
       "\u001b[36mnameHasUpperCase\u001b[39m: \u001b[32mBoolean\u001b[39m = \u001b[32mtrue\u001b[39m"
      ]
     },
     "execution_count": 16,
     "metadata": {},
     "output_type": "execute_result"
    }
   ],
   "source": [
    "/* Java\n",
    "boolean nameHasUpperCase = false;\n",
    "for (int i = 0; i < name.length(); ++i){\n",
    "    if (Character.isUppercase(name.charAt(i))){\n",
    "        nameHasUpperCase = true;\n",
    "        break;\n",
    "    }\n",
    "}\n",
    "*/\n",
    "\n",
    "val name = \"Starbucks\"\n",
    "val nameHasUpperCase = name.exists(_.isUpper)"
   ]
  },
  {
   "cell_type": "code",
   "execution_count": null,
   "id": "01e03405",
   "metadata": {},
   "outputs": [],
   "source": []
  },
  {
   "cell_type": "code",
   "execution_count": 21,
   "id": "faeffe61",
   "metadata": {},
   "outputs": [
    {
     "data": {
      "text/plain": [
       "\u001b[32mimport \u001b[39m\u001b[36mscala.collection.mutable.Map\n",
       "\u001b[39m\n",
       "\u001b[32mimport \u001b[39m\u001b[36mscala.collection.mutable.HashMap\n",
       "\u001b[39m"
      ]
     },
     "execution_count": 21,
     "metadata": {},
     "output_type": "execute_result"
    }
   ],
   "source": [
    "import scala.collection.mutable.Map\n",
    "import scala.collection.mutable.HashMap"
   ]
  },
  {
   "cell_type": "code",
   "execution_count": 22,
   "id": "ac4b3881",
   "metadata": {},
   "outputs": [
    {
     "data": {
      "text/plain": [
       "\u001b[36mx\u001b[39m: \u001b[32mHashMap\u001b[39m[\u001b[32mInt\u001b[39m, \u001b[32mString\u001b[39m] = \u001b[33mHashMap\u001b[39m()"
      ]
     },
     "execution_count": 22,
     "metadata": {},
     "output_type": "execute_result"
    }
   ],
   "source": [
    "val x: HashMap[Int, String] = new HashMap[Int, String]()"
   ]
  },
  {
   "cell_type": "code",
   "execution_count": 23,
   "id": "6982f672",
   "metadata": {},
   "outputs": [
    {
     "data": {
      "text/plain": [
       "\u001b[36mx\u001b[39m: \u001b[32mHashMap\u001b[39m[\u001b[32mInt\u001b[39m, \u001b[32mString\u001b[39m] = \u001b[33mHashMap\u001b[39m()"
      ]
     },
     "execution_count": 23,
     "metadata": {},
     "output_type": "execute_result"
    }
   ],
   "source": [
    "val x = new HashMap[Int, String]()"
   ]
  },
  {
   "cell_type": "code",
   "execution_count": 24,
   "id": "3123809f",
   "metadata": {},
   "outputs": [
    {
     "data": {
      "text/plain": [
       "\u001b[36mx\u001b[39m: \u001b[32mMap\u001b[39m[\u001b[32mInt\u001b[39m, \u001b[32mString\u001b[39m] = \u001b[33mHashMap\u001b[39m()"
      ]
     },
     "execution_count": 24,
     "metadata": {},
     "output_type": "execute_result"
    }
   ],
   "source": [
    "val x: Map[Int, String] = new HashMap()"
   ]
  },
  {
   "cell_type": "code",
   "execution_count": null,
   "id": "8a6c6229",
   "metadata": {},
   "outputs": [],
   "source": []
  },
  {
   "cell_type": "markdown",
   "id": "0f8c8297",
   "metadata": {},
   "source": [
    "### Chapter 2"
   ]
  },
  {
   "cell_type": "code",
   "execution_count": 1,
   "id": "82fb1575",
   "metadata": {},
   "outputs": [
    {
     "data": {
      "text/plain": [
       "\u001b[36mres0\u001b[39m: \u001b[32mInt\u001b[39m = \u001b[32m3\u001b[39m"
      ]
     },
     "execution_count": 1,
     "metadata": {},
     "output_type": "execute_result"
    }
   ],
   "source": [
    "1 + 2"
   ]
  },
  {
   "cell_type": "code",
   "execution_count": 2,
   "id": "68412db2",
   "metadata": {},
   "outputs": [
    {
     "data": {
      "text/plain": [
       "\u001b[36mres1\u001b[39m: \u001b[32mInt\u001b[39m = \u001b[32m9\u001b[39m"
      ]
     },
     "execution_count": 2,
     "metadata": {},
     "output_type": "execute_result"
    }
   ],
   "source": [
    "res0 * 3"
   ]
  },
  {
   "cell_type": "code",
   "execution_count": 3,
   "id": "a0172eb6",
   "metadata": {},
   "outputs": [
    {
     "name": "stdout",
     "output_type": "stream",
     "text": [
      "Hello, world!\n"
     ]
    }
   ],
   "source": [
    "println(\"Hello, world!\")"
   ]
  },
  {
   "cell_type": "code",
   "execution_count": 4,
   "id": "c3794a1e",
   "metadata": {},
   "outputs": [
    {
     "data": {
      "text/plain": [
       "\u001b[36mmsg\u001b[39m: \u001b[32mString\u001b[39m = \u001b[32m\"Hello, world!\"\u001b[39m"
      ]
     },
     "execution_count": 4,
     "metadata": {},
     "output_type": "execute_result"
    }
   ],
   "source": [
    "val msg = \"Hello, world!\""
   ]
  },
  {
   "cell_type": "code",
   "execution_count": 4,
   "id": "3a5aa5ba",
   "metadata": {},
   "outputs": [
    {
     "name": "stderr",
     "output_type": "stream",
     "text": [
      "    |val msg2 = java.lang.String = \"Hello again, world!\"\n",
      "    |           ^^^^^^^^^^^^^^^^\n",
      "    |           Java defined class String is not a value    |val msg2 = java.lang.String = \"Hello again, world!\"\n",
      "    |                              ^^^^^^^^^^^^^^^^^^^^^\n",
      "    |                            Found:    (\"Hello again, world!\" : String)\n",
      "    |                            Required: object StringCompilation Failed"
     ]
    },
    {
     "ename": "",
     "evalue": "",
     "output_type": "error",
     "traceback": [
      "Compilation Failed"
     ]
    }
   ],
   "source": [
    "val msg2 = java.lang.String = \"Hello again, world!\""
   ]
  },
  {
   "cell_type": "code",
   "execution_count": 5,
   "id": "ed43f30d",
   "metadata": {},
   "outputs": [
    {
     "data": {
      "text/plain": [
       "\u001b[36mmsg3\u001b[39m: \u001b[32mString\u001b[39m = \u001b[32m\"Hello yet again, world!\"\u001b[39m"
      ]
     },
     "execution_count": 5,
     "metadata": {},
     "output_type": "execute_result"
    }
   ],
   "source": [
    "val msg3: String = \"Hello yet again, world!\""
   ]
  },
  {
   "cell_type": "code",
   "execution_count": 6,
   "id": "b409c5b3",
   "metadata": {},
   "outputs": [
    {
     "name": "stdout",
     "output_type": "stream",
     "text": [
      "Hello, world!\n"
     ]
    }
   ],
   "source": [
    "println(msg)"
   ]
  },
  {
   "cell_type": "code",
   "execution_count": 6,
   "id": "d1a9331c",
   "metadata": {},
   "outputs": [
    {
     "name": "stderr",
     "output_type": "stream",
     "text": [
      "    |val res6 = msg = \"Goodbye cruel world!\"\n",
      "    |           ^^^^^^^^^^^^^^^^^^^^^^^^^^^^\n",
      "    |           Reassignment to val msgCompilation Failed"
     ]
    },
    {
     "ename": "",
     "evalue": "",
     "output_type": "error",
     "traceback": [
      "Compilation Failed"
     ]
    }
   ],
   "source": [
    "msg = \"Goodbye cruel world!\""
   ]
  },
  {
   "cell_type": "code",
   "execution_count": 7,
   "id": "1197c6d9",
   "metadata": {},
   "outputs": [
    {
     "data": {
      "text/plain": [
       "\u001b[36mgreeting\u001b[39m: \u001b[32mString\u001b[39m = \u001b[32m\"Hello, world!\"\u001b[39m"
      ]
     },
     "execution_count": 7,
     "metadata": {},
     "output_type": "execute_result"
    }
   ],
   "source": [
    "var greeting = \"Hello, world!\""
   ]
  },
  {
   "cell_type": "code",
   "execution_count": 8,
   "id": "3edc73d9",
   "metadata": {},
   "outputs": [],
   "source": [
    "greeting = \"Leave me alone, world!\""
   ]
  },
  {
   "cell_type": "code",
   "execution_count": 9,
   "id": "38e0210f",
   "metadata": {},
   "outputs": [
    {
     "name": "stdout",
     "output_type": "stream",
     "text": [
      "Leave me alone, world!\n"
     ]
    }
   ],
   "source": [
    "println(greeting)"
   ]
  },
  {
   "cell_type": "code",
   "execution_count": 10,
   "id": "9ad5ed30",
   "metadata": {},
   "outputs": [
    {
     "data": {
      "text/plain": [
       "\u001b[36mmultiLine\u001b[39m: \u001b[32mString\u001b[39m = \u001b[32m\"This is the next line.\"\u001b[39m"
      ]
     },
     "execution_count": 10,
     "metadata": {},
     "output_type": "execute_result"
    }
   ],
   "source": [
    "val multiLine = \n",
    "    \"This is the next line.\""
   ]
  },
  {
   "cell_type": "code",
   "execution_count": 10,
   "id": "2f444def",
   "metadata": {},
   "outputs": [],
   "source": [
    "val oops = \n",
    "\n",
    "// You typed two blank lines. Starting a new command"
   ]
  },
  {
   "cell_type": "code",
   "execution_count": 11,
   "id": "bc9a47e5",
   "metadata": {},
   "outputs": [
    {
     "data": {
      "text/plain": [
       "defined \u001b[32mfunction\u001b[39m \u001b[36mmax\u001b[39m"
      ]
     },
     "execution_count": 11,
     "metadata": {},
     "output_type": "execute_result"
    }
   ],
   "source": [
    "def max(x: Int, y: Int): Int = \n",
    "    if x > y then x\n",
    "    else y"
   ]
  },
  {
   "cell_type": "code",
   "execution_count": 14,
   "id": "e32e625c",
   "metadata": {},
   "outputs": [
    {
     "data": {
      "text/plain": [
       "defined \u001b[32mfunction\u001b[39m \u001b[36mmax\u001b[39m"
      ]
     },
     "execution_count": 14,
     "metadata": {},
     "output_type": "execute_result"
    }
   ],
   "source": [
    "def max(x: Int, y: Int) = if x > y then x else y"
   ]
  },
  {
   "cell_type": "code",
   "execution_count": 15,
   "id": "adf8be5d",
   "metadata": {},
   "outputs": [
    {
     "data": {
      "text/plain": [
       "\u001b[36mbigger\u001b[39m: \u001b[32mInt\u001b[39m = \u001b[32m5\u001b[39m"
      ]
     },
     "execution_count": 15,
     "metadata": {},
     "output_type": "execute_result"
    }
   ],
   "source": [
    "val bigger = max(3, 5)"
   ]
  },
  {
   "cell_type": "code",
   "execution_count": 16,
   "id": "a001f7e5",
   "metadata": {},
   "outputs": [
    {
     "data": {
      "text/plain": [
       "defined \u001b[32mfunction\u001b[39m \u001b[36mgreet\u001b[39m"
      ]
     },
     "execution_count": 16,
     "metadata": {},
     "output_type": "execute_result"
    }
   ],
   "source": [
    "def greet() = println(\"Hello, world!\")"
   ]
  },
  {
   "cell_type": "code",
   "execution_count": 17,
   "id": "a8283937",
   "metadata": {},
   "outputs": [
    {
     "name": "stdout",
     "output_type": "stream",
     "text": [
      "Hello, world!\n"
     ]
    }
   ],
   "source": [
    "greet()"
   ]
  },
  {
   "cell_type": "code",
   "execution_count": 18,
   "id": "ecdad3f6",
   "metadata": {},
   "outputs": [
    {
     "data": {
      "text/plain": [
       "defined \u001b[32mfunction\u001b[39m \u001b[36mm\u001b[39m"
      ]
     },
     "execution_count": 18,
     "metadata": {},
     "output_type": "execute_result"
    }
   ],
   "source": [
    "@main def m() =\n",
    "    println(\"Hello, world, from a script!\")"
   ]
  },
  {
   "cell_type": "code",
   "execution_count": 19,
   "id": "286800bd",
   "metadata": {},
   "outputs": [
    {
     "data": {
      "text/plain": [
       "defined \u001b[32mfunction\u001b[39m \u001b[36mm\u001b[39m"
      ]
     },
     "execution_count": 19,
     "metadata": {},
     "output_type": "execute_result"
    }
   ],
   "source": [
    "@main def m(args: String*) = \n",
    "    // Say hello to the first argument\n",
    "    println(\"Hello, \" + args(0) + \"!\")"
   ]
  },
  {
   "cell_type": "code",
   "execution_count": 23,
   "id": "7da17c82",
   "metadata": {},
   "outputs": [
    {
     "name": "stdout",
     "output_type": "stream",
     "text": [
      "Hello, earth!\n"
     ]
    }
   ],
   "source": [
    "m(\"earth\", \"planet\")"
   ]
  },
  {
   "cell_type": "code",
   "execution_count": 24,
   "id": "c199d308",
   "metadata": {},
   "outputs": [
    {
     "data": {
      "text/plain": [
       "defined \u001b[32mfunction\u001b[39m \u001b[36mm\u001b[39m"
      ]
     },
     "execution_count": 24,
     "metadata": {},
     "output_type": "execute_result"
    }
   ],
   "source": [
    "@main def m(args: String*) =\n",
    "    var i = 0\n",
    "    while i < args.length do\n",
    "        println(args(i))\n",
    "        i += 1"
   ]
  },
  {
   "cell_type": "code",
   "execution_count": 25,
   "id": "90e5bde4",
   "metadata": {},
   "outputs": [
    {
     "name": "stdout",
     "output_type": "stream",
     "text": [
      "earth\n",
      "jupyter\n",
      "solar\n"
     ]
    }
   ],
   "source": [
    "m(\"earth\",\"jupyter\",\"solar\")"
   ]
  },
  {
   "cell_type": "code",
   "execution_count": 26,
   "id": "f8c0f4e2",
   "metadata": {},
   "outputs": [
    {
     "data": {
      "text/plain": [
       "\u001b[36mls\u001b[39m: \u001b[32mList\u001b[39m[\u001b[32mInt\u001b[39m] = \u001b[33mList\u001b[39m(\u001b[32m1\u001b[39m, \u001b[32m2\u001b[39m, \u001b[32m3\u001b[39m, \u001b[32m4\u001b[39m)"
      ]
     },
     "execution_count": 26,
     "metadata": {},
     "output_type": "execute_result"
    }
   ],
   "source": [
    "val ls = List(1,2,3,4)"
   ]
  },
  {
   "cell_type": "code",
   "execution_count": 28,
   "id": "94f3fc41",
   "metadata": {},
   "outputs": [
    {
     "data": {
      "text/plain": [
       "\u001b[36mres27\u001b[39m: \u001b[32mInt\u001b[39m = \u001b[32m3\u001b[39m"
      ]
     },
     "execution_count": 28,
     "metadata": {},
     "output_type": "execute_result"
    }
   ],
   "source": [
    "ls(2)"
   ]
  },
  {
   "cell_type": "code",
   "execution_count": 29,
   "id": "fc875faf",
   "metadata": {},
   "outputs": [
    {
     "data": {
      "text/plain": [
       "defined \u001b[32mfunction\u001b[39m \u001b[36mm\u001b[39m"
      ]
     },
     "execution_count": 29,
     "metadata": {},
     "output_type": "execute_result"
    }
   ],
   "source": [
    "@main def m(args: String*) =\n",
    "    var i = 0\n",
    "    while i < args.length do\n",
    "        if i != 0 then\n",
    "            print(\" \")\n",
    "        print(args(i))\n",
    "        i += 1\n",
    "    println()"
   ]
  },
  {
   "cell_type": "code",
   "execution_count": 30,
   "id": "501dd84c",
   "metadata": {},
   "outputs": [
    {
     "name": "stdout",
     "output_type": "stream",
     "text": [
      "Scala is even more fun\n"
     ]
    }
   ],
   "source": [
    "m(\"Scala\",\"is\",\"even\",\"more\",\"fun\")"
   ]
  },
  {
   "cell_type": "code",
   "execution_count": 31,
   "id": "f2019c1d",
   "metadata": {},
   "outputs": [
    {
     "data": {
      "text/plain": [
       "defined \u001b[32mfunction\u001b[39m \u001b[36mm\u001b[39m"
      ]
     },
     "execution_count": 31,
     "metadata": {},
     "output_type": "execute_result"
    }
   ],
   "source": [
    "@main def m(args: String*) = {\n",
    "    var i = 0;\n",
    "    while (i < args.length) {\n",
    "        if (i != 0) {\n",
    "            print(\" \");\n",
    "        }\n",
    "        print(args(i));\n",
    "        i += 1;\n",
    "    }\n",
    "    println();\n",
    "}"
   ]
  },
  {
   "cell_type": "code",
   "execution_count": 33,
   "id": "764949a6",
   "metadata": {},
   "outputs": [
    {
     "name": "stdout",
     "output_type": "stream",
     "text": [
      "Scala is written by Java style\n"
     ]
    }
   ],
   "source": [
    "m(\"Scala\",\"is\",\"written\",\"by\",\"Java\",\"style\")"
   ]
  },
  {
   "cell_type": "code",
   "execution_count": 1,
   "id": "028aa4bb",
   "metadata": {},
   "outputs": [
    {
     "data": {
      "text/plain": [
       "defined \u001b[32mfunction\u001b[39m \u001b[36mm\u001b[39m"
      ]
     },
     "execution_count": 1,
     "metadata": {},
     "output_type": "execute_result"
    }
   ],
   "source": [
    "@main def m(args: String*) = \n",
    "    args.foreach(arg => println(arg))"
   ]
  },
  {
   "cell_type": "code",
   "execution_count": 2,
   "id": "aca22328",
   "metadata": {},
   "outputs": [
    {
     "name": "stdout",
     "output_type": "stream",
     "text": [
      "Concise\n",
      "is\n",
      "nice\n"
     ]
    }
   ],
   "source": [
    "m(\"Concise\",\"is\",\"nice\")"
   ]
  },
  {
   "cell_type": "code",
   "execution_count": 3,
   "id": "44b72cef",
   "metadata": {},
   "outputs": [
    {
     "data": {
      "text/plain": [
       "defined \u001b[32mfunction\u001b[39m \u001b[36mm\u001b[39m"
      ]
     },
     "execution_count": 3,
     "metadata": {},
     "output_type": "execute_result"
    }
   ],
   "source": [
    "@main def m(args: String*) = \n",
    "    args.foreach((arg: String) => println(arg))"
   ]
  },
  {
   "cell_type": "code",
   "execution_count": 4,
   "id": "953721b0",
   "metadata": {},
   "outputs": [
    {
     "name": "stdout",
     "output_type": "stream",
     "text": [
      "Concise\n",
      "is\n",
      "nice\n"
     ]
    }
   ],
   "source": [
    "m(\"Concise\",\"is\",\"nice\")"
   ]
  },
  {
   "cell_type": "code",
   "execution_count": 5,
   "id": "b1692b69",
   "metadata": {},
   "outputs": [
    {
     "data": {
      "text/plain": [
       "defined \u001b[32mfunction\u001b[39m \u001b[36mm\u001b[39m"
      ]
     },
     "execution_count": 5,
     "metadata": {},
     "output_type": "execute_result"
    }
   ],
   "source": [
    "@main def m(args: String*) =\n",
    "    args.foreach(println)"
   ]
  },
  {
   "cell_type": "code",
   "execution_count": 6,
   "id": "0e7eb938",
   "metadata": {},
   "outputs": [
    {
     "name": "stdout",
     "output_type": "stream",
     "text": [
      "Concise\n",
      "is\n",
      "nice\n"
     ]
    }
   ],
   "source": [
    "m(\"Concise\",\"is\",\"nice\")"
   ]
  },
  {
   "cell_type": "code",
   "execution_count": 7,
   "id": "0cc8b37d",
   "metadata": {},
   "outputs": [
    {
     "data": {
      "text/plain": [
       "defined \u001b[32mfunction\u001b[39m \u001b[36mm\u001b[39m"
      ]
     },
     "execution_count": 7,
     "metadata": {},
     "output_type": "execute_result"
    }
   ],
   "source": [
    "@main def m(args: String*) = \n",
    "    for arg <- args do\n",
    "        println(arg)"
   ]
  },
  {
   "cell_type": "code",
   "execution_count": 8,
   "id": "92882ff4",
   "metadata": {},
   "outputs": [
    {
     "name": "stdout",
     "output_type": "stream",
     "text": [
      "for\n",
      "arg\n",
      "in\n",
      "args\n"
     ]
    }
   ],
   "source": [
    "m(\"for\",\"arg\",\"in\",\"args\")"
   ]
  },
  {
   "cell_type": "code",
   "execution_count": null,
   "id": "308806fe",
   "metadata": {},
   "outputs": [],
   "source": []
  },
  {
   "cell_type": "markdown",
   "id": "f53a5f93",
   "metadata": {},
   "source": [
    "### Chapter 3"
   ]
  },
  {
   "cell_type": "code",
   "execution_count": 9,
   "id": "1ea74c67",
   "metadata": {},
   "outputs": [
    {
     "data": {
      "text/plain": [
       "\u001b[36mbig\u001b[39m: \u001b[32mBigInteger\u001b[39m = 12345"
      ]
     },
     "execution_count": 9,
     "metadata": {},
     "output_type": "execute_result"
    }
   ],
   "source": [
    "val big = new java.math.BigInteger(\"12345\")"
   ]
  },
  {
   "cell_type": "code",
   "execution_count": 11,
   "id": "5a88f85a",
   "metadata": {},
   "outputs": [
    {
     "data": {
      "text/plain": [
       "\u001b[36mgreetStrings\u001b[39m: \u001b[32mArray\u001b[39m[\u001b[32mString\u001b[39m] = \u001b[33mArray\u001b[39m(\n",
       "  \u001b[32m\"Hello\"\u001b[39m,\n",
       "  \u001b[32m\", \"\u001b[39m,\n",
       "  \u001b[32m\"\"\"world!\n",
       "\"\"\"\u001b[39m\n",
       ")"
      ]
     },
     "execution_count": 11,
     "metadata": {},
     "output_type": "execute_result"
    }
   ],
   "source": [
    "val greetStrings = new Array[String](3)\n",
    "// val greetStrings : Array[String] = new Array[String](3)\n",
    "greetStrings(0) = \"Hello\"\n",
    "greetStrings(1) = \", \"\n",
    "greetStrings(2) = \"world!\\n\"\n"
   ]
  },
  {
   "cell_type": "code",
   "execution_count": 12,
   "id": "bf0642e9",
   "metadata": {},
   "outputs": [
    {
     "name": "stdout",
     "output_type": "stream",
     "text": [
      "Hello, world!\n"
     ]
    }
   ],
   "source": [
    "for i <- 0 to 2 do\n",
    "    print(greetStrings(i))"
   ]
  },
  {
   "cell_type": "code",
   "execution_count": 13,
   "id": "2ab1545c",
   "metadata": {},
   "outputs": [
    {
     "name": "stdout",
     "output_type": "stream",
     "text": [
      "Hello, world!\n"
     ]
    },
    {
     "data": {
      "text/plain": [
       "\u001b[36mgreetStrings\u001b[39m: \u001b[32mArray\u001b[39m[\u001b[32mString\u001b[39m] = \u001b[33mArray\u001b[39m(\n",
       "  \u001b[32m\"Hello\"\u001b[39m,\n",
       "  \u001b[32m\", \"\u001b[39m,\n",
       "  \u001b[32m\"\"\"world!\n",
       "\"\"\"\u001b[39m\n",
       ")"
      ]
     },
     "execution_count": 13,
     "metadata": {},
     "output_type": "execute_result"
    }
   ],
   "source": [
    "val greetStrings = new Array[String](3)\n",
    "greetStrings.update(0, \"Hello\")\n",
    "greetStrings.update(1, \", \")\n",
    "greetStrings.update(2, \"world!\\n\")\n",
    "\n",
    "for i <- 0.to(2) do\n",
    "    print(greetStrings.apply(i))"
   ]
  },
  {
   "cell_type": "code",
   "execution_count": 14,
   "id": "ec992a83",
   "metadata": {},
   "outputs": [
    {
     "data": {
      "text/plain": [
       "\u001b[36mnumNames\u001b[39m: \u001b[32mArray\u001b[39m[\u001b[32mString\u001b[39m] = \u001b[33mArray\u001b[39m(\u001b[32m\"zero\"\u001b[39m, \u001b[32m\"one\"\u001b[39m, \u001b[32m\"two\"\u001b[39m)"
      ]
     },
     "execution_count": 14,
     "metadata": {},
     "output_type": "execute_result"
    }
   ],
   "source": [
    "val numNames = Array(\"zero\",\"one\",\"two\")"
   ]
  },
  {
   "cell_type": "code",
   "execution_count": 15,
   "id": "afca176a",
   "metadata": {},
   "outputs": [
    {
     "data": {
      "text/plain": [
       "\u001b[36mnumNames2\u001b[39m: \u001b[32mArray\u001b[39m[\u001b[32mString\u001b[39m] = \u001b[33mArray\u001b[39m(\u001b[32m\"zero\"\u001b[39m, \u001b[32m\"one\"\u001b[39m, \u001b[32m\"two\"\u001b[39m)"
      ]
     },
     "execution_count": 15,
     "metadata": {},
     "output_type": "execute_result"
    }
   ],
   "source": [
    "val numNames2 = Array.apply(\"zero\",\"one\",\"two\")"
   ]
  },
  {
   "cell_type": "code",
   "execution_count": 1,
   "id": "a346f44b",
   "metadata": {},
   "outputs": [
    {
     "data": {
      "text/plain": [
       "\u001b[36moneTwoThree\u001b[39m: \u001b[32mList\u001b[39m[\u001b[32mInt\u001b[39m] = \u001b[33mList\u001b[39m(\u001b[32m1\u001b[39m, \u001b[32m2\u001b[39m, \u001b[32m3\u001b[39m)"
      ]
     },
     "execution_count": 1,
     "metadata": {},
     "output_type": "execute_result"
    }
   ],
   "source": [
    "val oneTwoThree = List(1, 2, 3)"
   ]
  },
  {
   "cell_type": "code",
   "execution_count": 2,
   "id": "074d4cc7",
   "metadata": {},
   "outputs": [
    {
     "data": {
      "text/plain": [
       "\u001b[36moneTwo\u001b[39m: \u001b[32mList\u001b[39m[\u001b[32mInt\u001b[39m] = \u001b[33mList\u001b[39m(\u001b[32m1\u001b[39m, \u001b[32m2\u001b[39m)\n",
       "\u001b[36mthreeFour\u001b[39m: \u001b[32mList\u001b[39m[\u001b[32mInt\u001b[39m] = \u001b[33mList\u001b[39m(\u001b[32m3\u001b[39m, \u001b[32m4\u001b[39m)\n",
       "\u001b[36moneTwoThreeFour\u001b[39m: \u001b[32mList\u001b[39m[\u001b[32mInt\u001b[39m] = \u001b[33mList\u001b[39m(\u001b[32m1\u001b[39m, \u001b[32m2\u001b[39m, \u001b[32m3\u001b[39m, \u001b[32m4\u001b[39m)"
      ]
     },
     "execution_count": 2,
     "metadata": {},
     "output_type": "execute_result"
    }
   ],
   "source": [
    "val oneTwo = List(1, 2)\n",
    "val threeFour = List(3, 4)\n",
    "val oneTwoThreeFour = oneTwo ::: threeFour"
   ]
  },
  {
   "cell_type": "code",
   "execution_count": 3,
   "id": "568bb278",
   "metadata": {},
   "outputs": [
    {
     "data": {
      "text/plain": [
       "\u001b[36mtwoThree\u001b[39m: \u001b[32mList\u001b[39m[\u001b[32mInt\u001b[39m] = \u001b[33mList\u001b[39m(\u001b[32m2\u001b[39m, \u001b[32m3\u001b[39m)\n",
       "\u001b[36moneTwoThree\u001b[39m: \u001b[32mList\u001b[39m[\u001b[32mInt\u001b[39m] = \u001b[33mList\u001b[39m(\u001b[32m1\u001b[39m, \u001b[32m2\u001b[39m, \u001b[32m3\u001b[39m)"
      ]
     },
     "execution_count": 3,
     "metadata": {},
     "output_type": "execute_result"
    }
   ],
   "source": [
    "val twoThree = List(2, 3)\n",
    "val oneTwoThree = 1 :: twoThree"
   ]
  },
  {
   "cell_type": "code",
   "execution_count": 4,
   "id": "4a8efe8c",
   "metadata": {},
   "outputs": [
    {
     "data": {
      "text/plain": [
       "\u001b[36moneTwoThree\u001b[39m: \u001b[32mList\u001b[39m[\u001b[32mInt\u001b[39m] = \u001b[33mList\u001b[39m(\u001b[32m1\u001b[39m, \u001b[32m2\u001b[39m, \u001b[32m3\u001b[39m)"
      ]
     },
     "execution_count": 4,
     "metadata": {},
     "output_type": "execute_result"
    }
   ],
   "source": [
    "val oneTwoThree = 1 :: 2 :: 3 :: Nil"
   ]
  },
  {
   "cell_type": "code",
   "execution_count": 7,
   "id": "e52f3b45",
   "metadata": {},
   "outputs": [
    {
     "data": {
      "text/plain": [
       "\u001b[36mres6_0\u001b[39m: \u001b[32mList\u001b[39m[\u001b[32mNothing\u001b[39m] = \u001b[33mList\u001b[39m()\n",
       "\u001b[36mres6_1\u001b[39m: scala.collection.immutable.Nil.type = \u001b[33mList\u001b[39m()"
      ]
     },
     "execution_count": 7,
     "metadata": {},
     "output_type": "execute_result"
    }
   ],
   "source": [
    "// The empty List\n",
    "List.empty\n",
    "Nil"
   ]
  },
  {
   "cell_type": "code",
   "execution_count": 8,
   "id": "98b66508",
   "metadata": {},
   "outputs": [
    {
     "data": {
      "text/plain": [
       "\u001b[36mres7\u001b[39m: \u001b[32mList\u001b[39m[\u001b[32mString\u001b[39m] = \u001b[33mList\u001b[39m(\u001b[32m\"Cool\"\u001b[39m, \u001b[32m\"tools\"\u001b[39m, \u001b[32m\"rule\"\u001b[39m)"
      ]
     },
     "execution_count": 8,
     "metadata": {},
     "output_type": "execute_result"
    }
   ],
   "source": [
    "List(\"Cool\",\"tools\",\"rule\")"
   ]
  },
  {
   "cell_type": "code",
   "execution_count": 9,
   "id": "7d445a9d",
   "metadata": {},
   "outputs": [
    {
     "data": {
      "text/plain": [
       "\u001b[36mthrill\u001b[39m: \u001b[32mList\u001b[39m[\u001b[32mString\u001b[39m] = \u001b[33mList\u001b[39m(\u001b[32m\"Will\"\u001b[39m, \u001b[32m\"fill\"\u001b[39m, \u001b[32m\"until\"\u001b[39m)"
      ]
     },
     "execution_count": 9,
     "metadata": {},
     "output_type": "execute_result"
    }
   ],
   "source": [
    "val thrill = \"Will\" :: \"fill\" :: \"until\" :: Nil"
   ]
  },
  {
   "cell_type": "code",
   "execution_count": 10,
   "id": "933a4bde",
   "metadata": {},
   "outputs": [
    {
     "data": {
      "text/plain": [
       "\u001b[36mres9\u001b[39m: \u001b[32mList\u001b[39m[\u001b[32mString\u001b[39m] = \u001b[33mList\u001b[39m(\u001b[32m\"a\"\u001b[39m, \u001b[32m\"b\"\u001b[39m, \u001b[32m\"c\"\u001b[39m, \u001b[32m\"d\"\u001b[39m)"
      ]
     },
     "execution_count": 10,
     "metadata": {},
     "output_type": "execute_result"
    }
   ],
   "source": [
    "List(\"a\", \"b\") ::: List(\"c\", \"d\")"
   ]
  },
  {
   "cell_type": "code",
   "execution_count": 11,
   "id": "feef03ec",
   "metadata": {},
   "outputs": [
    {
     "data": {
      "text/plain": [
       "\u001b[36mres10\u001b[39m: \u001b[32mString\u001b[39m = \u001b[32m\"until\"\u001b[39m"
      ]
     },
     "execution_count": 11,
     "metadata": {},
     "output_type": "execute_result"
    }
   ],
   "source": [
    "thrill(2)"
   ]
  },
  {
   "cell_type": "code",
   "execution_count": 12,
   "id": "94be7084",
   "metadata": {},
   "outputs": [
    {
     "data": {
      "text/plain": [
       "\u001b[36mres11\u001b[39m: \u001b[32mInt\u001b[39m = \u001b[32m2\u001b[39m"
      ]
     },
     "execution_count": 12,
     "metadata": {},
     "output_type": "execute_result"
    }
   ],
   "source": [
    "thrill.count(s => s.length == 4)"
   ]
  },
  {
   "cell_type": "code",
   "execution_count": 14,
   "id": "0eff3416",
   "metadata": {},
   "outputs": [
    {
     "data": {
      "text/plain": [
       "\u001b[36mres13\u001b[39m: \u001b[32mList\u001b[39m[\u001b[32mString\u001b[39m] = \u001b[33mList\u001b[39m(\u001b[32m\"until\"\u001b[39m)"
      ]
     },
     "execution_count": 14,
     "metadata": {},
     "output_type": "execute_result"
    }
   ],
   "source": [
    "thrill.drop(2)"
   ]
  },
  {
   "cell_type": "code",
   "execution_count": 15,
   "id": "7857badf",
   "metadata": {},
   "outputs": [
    {
     "data": {
      "text/plain": [
       "\u001b[36mres14\u001b[39m: \u001b[32mList\u001b[39m[\u001b[32mString\u001b[39m] = \u001b[33mList\u001b[39m(\u001b[32m\"Will\"\u001b[39m)"
      ]
     },
     "execution_count": 15,
     "metadata": {},
     "output_type": "execute_result"
    }
   ],
   "source": [
    "thrill.dropRight(2)"
   ]
  },
  {
   "cell_type": "code",
   "execution_count": 16,
   "id": "bdccd172",
   "metadata": {},
   "outputs": [
    {
     "data": {
      "text/plain": [
       "\u001b[36mres15\u001b[39m: \u001b[32mBoolean\u001b[39m = \u001b[32mtrue\u001b[39m"
      ]
     },
     "execution_count": 16,
     "metadata": {},
     "output_type": "execute_result"
    }
   ],
   "source": [
    "thrill.exists(s => s == \"until\")"
   ]
  },
  {
   "cell_type": "code",
   "execution_count": 17,
   "id": "d7361b36",
   "metadata": {},
   "outputs": [
    {
     "data": {
      "text/plain": [
       "\u001b[36mres16\u001b[39m: \u001b[32mList\u001b[39m[\u001b[32mString\u001b[39m] = \u001b[33mList\u001b[39m(\u001b[32m\"Will\"\u001b[39m, \u001b[32m\"fill\"\u001b[39m)"
      ]
     },
     "execution_count": 17,
     "metadata": {},
     "output_type": "execute_result"
    }
   ],
   "source": [
    "thrill.filter(s => s.length == 4)"
   ]
  },
  {
   "cell_type": "code",
   "execution_count": 18,
   "id": "877a401d",
   "metadata": {},
   "outputs": [
    {
     "data": {
      "text/plain": [
       "\u001b[36mres17\u001b[39m: \u001b[32mBoolean\u001b[39m = \u001b[32mtrue\u001b[39m"
      ]
     },
     "execution_count": 18,
     "metadata": {},
     "output_type": "execute_result"
    }
   ],
   "source": [
    "thrill.forall(s => s.endsWith(\"l\"))"
   ]
  },
  {
   "cell_type": "code",
   "execution_count": 24,
   "id": "2bb7e9bd",
   "metadata": {},
   "outputs": [
    {
     "data": {
      "text/plain": [
       "\u001b[36mres23\u001b[39m: \u001b[32mBoolean\u001b[39m = \u001b[32mfalse\u001b[39m"
      ]
     },
     "execution_count": 24,
     "metadata": {},
     "output_type": "execute_result"
    }
   ],
   "source": [
    "thrill.forall(s => s.startsWith(\"f\"))"
   ]
  },
  {
   "cell_type": "code",
   "execution_count": 19,
   "id": "6ccbf5eb",
   "metadata": {},
   "outputs": [
    {
     "name": "stdout",
     "output_type": "stream",
     "text": [
      "Willfilluntil"
     ]
    }
   ],
   "source": [
    "thrill.foreach(s => print(s))"
   ]
  },
  {
   "cell_type": "code",
   "execution_count": 25,
   "id": "aec4e9af",
   "metadata": {},
   "outputs": [
    {
     "name": "stdout",
     "output_type": "stream",
     "text": [
      "Willfilluntil"
     ]
    }
   ],
   "source": [
    "thrill.foreach(print)"
   ]
  },
  {
   "cell_type": "code",
   "execution_count": 26,
   "id": "53df2323",
   "metadata": {},
   "outputs": [
    {
     "data": {
      "text/plain": [
       "\u001b[36mres25\u001b[39m: \u001b[32mString\u001b[39m = \u001b[32m\"Will\"\u001b[39m"
      ]
     },
     "execution_count": 26,
     "metadata": {},
     "output_type": "execute_result"
    }
   ],
   "source": [
    "thrill.head"
   ]
  },
  {
   "cell_type": "code",
   "execution_count": 27,
   "id": "9e6cb25d",
   "metadata": {},
   "outputs": [
    {
     "data": {
      "text/plain": [
       "\u001b[36mres26\u001b[39m: \u001b[32mList\u001b[39m[\u001b[32mString\u001b[39m] = \u001b[33mList\u001b[39m(\u001b[32m\"Will\"\u001b[39m, \u001b[32m\"fill\"\u001b[39m)"
      ]
     },
     "execution_count": 27,
     "metadata": {},
     "output_type": "execute_result"
    }
   ],
   "source": [
    "thrill.init"
   ]
  },
  {
   "cell_type": "code",
   "execution_count": 28,
   "id": "cb6ab5d8",
   "metadata": {},
   "outputs": [
    {
     "data": {
      "text/plain": [
       "\u001b[36mres27\u001b[39m: \u001b[32mBoolean\u001b[39m = \u001b[32mfalse\u001b[39m"
      ]
     },
     "execution_count": 28,
     "metadata": {},
     "output_type": "execute_result"
    }
   ],
   "source": [
    "thrill.isEmpty"
   ]
  },
  {
   "cell_type": "code",
   "execution_count": 29,
   "id": "3e5b78ff",
   "metadata": {},
   "outputs": [
    {
     "data": {
      "text/plain": [
       "\u001b[36mres28\u001b[39m: \u001b[32mString\u001b[39m = \u001b[32m\"until\"\u001b[39m"
      ]
     },
     "execution_count": 29,
     "metadata": {},
     "output_type": "execute_result"
    }
   ],
   "source": [
    "thrill.last"
   ]
  },
  {
   "cell_type": "code",
   "execution_count": 30,
   "id": "480bb663",
   "metadata": {},
   "outputs": [
    {
     "data": {
      "text/plain": [
       "\u001b[36mres29\u001b[39m: \u001b[32mInt\u001b[39m = \u001b[32m3\u001b[39m"
      ]
     },
     "execution_count": 30,
     "metadata": {},
     "output_type": "execute_result"
    }
   ],
   "source": [
    "thrill.length"
   ]
  },
  {
   "cell_type": "code",
   "execution_count": 31,
   "id": "639acb2c",
   "metadata": {},
   "outputs": [
    {
     "data": {
      "text/plain": [
       "\u001b[36mres30\u001b[39m: \u001b[32mList\u001b[39m[\u001b[32mString\u001b[39m] = \u001b[33mList\u001b[39m(\u001b[32m\"Willy\"\u001b[39m, \u001b[32m\"filly\"\u001b[39m, \u001b[32m\"untily\"\u001b[39m)"
      ]
     },
     "execution_count": 31,
     "metadata": {},
     "output_type": "execute_result"
    }
   ],
   "source": [
    "thrill.map(s => s + \"y\")"
   ]
  },
  {
   "cell_type": "code",
   "execution_count": 32,
   "id": "57699384",
   "metadata": {},
   "outputs": [
    {
     "data": {
      "text/plain": [
       "\u001b[36mres31\u001b[39m: \u001b[32mString\u001b[39m = \u001b[32m\"Will, fill, until\"\u001b[39m"
      ]
     },
     "execution_count": 32,
     "metadata": {},
     "output_type": "execute_result"
    }
   ],
   "source": [
    "// make string\n",
    "thrill.mkString(\", \")"
   ]
  },
  {
   "cell_type": "code",
   "execution_count": 33,
   "id": "c6e44422",
   "metadata": {},
   "outputs": [
    {
     "data": {
      "text/plain": [
       "\u001b[36mres32\u001b[39m: \u001b[32mList\u001b[39m[\u001b[32mString\u001b[39m] = \u001b[33mList\u001b[39m(\u001b[32m\"until\"\u001b[39m)"
      ]
     },
     "execution_count": 33,
     "metadata": {},
     "output_type": "execute_result"
    }
   ],
   "source": [
    "thrill.filterNot(s => s.length == 4)"
   ]
  },
  {
   "cell_type": "code",
   "execution_count": 34,
   "id": "6f5206ea",
   "metadata": {},
   "outputs": [
    {
     "data": {
      "text/plain": [
       "\u001b[36mres33\u001b[39m: \u001b[32mList\u001b[39m[\u001b[32mString\u001b[39m] = \u001b[33mList\u001b[39m(\u001b[32m\"until\"\u001b[39m, \u001b[32m\"fill\"\u001b[39m, \u001b[32m\"Will\"\u001b[39m)"
      ]
     },
     "execution_count": 34,
     "metadata": {},
     "output_type": "execute_result"
    }
   ],
   "source": [
    "thrill.reverse"
   ]
  },
  {
   "cell_type": "code",
   "execution_count": 35,
   "id": "b55028ad",
   "metadata": {},
   "outputs": [
    {
     "data": {
      "text/plain": [
       "\u001b[36mres34\u001b[39m: \u001b[32mList\u001b[39m[\u001b[32mString\u001b[39m] = \u001b[33mList\u001b[39m(\u001b[32m\"fill\"\u001b[39m, \u001b[32m\"until\"\u001b[39m, \u001b[32m\"Will\"\u001b[39m)"
      ]
     },
     "execution_count": 35,
     "metadata": {},
     "output_type": "execute_result"
    }
   ],
   "source": [
    "thrill.sortWith((s, t) => s.charAt(0).toLower < t.charAt(0).toLower)"
   ]
  },
  {
   "cell_type": "code",
   "execution_count": 36,
   "id": "dfbf38ae",
   "metadata": {},
   "outputs": [
    {
     "data": {
      "text/plain": [
       "\u001b[36mres35\u001b[39m: \u001b[32mList\u001b[39m[\u001b[32mString\u001b[39m] = \u001b[33mList\u001b[39m(\u001b[32m\"fill\"\u001b[39m, \u001b[32m\"until\"\u001b[39m)"
      ]
     },
     "execution_count": 36,
     "metadata": {},
     "output_type": "execute_result"
    }
   ],
   "source": [
    "thrill.tail"
   ]
  },
  {
   "cell_type": "code",
   "execution_count": 37,
   "id": "20a3d754",
   "metadata": {},
   "outputs": [
    {
     "data": {
      "text/plain": [
       "\u001b[36mss\u001b[39m: \u001b[32mString\u001b[39m = \u001b[32m\"abcde\"\u001b[39m"
      ]
     },
     "execution_count": 37,
     "metadata": {},
     "output_type": "execute_result"
    }
   ],
   "source": [
    "val ss = \"abcde\""
   ]
  },
  {
   "cell_type": "code",
   "execution_count": 41,
   "id": "3e5e1ade",
   "metadata": {},
   "outputs": [
    {
     "data": {
      "text/plain": [
       "\u001b[36mi\u001b[39m: \u001b[32mInclusive\u001b[39m = \u001b[33mRange\u001b[39m(\u001b[32m0\u001b[39m, \u001b[32m1\u001b[39m, \u001b[32m2\u001b[39m, \u001b[32m3\u001b[39m, \u001b[32m4\u001b[39m)"
      ]
     },
     "execution_count": 41,
     "metadata": {},
     "output_type": "execute_result"
    }
   ],
   "source": [
    "var i = 0 to ss.length - 1"
   ]
  },
  {
   "cell_type": "code",
   "execution_count": 43,
   "id": "57cb2df5",
   "metadata": {},
   "outputs": [
    {
     "name": "stdout",
     "output_type": "stream",
     "text": [
      "abcde"
     ]
    }
   ],
   "source": [
    "for idx <- i do\n",
    "    print(ss.charAt(idx).toLower)"
   ]
  },
  {
   "cell_type": "code",
   "execution_count": 44,
   "id": "4cb1e5a6",
   "metadata": {},
   "outputs": [
    {
     "name": "stdout",
     "output_type": "stream",
     "text": [
      "ABCDE"
     ]
    }
   ],
   "source": [
    "for idx <- i do\n",
    "    print(ss.charAt(idx).toUpper)"
   ]
  },
  {
   "cell_type": "code",
   "execution_count": 45,
   "id": "e49ca82d",
   "metadata": {},
   "outputs": [
    {
     "data": {
      "text/plain": [
       "\u001b[36mpair\u001b[39m: (\u001b[32mInt\u001b[39m, \u001b[32mString\u001b[39m) = (\u001b[32m99\u001b[39m, \u001b[32m\"Luftballons\"\u001b[39m)\n",
       "\u001b[36mnum\u001b[39m: \u001b[32mInt\u001b[39m = \u001b[32m99\u001b[39m\n",
       "\u001b[36mwhat\u001b[39m: \u001b[32mString\u001b[39m = \u001b[32m\"Luftballons\"\u001b[39m"
      ]
     },
     "execution_count": 45,
     "metadata": {},
     "output_type": "execute_result"
    }
   ],
   "source": [
    "val pair = (99, \"Luftballons\")\n",
    "val num = pair(0)\n",
    "val what = pair(1)"
   ]
  },
  {
   "cell_type": "code",
   "execution_count": 46,
   "id": "54f844b8",
   "metadata": {},
   "outputs": [
    {
     "data": {
      "text/plain": [
       "\u001b[36mjetSet\u001b[39m: \u001b[32mSet\u001b[39m[\u001b[32mString\u001b[39m] = \u001b[33mSet\u001b[39m(\u001b[32m\"Boeing\"\u001b[39m, \u001b[32m\"Airbus\"\u001b[39m, \u001b[32m\"Lear\"\u001b[39m)\n",
       "\u001b[36mquery\u001b[39m: \u001b[32mBoolean\u001b[39m = \u001b[32mfalse\u001b[39m"
      ]
     },
     "execution_count": 46,
     "metadata": {},
     "output_type": "execute_result"
    }
   ],
   "source": [
    "var jetSet = Set(\"Boeing\",\"Airbus\")\n",
    "jetSet += \"Lear\"\n",
    "val query = jetSet.contains(\"Cessna\")"
   ]
  },
  {
   "cell_type": "code",
   "execution_count": 47,
   "id": "ebf4d1b5",
   "metadata": {},
   "outputs": [
    {
     "data": {
      "text/plain": [
       "\u001b[32mimport \u001b[39m\u001b[36mscala.collection.mutable\n",
       "\u001b[39m\n",
       "\u001b[36mmovieSet\u001b[39m: \u001b[32mSet\u001b[39m[\u001b[32mString\u001b[39m] = \u001b[33mHashSet\u001b[39m(\u001b[32m\"Spotlight\"\u001b[39m, \u001b[32m\"Parasite\"\u001b[39m, \u001b[32m\"Moonlight\"\u001b[39m)\n",
       "\u001b[36mres46_2\u001b[39m: \u001b[32mSet\u001b[39m[\u001b[32mString\u001b[39m] = \u001b[33mHashSet\u001b[39m(\u001b[32m\"Spotlight\"\u001b[39m, \u001b[32m\"Parasite\"\u001b[39m, \u001b[32m\"Moonlight\"\u001b[39m)"
      ]
     },
     "execution_count": 47,
     "metadata": {},
     "output_type": "execute_result"
    }
   ],
   "source": [
    "import scala.collection.mutable\n",
    "val movieSet = mutable.Set(\"Spotlight\",\"Moonlight\")\n",
    "movieSet += \"Parasite\""
   ]
  },
  {
   "cell_type": "code",
   "execution_count": 48,
   "id": "053e5565",
   "metadata": {},
   "outputs": [
    {
     "data": {
      "text/plain": [
       "\u001b[32mimport \u001b[39m\u001b[36mscala.collection.immutable.HashSet\n",
       "\u001b[39m\n",
       "\u001b[36mhashSet\u001b[39m: \u001b[32mHashSet\u001b[39m[\u001b[32mString\u001b[39m] = \u001b[33mHashSet\u001b[39m(\u001b[32m\"Chilies\"\u001b[39m, \u001b[32m\"Tomatoes\"\u001b[39m)\n",
       "\u001b[36mingredients\u001b[39m: \u001b[32mHashSet\u001b[39m[\u001b[32mString\u001b[39m] = \u001b[33mHashSet\u001b[39m(\u001b[32m\"Chilies\"\u001b[39m, \u001b[32m\"Tomatoes\"\u001b[39m, \u001b[32m\"Coriander\"\u001b[39m)"
      ]
     },
     "execution_count": 48,
     "metadata": {},
     "output_type": "execute_result"
    }
   ],
   "source": [
    "import scala.collection.immutable.HashSet\n",
    "val hashSet = HashSet(\"Tomatoes\",\"Chilies\")\n",
    "val ingredients = hashSet + \"Coriander\""
   ]
  },
  {
   "cell_type": "code",
   "execution_count": 50,
   "id": "efbfcbe5",
   "metadata": {},
   "outputs": [
    {
     "data": {
      "text/plain": [
       "\u001b[32mimport \u001b[39m\u001b[36mscala.collection.mutable\n",
       "\n",
       "\u001b[39m\n",
       "\u001b[36mtreasureMap\u001b[39m: \u001b[32mMap\u001b[39m[\u001b[32mInt\u001b[39m, \u001b[32mString\u001b[39m] = \u001b[33mHashMap\u001b[39m(\n",
       "  \u001b[32m1\u001b[39m -> \u001b[32m\"Go to island.\"\u001b[39m,\n",
       "  \u001b[32m2\u001b[39m -> \u001b[32m\"Find big X on ground.\"\u001b[39m,\n",
       "  \u001b[32m3\u001b[39m -> \u001b[32m\"Dig.\"\u001b[39m\n",
       ")\n",
       "\u001b[36mres49_2\u001b[39m: \u001b[32mMap\u001b[39m[\u001b[32mInt\u001b[39m, \u001b[32mString\u001b[39m] = \u001b[33mHashMap\u001b[39m(\n",
       "  \u001b[32m1\u001b[39m -> \u001b[32m\"Go to island.\"\u001b[39m,\n",
       "  \u001b[32m2\u001b[39m -> \u001b[32m\"Find big X on ground.\"\u001b[39m,\n",
       "  \u001b[32m3\u001b[39m -> \u001b[32m\"Dig.\"\u001b[39m\n",
       ")\n",
       "\u001b[36mres49_3\u001b[39m: \u001b[32mMap\u001b[39m[\u001b[32mInt\u001b[39m, \u001b[32mString\u001b[39m] = \u001b[33mHashMap\u001b[39m(\n",
       "  \u001b[32m1\u001b[39m -> \u001b[32m\"Go to island.\"\u001b[39m,\n",
       "  \u001b[32m2\u001b[39m -> \u001b[32m\"Find big X on ground.\"\u001b[39m,\n",
       "  \u001b[32m3\u001b[39m -> \u001b[32m\"Dig.\"\u001b[39m\n",
       ")\n",
       "\u001b[36mres49_4\u001b[39m: \u001b[32mMap\u001b[39m[\u001b[32mInt\u001b[39m, \u001b[32mString\u001b[39m] = \u001b[33mHashMap\u001b[39m(\n",
       "  \u001b[32m1\u001b[39m -> \u001b[32m\"Go to island.\"\u001b[39m,\n",
       "  \u001b[32m2\u001b[39m -> \u001b[32m\"Find big X on ground.\"\u001b[39m,\n",
       "  \u001b[32m3\u001b[39m -> \u001b[32m\"Dig.\"\u001b[39m\n",
       ")\n",
       "\u001b[36mstep2\u001b[39m: \u001b[32mString\u001b[39m = \u001b[32m\"Find big X on ground.\"\u001b[39m"
      ]
     },
     "execution_count": 50,
     "metadata": {},
     "output_type": "execute_result"
    }
   ],
   "source": [
    "import scala.collection.mutable\n",
    "\n",
    "val treasureMap = mutable.Map.empty[Int, String]\n",
    "treasureMap += (1 -> \"Go to island.\")\n",
    "treasureMap += (2 -> \"Find big X on ground.\")\n",
    "treasureMap += (3 -> \"Dig.\")\n",
    "\n",
    "val step2 = treasureMap(2)"
   ]
  },
  {
   "cell_type": "code",
   "execution_count": 51,
   "id": "a2b200e5",
   "metadata": {},
   "outputs": [
    {
     "data": {
      "text/plain": [
       "\u001b[36mromanNumeral\u001b[39m: \u001b[32mMap\u001b[39m[\u001b[32mInt\u001b[39m, \u001b[32mString\u001b[39m] = \u001b[33mHashMap\u001b[39m(\n",
       "  \u001b[32m5\u001b[39m -> \u001b[32m\"V\"\u001b[39m,\n",
       "  \u001b[32m1\u001b[39m -> \u001b[32m\"I\"\u001b[39m,\n",
       "  \u001b[32m2\u001b[39m -> \u001b[32m\"II\"\u001b[39m,\n",
       "  \u001b[32m3\u001b[39m -> \u001b[32m\"III\"\u001b[39m,\n",
       "  \u001b[32m4\u001b[39m -> \u001b[32m\"IV\"\u001b[39m\n",
       ")\n",
       "\u001b[36mfour\u001b[39m: \u001b[32mString\u001b[39m = \u001b[32m\"IV\"\u001b[39m"
      ]
     },
     "execution_count": 51,
     "metadata": {},
     "output_type": "execute_result"
    }
   ],
   "source": [
    "val romanNumeral = Map(\n",
    "    1 -> \"I\",\n",
    "    2 -> \"II\",\n",
    "    3 -> \"III\",\n",
    "    4 -> \"IV\",\n",
    "    5 -> \"V\"\n",
    ")\n",
    "\n",
    "val four = romanNumeral(4)"
   ]
  },
  {
   "cell_type": "code",
   "execution_count": 52,
   "id": "590d11a8",
   "metadata": {},
   "outputs": [
    {
     "data": {
      "text/plain": [
       "defined \u001b[32mfunction\u001b[39m \u001b[36mprintArgs\u001b[39m"
      ]
     },
     "execution_count": 52,
     "metadata": {},
     "output_type": "execute_result"
    }
   ],
   "source": [
    "// imperative style\n",
    "def printArgs(args: List[String]): Unit =\n",
    "    var i = 0\n",
    "    while i < args.length do\n",
    "        println(args(i))\n",
    "        i += 1"
   ]
  },
  {
   "cell_type": "code",
   "execution_count": 53,
   "id": "8d2c7c40",
   "metadata": {},
   "outputs": [
    {
     "name": "stdout",
     "output_type": "stream",
     "text": [
      "A\n",
      "B\n",
      "C\n"
     ]
    }
   ],
   "source": [
    "printArgs(List(\"A\",\"B\",\"C\"))"
   ]
  },
  {
   "cell_type": "code",
   "execution_count": 54,
   "id": "34f02bfe",
   "metadata": {},
   "outputs": [
    {
     "data": {
      "text/plain": [
       "defined \u001b[32mfunction\u001b[39m \u001b[36mprintArgs2\u001b[39m\n",
       "defined \u001b[32mfunction\u001b[39m \u001b[36mprintArgs3\u001b[39m"
      ]
     },
     "execution_count": 54,
     "metadata": {},
     "output_type": "execute_result"
    }
   ],
   "source": [
    "// more functional style\n",
    "def printArgs2(args: List[String]): Unit =\n",
    "    for arg <- args do\n",
    "        println(arg)\n",
    "\n",
    "// or\n",
    "def printArgs3(args: List[String]): Unit =\n",
    "    args.foreach(println)"
   ]
  },
  {
   "cell_type": "code",
   "execution_count": 55,
   "id": "8826271f",
   "metadata": {},
   "outputs": [
    {
     "data": {
      "text/plain": [
       "defined \u001b[32mfunction\u001b[39m \u001b[36mformatArgs\u001b[39m"
      ]
     },
     "execution_count": 55,
     "metadata": {},
     "output_type": "execute_result"
    }
   ],
   "source": [
    "def formatArgs(args: List[String]) = args.mkString(\"\\n\")"
   ]
  },
  {
   "cell_type": "code",
   "execution_count": 62,
   "id": "d3ca3b57",
   "metadata": {},
   "outputs": [
    {
     "data": {
      "text/plain": [
       "\u001b[36mss\u001b[39m: \u001b[32mString\u001b[39m = \u001b[32m\"\"\"A\n",
       "B\n",
       "C\"\"\"\u001b[39m"
      ]
     },
     "execution_count": 62,
     "metadata": {},
     "output_type": "execute_result"
    }
   ],
   "source": [
    "val ss = formatArgs(List(\"A\",\"B\",\"C\"))"
   ]
  },
  {
   "cell_type": "code",
   "execution_count": 63,
   "id": "2475472b",
   "metadata": {},
   "outputs": [
    {
     "data": {
      "text/plain": [
       "\u001b[36madjectives\u001b[39m: \u001b[32mList\u001b[39m[\u001b[32mString\u001b[39m] = \u001b[33mList\u001b[39m(\u001b[32m\"One\"\u001b[39m, \u001b[32m\"Two\"\u001b[39m, \u001b[32m\"Red\"\u001b[39m, \u001b[32m\"Blue\"\u001b[39m)"
      ]
     },
     "execution_count": 63,
     "metadata": {},
     "output_type": "execute_result"
    }
   ],
   "source": [
    "val adjectives = List(\"One\",\"Two\",\"Red\",\"Blue\")"
   ]
  },
  {
   "cell_type": "code",
   "execution_count": 64,
   "id": "3294c505",
   "metadata": {},
   "outputs": [
    {
     "data": {
      "text/plain": [
       "\u001b[36mnouns\u001b[39m: \u001b[32mList\u001b[39m[\u001b[32mString\u001b[39m] = \u001b[33mList\u001b[39m(\u001b[32m\"One Fish\"\u001b[39m, \u001b[32m\"Two Fish\"\u001b[39m, \u001b[32m\"Red Fish\"\u001b[39m, \u001b[32m\"Blue Fish\"\u001b[39m)"
      ]
     },
     "execution_count": 64,
     "metadata": {},
     "output_type": "execute_result"
    }
   ],
   "source": [
    "val nouns = adjectives.map(adj => adj + \" Fish\")"
   ]
  },
  {
   "cell_type": "code",
   "execution_count": 65,
   "id": "f53c8788",
   "metadata": {},
   "outputs": [
    {
     "data": {
      "text/plain": [
       "\u001b[36mnouns\u001b[39m: \u001b[32mList\u001b[39m[\u001b[32mString\u001b[39m] = \u001b[33mList\u001b[39m(\u001b[32m\"One Fish\"\u001b[39m, \u001b[32m\"Two Fish\"\u001b[39m, \u001b[32m\"Red Fish\"\u001b[39m, \u001b[32m\"Blue Fish\"\u001b[39m)"
      ]
     },
     "execution_count": 65,
     "metadata": {},
     "output_type": "execute_result"
    }
   ],
   "source": [
    "val nouns = \n",
    "    for adj <- adjectives yield\n",
    "        adj + \" Fish\"\n"
   ]
  },
  {
   "cell_type": "code",
   "execution_count": 66,
   "id": "4b0dcea5",
   "metadata": {},
   "outputs": [
    {
     "data": {
      "text/plain": [
       "\u001b[36mlengths\u001b[39m: \u001b[32mList\u001b[39m[\u001b[32mInt\u001b[39m] = \u001b[33mList\u001b[39m(\u001b[32m8\u001b[39m, \u001b[32m8\u001b[39m, \u001b[32m8\u001b[39m, \u001b[32m9\u001b[39m)"
      ]
     },
     "execution_count": 66,
     "metadata": {},
     "output_type": "execute_result"
    }
   ],
   "source": [
    "val lengths = nouns.map(noun => noun.length)"
   ]
  },
  {
   "cell_type": "code",
   "execution_count": 67,
   "id": "41c055f1",
   "metadata": {},
   "outputs": [
    {
     "data": {
      "text/plain": [
       "\u001b[36mlengths\u001b[39m: \u001b[32mList\u001b[39m[\u001b[32mInt\u001b[39m] = \u001b[33mList\u001b[39m(\u001b[32m8\u001b[39m, \u001b[32m8\u001b[39m, \u001b[32m8\u001b[39m, \u001b[32m9\u001b[39m)"
      ]
     },
     "execution_count": 67,
     "metadata": {},
     "output_type": "execute_result"
    }
   ],
   "source": [
    "val lengths = \n",
    "    for noun <- nouns yield\n",
    "        noun.length"
   ]
  },
  {
   "cell_type": "code",
   "execution_count": 68,
   "id": "467d18bc",
   "metadata": {},
   "outputs": [
    {
     "data": {
      "text/plain": [
       "\u001b[36mques\u001b[39m: \u001b[32mVector\u001b[39m[\u001b[32mString\u001b[39m] = \u001b[33mVector\u001b[39m(\u001b[32m\"Who\"\u001b[39m, \u001b[32m\"What\"\u001b[39m, \u001b[32m\"When\"\u001b[39m, \u001b[32m\"Where\"\u001b[39m, \u001b[32m\"Why\"\u001b[39m)"
      ]
     },
     "execution_count": 68,
     "metadata": {},
     "output_type": "execute_result"
    }
   ],
   "source": [
    "val ques = Vector(\"Who\",\"What\",\"When\",\"Where\",\"Why\")"
   ]
  },
  {
   "cell_type": "code",
   "execution_count": 69,
   "id": "fc68fbb4",
   "metadata": {},
   "outputs": [
    {
     "data": {
      "text/plain": [
       "\u001b[36musingMap\u001b[39m: \u001b[32mVector\u001b[39m[\u001b[32mString\u001b[39m] = \u001b[33mVector\u001b[39m(\u001b[32m\"who?\"\u001b[39m, \u001b[32m\"what?\"\u001b[39m, \u001b[32m\"when?\"\u001b[39m, \u001b[32m\"where?\"\u001b[39m, \u001b[32m\"why?\"\u001b[39m)"
      ]
     },
     "execution_count": 69,
     "metadata": {},
     "output_type": "execute_result"
    }
   ],
   "source": [
    "val usingMap = ques.map(q => q.toLowerCase + \"?\")"
   ]
  },
  {
   "cell_type": "code",
   "execution_count": 70,
   "id": "dbef3495",
   "metadata": {},
   "outputs": [
    {
     "data": {
      "text/plain": [
       "\u001b[36musingForYield\u001b[39m: \u001b[32mVector\u001b[39m[\u001b[32mString\u001b[39m] = \u001b[33mVector\u001b[39m(\n",
       "  \u001b[32m\"who?\"\u001b[39m,\n",
       "  \u001b[32m\"what?\"\u001b[39m,\n",
       "  \u001b[32m\"when?\"\u001b[39m,\n",
       "  \u001b[32m\"where?\"\u001b[39m,\n",
       "  \u001b[32m\"why?\"\u001b[39m\n",
       ")"
      ]
     },
     "execution_count": 70,
     "metadata": {},
     "output_type": "execute_result"
    }
   ],
   "source": [
    "val usingForYield = \n",
    "    for q <- ques yield\n",
    "        q.toLowerCase + \"?\""
   ]
  },
  {
   "cell_type": "code",
   "execution_count": 71,
   "id": "bed2a606",
   "metadata": {},
   "outputs": [
    {
     "data": {
      "text/plain": [
       "\u001b[36mstartsW\u001b[39m: \u001b[32mOption\u001b[39m[\u001b[32mString\u001b[39m] = \u001b[33mSome\u001b[39m(value = \u001b[32m\"Who\"\u001b[39m)\n",
       "\u001b[36mhasLen4\u001b[39m: \u001b[32mOption\u001b[39m[\u001b[32mString\u001b[39m] = \u001b[33mSome\u001b[39m(value = \u001b[32m\"What\"\u001b[39m)\n",
       "\u001b[36mhasLen5\u001b[39m: \u001b[32mOption\u001b[39m[\u001b[32mString\u001b[39m] = \u001b[33mSome\u001b[39m(value = \u001b[32m\"Where\"\u001b[39m)\n",
       "\u001b[36mstartsH\u001b[39m: \u001b[32mOption\u001b[39m[\u001b[32mString\u001b[39m] = \u001b[32mNone\u001b[39m"
      ]
     },
     "execution_count": 71,
     "metadata": {},
     "output_type": "execute_result"
    }
   ],
   "source": [
    "val startsW = ques.find(q => q.startsWith(\"W\"))\n",
    "val hasLen4 = ques.find(q => q.length == 4)\n",
    "val hasLen5 = ques.find(q => q.length == 5)\n",
    "val startsH = ques.find(q => q.startsWith(\"H\"))"
   ]
  },
  {
   "cell_type": "code",
   "execution_count": 72,
   "id": "662be1ac",
   "metadata": {},
   "outputs": [
    {
     "data": {
      "text/plain": [
       "\u001b[36mres71\u001b[39m: \u001b[32mOption\u001b[39m[\u001b[32mString\u001b[39m] = \u001b[33mSome\u001b[39m(value = \u001b[32m\"WHO\"\u001b[39m)"
      ]
     },
     "execution_count": 72,
     "metadata": {},
     "output_type": "execute_result"
    }
   ],
   "source": [
    "startsW.map(word => word.toUpperCase)"
   ]
  },
  {
   "cell_type": "code",
   "execution_count": 73,
   "id": "5d82f6af",
   "metadata": {},
   "outputs": [
    {
     "data": {
      "text/plain": [
       "\u001b[36mres72\u001b[39m: \u001b[32mOption\u001b[39m[\u001b[32mString\u001b[39m] = \u001b[33mSome\u001b[39m(value = \u001b[32m\"WHO\"\u001b[39m)"
      ]
     },
     "execution_count": 73,
     "metadata": {},
     "output_type": "execute_result"
    }
   ],
   "source": [
    "for word <- startsW yield word.toUpperCase"
   ]
  },
  {
   "cell_type": "code",
   "execution_count": 74,
   "id": "24c24fe2",
   "metadata": {},
   "outputs": [
    {
     "data": {
      "text/plain": [
       "\u001b[36mres73\u001b[39m: \u001b[32mOption\u001b[39m[\u001b[32mString\u001b[39m] = \u001b[32mNone\u001b[39m"
      ]
     },
     "execution_count": 74,
     "metadata": {},
     "output_type": "execute_result"
    }
   ],
   "source": [
    "startsH.map(word => word.toUpperCase)"
   ]
  },
  {
   "cell_type": "code",
   "execution_count": 75,
   "id": "7df9d04c",
   "metadata": {},
   "outputs": [
    {
     "data": {
      "text/plain": [
       "\u001b[36mres74\u001b[39m: \u001b[32mOption\u001b[39m[\u001b[32mString\u001b[39m] = \u001b[32mNone\u001b[39m"
      ]
     },
     "execution_count": 75,
     "metadata": {},
     "output_type": "execute_result"
    }
   ],
   "source": [
    "for word <- startsH yield word.toUpperCase"
   ]
  },
  {
   "cell_type": "markdown",
   "id": "c71a0733",
   "metadata": {},
   "source": [
    "### Chapter 4"
   ]
  },
  {
   "cell_type": "code",
   "execution_count": 1,
   "id": "e010c279",
   "metadata": {},
   "outputs": [],
   "source": [
    "class ChecksumAccumulator:\n",
    "    // class definition goes here, indented"
   ]
  },
  {
   "cell_type": "code",
   "execution_count": 2,
   "id": "efb71ed9",
   "metadata": {},
   "outputs": [
    {
     "ename": "",
     "evalue": "",
     "output_type": "error",
     "traceback": [
      "\u001b[31mjava.lang.StackOverflowError\u001b[39m\n  ammonite.$sess.cmd0$Helper$ChecksumAccumulator.<init>(\u001b[32mcmd0.sc\u001b[39m:\u001b[32m106\u001b[39m)\n  ammonite.$sess.cmd0$Helper$ChecksumAccumulator.<init>(\u001b[32mcmd0.sc\u001b[39m:\u001b[32m106\u001b[39m)\n  ammonite.$sess.cmd0$Helper$ChecksumAccumulator.<init>(\u001b[32mcmd0.sc\u001b[39m:\u001b[32m106\u001b[39m)\n  ammonite.$sess.cmd0$Helper$ChecksumAccumulator.<init>(\u001b[32mcmd0.sc\u001b[39m:\u001b[32m106\u001b[39m)\n  ammonite.$sess.cmd0$Helper$ChecksumAccumulator.<init>(\u001b[32mcmd0.sc\u001b[39m:\u001b[32m106\u001b[39m)\n  ammonite.$sess.cmd0$Helper$ChecksumAccumulator.<init>(\u001b[32mcmd0.sc\u001b[39m:\u001b[32m106\u001b[39m)\n  ammonite.$sess.cmd0$Helper$ChecksumAccumulator.<init>(\u001b[32mcmd0.sc\u001b[39m:\u001b[32m106\u001b[39m)\n  ammonite.$sess.cmd0$Helper$ChecksumAccumulator.<init>(\u001b[32mcmd0.sc\u001b[39m:\u001b[32m106\u001b[39m)\n  ammonite.$sess.cmd0$Helper$ChecksumAccumulator.<init>(\u001b[32mcmd0.sc\u001b[39m:\u001b[32m106\u001b[39m)\n  ammonite.$sess.cmd0$Helper$ChecksumAccumulator.<init>(\u001b[32mcmd0.sc\u001b[39m:\u001b[32m106\u001b[39m)\n  ammonite.$sess.cmd0$Helper$ChecksumAccumulator.<init>(\u001b[32mcmd0.sc\u001b[39m:\u001b[32m106\u001b[39m)\n  ammonite.$sess.cmd0$Helper$ChecksumAccumulator.<init>(\u001b[32mcmd0.sc\u001b[39m:\u001b[32m106\u001b[39m)\n  ammonite.$sess.cmd0$Helper$ChecksumAccumulator.<init>(\u001b[32mcmd0.sc\u001b[39m:\u001b[32m106\u001b[39m)\n  ammonite.$sess.cmd0$Helper$ChecksumAccumulator.<init>(\u001b[32mcmd0.sc\u001b[39m:\u001b[32m106\u001b[39m)\n  ammonite.$sess.cmd0$Helper$ChecksumAccumulator.<init>(\u001b[32mcmd0.sc\u001b[39m:\u001b[32m106\u001b[39m)\n  ammonite.$sess.cmd0$Helper$ChecksumAccumulator.<init>(\u001b[32mcmd0.sc\u001b[39m:\u001b[32m106\u001b[39m)\n  ammonite.$sess.cmd0$Helper$ChecksumAccumulator.<init>(\u001b[32mcmd0.sc\u001b[39m:\u001b[32m106\u001b[39m)\n  ammonite.$sess.cmd0$Helper$ChecksumAccumulator.<init>(\u001b[32mcmd0.sc\u001b[39m:\u001b[32m106\u001b[39m)\n  ammonite.$sess.cmd0$Helper$ChecksumAccumulator.<init>(\u001b[32mcmd0.sc\u001b[39m:\u001b[32m106\u001b[39m)\n  ammonite.$sess.cmd0$Helper$ChecksumAccumulator.<init>(\u001b[32mcmd0.sc\u001b[39m:\u001b[32m106\u001b[39m)\n  ammonite.$sess.cmd0$Helper$ChecksumAccumulator.<init>(\u001b[32mcmd0.sc\u001b[39m:\u001b[32m106\u001b[39m)\n  ammonite.$sess.cmd0$Helper$ChecksumAccumulator.<init>(\u001b[32mcmd0.sc\u001b[39m:\u001b[32m106\u001b[39m)\n  ammonite.$sess.cmd0$Helper$ChecksumAccumulator.<init>(\u001b[32mcmd0.sc\u001b[39m:\u001b[32m106\u001b[39m)\n  ammonite.$sess.cmd0$Helper$ChecksumAccumulator.<init>(\u001b[32mcmd0.sc\u001b[39m:\u001b[32m106\u001b[39m)\n  ammonite.$sess.cmd0$Helper$ChecksumAccumulator.<init>(\u001b[32mcmd0.sc\u001b[39m:\u001b[32m106\u001b[39m)\n  ammonite.$sess.cmd0$Helper$ChecksumAccumulator.<init>(\u001b[32mcmd0.sc\u001b[39m:\u001b[32m106\u001b[39m)\n  ammonite.$sess.cmd0$Helper$ChecksumAccumulator.<init>(\u001b[32mcmd0.sc\u001b[39m:\u001b[32m106\u001b[39m)\n  ammonite.$sess.cmd0$Helper$ChecksumAccumulator.<init>(\u001b[32mcmd0.sc\u001b[39m:\u001b[32m106\u001b[39m)\n  ammonite.$sess.cmd0$Helper$ChecksumAccumulator.<init>(\u001b[32mcmd0.sc\u001b[39m:\u001b[32m106\u001b[39m)\n  ammonite.$sess.cmd0$Helper$ChecksumAccumulator.<init>(\u001b[32mcmd0.sc\u001b[39m:\u001b[32m106\u001b[39m)\n  ammonite.$sess.cmd0$Helper$ChecksumAccumulator.<init>(\u001b[32mcmd0.sc\u001b[39m:\u001b[32m106\u001b[39m)\n  ammonite.$sess.cmd0$Helper$ChecksumAccumulator.<init>(\u001b[32mcmd0.sc\u001b[39m:\u001b[32m106\u001b[39m)\n  ammonite.$sess.cmd0$Helper$ChecksumAccumulator.<init>(\u001b[32mcmd0.sc\u001b[39m:\u001b[32m106\u001b[39m)\n  ammonite.$sess.cmd0$Helper$ChecksumAccumulator.<init>(\u001b[32mcmd0.sc\u001b[39m:\u001b[32m106\u001b[39m)\n  ammonite.$sess.cmd0$Helper$ChecksumAccumulator.<init>(\u001b[32mcmd0.sc\u001b[39m:\u001b[32m106\u001b[39m)\n  ammonite.$sess.cmd0$Helper$ChecksumAccumulator.<init>(\u001b[32mcmd0.sc\u001b[39m:\u001b[32m106\u001b[39m)\n  ammonite.$sess.cmd0$Helper$ChecksumAccumulator.<init>(\u001b[32mcmd0.sc\u001b[39m:\u001b[32m106\u001b[39m)\n  ammonite.$sess.cmd0$Helper$ChecksumAccumulator.<init>(\u001b[32mcmd0.sc\u001b[39m:\u001b[32m106\u001b[39m)\n  ammonite.$sess.cmd0$Helper$ChecksumAccumulator.<init>(\u001b[32mcmd0.sc\u001b[39m:\u001b[32m106\u001b[39m)\n  ammonite.$sess.cmd0$Helper$ChecksumAccumulator.<init>(\u001b[32mcmd0.sc\u001b[39m:\u001b[32m106\u001b[39m)\n  ammonite.$sess.cmd0$Helper$ChecksumAccumulator.<init>(\u001b[32mcmd0.sc\u001b[39m:\u001b[32m106\u001b[39m)\n  ammonite.$sess.cmd0$Helper$ChecksumAccumulator.<init>(\u001b[32mcmd0.sc\u001b[39m:\u001b[32m106\u001b[39m)\n  ammonite.$sess.cmd0$Helper$ChecksumAccumulator.<init>(\u001b[32mcmd0.sc\u001b[39m:\u001b[32m106\u001b[39m)\n  ammonite.$sess.cmd0$Helper$ChecksumAccumulator.<init>(\u001b[32mcmd0.sc\u001b[39m:\u001b[32m106\u001b[39m)\n  ammonite.$sess.cmd0$Helper$ChecksumAccumulator.<init>(\u001b[32mcmd0.sc\u001b[39m:\u001b[32m106\u001b[39m)\n  ammonite.$sess.cmd0$Helper$ChecksumAccumulator.<init>(\u001b[32mcmd0.sc\u001b[39m:\u001b[32m106\u001b[39m)\n  ammonite.$sess.cmd0$Helper$ChecksumAccumulator.<init>(\u001b[32mcmd0.sc\u001b[39m:\u001b[32m106\u001b[39m)\n  ammonite.$sess.cmd0$Helper$ChecksumAccumulator.<init>(\u001b[32mcmd0.sc\u001b[39m:\u001b[32m106\u001b[39m)\n  ammonite.$sess.cmd0$Helper$ChecksumAccumulator.<init>(\u001b[32mcmd0.sc\u001b[39m:\u001b[32m106\u001b[39m)\n  ammonite.$sess.cmd0$Helper$ChecksumAccumulator.<init>(\u001b[32mcmd0.sc\u001b[39m:\u001b[32m106\u001b[39m)\n  ammonite.$sess.cmd0$Helper$ChecksumAccumulator.<init>(\u001b[32mcmd0.sc\u001b[39m:\u001b[32m106\u001b[39m)\n  ammonite.$sess.cmd0$Helper$ChecksumAccumulator.<init>(\u001b[32mcmd0.sc\u001b[39m:\u001b[32m106\u001b[39m)\n  ammonite.$sess.cmd0$Helper$ChecksumAccumulator.<init>(\u001b[32mcmd0.sc\u001b[39m:\u001b[32m106\u001b[39m)\n  ammonite.$sess.cmd0$Helper$ChecksumAccumulator.<init>(\u001b[32mcmd0.sc\u001b[39m:\u001b[32m106\u001b[39m)\n  ammonite.$sess.cmd0$Helper$ChecksumAccumulator.<init>(\u001b[32mcmd0.sc\u001b[39m:\u001b[32m106\u001b[39m)\n  ammonite.$sess.cmd0$Helper$ChecksumAccumulator.<init>(\u001b[32mcmd0.sc\u001b[39m:\u001b[32m106\u001b[39m)\n  ammonite.$sess.cmd0$Helper$ChecksumAccumulator.<init>(\u001b[32mcmd0.sc\u001b[39m:\u001b[32m106\u001b[39m)\n  ammonite.$sess.cmd0$Helper$ChecksumAccumulator.<init>(\u001b[32mcmd0.sc\u001b[39m:\u001b[32m106\u001b[39m)\n  ammonite.$sess.cmd0$Helper$ChecksumAccumulator.<init>(\u001b[32mcmd0.sc\u001b[39m:\u001b[32m106\u001b[39m)\n  ammonite.$sess.cmd0$Helper$ChecksumAccumulator.<init>(\u001b[32mcmd0.sc\u001b[39m:\u001b[32m106\u001b[39m)\n  ammonite.$sess.cmd0$Helper$ChecksumAccumulator.<init>(\u001b[32mcmd0.sc\u001b[39m:\u001b[32m106\u001b[39m)\n  ammonite.$sess.cmd0$Helper$ChecksumAccumulator.<init>(\u001b[32mcmd0.sc\u001b[39m:\u001b[32m106\u001b[39m)\n  ammonite.$sess.cmd0$Helper$ChecksumAccumulator.<init>(\u001b[32mcmd0.sc\u001b[39m:\u001b[32m106\u001b[39m)\n  ammonite.$sess.cmd0$Helper$ChecksumAccumulator.<init>(\u001b[32mcmd0.sc\u001b[39m:\u001b[32m106\u001b[39m)\n  ammonite.$sess.cmd0$Helper$ChecksumAccumulator.<init>(\u001b[32mcmd0.sc\u001b[39m:\u001b[32m106\u001b[39m)\n  ammonite.$sess.cmd0$Helper$ChecksumAccumulator.<init>(\u001b[32mcmd0.sc\u001b[39m:\u001b[32m106\u001b[39m)\n  ammonite.$sess.cmd0$Helper$ChecksumAccumulator.<init>(\u001b[32mcmd0.sc\u001b[39m:\u001b[32m106\u001b[39m)\n  ammonite.$sess.cmd0$Helper$ChecksumAccumulator.<init>(\u001b[32mcmd0.sc\u001b[39m:\u001b[32m106\u001b[39m)\n  ammonite.$sess.cmd0$Helper$ChecksumAccumulator.<init>(\u001b[32mcmd0.sc\u001b[39m:\u001b[32m106\u001b[39m)\n  ammonite.$sess.cmd0$Helper$ChecksumAccumulator.<init>(\u001b[32mcmd0.sc\u001b[39m:\u001b[32m106\u001b[39m)\n  ammonite.$sess.cmd0$Helper$ChecksumAccumulator.<init>(\u001b[32mcmd0.sc\u001b[39m:\u001b[32m106\u001b[39m)\n  ammonite.$sess.cmd0$Helper$ChecksumAccumulator.<init>(\u001b[32mcmd0.sc\u001b[39m:\u001b[32m106\u001b[39m)\n  ammonite.$sess.cmd0$Helper$ChecksumAccumulator.<init>(\u001b[32mcmd0.sc\u001b[39m:\u001b[32m106\u001b[39m)\n  ammonite.$sess.cmd0$Helper$ChecksumAccumulator.<init>(\u001b[32mcmd0.sc\u001b[39m:\u001b[32m106\u001b[39m)\n  ammonite.$sess.cmd0$Helper$ChecksumAccumulator.<init>(\u001b[32mcmd0.sc\u001b[39m:\u001b[32m106\u001b[39m)\n  ammonite.$sess.cmd0$Helper$ChecksumAccumulator.<init>(\u001b[32mcmd0.sc\u001b[39m:\u001b[32m106\u001b[39m)\n  ammonite.$sess.cmd0$Helper$ChecksumAccumulator.<init>(\u001b[32mcmd0.sc\u001b[39m:\u001b[32m106\u001b[39m)\n  ammonite.$sess.cmd0$Helper$ChecksumAccumulator.<init>(\u001b[32mcmd0.sc\u001b[39m:\u001b[32m106\u001b[39m)\n  ammonite.$sess.cmd0$Helper$ChecksumAccumulator.<init>(\u001b[32mcmd0.sc\u001b[39m:\u001b[32m106\u001b[39m)\n  ammonite.$sess.cmd0$Helper$ChecksumAccumulator.<init>(\u001b[32mcmd0.sc\u001b[39m:\u001b[32m106\u001b[39m)\n  ammonite.$sess.cmd0$Helper$ChecksumAccumulator.<init>(\u001b[32mcmd0.sc\u001b[39m:\u001b[32m106\u001b[39m)\n  ammonite.$sess.cmd0$Helper$ChecksumAccumulator.<init>(\u001b[32mcmd0.sc\u001b[39m:\u001b[32m106\u001b[39m)\n  ammonite.$sess.cmd0$Helper$ChecksumAccumulator.<init>(\u001b[32mcmd0.sc\u001b[39m:\u001b[32m106\u001b[39m)\n  ammonite.$sess.cmd0$Helper$ChecksumAccumulator.<init>(\u001b[32mcmd0.sc\u001b[39m:\u001b[32m106\u001b[39m)\n  ammonite.$sess.cmd0$Helper$ChecksumAccumulator.<init>(\u001b[32mcmd0.sc\u001b[39m:\u001b[32m106\u001b[39m)\n  ammonite.$sess.cmd0$Helper$ChecksumAccumulator.<init>(\u001b[32mcmd0.sc\u001b[39m:\u001b[32m106\u001b[39m)\n  ammonite.$sess.cmd0$Helper$ChecksumAccumulator.<init>(\u001b[32mcmd0.sc\u001b[39m:\u001b[32m106\u001b[39m)\n  ammonite.$sess.cmd0$Helper$ChecksumAccumulator.<init>(\u001b[32mcmd0.sc\u001b[39m:\u001b[32m106\u001b[39m)\n  ammonite.$sess.cmd0$Helper$ChecksumAccumulator.<init>(\u001b[32mcmd0.sc\u001b[39m:\u001b[32m106\u001b[39m)\n  ammonite.$sess.cmd0$Helper$ChecksumAccumulator.<init>(\u001b[32mcmd0.sc\u001b[39m:\u001b[32m106\u001b[39m)\n  ammonite.$sess.cmd0$Helper$ChecksumAccumulator.<init>(\u001b[32mcmd0.sc\u001b[39m:\u001b[32m106\u001b[39m)\n  ammonite.$sess.cmd0$Helper$ChecksumAccumulator.<init>(\u001b[32mcmd0.sc\u001b[39m:\u001b[32m106\u001b[39m)\n  ammonite.$sess.cmd0$Helper$ChecksumAccumulator.<init>(\u001b[32mcmd0.sc\u001b[39m:\u001b[32m106\u001b[39m)\n  ammonite.$sess.cmd0$Helper$ChecksumAccumulator.<init>(\u001b[32mcmd0.sc\u001b[39m:\u001b[32m106\u001b[39m)\n  ammonite.$sess.cmd0$Helper$ChecksumAccumulator.<init>(\u001b[32mcmd0.sc\u001b[39m:\u001b[32m106\u001b[39m)\n  ammonite.$sess.cmd0$Helper$ChecksumAccumulator.<init>(\u001b[32mcmd0.sc\u001b[39m:\u001b[32m106\u001b[39m)\n  ammonite.$sess.cmd0$Helper$ChecksumAccumulator.<init>(\u001b[32mcmd0.sc\u001b[39m:\u001b[32m106\u001b[39m)\n  ammonite.$sess.cmd0$Helper$ChecksumAccumulator.<init>(\u001b[32mcmd0.sc\u001b[39m:\u001b[32m106\u001b[39m)\n  ammonite.$sess.cmd0$Helper$ChecksumAccumulator.<init>(\u001b[32mcmd0.sc\u001b[39m:\u001b[32m106\u001b[39m)\n  ammonite.$sess.cmd0$Helper$ChecksumAccumulator.<init>(\u001b[32mcmd0.sc\u001b[39m:\u001b[32m106\u001b[39m)\n  ammonite.$sess.cmd0$Helper$ChecksumAccumulator.<init>(\u001b[32mcmd0.sc\u001b[39m:\u001b[32m106\u001b[39m)\n  ammonite.$sess.cmd0$Helper$ChecksumAccumulator.<init>(\u001b[32mcmd0.sc\u001b[39m:\u001b[32m106\u001b[39m)\n  ammonite.$sess.cmd0$Helper$ChecksumAccumulator.<init>(\u001b[32mcmd0.sc\u001b[39m:\u001b[32m106\u001b[39m)\n  ammonite.$sess.cmd0$Helper$ChecksumAccumulator.<init>(\u001b[32mcmd0.sc\u001b[39m:\u001b[32m106\u001b[39m)\n  ammonite.$sess.cmd0$Helper$ChecksumAccumulator.<init>(\u001b[32mcmd0.sc\u001b[39m:\u001b[32m106\u001b[39m)\n  ammonite.$sess.cmd0$Helper$ChecksumAccumulator.<init>(\u001b[32mcmd0.sc\u001b[39m:\u001b[32m106\u001b[39m)\n  ammonite.$sess.cmd0$Helper$ChecksumAccumulator.<init>(\u001b[32mcmd0.sc\u001b[39m:\u001b[32m106\u001b[39m)\n  ammonite.$sess.cmd0$Helper$ChecksumAccumulator.<init>(\u001b[32mcmd0.sc\u001b[39m:\u001b[32m106\u001b[39m)\n  ammonite.$sess.cmd0$Helper$ChecksumAccumulator.<init>(\u001b[32mcmd0.sc\u001b[39m:\u001b[32m106\u001b[39m)\n  ammonite.$sess.cmd0$Helper$ChecksumAccumulator.<init>(\u001b[32mcmd0.sc\u001b[39m:\u001b[32m106\u001b[39m)\n  ammonite.$sess.cmd0$Helper$ChecksumAccumulator.<init>(\u001b[32mcmd0.sc\u001b[39m:\u001b[32m106\u001b[39m)\n  ammonite.$sess.cmd0$Helper$ChecksumAccumulator.<init>(\u001b[32mcmd0.sc\u001b[39m:\u001b[32m106\u001b[39m)\n  ammonite.$sess.cmd0$Helper$ChecksumAccumulator.<init>(\u001b[32mcmd0.sc\u001b[39m:\u001b[32m106\u001b[39m)\n  ammonite.$sess.cmd0$Helper$ChecksumAccumulator.<init>(\u001b[32mcmd0.sc\u001b[39m:\u001b[32m106\u001b[39m)\n  ammonite.$sess.cmd0$Helper$ChecksumAccumulator.<init>(\u001b[32mcmd0.sc\u001b[39m:\u001b[32m106\u001b[39m)\n  ammonite.$sess.cmd0$Helper$ChecksumAccumulator.<init>(\u001b[32mcmd0.sc\u001b[39m:\u001b[32m106\u001b[39m)\n  ammonite.$sess.cmd0$Helper$ChecksumAccumulator.<init>(\u001b[32mcmd0.sc\u001b[39m:\u001b[32m106\u001b[39m)\n  ammonite.$sess.cmd0$Helper$ChecksumAccumulator.<init>(\u001b[32mcmd0.sc\u001b[39m:\u001b[32m106\u001b[39m)\n  ammonite.$sess.cmd0$Helper$ChecksumAccumulator.<init>(\u001b[32mcmd0.sc\u001b[39m:\u001b[32m106\u001b[39m)\n  ammonite.$sess.cmd0$Helper$ChecksumAccumulator.<init>(\u001b[32mcmd0.sc\u001b[39m:\u001b[32m106\u001b[39m)\n  ammonite.$sess.cmd0$Helper$ChecksumAccumulator.<init>(\u001b[32mcmd0.sc\u001b[39m:\u001b[32m106\u001b[39m)\n  ammonite.$sess.cmd0$Helper$ChecksumAccumulator.<init>(\u001b[32mcmd0.sc\u001b[39m:\u001b[32m106\u001b[39m)\n  ammonite.$sess.cmd0$Helper$ChecksumAccumulator.<init>(\u001b[32mcmd0.sc\u001b[39m:\u001b[32m106\u001b[39m)\n  ammonite.$sess.cmd0$Helper$ChecksumAccumulator.<init>(\u001b[32mcmd0.sc\u001b[39m:\u001b[32m106\u001b[39m)\n  ammonite.$sess.cmd0$Helper$ChecksumAccumulator.<init>(\u001b[32mcmd0.sc\u001b[39m:\u001b[32m106\u001b[39m)\n  ammonite.$sess.cmd0$Helper$ChecksumAccumulator.<init>(\u001b[32mcmd0.sc\u001b[39m:\u001b[32m106\u001b[39m)\n  ammonite.$sess.cmd0$Helper$ChecksumAccumulator.<init>(\u001b[32mcmd0.sc\u001b[39m:\u001b[32m106\u001b[39m)\n  ammonite.$sess.cmd0$Helper$ChecksumAccumulator.<init>(\u001b[32mcmd0.sc\u001b[39m:\u001b[32m106\u001b[39m)\n  ammonite.$sess.cmd0$Helper$ChecksumAccumulator.<init>(\u001b[32mcmd0.sc\u001b[39m:\u001b[32m106\u001b[39m)\n  ammonite.$sess.cmd0$Helper$ChecksumAccumulator.<init>(\u001b[32mcmd0.sc\u001b[39m:\u001b[32m106\u001b[39m)\n  ammonite.$sess.cmd0$Helper$ChecksumAccumulator.<init>(\u001b[32mcmd0.sc\u001b[39m:\u001b[32m106\u001b[39m)\n  ammonite.$sess.cmd0$Helper$ChecksumAccumulator.<init>(\u001b[32mcmd0.sc\u001b[39m:\u001b[32m106\u001b[39m)\n  ammonite.$sess.cmd0$Helper$ChecksumAccumulator.<init>(\u001b[32mcmd0.sc\u001b[39m:\u001b[32m106\u001b[39m)\n  ammonite.$sess.cmd0$Helper$ChecksumAccumulator.<init>(\u001b[32mcmd0.sc\u001b[39m:\u001b[32m106\u001b[39m)\n  ammonite.$sess.cmd0$Helper$ChecksumAccumulator.<init>(\u001b[32mcmd0.sc\u001b[39m:\u001b[32m106\u001b[39m)\n  ammonite.$sess.cmd0$Helper$ChecksumAccumulator.<init>(\u001b[32mcmd0.sc\u001b[39m:\u001b[32m106\u001b[39m)\n  ammonite.$sess.cmd0$Helper$ChecksumAccumulator.<init>(\u001b[32mcmd0.sc\u001b[39m:\u001b[32m106\u001b[39m)\n  ammonite.$sess.cmd0$Helper$ChecksumAccumulator.<init>(\u001b[32mcmd0.sc\u001b[39m:\u001b[32m106\u001b[39m)\n  ammonite.$sess.cmd0$Helper$ChecksumAccumulator.<init>(\u001b[32mcmd0.sc\u001b[39m:\u001b[32m106\u001b[39m)\n  ammonite.$sess.cmd0$Helper$ChecksumAccumulator.<init>(\u001b[32mcmd0.sc\u001b[39m:\u001b[32m106\u001b[39m)\n  ammonite.$sess.cmd0$Helper$ChecksumAccumulator.<init>(\u001b[32mcmd0.sc\u001b[39m:\u001b[32m106\u001b[39m)\n  ammonite.$sess.cmd0$Helper$ChecksumAccumulator.<init>(\u001b[32mcmd0.sc\u001b[39m:\u001b[32m106\u001b[39m)\n  ammonite.$sess.cmd0$Helper$ChecksumAccumulator.<init>(\u001b[32mcmd0.sc\u001b[39m:\u001b[32m106\u001b[39m)\n  ammonite.$sess.cmd0$Helper$ChecksumAccumulator.<init>(\u001b[32mcmd0.sc\u001b[39m:\u001b[32m106\u001b[39m)\n  ammonite.$sess.cmd0$Helper$ChecksumAccumulator.<init>(\u001b[32mcmd0.sc\u001b[39m:\u001b[32m106\u001b[39m)\n  ammonite.$sess.cmd0$Helper$ChecksumAccumulator.<init>(\u001b[32mcmd0.sc\u001b[39m:\u001b[32m106\u001b[39m)\n  ammonite.$sess.cmd0$Helper$ChecksumAccumulator.<init>(\u001b[32mcmd0.sc\u001b[39m:\u001b[32m106\u001b[39m)\n  ammonite.$sess.cmd0$Helper$ChecksumAccumulator.<init>(\u001b[32mcmd0.sc\u001b[39m:\u001b[32m106\u001b[39m)\n  ammonite.$sess.cmd0$Helper$ChecksumAccumulator.<init>(\u001b[32mcmd0.sc\u001b[39m:\u001b[32m106\u001b[39m)\n  ammonite.$sess.cmd0$Helper$ChecksumAccumulator.<init>(\u001b[32mcmd0.sc\u001b[39m:\u001b[32m106\u001b[39m)\n  ammonite.$sess.cmd0$Helper$ChecksumAccumulator.<init>(\u001b[32mcmd0.sc\u001b[39m:\u001b[32m106\u001b[39m)\n  ammonite.$sess.cmd0$Helper$ChecksumAccumulator.<init>(\u001b[32mcmd0.sc\u001b[39m:\u001b[32m106\u001b[39m)\n  ammonite.$sess.cmd0$Helper$ChecksumAccumulator.<init>(\u001b[32mcmd0.sc\u001b[39m:\u001b[32m106\u001b[39m)\n  ammonite.$sess.cmd0$Helper$ChecksumAccumulator.<init>(\u001b[32mcmd0.sc\u001b[39m:\u001b[32m106\u001b[39m)\n  ammonite.$sess.cmd0$Helper$ChecksumAccumulator.<init>(\u001b[32mcmd0.sc\u001b[39m:\u001b[32m106\u001b[39m)\n  ammonite.$sess.cmd0$Helper$ChecksumAccumulator.<init>(\u001b[32mcmd0.sc\u001b[39m:\u001b[32m106\u001b[39m)\n  ammonite.$sess.cmd0$Helper$ChecksumAccumulator.<init>(\u001b[32mcmd0.sc\u001b[39m:\u001b[32m106\u001b[39m)\n  ammonite.$sess.cmd0$Helper$ChecksumAccumulator.<init>(\u001b[32mcmd0.sc\u001b[39m:\u001b[32m106\u001b[39m)\n  ammonite.$sess.cmd0$Helper$ChecksumAccumulator.<init>(\u001b[32mcmd0.sc\u001b[39m:\u001b[32m106\u001b[39m)\n  ammonite.$sess.cmd0$Helper$ChecksumAccumulator.<init>(\u001b[32mcmd0.sc\u001b[39m:\u001b[32m106\u001b[39m)\n  ammonite.$sess.cmd0$Helper$ChecksumAccumulator.<init>(\u001b[32mcmd0.sc\u001b[39m:\u001b[32m106\u001b[39m)\n  ammonite.$sess.cmd0$Helper$ChecksumAccumulator.<init>(\u001b[32mcmd0.sc\u001b[39m:\u001b[32m106\u001b[39m)\n  ammonite.$sess.cmd0$Helper$ChecksumAccumulator.<init>(\u001b[32mcmd0.sc\u001b[39m:\u001b[32m106\u001b[39m)\n  ammonite.$sess.cmd0$Helper$ChecksumAccumulator.<init>(\u001b[32mcmd0.sc\u001b[39m:\u001b[32m106\u001b[39m)\n  ammonite.$sess.cmd0$Helper$ChecksumAccumulator.<init>(\u001b[32mcmd0.sc\u001b[39m:\u001b[32m106\u001b[39m)\n  ammonite.$sess.cmd0$Helper$ChecksumAccumulator.<init>(\u001b[32mcmd0.sc\u001b[39m:\u001b[32m106\u001b[39m)\n  ammonite.$sess.cmd0$Helper$ChecksumAccumulator.<init>(\u001b[32mcmd0.sc\u001b[39m:\u001b[32m106\u001b[39m)\n  ammonite.$sess.cmd0$Helper$ChecksumAccumulator.<init>(\u001b[32mcmd0.sc\u001b[39m:\u001b[32m106\u001b[39m)\n  ammonite.$sess.cmd0$Helper$ChecksumAccumulator.<init>(\u001b[32mcmd0.sc\u001b[39m:\u001b[32m106\u001b[39m)\n  ammonite.$sess.cmd0$Helper$ChecksumAccumulator.<init>(\u001b[32mcmd0.sc\u001b[39m:\u001b[32m106\u001b[39m)\n  ammonite.$sess.cmd0$Helper$ChecksumAccumulator.<init>(\u001b[32mcmd0.sc\u001b[39m:\u001b[32m106\u001b[39m)\n  ammonite.$sess.cmd0$Helper$ChecksumAccumulator.<init>(\u001b[32mcmd0.sc\u001b[39m:\u001b[32m106\u001b[39m)\n  ammonite.$sess.cmd0$Helper$ChecksumAccumulator.<init>(\u001b[32mcmd0.sc\u001b[39m:\u001b[32m106\u001b[39m)\n  ammonite.$sess.cmd0$Helper$ChecksumAccumulator.<init>(\u001b[32mcmd0.sc\u001b[39m:\u001b[32m106\u001b[39m)\n  ammonite.$sess.cmd0$Helper$ChecksumAccumulator.<init>(\u001b[32mcmd0.sc\u001b[39m:\u001b[32m106\u001b[39m)\n  ammonite.$sess.cmd0$Helper$ChecksumAccumulator.<init>(\u001b[32mcmd0.sc\u001b[39m:\u001b[32m106\u001b[39m)\n  ammonite.$sess.cmd0$Helper$ChecksumAccumulator.<init>(\u001b[32mcmd0.sc\u001b[39m:\u001b[32m106\u001b[39m)\n  ammonite.$sess.cmd0$Helper$ChecksumAccumulator.<init>(\u001b[32mcmd0.sc\u001b[39m:\u001b[32m106\u001b[39m)\n  ammonite.$sess.cmd0$Helper$ChecksumAccumulator.<init>(\u001b[32mcmd0.sc\u001b[39m:\u001b[32m106\u001b[39m)\n  ammonite.$sess.cmd0$Helper$ChecksumAccumulator.<init>(\u001b[32mcmd0.sc\u001b[39m:\u001b[32m106\u001b[39m)\n  ammonite.$sess.cmd0$Helper$ChecksumAccumulator.<init>(\u001b[32mcmd0.sc\u001b[39m:\u001b[32m106\u001b[39m)\n  ammonite.$sess.cmd0$Helper$ChecksumAccumulator.<init>(\u001b[32mcmd0.sc\u001b[39m:\u001b[32m106\u001b[39m)\n  ammonite.$sess.cmd0$Helper$ChecksumAccumulator.<init>(\u001b[32mcmd0.sc\u001b[39m:\u001b[32m106\u001b[39m)\n  ammonite.$sess.cmd0$Helper$ChecksumAccumulator.<init>(\u001b[32mcmd0.sc\u001b[39m:\u001b[32m106\u001b[39m)\n  ammonite.$sess.cmd0$Helper$ChecksumAccumulator.<init>(\u001b[32mcmd0.sc\u001b[39m:\u001b[32m106\u001b[39m)\n  ammonite.$sess.cmd0$Helper$ChecksumAccumulator.<init>(\u001b[32mcmd0.sc\u001b[39m:\u001b[32m106\u001b[39m)\n  ammonite.$sess.cmd0$Helper$ChecksumAccumulator.<init>(\u001b[32mcmd0.sc\u001b[39m:\u001b[32m106\u001b[39m)\n  ammonite.$sess.cmd0$Helper$ChecksumAccumulator.<init>(\u001b[32mcmd0.sc\u001b[39m:\u001b[32m106\u001b[39m)\n  ammonite.$sess.cmd0$Helper$ChecksumAccumulator.<init>(\u001b[32mcmd0.sc\u001b[39m:\u001b[32m106\u001b[39m)\n  ammonite.$sess.cmd0$Helper$ChecksumAccumulator.<init>(\u001b[32mcmd0.sc\u001b[39m:\u001b[32m106\u001b[39m)\n  ammonite.$sess.cmd0$Helper$ChecksumAccumulator.<init>(\u001b[32mcmd0.sc\u001b[39m:\u001b[32m106\u001b[39m)\n  ammonite.$sess.cmd0$Helper$ChecksumAccumulator.<init>(\u001b[32mcmd0.sc\u001b[39m:\u001b[32m106\u001b[39m)\n  ammonite.$sess.cmd0$Helper$ChecksumAccumulator.<init>(\u001b[32mcmd0.sc\u001b[39m:\u001b[32m106\u001b[39m)\n  ammonite.$sess.cmd0$Helper$ChecksumAccumulator.<init>(\u001b[32mcmd0.sc\u001b[39m:\u001b[32m106\u001b[39m)\n  ammonite.$sess.cmd0$Helper$ChecksumAccumulator.<init>(\u001b[32mcmd0.sc\u001b[39m:\u001b[32m106\u001b[39m)\n  ammonite.$sess.cmd0$Helper$ChecksumAccumulator.<init>(\u001b[32mcmd0.sc\u001b[39m:\u001b[32m106\u001b[39m)\n  ammonite.$sess.cmd0$Helper$ChecksumAccumulator.<init>(\u001b[32mcmd0.sc\u001b[39m:\u001b[32m106\u001b[39m)\n  ammonite.$sess.cmd0$Helper$ChecksumAccumulator.<init>(\u001b[32mcmd0.sc\u001b[39m:\u001b[32m106\u001b[39m)\n  ammonite.$sess.cmd0$Helper$ChecksumAccumulator.<init>(\u001b[32mcmd0.sc\u001b[39m:\u001b[32m106\u001b[39m)\n  ammonite.$sess.cmd0$Helper$ChecksumAccumulator.<init>(\u001b[32mcmd0.sc\u001b[39m:\u001b[32m106\u001b[39m)\n  ammonite.$sess.cmd0$Helper$ChecksumAccumulator.<init>(\u001b[32mcmd0.sc\u001b[39m:\u001b[32m106\u001b[39m)\n  ammonite.$sess.cmd0$Helper$ChecksumAccumulator.<init>(\u001b[32mcmd0.sc\u001b[39m:\u001b[32m106\u001b[39m)\n  ammonite.$sess.cmd0$Helper$ChecksumAccumulator.<init>(\u001b[32mcmd0.sc\u001b[39m:\u001b[32m106\u001b[39m)\n  ammonite.$sess.cmd0$Helper$ChecksumAccumulator.<init>(\u001b[32mcmd0.sc\u001b[39m:\u001b[32m106\u001b[39m)\n  ammonite.$sess.cmd0$Helper$ChecksumAccumulator.<init>(\u001b[32mcmd0.sc\u001b[39m:\u001b[32m106\u001b[39m)\n  ammonite.$sess.cmd0$Helper$ChecksumAccumulator.<init>(\u001b[32mcmd0.sc\u001b[39m:\u001b[32m106\u001b[39m)\n  ammonite.$sess.cmd0$Helper$ChecksumAccumulator.<init>(\u001b[32mcmd0.sc\u001b[39m:\u001b[32m106\u001b[39m)\n  ammonite.$sess.cmd0$Helper$ChecksumAccumulator.<init>(\u001b[32mcmd0.sc\u001b[39m:\u001b[32m106\u001b[39m)\n  ammonite.$sess.cmd0$Helper$ChecksumAccumulator.<init>(\u001b[32mcmd0.sc\u001b[39m:\u001b[32m106\u001b[39m)\n  ammonite.$sess.cmd0$Helper$ChecksumAccumulator.<init>(\u001b[32mcmd0.sc\u001b[39m:\u001b[32m106\u001b[39m)\n  ammonite.$sess.cmd0$Helper$ChecksumAccumulator.<init>(\u001b[32mcmd0.sc\u001b[39m:\u001b[32m106\u001b[39m)\n  ammonite.$sess.cmd0$Helper$ChecksumAccumulator.<init>(\u001b[32mcmd0.sc\u001b[39m:\u001b[32m106\u001b[39m)\n  ammonite.$sess.cmd0$Helper$ChecksumAccumulator.<init>(\u001b[32mcmd0.sc\u001b[39m:\u001b[32m106\u001b[39m)\n  ammonite.$sess.cmd0$Helper$ChecksumAccumulator.<init>(\u001b[32mcmd0.sc\u001b[39m:\u001b[32m106\u001b[39m)\n  ammonite.$sess.cmd0$Helper$ChecksumAccumulator.<init>(\u001b[32mcmd0.sc\u001b[39m:\u001b[32m106\u001b[39m)\n  ammonite.$sess.cmd0$Helper$ChecksumAccumulator.<init>(\u001b[32mcmd0.sc\u001b[39m:\u001b[32m106\u001b[39m)\n  ammonite.$sess.cmd0$Helper$ChecksumAccumulator.<init>(\u001b[32mcmd0.sc\u001b[39m:\u001b[32m106\u001b[39m)\n  ammonite.$sess.cmd0$Helper$ChecksumAccumulator.<init>(\u001b[32mcmd0.sc\u001b[39m:\u001b[32m106\u001b[39m)\n  ammonite.$sess.cmd0$Helper$ChecksumAccumulator.<init>(\u001b[32mcmd0.sc\u001b[39m:\u001b[32m106\u001b[39m)\n  ammonite.$sess.cmd0$Helper$ChecksumAccumulator.<init>(\u001b[32mcmd0.sc\u001b[39m:\u001b[32m106\u001b[39m)\n  ammonite.$sess.cmd0$Helper$ChecksumAccumulator.<init>(\u001b[32mcmd0.sc\u001b[39m:\u001b[32m106\u001b[39m)\n  ammonite.$sess.cmd0$Helper$ChecksumAccumulator.<init>(\u001b[32mcmd0.sc\u001b[39m:\u001b[32m106\u001b[39m)\n  ammonite.$sess.cmd0$Helper$ChecksumAccumulator.<init>(\u001b[32mcmd0.sc\u001b[39m:\u001b[32m106\u001b[39m)\n  ammonite.$sess.cmd0$Helper$ChecksumAccumulator.<init>(\u001b[32mcmd0.sc\u001b[39m:\u001b[32m106\u001b[39m)\n  ammonite.$sess.cmd0$Helper$ChecksumAccumulator.<init>(\u001b[32mcmd0.sc\u001b[39m:\u001b[32m106\u001b[39m)\n  ammonite.$sess.cmd0$Helper$ChecksumAccumulator.<init>(\u001b[32mcmd0.sc\u001b[39m:\u001b[32m106\u001b[39m)\n  ammonite.$sess.cmd0$Helper$ChecksumAccumulator.<init>(\u001b[32mcmd0.sc\u001b[39m:\u001b[32m106\u001b[39m)\n  ammonite.$sess.cmd0$Helper$ChecksumAccumulator.<init>(\u001b[32mcmd0.sc\u001b[39m:\u001b[32m106\u001b[39m)\n  ammonite.$sess.cmd0$Helper$ChecksumAccumulator.<init>(\u001b[32mcmd0.sc\u001b[39m:\u001b[32m106\u001b[39m)\n  ammonite.$sess.cmd0$Helper$ChecksumAccumulator.<init>(\u001b[32mcmd0.sc\u001b[39m:\u001b[32m106\u001b[39m)\n  ammonite.$sess.cmd0$Helper$ChecksumAccumulator.<init>(\u001b[32mcmd0.sc\u001b[39m:\u001b[32m106\u001b[39m)\n  ammonite.$sess.cmd0$Helper$ChecksumAccumulator.<init>(\u001b[32mcmd0.sc\u001b[39m:\u001b[32m106\u001b[39m)\n  ammonite.$sess.cmd0$Helper$ChecksumAccumulator.<init>(\u001b[32mcmd0.sc\u001b[39m:\u001b[32m106\u001b[39m)\n  ammonite.$sess.cmd0$Helper$ChecksumAccumulator.<init>(\u001b[32mcmd0.sc\u001b[39m:\u001b[32m106\u001b[39m)\n  ammonite.$sess.cmd0$Helper$ChecksumAccumulator.<init>(\u001b[32mcmd0.sc\u001b[39m:\u001b[32m106\u001b[39m)\n  ammonite.$sess.cmd0$Helper$ChecksumAccumulator.<init>(\u001b[32mcmd0.sc\u001b[39m:\u001b[32m106\u001b[39m)\n  ammonite.$sess.cmd0$Helper$ChecksumAccumulator.<init>(\u001b[32mcmd0.sc\u001b[39m:\u001b[32m106\u001b[39m)\n  ammonite.$sess.cmd0$Helper$ChecksumAccumulator.<init>(\u001b[32mcmd0.sc\u001b[39m:\u001b[32m106\u001b[39m)\n  ammonite.$sess.cmd0$Helper$ChecksumAccumulator.<init>(\u001b[32mcmd0.sc\u001b[39m:\u001b[32m106\u001b[39m)\n  ammonite.$sess.cmd0$Helper$ChecksumAccumulator.<init>(\u001b[32mcmd0.sc\u001b[39m:\u001b[32m106\u001b[39m)\n  ammonite.$sess.cmd0$Helper$ChecksumAccumulator.<init>(\u001b[32mcmd0.sc\u001b[39m:\u001b[32m106\u001b[39m)\n  ammonite.$sess.cmd0$Helper$ChecksumAccumulator.<init>(\u001b[32mcmd0.sc\u001b[39m:\u001b[32m106\u001b[39m)\n  ammonite.$sess.cmd0$Helper$ChecksumAccumulator.<init>(\u001b[32mcmd0.sc\u001b[39m:\u001b[32m106\u001b[39m)\n  ammonite.$sess.cmd0$Helper$ChecksumAccumulator.<init>(\u001b[32mcmd0.sc\u001b[39m:\u001b[32m106\u001b[39m)\n  ammonite.$sess.cmd0$Helper$ChecksumAccumulator.<init>(\u001b[32mcmd0.sc\u001b[39m:\u001b[32m106\u001b[39m)\n  ammonite.$sess.cmd0$Helper$ChecksumAccumulator.<init>(\u001b[32mcmd0.sc\u001b[39m:\u001b[32m106\u001b[39m)\n  ammonite.$sess.cmd0$Helper$ChecksumAccumulator.<init>(\u001b[32mcmd0.sc\u001b[39m:\u001b[32m106\u001b[39m)\n  ammonite.$sess.cmd0$Helper$ChecksumAccumulator.<init>(\u001b[32mcmd0.sc\u001b[39m:\u001b[32m106\u001b[39m)\n  ammonite.$sess.cmd0$Helper$ChecksumAccumulator.<init>(\u001b[32mcmd0.sc\u001b[39m:\u001b[32m106\u001b[39m)\n  ammonite.$sess.cmd0$Helper$ChecksumAccumulator.<init>(\u001b[32mcmd0.sc\u001b[39m:\u001b[32m106\u001b[39m)\n  ammonite.$sess.cmd0$Helper$ChecksumAccumulator.<init>(\u001b[32mcmd0.sc\u001b[39m:\u001b[32m106\u001b[39m)\n  ammonite.$sess.cmd0$Helper$ChecksumAccumulator.<init>(\u001b[32mcmd0.sc\u001b[39m:\u001b[32m106\u001b[39m)\n  ammonite.$sess.cmd0$Helper$ChecksumAccumulator.<init>(\u001b[32mcmd0.sc\u001b[39m:\u001b[32m106\u001b[39m)\n  ammonite.$sess.cmd0$Helper$ChecksumAccumulator.<init>(\u001b[32mcmd0.sc\u001b[39m:\u001b[32m106\u001b[39m)\n  ammonite.$sess.cmd0$Helper$ChecksumAccumulator.<init>(\u001b[32mcmd0.sc\u001b[39m:\u001b[32m106\u001b[39m)\n  ammonite.$sess.cmd0$Helper$ChecksumAccumulator.<init>(\u001b[32mcmd0.sc\u001b[39m:\u001b[32m106\u001b[39m)\n  ammonite.$sess.cmd0$Helper$ChecksumAccumulator.<init>(\u001b[32mcmd0.sc\u001b[39m:\u001b[32m106\u001b[39m)\n  ammonite.$sess.cmd0$Helper$ChecksumAccumulator.<init>(\u001b[32mcmd0.sc\u001b[39m:\u001b[32m106\u001b[39m)\n  ammonite.$sess.cmd0$Helper$ChecksumAccumulator.<init>(\u001b[32mcmd0.sc\u001b[39m:\u001b[32m106\u001b[39m)\n  ammonite.$sess.cmd0$Helper$ChecksumAccumulator.<init>(\u001b[32mcmd0.sc\u001b[39m:\u001b[32m106\u001b[39m)\n  ammonite.$sess.cmd0$Helper$ChecksumAccumulator.<init>(\u001b[32mcmd0.sc\u001b[39m:\u001b[32m106\u001b[39m)\n  ammonite.$sess.cmd0$Helper$ChecksumAccumulator.<init>(\u001b[32mcmd0.sc\u001b[39m:\u001b[32m106\u001b[39m)\n  ammonite.$sess.cmd0$Helper$ChecksumAccumulator.<init>(\u001b[32mcmd0.sc\u001b[39m:\u001b[32m106\u001b[39m)\n  ammonite.$sess.cmd0$Helper$ChecksumAccumulator.<init>(\u001b[32mcmd0.sc\u001b[39m:\u001b[32m106\u001b[39m)\n  ammonite.$sess.cmd0$Helper$ChecksumAccumulator.<init>(\u001b[32mcmd0.sc\u001b[39m:\u001b[32m106\u001b[39m)\n  ammonite.$sess.cmd0$Helper$ChecksumAccumulator.<init>(\u001b[32mcmd0.sc\u001b[39m:\u001b[32m106\u001b[39m)\n  ammonite.$sess.cmd0$Helper$ChecksumAccumulator.<init>(\u001b[32mcmd0.sc\u001b[39m:\u001b[32m106\u001b[39m)\n  ammonite.$sess.cmd0$Helper$ChecksumAccumulator.<init>(\u001b[32mcmd0.sc\u001b[39m:\u001b[32m106\u001b[39m)\n  ammonite.$sess.cmd0$Helper$ChecksumAccumulator.<init>(\u001b[32mcmd0.sc\u001b[39m:\u001b[32m106\u001b[39m)\n  ammonite.$sess.cmd0$Helper$ChecksumAccumulator.<init>(\u001b[32mcmd0.sc\u001b[39m:\u001b[32m106\u001b[39m)\n  ammonite.$sess.cmd0$Helper$ChecksumAccumulator.<init>(\u001b[32mcmd0.sc\u001b[39m:\u001b[32m106\u001b[39m)\n  ammonite.$sess.cmd0$Helper$ChecksumAccumulator.<init>(\u001b[32mcmd0.sc\u001b[39m:\u001b[32m106\u001b[39m)\n  ammonite.$sess.cmd0$Helper$ChecksumAccumulator.<init>(\u001b[32mcmd0.sc\u001b[39m:\u001b[32m106\u001b[39m)\n  ammonite.$sess.cmd0$Helper$ChecksumAccumulator.<init>(\u001b[32mcmd0.sc\u001b[39m:\u001b[32m106\u001b[39m)\n  ammonite.$sess.cmd0$Helper$ChecksumAccumulator.<init>(\u001b[32mcmd0.sc\u001b[39m:\u001b[32m106\u001b[39m)\n  ammonite.$sess.cmd0$Helper$ChecksumAccumulator.<init>(\u001b[32mcmd0.sc\u001b[39m:\u001b[32m106\u001b[39m)\n  ammonite.$sess.cmd0$Helper$ChecksumAccumulator.<init>(\u001b[32mcmd0.sc\u001b[39m:\u001b[32m106\u001b[39m)\n  ammonite.$sess.cmd0$Helper$ChecksumAccumulator.<init>(\u001b[32mcmd0.sc\u001b[39m:\u001b[32m106\u001b[39m)\n  ammonite.$sess.cmd0$Helper$ChecksumAccumulator.<init>(\u001b[32mcmd0.sc\u001b[39m:\u001b[32m106\u001b[39m)\n  ammonite.$sess.cmd0$Helper$ChecksumAccumulator.<init>(\u001b[32mcmd0.sc\u001b[39m:\u001b[32m106\u001b[39m)\n  ammonite.$sess.cmd0$Helper$ChecksumAccumulator.<init>(\u001b[32mcmd0.sc\u001b[39m:\u001b[32m106\u001b[39m)\n  ammonite.$sess.cmd0$Helper$ChecksumAccumulator.<init>(\u001b[32mcmd0.sc\u001b[39m:\u001b[32m106\u001b[39m)\n  ammonite.$sess.cmd0$Helper$ChecksumAccumulator.<init>(\u001b[32mcmd0.sc\u001b[39m:\u001b[32m106\u001b[39m)\n  ammonite.$sess.cmd0$Helper$ChecksumAccumulator.<init>(\u001b[32mcmd0.sc\u001b[39m:\u001b[32m106\u001b[39m)\n  ammonite.$sess.cmd0$Helper$ChecksumAccumulator.<init>(\u001b[32mcmd0.sc\u001b[39m:\u001b[32m106\u001b[39m)\n  ammonite.$sess.cmd0$Helper$ChecksumAccumulator.<init>(\u001b[32mcmd0.sc\u001b[39m:\u001b[32m106\u001b[39m)\n  ammonite.$sess.cmd0$Helper$ChecksumAccumulator.<init>(\u001b[32mcmd0.sc\u001b[39m:\u001b[32m106\u001b[39m)\n  ammonite.$sess.cmd0$Helper$ChecksumAccumulator.<init>(\u001b[32mcmd0.sc\u001b[39m:\u001b[32m106\u001b[39m)\n  ammonite.$sess.cmd0$Helper$ChecksumAccumulator.<init>(\u001b[32mcmd0.sc\u001b[39m:\u001b[32m106\u001b[39m)\n  ammonite.$sess.cmd0$Helper$ChecksumAccumulator.<init>(\u001b[32mcmd0.sc\u001b[39m:\u001b[32m106\u001b[39m)\n  ammonite.$sess.cmd0$Helper$ChecksumAccumulator.<init>(\u001b[32mcmd0.sc\u001b[39m:\u001b[32m106\u001b[39m)\n  ammonite.$sess.cmd0$Helper$ChecksumAccumulator.<init>(\u001b[32mcmd0.sc\u001b[39m:\u001b[32m106\u001b[39m)\n  ammonite.$sess.cmd0$Helper$ChecksumAccumulator.<init>(\u001b[32mcmd0.sc\u001b[39m:\u001b[32m106\u001b[39m)\n  ammonite.$sess.cmd0$Helper$ChecksumAccumulator.<init>(\u001b[32mcmd0.sc\u001b[39m:\u001b[32m106\u001b[39m)\n  ammonite.$sess.cmd0$Helper$ChecksumAccumulator.<init>(\u001b[32mcmd0.sc\u001b[39m:\u001b[32m106\u001b[39m)\n  ammonite.$sess.cmd0$Helper$ChecksumAccumulator.<init>(\u001b[32mcmd0.sc\u001b[39m:\u001b[32m106\u001b[39m)\n  ammonite.$sess.cmd0$Helper$ChecksumAccumulator.<init>(\u001b[32mcmd0.sc\u001b[39m:\u001b[32m106\u001b[39m)\n  ammonite.$sess.cmd0$Helper$ChecksumAccumulator.<init>(\u001b[32mcmd0.sc\u001b[39m:\u001b[32m106\u001b[39m)\n  ammonite.$sess.cmd0$Helper$ChecksumAccumulator.<init>(\u001b[32mcmd0.sc\u001b[39m:\u001b[32m106\u001b[39m)\n  ammonite.$sess.cmd0$Helper$ChecksumAccumulator.<init>(\u001b[32mcmd0.sc\u001b[39m:\u001b[32m106\u001b[39m)\n  ammonite.$sess.cmd0$Helper$ChecksumAccumulator.<init>(\u001b[32mcmd0.sc\u001b[39m:\u001b[32m106\u001b[39m)\n  ammonite.$sess.cmd0$Helper$ChecksumAccumulator.<init>(\u001b[32mcmd0.sc\u001b[39m:\u001b[32m106\u001b[39m)\n  ammonite.$sess.cmd0$Helper$ChecksumAccumulator.<init>(\u001b[32mcmd0.sc\u001b[39m:\u001b[32m106\u001b[39m)\n  ammonite.$sess.cmd0$Helper$ChecksumAccumulator.<init>(\u001b[32mcmd0.sc\u001b[39m:\u001b[32m106\u001b[39m)\n  ammonite.$sess.cmd0$Helper$ChecksumAccumulator.<init>(\u001b[32mcmd0.sc\u001b[39m:\u001b[32m106\u001b[39m)\n  ammonite.$sess.cmd0$Helper$ChecksumAccumulator.<init>(\u001b[32mcmd0.sc\u001b[39m:\u001b[32m106\u001b[39m)\n  ammonite.$sess.cmd0$Helper$ChecksumAccumulator.<init>(\u001b[32mcmd0.sc\u001b[39m:\u001b[32m106\u001b[39m)\n  ammonite.$sess.cmd0$Helper$ChecksumAccumulator.<init>(\u001b[32mcmd0.sc\u001b[39m:\u001b[32m106\u001b[39m)\n  ammonite.$sess.cmd0$Helper$ChecksumAccumulator.<init>(\u001b[32mcmd0.sc\u001b[39m:\u001b[32m106\u001b[39m)\n  ammonite.$sess.cmd0$Helper$ChecksumAccumulator.<init>(\u001b[32mcmd0.sc\u001b[39m:\u001b[32m106\u001b[39m)\n  ammonite.$sess.cmd0$Helper$ChecksumAccumulator.<init>(\u001b[32mcmd0.sc\u001b[39m:\u001b[32m106\u001b[39m)\n  ammonite.$sess.cmd0$Helper$ChecksumAccumulator.<init>(\u001b[32mcmd0.sc\u001b[39m:\u001b[32m106\u001b[39m)\n  ammonite.$sess.cmd0$Helper$ChecksumAccumulator.<init>(\u001b[32mcmd0.sc\u001b[39m:\u001b[32m106\u001b[39m)\n  ammonite.$sess.cmd0$Helper$ChecksumAccumulator.<init>(\u001b[32mcmd0.sc\u001b[39m:\u001b[32m106\u001b[39m)\n  ammonite.$sess.cmd0$Helper$ChecksumAccumulator.<init>(\u001b[32mcmd0.sc\u001b[39m:\u001b[32m106\u001b[39m)\n  ammonite.$sess.cmd0$Helper$ChecksumAccumulator.<init>(\u001b[32mcmd0.sc\u001b[39m:\u001b[32m106\u001b[39m)\n  ammonite.$sess.cmd0$Helper$ChecksumAccumulator.<init>(\u001b[32mcmd0.sc\u001b[39m:\u001b[32m106\u001b[39m)\n  ammonite.$sess.cmd0$Helper$ChecksumAccumulator.<init>(\u001b[32mcmd0.sc\u001b[39m:\u001b[32m106\u001b[39m)\n  ammonite.$sess.cmd0$Helper$ChecksumAccumulator.<init>(\u001b[32mcmd0.sc\u001b[39m:\u001b[32m106\u001b[39m)\n  ammonite.$sess.cmd0$Helper$ChecksumAccumulator.<init>(\u001b[32mcmd0.sc\u001b[39m:\u001b[32m106\u001b[39m)\n  ammonite.$sess.cmd0$Helper$ChecksumAccumulator.<init>(\u001b[32mcmd0.sc\u001b[39m:\u001b[32m106\u001b[39m)\n  ammonite.$sess.cmd0$Helper$ChecksumAccumulator.<init>(\u001b[32mcmd0.sc\u001b[39m:\u001b[32m106\u001b[39m)\n  ammonite.$sess.cmd0$Helper$ChecksumAccumulator.<init>(\u001b[32mcmd0.sc\u001b[39m:\u001b[32m106\u001b[39m)\n  ammonite.$sess.cmd0$Helper$ChecksumAccumulator.<init>(\u001b[32mcmd0.sc\u001b[39m:\u001b[32m106\u001b[39m)\n  ammonite.$sess.cmd0$Helper$ChecksumAccumulator.<init>(\u001b[32mcmd0.sc\u001b[39m:\u001b[32m106\u001b[39m)\n  ammonite.$sess.cmd0$Helper$ChecksumAccumulator.<init>(\u001b[32mcmd0.sc\u001b[39m:\u001b[32m106\u001b[39m)\n  ammonite.$sess.cmd0$Helper$ChecksumAccumulator.<init>(\u001b[32mcmd0.sc\u001b[39m:\u001b[32m106\u001b[39m)\n  ammonite.$sess.cmd0$Helper$ChecksumAccumulator.<init>(\u001b[32mcmd0.sc\u001b[39m:\u001b[32m106\u001b[39m)\n  ammonite.$sess.cmd0$Helper$ChecksumAccumulator.<init>(\u001b[32mcmd0.sc\u001b[39m:\u001b[32m106\u001b[39m)\n  ammonite.$sess.cmd0$Helper$ChecksumAccumulator.<init>(\u001b[32mcmd0.sc\u001b[39m:\u001b[32m106\u001b[39m)\n  ammonite.$sess.cmd0$Helper$ChecksumAccumulator.<init>(\u001b[32mcmd0.sc\u001b[39m:\u001b[32m106\u001b[39m)\n  ammonite.$sess.cmd0$Helper$ChecksumAccumulator.<init>(\u001b[32mcmd0.sc\u001b[39m:\u001b[32m106\u001b[39m)\n  ammonite.$sess.cmd0$Helper$ChecksumAccumulator.<init>(\u001b[32mcmd0.sc\u001b[39m:\u001b[32m106\u001b[39m)\n  ammonite.$sess.cmd0$Helper$ChecksumAccumulator.<init>(\u001b[32mcmd0.sc\u001b[39m:\u001b[32m106\u001b[39m)\n  ammonite.$sess.cmd0$Helper$ChecksumAccumulator.<init>(\u001b[32mcmd0.sc\u001b[39m:\u001b[32m106\u001b[39m)\n  ammonite.$sess.cmd0$Helper$ChecksumAccumulator.<init>(\u001b[32mcmd0.sc\u001b[39m:\u001b[32m106\u001b[39m)\n  ammonite.$sess.cmd0$Helper$ChecksumAccumulator.<init>(\u001b[32mcmd0.sc\u001b[39m:\u001b[32m106\u001b[39m)\n  ammonite.$sess.cmd0$Helper$ChecksumAccumulator.<init>(\u001b[32mcmd0.sc\u001b[39m:\u001b[32m106\u001b[39m)\n  ammonite.$sess.cmd0$Helper$ChecksumAccumulator.<init>(\u001b[32mcmd0.sc\u001b[39m:\u001b[32m106\u001b[39m)\n  ammonite.$sess.cmd0$Helper$ChecksumAccumulator.<init>(\u001b[32mcmd0.sc\u001b[39m:\u001b[32m106\u001b[39m)\n  ammonite.$sess.cmd0$Helper$ChecksumAccumulator.<init>(\u001b[32mcmd0.sc\u001b[39m:\u001b[32m106\u001b[39m)\n  ammonite.$sess.cmd0$Helper$ChecksumAccumulator.<init>(\u001b[32mcmd0.sc\u001b[39m:\u001b[32m106\u001b[39m)\n  ammonite.$sess.cmd0$Helper$ChecksumAccumulator.<init>(\u001b[32mcmd0.sc\u001b[39m:\u001b[32m106\u001b[39m)\n  ammonite.$sess.cmd0$Helper$ChecksumAccumulator.<init>(\u001b[32mcmd0.sc\u001b[39m:\u001b[32m106\u001b[39m)\n  ammonite.$sess.cmd0$Helper$ChecksumAccumulator.<init>(\u001b[32mcmd0.sc\u001b[39m:\u001b[32m106\u001b[39m)\n  ammonite.$sess.cmd0$Helper$ChecksumAccumulator.<init>(\u001b[32mcmd0.sc\u001b[39m:\u001b[32m106\u001b[39m)\n  ammonite.$sess.cmd0$Helper$ChecksumAccumulator.<init>(\u001b[32mcmd0.sc\u001b[39m:\u001b[32m106\u001b[39m)\n  ammonite.$sess.cmd0$Helper$ChecksumAccumulator.<init>(\u001b[32mcmd0.sc\u001b[39m:\u001b[32m106\u001b[39m)\n  ammonite.$sess.cmd0$Helper$ChecksumAccumulator.<init>(\u001b[32mcmd0.sc\u001b[39m:\u001b[32m106\u001b[39m)\n  ammonite.$sess.cmd0$Helper$ChecksumAccumulator.<init>(\u001b[32mcmd0.sc\u001b[39m:\u001b[32m106\u001b[39m)\n  ammonite.$sess.cmd0$Helper$ChecksumAccumulator.<init>(\u001b[32mcmd0.sc\u001b[39m:\u001b[32m106\u001b[39m)\n  ammonite.$sess.cmd0$Helper$ChecksumAccumulator.<init>(\u001b[32mcmd0.sc\u001b[39m:\u001b[32m106\u001b[39m)\n  ammonite.$sess.cmd0$Helper$ChecksumAccumulator.<init>(\u001b[32mcmd0.sc\u001b[39m:\u001b[32m106\u001b[39m)\n  ammonite.$sess.cmd0$Helper$ChecksumAccumulator.<init>(\u001b[32mcmd0.sc\u001b[39m:\u001b[32m106\u001b[39m)\n  ammonite.$sess.cmd0$Helper$ChecksumAccumulator.<init>(\u001b[32mcmd0.sc\u001b[39m:\u001b[32m106\u001b[39m)\n  ammonite.$sess.cmd0$Helper$ChecksumAccumulator.<init>(\u001b[32mcmd0.sc\u001b[39m:\u001b[32m106\u001b[39m)\n  ammonite.$sess.cmd0$Helper$ChecksumAccumulator.<init>(\u001b[32mcmd0.sc\u001b[39m:\u001b[32m106\u001b[39m)\n  ammonite.$sess.cmd0$Helper$ChecksumAccumulator.<init>(\u001b[32mcmd0.sc\u001b[39m:\u001b[32m106\u001b[39m)\n  ammonite.$sess.cmd0$Helper$ChecksumAccumulator.<init>(\u001b[32mcmd0.sc\u001b[39m:\u001b[32m106\u001b[39m)\n  ammonite.$sess.cmd0$Helper$ChecksumAccumulator.<init>(\u001b[32mcmd0.sc\u001b[39m:\u001b[32m106\u001b[39m)\n  ammonite.$sess.cmd0$Helper$ChecksumAccumulator.<init>(\u001b[32mcmd0.sc\u001b[39m:\u001b[32m106\u001b[39m)\n  ammonite.$sess.cmd0$Helper$ChecksumAccumulator.<init>(\u001b[32mcmd0.sc\u001b[39m:\u001b[32m106\u001b[39m)\n  ammonite.$sess.cmd0$Helper$ChecksumAccumulator.<init>(\u001b[32mcmd0.sc\u001b[39m:\u001b[32m106\u001b[39m)\n  ammonite.$sess.cmd0$Helper$ChecksumAccumulator.<init>(\u001b[32mcmd0.sc\u001b[39m:\u001b[32m106\u001b[39m)\n  ammonite.$sess.cmd0$Helper$ChecksumAccumulator.<init>(\u001b[32mcmd0.sc\u001b[39m:\u001b[32m106\u001b[39m)\n  ammonite.$sess.cmd0$Helper$ChecksumAccumulator.<init>(\u001b[32mcmd0.sc\u001b[39m:\u001b[32m106\u001b[39m)\n  ammonite.$sess.cmd0$Helper$ChecksumAccumulator.<init>(\u001b[32mcmd0.sc\u001b[39m:\u001b[32m106\u001b[39m)\n  ammonite.$sess.cmd0$Helper$ChecksumAccumulator.<init>(\u001b[32mcmd0.sc\u001b[39m:\u001b[32m106\u001b[39m)\n  ammonite.$sess.cmd0$Helper$ChecksumAccumulator.<init>(\u001b[32mcmd0.sc\u001b[39m:\u001b[32m106\u001b[39m)\n  ammonite.$sess.cmd0$Helper$ChecksumAccumulator.<init>(\u001b[32mcmd0.sc\u001b[39m:\u001b[32m106\u001b[39m)\n  ammonite.$sess.cmd0$Helper$ChecksumAccumulator.<init>(\u001b[32mcmd0.sc\u001b[39m:\u001b[32m106\u001b[39m)\n  ammonite.$sess.cmd0$Helper$ChecksumAccumulator.<init>(\u001b[32mcmd0.sc\u001b[39m:\u001b[32m106\u001b[39m)\n  ammonite.$sess.cmd0$Helper$ChecksumAccumulator.<init>(\u001b[32mcmd0.sc\u001b[39m:\u001b[32m106\u001b[39m)\n  ammonite.$sess.cmd0$Helper$ChecksumAccumulator.<init>(\u001b[32mcmd0.sc\u001b[39m:\u001b[32m106\u001b[39m)\n  ammonite.$sess.cmd0$Helper$ChecksumAccumulator.<init>(\u001b[32mcmd0.sc\u001b[39m:\u001b[32m106\u001b[39m)\n  ammonite.$sess.cmd0$Helper$ChecksumAccumulator.<init>(\u001b[32mcmd0.sc\u001b[39m:\u001b[32m106\u001b[39m)\n  ammonite.$sess.cmd0$Helper$ChecksumAccumulator.<init>(\u001b[32mcmd0.sc\u001b[39m:\u001b[32m106\u001b[39m)\n  ammonite.$sess.cmd0$Helper$ChecksumAccumulator.<init>(\u001b[32mcmd0.sc\u001b[39m:\u001b[32m106\u001b[39m)\n  ammonite.$sess.cmd0$Helper$ChecksumAccumulator.<init>(\u001b[32mcmd0.sc\u001b[39m:\u001b[32m106\u001b[39m)\n  ammonite.$sess.cmd0$Helper$ChecksumAccumulator.<init>(\u001b[32mcmd0.sc\u001b[39m:\u001b[32m106\u001b[39m)\n  ammonite.$sess.cmd0$Helper$ChecksumAccumulator.<init>(\u001b[32mcmd0.sc\u001b[39m:\u001b[32m106\u001b[39m)\n  ammonite.$sess.cmd0$Helper$ChecksumAccumulator.<init>(\u001b[32mcmd0.sc\u001b[39m:\u001b[32m106\u001b[39m)\n  ammonite.$sess.cmd0$Helper$ChecksumAccumulator.<init>(\u001b[32mcmd0.sc\u001b[39m:\u001b[32m106\u001b[39m)\n  ammonite.$sess.cmd0$Helper$ChecksumAccumulator.<init>(\u001b[32mcmd0.sc\u001b[39m:\u001b[32m106\u001b[39m)\n  ammonite.$sess.cmd0$Helper$ChecksumAccumulator.<init>(\u001b[32mcmd0.sc\u001b[39m:\u001b[32m106\u001b[39m)\n  ammonite.$sess.cmd0$Helper$ChecksumAccumulator.<init>(\u001b[32mcmd0.sc\u001b[39m:\u001b[32m106\u001b[39m)\n  ammonite.$sess.cmd0$Helper$ChecksumAccumulator.<init>(\u001b[32mcmd0.sc\u001b[39m:\u001b[32m106\u001b[39m)\n  ammonite.$sess.cmd0$Helper$ChecksumAccumulator.<init>(\u001b[32mcmd0.sc\u001b[39m:\u001b[32m106\u001b[39m)\n  ammonite.$sess.cmd0$Helper$ChecksumAccumulator.<init>(\u001b[32mcmd0.sc\u001b[39m:\u001b[32m106\u001b[39m)\n  ammonite.$sess.cmd0$Helper$ChecksumAccumulator.<init>(\u001b[32mcmd0.sc\u001b[39m:\u001b[32m106\u001b[39m)\n  ammonite.$sess.cmd0$Helper$ChecksumAccumulator.<init>(\u001b[32mcmd0.sc\u001b[39m:\u001b[32m106\u001b[39m)\n  ammonite.$sess.cmd0$Helper$ChecksumAccumulator.<init>(\u001b[32mcmd0.sc\u001b[39m:\u001b[32m106\u001b[39m)\n  ammonite.$sess.cmd0$Helper$ChecksumAccumulator.<init>(\u001b[32mcmd0.sc\u001b[39m:\u001b[32m106\u001b[39m)\n  ammonite.$sess.cmd0$Helper$ChecksumAccumulator.<init>(\u001b[32mcmd0.sc\u001b[39m:\u001b[32m106\u001b[39m)\n  ammonite.$sess.cmd0$Helper$ChecksumAccumulator.<init>(\u001b[32mcmd0.sc\u001b[39m:\u001b[32m106\u001b[39m)\n  ammonite.$sess.cmd0$Helper$ChecksumAccumulator.<init>(\u001b[32mcmd0.sc\u001b[39m:\u001b[32m106\u001b[39m)\n  ammonite.$sess.cmd0$Helper$ChecksumAccumulator.<init>(\u001b[32mcmd0.sc\u001b[39m:\u001b[32m106\u001b[39m)\n  ammonite.$sess.cmd0$Helper$ChecksumAccumulator.<init>(\u001b[32mcmd0.sc\u001b[39m:\u001b[32m106\u001b[39m)\n  ammonite.$sess.cmd0$Helper$ChecksumAccumulator.<init>(\u001b[32mcmd0.sc\u001b[39m:\u001b[32m106\u001b[39m)\n  ammonite.$sess.cmd0$Helper$ChecksumAccumulator.<init>(\u001b[32mcmd0.sc\u001b[39m:\u001b[32m106\u001b[39m)\n  ammonite.$sess.cmd0$Helper$ChecksumAccumulator.<init>(\u001b[32mcmd0.sc\u001b[39m:\u001b[32m106\u001b[39m)\n  ammonite.$sess.cmd0$Helper$ChecksumAccumulator.<init>(\u001b[32mcmd0.sc\u001b[39m:\u001b[32m106\u001b[39m)\n  ammonite.$sess.cmd0$Helper$ChecksumAccumulator.<init>(\u001b[32mcmd0.sc\u001b[39m:\u001b[32m106\u001b[39m)\n  ammonite.$sess.cmd0$Helper$ChecksumAccumulator.<init>(\u001b[32mcmd0.sc\u001b[39m:\u001b[32m106\u001b[39m)\n  ammonite.$sess.cmd0$Helper$ChecksumAccumulator.<init>(\u001b[32mcmd0.sc\u001b[39m:\u001b[32m106\u001b[39m)\n  ammonite.$sess.cmd0$Helper$ChecksumAccumulator.<init>(\u001b[32mcmd0.sc\u001b[39m:\u001b[32m106\u001b[39m)\n  ammonite.$sess.cmd0$Helper$ChecksumAccumulator.<init>(\u001b[32mcmd0.sc\u001b[39m:\u001b[32m106\u001b[39m)\n  ammonite.$sess.cmd0$Helper$ChecksumAccumulator.<init>(\u001b[32mcmd0.sc\u001b[39m:\u001b[32m106\u001b[39m)\n  ammonite.$sess.cmd0$Helper$ChecksumAccumulator.<init>(\u001b[32mcmd0.sc\u001b[39m:\u001b[32m106\u001b[39m)\n  ammonite.$sess.cmd0$Helper$ChecksumAccumulator.<init>(\u001b[32mcmd0.sc\u001b[39m:\u001b[32m106\u001b[39m)\n  ammonite.$sess.cmd0$Helper$ChecksumAccumulator.<init>(\u001b[32mcmd0.sc\u001b[39m:\u001b[32m106\u001b[39m)\n  ammonite.$sess.cmd0$Helper$ChecksumAccumulator.<init>(\u001b[32mcmd0.sc\u001b[39m:\u001b[32m106\u001b[39m)\n  ammonite.$sess.cmd0$Helper$ChecksumAccumulator.<init>(\u001b[32mcmd0.sc\u001b[39m:\u001b[32m106\u001b[39m)\n  ammonite.$sess.cmd0$Helper$ChecksumAccumulator.<init>(\u001b[32mcmd0.sc\u001b[39m:\u001b[32m106\u001b[39m)\n  ammonite.$sess.cmd0$Helper$ChecksumAccumulator.<init>(\u001b[32mcmd0.sc\u001b[39m:\u001b[32m106\u001b[39m)\n  ammonite.$sess.cmd0$Helper$ChecksumAccumulator.<init>(\u001b[32mcmd0.sc\u001b[39m:\u001b[32m106\u001b[39m)\n  ammonite.$sess.cmd0$Helper$ChecksumAccumulator.<init>(\u001b[32mcmd0.sc\u001b[39m:\u001b[32m106\u001b[39m)\n  ammonite.$sess.cmd0$Helper$ChecksumAccumulator.<init>(\u001b[32mcmd0.sc\u001b[39m:\u001b[32m106\u001b[39m)\n  ammonite.$sess.cmd0$Helper$ChecksumAccumulator.<init>(\u001b[32mcmd0.sc\u001b[39m:\u001b[32m106\u001b[39m)\n  ammonite.$sess.cmd0$Helper$ChecksumAccumulator.<init>(\u001b[32mcmd0.sc\u001b[39m:\u001b[32m106\u001b[39m)\n  ammonite.$sess.cmd0$Helper$ChecksumAccumulator.<init>(\u001b[32mcmd0.sc\u001b[39m:\u001b[32m106\u001b[39m)\n  ammonite.$sess.cmd0$Helper$ChecksumAccumulator.<init>(\u001b[32mcmd0.sc\u001b[39m:\u001b[32m106\u001b[39m)\n  ammonite.$sess.cmd0$Helper$ChecksumAccumulator.<init>(\u001b[32mcmd0.sc\u001b[39m:\u001b[32m106\u001b[39m)\n  ammonite.$sess.cmd0$Helper$ChecksumAccumulator.<init>(\u001b[32mcmd0.sc\u001b[39m:\u001b[32m106\u001b[39m)\n  ammonite.$sess.cmd0$Helper$ChecksumAccumulator.<init>(\u001b[32mcmd0.sc\u001b[39m:\u001b[32m106\u001b[39m)\n  ammonite.$sess.cmd0$Helper$ChecksumAccumulator.<init>(\u001b[32mcmd0.sc\u001b[39m:\u001b[32m106\u001b[39m)\n  ammonite.$sess.cmd0$Helper$ChecksumAccumulator.<init>(\u001b[32mcmd0.sc\u001b[39m:\u001b[32m106\u001b[39m)\n  ammonite.$sess.cmd0$Helper$ChecksumAccumulator.<init>(\u001b[32mcmd0.sc\u001b[39m:\u001b[32m106\u001b[39m)\n  ammonite.$sess.cmd0$Helper$ChecksumAccumulator.<init>(\u001b[32mcmd0.sc\u001b[39m:\u001b[32m106\u001b[39m)\n  ammonite.$sess.cmd0$Helper$ChecksumAccumulator.<init>(\u001b[32mcmd0.sc\u001b[39m:\u001b[32m106\u001b[39m)\n  ammonite.$sess.cmd0$Helper$ChecksumAccumulator.<init>(\u001b[32mcmd0.sc\u001b[39m:\u001b[32m106\u001b[39m)\n  ammonite.$sess.cmd0$Helper$ChecksumAccumulator.<init>(\u001b[32mcmd0.sc\u001b[39m:\u001b[32m106\u001b[39m)\n  ammonite.$sess.cmd0$Helper$ChecksumAccumulator.<init>(\u001b[32mcmd0.sc\u001b[39m:\u001b[32m106\u001b[39m)\n  ammonite.$sess.cmd0$Helper$ChecksumAccumulator.<init>(\u001b[32mcmd0.sc\u001b[39m:\u001b[32m106\u001b[39m)\n  ammonite.$sess.cmd0$Helper$ChecksumAccumulator.<init>(\u001b[32mcmd0.sc\u001b[39m:\u001b[32m106\u001b[39m)\n  ammonite.$sess.cmd0$Helper$ChecksumAccumulator.<init>(\u001b[32mcmd0.sc\u001b[39m:\u001b[32m106\u001b[39m)\n  ammonite.$sess.cmd0$Helper$ChecksumAccumulator.<init>(\u001b[32mcmd0.sc\u001b[39m:\u001b[32m106\u001b[39m)\n  ammonite.$sess.cmd0$Helper$ChecksumAccumulator.<init>(\u001b[32mcmd0.sc\u001b[39m:\u001b[32m106\u001b[39m)\n  ammonite.$sess.cmd0$Helper$ChecksumAccumulator.<init>(\u001b[32mcmd0.sc\u001b[39m:\u001b[32m106\u001b[39m)\n  ammonite.$sess.cmd0$Helper$ChecksumAccumulator.<init>(\u001b[32mcmd0.sc\u001b[39m:\u001b[32m106\u001b[39m)\n  ammonite.$sess.cmd0$Helper$ChecksumAccumulator.<init>(\u001b[32mcmd0.sc\u001b[39m:\u001b[32m106\u001b[39m)\n  ammonite.$sess.cmd0$Helper$ChecksumAccumulator.<init>(\u001b[32mcmd0.sc\u001b[39m:\u001b[32m106\u001b[39m)\n  ammonite.$sess.cmd0$Helper$ChecksumAccumulator.<init>(\u001b[32mcmd0.sc\u001b[39m:\u001b[32m106\u001b[39m)\n  ammonite.$sess.cmd0$Helper$ChecksumAccumulator.<init>(\u001b[32mcmd0.sc\u001b[39m:\u001b[32m106\u001b[39m)\n  ammonite.$sess.cmd0$Helper$ChecksumAccumulator.<init>(\u001b[32mcmd0.sc\u001b[39m:\u001b[32m106\u001b[39m)\n  ammonite.$sess.cmd0$Helper$ChecksumAccumulator.<init>(\u001b[32mcmd0.sc\u001b[39m:\u001b[32m106\u001b[39m)\n  ammonite.$sess.cmd0$Helper$ChecksumAccumulator.<init>(\u001b[32mcmd0.sc\u001b[39m:\u001b[32m106\u001b[39m)\n  ammonite.$sess.cmd0$Helper$ChecksumAccumulator.<init>(\u001b[32mcmd0.sc\u001b[39m:\u001b[32m106\u001b[39m)\n  ammonite.$sess.cmd0$Helper$ChecksumAccumulator.<init>(\u001b[32mcmd0.sc\u001b[39m:\u001b[32m106\u001b[39m)\n  ammonite.$sess.cmd0$Helper$ChecksumAccumulator.<init>(\u001b[32mcmd0.sc\u001b[39m:\u001b[32m106\u001b[39m)\n  ammonite.$sess.cmd0$Helper$ChecksumAccumulator.<init>(\u001b[32mcmd0.sc\u001b[39m:\u001b[32m106\u001b[39m)\n  ammonite.$sess.cmd0$Helper$ChecksumAccumulator.<init>(\u001b[32mcmd0.sc\u001b[39m:\u001b[32m106\u001b[39m)\n  ammonite.$sess.cmd0$Helper$ChecksumAccumulator.<init>(\u001b[32mcmd0.sc\u001b[39m:\u001b[32m106\u001b[39m)\n  ammonite.$sess.cmd0$Helper$ChecksumAccumulator.<init>(\u001b[32mcmd0.sc\u001b[39m:\u001b[32m106\u001b[39m)\n  ammonite.$sess.cmd0$Helper$ChecksumAccumulator.<init>(\u001b[32mcmd0.sc\u001b[39m:\u001b[32m106\u001b[39m)\n  ammonite.$sess.cmd0$Helper$ChecksumAccumulator.<init>(\u001b[32mcmd0.sc\u001b[39m:\u001b[32m106\u001b[39m)\n  ammonite.$sess.cmd0$Helper$ChecksumAccumulator.<init>(\u001b[32mcmd0.sc\u001b[39m:\u001b[32m106\u001b[39m)\n  ammonite.$sess.cmd0$Helper$ChecksumAccumulator.<init>(\u001b[32mcmd0.sc\u001b[39m:\u001b[32m106\u001b[39m)\n  ammonite.$sess.cmd0$Helper$ChecksumAccumulator.<init>(\u001b[32mcmd0.sc\u001b[39m:\u001b[32m106\u001b[39m)\n  ammonite.$sess.cmd0$Helper$ChecksumAccumulator.<init>(\u001b[32mcmd0.sc\u001b[39m:\u001b[32m106\u001b[39m)\n  ammonite.$sess.cmd0$Helper$ChecksumAccumulator.<init>(\u001b[32mcmd0.sc\u001b[39m:\u001b[32m106\u001b[39m)\n  ammonite.$sess.cmd0$Helper$ChecksumAccumulator.<init>(\u001b[32mcmd0.sc\u001b[39m:\u001b[32m106\u001b[39m)\n  ammonite.$sess.cmd0$Helper$ChecksumAccumulator.<init>(\u001b[32mcmd0.sc\u001b[39m:\u001b[32m106\u001b[39m)\n  ammonite.$sess.cmd0$Helper$ChecksumAccumulator.<init>(\u001b[32mcmd0.sc\u001b[39m:\u001b[32m106\u001b[39m)\n  ammonite.$sess.cmd0$Helper$ChecksumAccumulator.<init>(\u001b[32mcmd0.sc\u001b[39m:\u001b[32m106\u001b[39m)\n  ammonite.$sess.cmd0$Helper$ChecksumAccumulator.<init>(\u001b[32mcmd0.sc\u001b[39m:\u001b[32m106\u001b[39m)\n  ammonite.$sess.cmd0$Helper$ChecksumAccumulator.<init>(\u001b[32mcmd0.sc\u001b[39m:\u001b[32m106\u001b[39m)\n  ammonite.$sess.cmd0$Helper$ChecksumAccumulator.<init>(\u001b[32mcmd0.sc\u001b[39m:\u001b[32m106\u001b[39m)\n  ammonite.$sess.cmd0$Helper$ChecksumAccumulator.<init>(\u001b[32mcmd0.sc\u001b[39m:\u001b[32m106\u001b[39m)\n  ammonite.$sess.cmd0$Helper$ChecksumAccumulator.<init>(\u001b[32mcmd0.sc\u001b[39m:\u001b[32m106\u001b[39m)\n  ammonite.$sess.cmd0$Helper$ChecksumAccumulator.<init>(\u001b[32mcmd0.sc\u001b[39m:\u001b[32m106\u001b[39m)\n  ammonite.$sess.cmd0$Helper$ChecksumAccumulator.<init>(\u001b[32mcmd0.sc\u001b[39m:\u001b[32m106\u001b[39m)\n  ammonite.$sess.cmd0$Helper$ChecksumAccumulator.<init>(\u001b[32mcmd0.sc\u001b[39m:\u001b[32m106\u001b[39m)\n  ammonite.$sess.cmd0$Helper$ChecksumAccumulator.<init>(\u001b[32mcmd0.sc\u001b[39m:\u001b[32m106\u001b[39m)\n  ammonite.$sess.cmd0$Helper$ChecksumAccumulator.<init>(\u001b[32mcmd0.sc\u001b[39m:\u001b[32m106\u001b[39m)\n  ammonite.$sess.cmd0$Helper$ChecksumAccumulator.<init>(\u001b[32mcmd0.sc\u001b[39m:\u001b[32m106\u001b[39m)\n  ammonite.$sess.cmd0$Helper$ChecksumAccumulator.<init>(\u001b[32mcmd0.sc\u001b[39m:\u001b[32m106\u001b[39m)\n  ammonite.$sess.cmd0$Helper$ChecksumAccumulator.<init>(\u001b[32mcmd0.sc\u001b[39m:\u001b[32m106\u001b[39m)\n  ammonite.$sess.cmd0$Helper$ChecksumAccumulator.<init>(\u001b[32mcmd0.sc\u001b[39m:\u001b[32m106\u001b[39m)\n  ammonite.$sess.cmd0$Helper$ChecksumAccumulator.<init>(\u001b[32mcmd0.sc\u001b[39m:\u001b[32m106\u001b[39m)\n  ammonite.$sess.cmd0$Helper$ChecksumAccumulator.<init>(\u001b[32mcmd0.sc\u001b[39m:\u001b[32m106\u001b[39m)\n  ammonite.$sess.cmd0$Helper$ChecksumAccumulator.<init>(\u001b[32mcmd0.sc\u001b[39m:\u001b[32m106\u001b[39m)\n  ammonite.$sess.cmd0$Helper$ChecksumAccumulator.<init>(\u001b[32mcmd0.sc\u001b[39m:\u001b[32m106\u001b[39m)\n  ammonite.$sess.cmd0$Helper$ChecksumAccumulator.<init>(\u001b[32mcmd0.sc\u001b[39m:\u001b[32m106\u001b[39m)\n  ammonite.$sess.cmd0$Helper$ChecksumAccumulator.<init>(\u001b[32mcmd0.sc\u001b[39m:\u001b[32m106\u001b[39m)\n  ammonite.$sess.cmd0$Helper$ChecksumAccumulator.<init>(\u001b[32mcmd0.sc\u001b[39m:\u001b[32m106\u001b[39m)\n  ammonite.$sess.cmd0$Helper$ChecksumAccumulator.<init>(\u001b[32mcmd0.sc\u001b[39m:\u001b[32m106\u001b[39m)\n  ammonite.$sess.cmd0$Helper$ChecksumAccumulator.<init>(\u001b[32mcmd0.sc\u001b[39m:\u001b[32m106\u001b[39m)\n  ammonite.$sess.cmd0$Helper$ChecksumAccumulator.<init>(\u001b[32mcmd0.sc\u001b[39m:\u001b[32m106\u001b[39m)\n  ammonite.$sess.cmd0$Helper$ChecksumAccumulator.<init>(\u001b[32mcmd0.sc\u001b[39m:\u001b[32m106\u001b[39m)\n  ammonite.$sess.cmd0$Helper$ChecksumAccumulator.<init>(\u001b[32mcmd0.sc\u001b[39m:\u001b[32m106\u001b[39m)\n  ammonite.$sess.cmd0$Helper$ChecksumAccumulator.<init>(\u001b[32mcmd0.sc\u001b[39m:\u001b[32m106\u001b[39m)\n  ammonite.$sess.cmd0$Helper$ChecksumAccumulator.<init>(\u001b[32mcmd0.sc\u001b[39m:\u001b[32m106\u001b[39m)\n  ammonite.$sess.cmd0$Helper$ChecksumAccumulator.<init>(\u001b[32mcmd0.sc\u001b[39m:\u001b[32m106\u001b[39m)\n  ammonite.$sess.cmd0$Helper$ChecksumAccumulator.<init>(\u001b[32mcmd0.sc\u001b[39m:\u001b[32m106\u001b[39m)\n  ammonite.$sess.cmd0$Helper$ChecksumAccumulator.<init>(\u001b[32mcmd0.sc\u001b[39m:\u001b[32m106\u001b[39m)\n  ammonite.$sess.cmd0$Helper$ChecksumAccumulator.<init>(\u001b[32mcmd0.sc\u001b[39m:\u001b[32m106\u001b[39m)\n  ammonite.$sess.cmd0$Helper$ChecksumAccumulator.<init>(\u001b[32mcmd0.sc\u001b[39m:\u001b[32m106\u001b[39m)\n  ammonite.$sess.cmd0$Helper$ChecksumAccumulator.<init>(\u001b[32mcmd0.sc\u001b[39m:\u001b[32m106\u001b[39m)\n  ammonite.$sess.cmd0$Helper$ChecksumAccumulator.<init>(\u001b[32mcmd0.sc\u001b[39m:\u001b[32m106\u001b[39m)\n  ammonite.$sess.cmd0$Helper$ChecksumAccumulator.<init>(\u001b[32mcmd0.sc\u001b[39m:\u001b[32m106\u001b[39m)\n  ammonite.$sess.cmd0$Helper$ChecksumAccumulator.<init>(\u001b[32mcmd0.sc\u001b[39m:\u001b[32m106\u001b[39m)\n  ammonite.$sess.cmd0$Helper$ChecksumAccumulator.<init>(\u001b[32mcmd0.sc\u001b[39m:\u001b[32m106\u001b[39m)\n  ammonite.$sess.cmd0$Helper$ChecksumAccumulator.<init>(\u001b[32mcmd0.sc\u001b[39m:\u001b[32m106\u001b[39m)\n  ammonite.$sess.cmd0$Helper$ChecksumAccumulator.<init>(\u001b[32mcmd0.sc\u001b[39m:\u001b[32m106\u001b[39m)\n  ammonite.$sess.cmd0$Helper$ChecksumAccumulator.<init>(\u001b[32mcmd0.sc\u001b[39m:\u001b[32m106\u001b[39m)\n  ammonite.$sess.cmd0$Helper$ChecksumAccumulator.<init>(\u001b[32mcmd0.sc\u001b[39m:\u001b[32m106\u001b[39m)\n  ammonite.$sess.cmd0$Helper$ChecksumAccumulator.<init>(\u001b[32mcmd0.sc\u001b[39m:\u001b[32m106\u001b[39m)\n  ammonite.$sess.cmd0$Helper$ChecksumAccumulator.<init>(\u001b[32mcmd0.sc\u001b[39m:\u001b[32m106\u001b[39m)\n  ammonite.$sess.cmd0$Helper$ChecksumAccumulator.<init>(\u001b[32mcmd0.sc\u001b[39m:\u001b[32m106\u001b[39m)\n  ammonite.$sess.cmd0$Helper$ChecksumAccumulator.<init>(\u001b[32mcmd0.sc\u001b[39m:\u001b[32m106\u001b[39m)\n  ammonite.$sess.cmd0$Helper$ChecksumAccumulator.<init>(\u001b[32mcmd0.sc\u001b[39m:\u001b[32m106\u001b[39m)\n  ammonite.$sess.cmd0$Helper$ChecksumAccumulator.<init>(\u001b[32mcmd0.sc\u001b[39m:\u001b[32m106\u001b[39m)\n  ammonite.$sess.cmd0$Helper$ChecksumAccumulator.<init>(\u001b[32mcmd0.sc\u001b[39m:\u001b[32m106\u001b[39m)\n  ammonite.$sess.cmd0$Helper$ChecksumAccumulator.<init>(\u001b[32mcmd0.sc\u001b[39m:\u001b[32m106\u001b[39m)\n  ammonite.$sess.cmd0$Helper$ChecksumAccumulator.<init>(\u001b[32mcmd0.sc\u001b[39m:\u001b[32m106\u001b[39m)\n  ammonite.$sess.cmd0$Helper$ChecksumAccumulator.<init>(\u001b[32mcmd0.sc\u001b[39m:\u001b[32m106\u001b[39m)\n  ammonite.$sess.cmd0$Helper$ChecksumAccumulator.<init>(\u001b[32mcmd0.sc\u001b[39m:\u001b[32m106\u001b[39m)\n  ammonite.$sess.cmd0$Helper$ChecksumAccumulator.<init>(\u001b[32mcmd0.sc\u001b[39m:\u001b[32m106\u001b[39m)\n  ammonite.$sess.cmd0$Helper$ChecksumAccumulator.<init>(\u001b[32mcmd0.sc\u001b[39m:\u001b[32m106\u001b[39m)\n  ammonite.$sess.cmd0$Helper$ChecksumAccumulator.<init>(\u001b[32mcmd0.sc\u001b[39m:\u001b[32m106\u001b[39m)\n  ammonite.$sess.cmd0$Helper$ChecksumAccumulator.<init>(\u001b[32mcmd0.sc\u001b[39m:\u001b[32m106\u001b[39m)\n  ammonite.$sess.cmd0$Helper$ChecksumAccumulator.<init>(\u001b[32mcmd0.sc\u001b[39m:\u001b[32m106\u001b[39m)\n  ammonite.$sess.cmd0$Helper$ChecksumAccumulator.<init>(\u001b[32mcmd0.sc\u001b[39m:\u001b[32m106\u001b[39m)\n  ammonite.$sess.cmd0$Helper$ChecksumAccumulator.<init>(\u001b[32mcmd0.sc\u001b[39m:\u001b[32m106\u001b[39m)\n  ammonite.$sess.cmd0$Helper$ChecksumAccumulator.<init>(\u001b[32mcmd0.sc\u001b[39m:\u001b[32m106\u001b[39m)\n  ammonite.$sess.cmd0$Helper$ChecksumAccumulator.<init>(\u001b[32mcmd0.sc\u001b[39m:\u001b[32m106\u001b[39m)\n  ammonite.$sess.cmd0$Helper$ChecksumAccumulator.<init>(\u001b[32mcmd0.sc\u001b[39m:\u001b[32m106\u001b[39m)\n  ammonite.$sess.cmd0$Helper$ChecksumAccumulator.<init>(\u001b[32mcmd0.sc\u001b[39m:\u001b[32m106\u001b[39m)\n  ammonite.$sess.cmd0$Helper$ChecksumAccumulator.<init>(\u001b[32mcmd0.sc\u001b[39m:\u001b[32m106\u001b[39m)\n  ammonite.$sess.cmd0$Helper$ChecksumAccumulator.<init>(\u001b[32mcmd0.sc\u001b[39m:\u001b[32m106\u001b[39m)\n  ammonite.$sess.cmd0$Helper$ChecksumAccumulator.<init>(\u001b[32mcmd0.sc\u001b[39m:\u001b[32m106\u001b[39m)\n  ammonite.$sess.cmd0$Helper$ChecksumAccumulator.<init>(\u001b[32mcmd0.sc\u001b[39m:\u001b[32m106\u001b[39m)\n  ammonite.$sess.cmd0$Helper$ChecksumAccumulator.<init>(\u001b[32mcmd0.sc\u001b[39m:\u001b[32m106\u001b[39m)\n  ammonite.$sess.cmd0$Helper$ChecksumAccumulator.<init>(\u001b[32mcmd0.sc\u001b[39m:\u001b[32m106\u001b[39m)\n  ammonite.$sess.cmd0$Helper$ChecksumAccumulator.<init>(\u001b[32mcmd0.sc\u001b[39m:\u001b[32m106\u001b[39m)\n  ammonite.$sess.cmd0$Helper$ChecksumAccumulator.<init>(\u001b[32mcmd0.sc\u001b[39m:\u001b[32m106\u001b[39m)\n  ammonite.$sess.cmd0$Helper$ChecksumAccumulator.<init>(\u001b[32mcmd0.sc\u001b[39m:\u001b[32m106\u001b[39m)\n  ammonite.$sess.cmd0$Helper$ChecksumAccumulator.<init>(\u001b[32mcmd0.sc\u001b[39m:\u001b[32m106\u001b[39m)\n  ammonite.$sess.cmd0$Helper$ChecksumAccumulator.<init>(\u001b[32mcmd0.sc\u001b[39m:\u001b[32m106\u001b[39m)\n  ammonite.$sess.cmd0$Helper$ChecksumAccumulator.<init>(\u001b[32mcmd0.sc\u001b[39m:\u001b[32m106\u001b[39m)\n  ammonite.$sess.cmd0$Helper$ChecksumAccumulator.<init>(\u001b[32mcmd0.sc\u001b[39m:\u001b[32m106\u001b[39m)\n  ammonite.$sess.cmd0$Helper$ChecksumAccumulator.<init>(\u001b[32mcmd0.sc\u001b[39m:\u001b[32m106\u001b[39m)\n  ammonite.$sess.cmd0$Helper$ChecksumAccumulator.<init>(\u001b[32mcmd0.sc\u001b[39m:\u001b[32m106\u001b[39m)\n  ammonite.$sess.cmd0$Helper$ChecksumAccumulator.<init>(\u001b[32mcmd0.sc\u001b[39m:\u001b[32m106\u001b[39m)\n  ammonite.$sess.cmd0$Helper$ChecksumAccumulator.<init>(\u001b[32mcmd0.sc\u001b[39m:\u001b[32m106\u001b[39m)\n  ammonite.$sess.cmd0$Helper$ChecksumAccumulator.<init>(\u001b[32mcmd0.sc\u001b[39m:\u001b[32m106\u001b[39m)\n  ammonite.$sess.cmd0$Helper$ChecksumAccumulator.<init>(\u001b[32mcmd0.sc\u001b[39m:\u001b[32m106\u001b[39m)\n  ammonite.$sess.cmd0$Helper$ChecksumAccumulator.<init>(\u001b[32mcmd0.sc\u001b[39m:\u001b[32m106\u001b[39m)\n  ammonite.$sess.cmd0$Helper$ChecksumAccumulator.<init>(\u001b[32mcmd0.sc\u001b[39m:\u001b[32m106\u001b[39m)\n  ammonite.$sess.cmd0$Helper$ChecksumAccumulator.<init>(\u001b[32mcmd0.sc\u001b[39m:\u001b[32m106\u001b[39m)\n  ammonite.$sess.cmd0$Helper$ChecksumAccumulator.<init>(\u001b[32mcmd0.sc\u001b[39m:\u001b[32m106\u001b[39m)\n  ammonite.$sess.cmd0$Helper$ChecksumAccumulator.<init>(\u001b[32mcmd0.sc\u001b[39m:\u001b[32m106\u001b[39m)\n  ammonite.$sess.cmd0$Helper$ChecksumAccumulator.<init>(\u001b[32mcmd0.sc\u001b[39m:\u001b[32m106\u001b[39m)\n  ammonite.$sess.cmd0$Helper$ChecksumAccumulator.<init>(\u001b[32mcmd0.sc\u001b[39m:\u001b[32m106\u001b[39m)\n  ammonite.$sess.cmd0$Helper$ChecksumAccumulator.<init>(\u001b[32mcmd0.sc\u001b[39m:\u001b[32m106\u001b[39m)\n  ammonite.$sess.cmd0$Helper$ChecksumAccumulator.<init>(\u001b[32mcmd0.sc\u001b[39m:\u001b[32m106\u001b[39m)\n  ammonite.$sess.cmd0$Helper$ChecksumAccumulator.<init>(\u001b[32mcmd0.sc\u001b[39m:\u001b[32m106\u001b[39m)\n  ammonite.$sess.cmd0$Helper$ChecksumAccumulator.<init>(\u001b[32mcmd0.sc\u001b[39m:\u001b[32m106\u001b[39m)\n  ammonite.$sess.cmd0$Helper$ChecksumAccumulator.<init>(\u001b[32mcmd0.sc\u001b[39m:\u001b[32m106\u001b[39m)\n  ammonite.$sess.cmd0$Helper$ChecksumAccumulator.<init>(\u001b[32mcmd0.sc\u001b[39m:\u001b[32m106\u001b[39m)\n  ammonite.$sess.cmd0$Helper$ChecksumAccumulator.<init>(\u001b[32mcmd0.sc\u001b[39m:\u001b[32m106\u001b[39m)\n  ammonite.$sess.cmd0$Helper$ChecksumAccumulator.<init>(\u001b[32mcmd0.sc\u001b[39m:\u001b[32m106\u001b[39m)\n  ammonite.$sess.cmd0$Helper$ChecksumAccumulator.<init>(\u001b[32mcmd0.sc\u001b[39m:\u001b[32m106\u001b[39m)\n  ammonite.$sess.cmd0$Helper$ChecksumAccumulator.<init>(\u001b[32mcmd0.sc\u001b[39m:\u001b[32m106\u001b[39m)\n  ammonite.$sess.cmd0$Helper$ChecksumAccumulator.<init>(\u001b[32mcmd0.sc\u001b[39m:\u001b[32m106\u001b[39m)\n  ammonite.$sess.cmd0$Helper$ChecksumAccumulator.<init>(\u001b[32mcmd0.sc\u001b[39m:\u001b[32m106\u001b[39m)\n  ammonite.$sess.cmd0$Helper$ChecksumAccumulator.<init>(\u001b[32mcmd0.sc\u001b[39m:\u001b[32m106\u001b[39m)\n  ammonite.$sess.cmd0$Helper$ChecksumAccumulator.<init>(\u001b[32mcmd0.sc\u001b[39m:\u001b[32m106\u001b[39m)\n  ammonite.$sess.cmd0$Helper$ChecksumAccumulator.<init>(\u001b[32mcmd0.sc\u001b[39m:\u001b[32m106\u001b[39m)\n  ammonite.$sess.cmd0$Helper$ChecksumAccumulator.<init>(\u001b[32mcmd0.sc\u001b[39m:\u001b[32m106\u001b[39m)\n  ammonite.$sess.cmd0$Helper$ChecksumAccumulator.<init>(\u001b[32mcmd0.sc\u001b[39m:\u001b[32m106\u001b[39m)\n  ammonite.$sess.cmd0$Helper$ChecksumAccumulator.<init>(\u001b[32mcmd0.sc\u001b[39m:\u001b[32m106\u001b[39m)\n  ammonite.$sess.cmd0$Helper$ChecksumAccumulator.<init>(\u001b[32mcmd0.sc\u001b[39m:\u001b[32m106\u001b[39m)\n  ammonite.$sess.cmd0$Helper$ChecksumAccumulator.<init>(\u001b[32mcmd0.sc\u001b[39m:\u001b[32m106\u001b[39m)\n  ammonite.$sess.cmd0$Helper$ChecksumAccumulator.<init>(\u001b[32mcmd0.sc\u001b[39m:\u001b[32m106\u001b[39m)\n  ammonite.$sess.cmd0$Helper$ChecksumAccumulator.<init>(\u001b[32mcmd0.sc\u001b[39m:\u001b[32m106\u001b[39m)\n  ammonite.$sess.cmd0$Helper$ChecksumAccumulator.<init>(\u001b[32mcmd0.sc\u001b[39m:\u001b[32m106\u001b[39m)\n  ammonite.$sess.cmd0$Helper$ChecksumAccumulator.<init>(\u001b[32mcmd0.sc\u001b[39m:\u001b[32m106\u001b[39m)\n  ammonite.$sess.cmd0$Helper$ChecksumAccumulator.<init>(\u001b[32mcmd0.sc\u001b[39m:\u001b[32m106\u001b[39m)\n  ammonite.$sess.cmd0$Helper$ChecksumAccumulator.<init>(\u001b[32mcmd0.sc\u001b[39m:\u001b[32m106\u001b[39m)\n  ammonite.$sess.cmd0$Helper$ChecksumAccumulator.<init>(\u001b[32mcmd0.sc\u001b[39m:\u001b[32m106\u001b[39m)\n  ammonite.$sess.cmd0$Helper$ChecksumAccumulator.<init>(\u001b[32mcmd0.sc\u001b[39m:\u001b[32m106\u001b[39m)\n  ammonite.$sess.cmd0$Helper$ChecksumAccumulator.<init>(\u001b[32mcmd0.sc\u001b[39m:\u001b[32m106\u001b[39m)\n  ammonite.$sess.cmd0$Helper$ChecksumAccumulator.<init>(\u001b[32mcmd0.sc\u001b[39m:\u001b[32m106\u001b[39m)\n  ammonite.$sess.cmd0$Helper$ChecksumAccumulator.<init>(\u001b[32mcmd0.sc\u001b[39m:\u001b[32m106\u001b[39m)\n  ammonite.$sess.cmd0$Helper$ChecksumAccumulator.<init>(\u001b[32mcmd0.sc\u001b[39m:\u001b[32m106\u001b[39m)\n  ammonite.$sess.cmd0$Helper$ChecksumAccumulator.<init>(\u001b[32mcmd0.sc\u001b[39m:\u001b[32m106\u001b[39m)\n  ammonite.$sess.cmd0$Helper$ChecksumAccumulator.<init>(\u001b[32mcmd0.sc\u001b[39m:\u001b[32m106\u001b[39m)\n  ammonite.$sess.cmd0$Helper$ChecksumAccumulator.<init>(\u001b[32mcmd0.sc\u001b[39m:\u001b[32m106\u001b[39m)\n  ammonite.$sess.cmd0$Helper$ChecksumAccumulator.<init>(\u001b[32mcmd0.sc\u001b[39m:\u001b[32m106\u001b[39m)\n  ammonite.$sess.cmd0$Helper$ChecksumAccumulator.<init>(\u001b[32mcmd0.sc\u001b[39m:\u001b[32m106\u001b[39m)\n  ammonite.$sess.cmd0$Helper$ChecksumAccumulator.<init>(\u001b[32mcmd0.sc\u001b[39m:\u001b[32m106\u001b[39m)\n  ammonite.$sess.cmd0$Helper$ChecksumAccumulator.<init>(\u001b[32mcmd0.sc\u001b[39m:\u001b[32m106\u001b[39m)\n  ammonite.$sess.cmd0$Helper$ChecksumAccumulator.<init>(\u001b[32mcmd0.sc\u001b[39m:\u001b[32m106\u001b[39m)\n  ammonite.$sess.cmd0$Helper$ChecksumAccumulator.<init>(\u001b[32mcmd0.sc\u001b[39m:\u001b[32m106\u001b[39m)\n  ammonite.$sess.cmd0$Helper$ChecksumAccumulator.<init>(\u001b[32mcmd0.sc\u001b[39m:\u001b[32m106\u001b[39m)\n  ammonite.$sess.cmd0$Helper$ChecksumAccumulator.<init>(\u001b[32mcmd0.sc\u001b[39m:\u001b[32m106\u001b[39m)\n  ammonite.$sess.cmd0$Helper$ChecksumAccumulator.<init>(\u001b[32mcmd0.sc\u001b[39m:\u001b[32m106\u001b[39m)\n  ammonite.$sess.cmd0$Helper$ChecksumAccumulator.<init>(\u001b[32mcmd0.sc\u001b[39m:\u001b[32m106\u001b[39m)\n  ammonite.$sess.cmd0$Helper$ChecksumAccumulator.<init>(\u001b[32mcmd0.sc\u001b[39m:\u001b[32m106\u001b[39m)\n  ammonite.$sess.cmd0$Helper$ChecksumAccumulator.<init>(\u001b[32mcmd0.sc\u001b[39m:\u001b[32m106\u001b[39m)\n  ammonite.$sess.cmd0$Helper$ChecksumAccumulator.<init>(\u001b[32mcmd0.sc\u001b[39m:\u001b[32m106\u001b[39m)\n  ammonite.$sess.cmd0$Helper$ChecksumAccumulator.<init>(\u001b[32mcmd0.sc\u001b[39m:\u001b[32m106\u001b[39m)\n  ammonite.$sess.cmd0$Helper$ChecksumAccumulator.<init>(\u001b[32mcmd0.sc\u001b[39m:\u001b[32m106\u001b[39m)\n  ammonite.$sess.cmd0$Helper$ChecksumAccumulator.<init>(\u001b[32mcmd0.sc\u001b[39m:\u001b[32m106\u001b[39m)\n  ammonite.$sess.cmd0$Helper$ChecksumAccumulator.<init>(\u001b[32mcmd0.sc\u001b[39m:\u001b[32m106\u001b[39m)\n  ammonite.$sess.cmd0$Helper$ChecksumAccumulator.<init>(\u001b[32mcmd0.sc\u001b[39m:\u001b[32m106\u001b[39m)\n  ammonite.$sess.cmd0$Helper$ChecksumAccumulator.<init>(\u001b[32mcmd0.sc\u001b[39m:\u001b[32m106\u001b[39m)\n  ammonite.$sess.cmd0$Helper$ChecksumAccumulator.<init>(\u001b[32mcmd0.sc\u001b[39m:\u001b[32m106\u001b[39m)\n  ammonite.$sess.cmd0$Helper$ChecksumAccumulator.<init>(\u001b[32mcmd0.sc\u001b[39m:\u001b[32m106\u001b[39m)\n  ammonite.$sess.cmd0$Helper$ChecksumAccumulator.<init>(\u001b[32mcmd0.sc\u001b[39m:\u001b[32m106\u001b[39m)\n  ammonite.$sess.cmd0$Helper$ChecksumAccumulator.<init>(\u001b[32mcmd0.sc\u001b[39m:\u001b[32m106\u001b[39m)\n  ammonite.$sess.cmd0$Helper$ChecksumAccumulator.<init>(\u001b[32mcmd0.sc\u001b[39m:\u001b[32m106\u001b[39m)\n  ammonite.$sess.cmd0$Helper$ChecksumAccumulator.<init>(\u001b[32mcmd0.sc\u001b[39m:\u001b[32m106\u001b[39m)\n  ammonite.$sess.cmd0$Helper$ChecksumAccumulator.<init>(\u001b[32mcmd0.sc\u001b[39m:\u001b[32m106\u001b[39m)\n  ammonite.$sess.cmd0$Helper$ChecksumAccumulator.<init>(\u001b[32mcmd0.sc\u001b[39m:\u001b[32m106\u001b[39m)\n  ammonite.$sess.cmd0$Helper$ChecksumAccumulator.<init>(\u001b[32mcmd0.sc\u001b[39m:\u001b[32m106\u001b[39m)\n  ammonite.$sess.cmd0$Helper$ChecksumAccumulator.<init>(\u001b[32mcmd0.sc\u001b[39m:\u001b[32m106\u001b[39m)\n  ammonite.$sess.cmd0$Helper$ChecksumAccumulator.<init>(\u001b[32mcmd0.sc\u001b[39m:\u001b[32m106\u001b[39m)\n  ammonite.$sess.cmd0$Helper$ChecksumAccumulator.<init>(\u001b[32mcmd0.sc\u001b[39m:\u001b[32m106\u001b[39m)\n  ammonite.$sess.cmd0$Helper$ChecksumAccumulator.<init>(\u001b[32mcmd0.sc\u001b[39m:\u001b[32m106\u001b[39m)\n  ammonite.$sess.cmd0$Helper$ChecksumAccumulator.<init>(\u001b[32mcmd0.sc\u001b[39m:\u001b[32m106\u001b[39m)\n  ammonite.$sess.cmd0$Helper$ChecksumAccumulator.<init>(\u001b[32mcmd0.sc\u001b[39m:\u001b[32m106\u001b[39m)\n  ammonite.$sess.cmd0$Helper$ChecksumAccumulator.<init>(\u001b[32mcmd0.sc\u001b[39m:\u001b[32m106\u001b[39m)\n  ammonite.$sess.cmd0$Helper$ChecksumAccumulator.<init>(\u001b[32mcmd0.sc\u001b[39m:\u001b[32m106\u001b[39m)\n  ammonite.$sess.cmd0$Helper$ChecksumAccumulator.<init>(\u001b[32mcmd0.sc\u001b[39m:\u001b[32m106\u001b[39m)\n  ammonite.$sess.cmd0$Helper$ChecksumAccumulator.<init>(\u001b[32mcmd0.sc\u001b[39m:\u001b[32m106\u001b[39m)\n  ammonite.$sess.cmd0$Helper$ChecksumAccumulator.<init>(\u001b[32mcmd0.sc\u001b[39m:\u001b[32m106\u001b[39m)\n  ammonite.$sess.cmd0$Helper$ChecksumAccumulator.<init>(\u001b[32mcmd0.sc\u001b[39m:\u001b[32m106\u001b[39m)\n  ammonite.$sess.cmd0$Helper$ChecksumAccumulator.<init>(\u001b[32mcmd0.sc\u001b[39m:\u001b[32m106\u001b[39m)\n  ammonite.$sess.cmd0$Helper$ChecksumAccumulator.<init>(\u001b[32mcmd0.sc\u001b[39m:\u001b[32m106\u001b[39m)\n  ammonite.$sess.cmd0$Helper$ChecksumAccumulator.<init>(\u001b[32mcmd0.sc\u001b[39m:\u001b[32m106\u001b[39m)\n  ammonite.$sess.cmd0$Helper$ChecksumAccumulator.<init>(\u001b[32mcmd0.sc\u001b[39m:\u001b[32m106\u001b[39m)\n  ammonite.$sess.cmd0$Helper$ChecksumAccumulator.<init>(\u001b[32mcmd0.sc\u001b[39m:\u001b[32m106\u001b[39m)\n  ammonite.$sess.cmd0$Helper$ChecksumAccumulator.<init>(\u001b[32mcmd0.sc\u001b[39m:\u001b[32m106\u001b[39m)\n  ammonite.$sess.cmd0$Helper$ChecksumAccumulator.<init>(\u001b[32mcmd0.sc\u001b[39m:\u001b[32m106\u001b[39m)\n  ammonite.$sess.cmd0$Helper$ChecksumAccumulator.<init>(\u001b[32mcmd0.sc\u001b[39m:\u001b[32m106\u001b[39m)\n  ammonite.$sess.cmd0$Helper$ChecksumAccumulator.<init>(\u001b[32mcmd0.sc\u001b[39m:\u001b[32m106\u001b[39m)\n  ammonite.$sess.cmd0$Helper$ChecksumAccumulator.<init>(\u001b[32mcmd0.sc\u001b[39m:\u001b[32m106\u001b[39m)\n  ammonite.$sess.cmd0$Helper$ChecksumAccumulator.<init>(\u001b[32mcmd0.sc\u001b[39m:\u001b[32m106\u001b[39m)\n  ammonite.$sess.cmd0$Helper$ChecksumAccumulator.<init>(\u001b[32mcmd0.sc\u001b[39m:\u001b[32m106\u001b[39m)\n  ammonite.$sess.cmd0$Helper$ChecksumAccumulator.<init>(\u001b[32mcmd0.sc\u001b[39m:\u001b[32m106\u001b[39m)\n  ammonite.$sess.cmd0$Helper$ChecksumAccumulator.<init>(\u001b[32mcmd0.sc\u001b[39m:\u001b[32m106\u001b[39m)\n  ammonite.$sess.cmd0$Helper$ChecksumAccumulator.<init>(\u001b[32mcmd0.sc\u001b[39m:\u001b[32m106\u001b[39m)\n  ammonite.$sess.cmd0$Helper$ChecksumAccumulator.<init>(\u001b[32mcmd0.sc\u001b[39m:\u001b[32m106\u001b[39m)\n  ammonite.$sess.cmd0$Helper$ChecksumAccumulator.<init>(\u001b[32mcmd0.sc\u001b[39m:\u001b[32m106\u001b[39m)\n  ammonite.$sess.cmd0$Helper$ChecksumAccumulator.<init>(\u001b[32mcmd0.sc\u001b[39m:\u001b[32m106\u001b[39m)\n  ammonite.$sess.cmd0$Helper$ChecksumAccumulator.<init>(\u001b[32mcmd0.sc\u001b[39m:\u001b[32m106\u001b[39m)\n  ammonite.$sess.cmd0$Helper$ChecksumAccumulator.<init>(\u001b[32mcmd0.sc\u001b[39m:\u001b[32m106\u001b[39m)\n  ammonite.$sess.cmd0$Helper$ChecksumAccumulator.<init>(\u001b[32mcmd0.sc\u001b[39m:\u001b[32m106\u001b[39m)\n  ammonite.$sess.cmd0$Helper$ChecksumAccumulator.<init>(\u001b[32mcmd0.sc\u001b[39m:\u001b[32m106\u001b[39m)\n  ammonite.$sess.cmd0$Helper$ChecksumAccumulator.<init>(\u001b[32mcmd0.sc\u001b[39m:\u001b[32m106\u001b[39m)\n  ammonite.$sess.cmd0$Helper$ChecksumAccumulator.<init>(\u001b[32mcmd0.sc\u001b[39m:\u001b[32m106\u001b[39m)\n  ammonite.$sess.cmd0$Helper$ChecksumAccumulator.<init>(\u001b[32mcmd0.sc\u001b[39m:\u001b[32m106\u001b[39m)\n  ammonite.$sess.cmd0$Helper$ChecksumAccumulator.<init>(\u001b[32mcmd0.sc\u001b[39m:\u001b[32m106\u001b[39m)\n  ammonite.$sess.cmd0$Helper$ChecksumAccumulator.<init>(\u001b[32mcmd0.sc\u001b[39m:\u001b[32m106\u001b[39m)\n  ammonite.$sess.cmd0$Helper$ChecksumAccumulator.<init>(\u001b[32mcmd0.sc\u001b[39m:\u001b[32m106\u001b[39m)\n  ammonite.$sess.cmd0$Helper$ChecksumAccumulator.<init>(\u001b[32mcmd0.sc\u001b[39m:\u001b[32m106\u001b[39m)\n  ammonite.$sess.cmd0$Helper$ChecksumAccumulator.<init>(\u001b[32mcmd0.sc\u001b[39m:\u001b[32m106\u001b[39m)\n  ammonite.$sess.cmd0$Helper$ChecksumAccumulator.<init>(\u001b[32mcmd0.sc\u001b[39m:\u001b[32m106\u001b[39m)\n  ammonite.$sess.cmd0$Helper$ChecksumAccumulator.<init>(\u001b[32mcmd0.sc\u001b[39m:\u001b[32m106\u001b[39m)\n  ammonite.$sess.cmd0$Helper$ChecksumAccumulator.<init>(\u001b[32mcmd0.sc\u001b[39m:\u001b[32m106\u001b[39m)\n  ammonite.$sess.cmd0$Helper$ChecksumAccumulator.<init>(\u001b[32mcmd0.sc\u001b[39m:\u001b[32m106\u001b[39m)\n  ammonite.$sess.cmd0$Helper$ChecksumAccumulator.<init>(\u001b[32mcmd0.sc\u001b[39m:\u001b[32m106\u001b[39m)\n  ammonite.$sess.cmd0$Helper$ChecksumAccumulator.<init>(\u001b[32mcmd0.sc\u001b[39m:\u001b[32m106\u001b[39m)\n  ammonite.$sess.cmd0$Helper$ChecksumAccumulator.<init>(\u001b[32mcmd0.sc\u001b[39m:\u001b[32m106\u001b[39m)\n  ammonite.$sess.cmd0$Helper$ChecksumAccumulator.<init>(\u001b[32mcmd0.sc\u001b[39m:\u001b[32m106\u001b[39m)\n  ammonite.$sess.cmd0$Helper$ChecksumAccumulator.<init>(\u001b[32mcmd0.sc\u001b[39m:\u001b[32m106\u001b[39m)\n  ammonite.$sess.cmd0$Helper$ChecksumAccumulator.<init>(\u001b[32mcmd0.sc\u001b[39m:\u001b[32m106\u001b[39m)\n  ammonite.$sess.cmd0$Helper$ChecksumAccumulator.<init>(\u001b[32mcmd0.sc\u001b[39m:\u001b[32m106\u001b[39m)\n  ammonite.$sess.cmd0$Helper$ChecksumAccumulator.<init>(\u001b[32mcmd0.sc\u001b[39m:\u001b[32m106\u001b[39m)\n  ammonite.$sess.cmd0$Helper$ChecksumAccumulator.<init>(\u001b[32mcmd0.sc\u001b[39m:\u001b[32m106\u001b[39m)\n  ammonite.$sess.cmd0$Helper$ChecksumAccumulator.<init>(\u001b[32mcmd0.sc\u001b[39m:\u001b[32m106\u001b[39m)\n  ammonite.$sess.cmd0$Helper$ChecksumAccumulator.<init>(\u001b[32mcmd0.sc\u001b[39m:\u001b[32m106\u001b[39m)\n  ammonite.$sess.cmd0$Helper$ChecksumAccumulator.<init>(\u001b[32mcmd0.sc\u001b[39m:\u001b[32m106\u001b[39m)\n  ammonite.$sess.cmd0$Helper$ChecksumAccumulator.<init>(\u001b[32mcmd0.sc\u001b[39m:\u001b[32m106\u001b[39m)\n  ammonite.$sess.cmd0$Helper$ChecksumAccumulator.<init>(\u001b[32mcmd0.sc\u001b[39m:\u001b[32m106\u001b[39m)\n  ammonite.$sess.cmd0$Helper$ChecksumAccumulator.<init>(\u001b[32mcmd0.sc\u001b[39m:\u001b[32m106\u001b[39m)\n  ammonite.$sess.cmd0$Helper$ChecksumAccumulator.<init>(\u001b[32mcmd0.sc\u001b[39m:\u001b[32m106\u001b[39m)\n  ammonite.$sess.cmd0$Helper$ChecksumAccumulator.<init>(\u001b[32mcmd0.sc\u001b[39m:\u001b[32m106\u001b[39m)\n  ammonite.$sess.cmd0$Helper$ChecksumAccumulator.<init>(\u001b[32mcmd0.sc\u001b[39m:\u001b[32m106\u001b[39m)\n  ammonite.$sess.cmd0$Helper$ChecksumAccumulator.<init>(\u001b[32mcmd0.sc\u001b[39m:\u001b[32m106\u001b[39m)\n  ammonite.$sess.cmd0$Helper$ChecksumAccumulator.<init>(\u001b[32mcmd0.sc\u001b[39m:\u001b[32m106\u001b[39m)\n  ammonite.$sess.cmd0$Helper$ChecksumAccumulator.<init>(\u001b[32mcmd0.sc\u001b[39m:\u001b[32m106\u001b[39m)\n  ammonite.$sess.cmd0$Helper$ChecksumAccumulator.<init>(\u001b[32mcmd0.sc\u001b[39m:\u001b[32m106\u001b[39m)\n  ammonite.$sess.cmd0$Helper$ChecksumAccumulator.<init>(\u001b[32mcmd0.sc\u001b[39m:\u001b[32m106\u001b[39m)\n  ammonite.$sess.cmd0$Helper$ChecksumAccumulator.<init>(\u001b[32mcmd0.sc\u001b[39m:\u001b[32m106\u001b[39m)\n  ammonite.$sess.cmd0$Helper$ChecksumAccumulator.<init>(\u001b[32mcmd0.sc\u001b[39m:\u001b[32m106\u001b[39m)\n  ammonite.$sess.cmd0$Helper$ChecksumAccumulator.<init>(\u001b[32mcmd0.sc\u001b[39m:\u001b[32m106\u001b[39m)\n  ammonite.$sess.cmd0$Helper$ChecksumAccumulator.<init>(\u001b[32mcmd0.sc\u001b[39m:\u001b[32m106\u001b[39m)\n  ammonite.$sess.cmd0$Helper$ChecksumAccumulator.<init>(\u001b[32mcmd0.sc\u001b[39m:\u001b[32m106\u001b[39m)\n  ammonite.$sess.cmd0$Helper$ChecksumAccumulator.<init>(\u001b[32mcmd0.sc\u001b[39m:\u001b[32m106\u001b[39m)\n  ammonite.$sess.cmd0$Helper$ChecksumAccumulator.<init>(\u001b[32mcmd0.sc\u001b[39m:\u001b[32m106\u001b[39m)\n  ammonite.$sess.cmd0$Helper$ChecksumAccumulator.<init>(\u001b[32mcmd0.sc\u001b[39m:\u001b[32m106\u001b[39m)\n  ammonite.$sess.cmd0$Helper$ChecksumAccumulator.<init>(\u001b[32mcmd0.sc\u001b[39m:\u001b[32m106\u001b[39m)\n  ammonite.$sess.cmd0$Helper$ChecksumAccumulator.<init>(\u001b[32mcmd0.sc\u001b[39m:\u001b[32m106\u001b[39m)\n  ammonite.$sess.cmd0$Helper$ChecksumAccumulator.<init>(\u001b[32mcmd0.sc\u001b[39m:\u001b[32m106\u001b[39m)\n  ammonite.$sess.cmd0$Helper$ChecksumAccumulator.<init>(\u001b[32mcmd0.sc\u001b[39m:\u001b[32m106\u001b[39m)\n  ammonite.$sess.cmd0$Helper$ChecksumAccumulator.<init>(\u001b[32mcmd0.sc\u001b[39m:\u001b[32m106\u001b[39m)\n  ammonite.$sess.cmd0$Helper$ChecksumAccumulator.<init>(\u001b[32mcmd0.sc\u001b[39m:\u001b[32m106\u001b[39m)\n  ammonite.$sess.cmd0$Helper$ChecksumAccumulator.<init>(\u001b[32mcmd0.sc\u001b[39m:\u001b[32m106\u001b[39m)\n  ammonite.$sess.cmd0$Helper$ChecksumAccumulator.<init>(\u001b[32mcmd0.sc\u001b[39m:\u001b[32m106\u001b[39m)\n  ammonite.$sess.cmd0$Helper$ChecksumAccumulator.<init>(\u001b[32mcmd0.sc\u001b[39m:\u001b[32m106\u001b[39m)\n  ammonite.$sess.cmd0$Helper$ChecksumAccumulator.<init>(\u001b[32mcmd0.sc\u001b[39m:\u001b[32m106\u001b[39m)\n  ammonite.$sess.cmd0$Helper$ChecksumAccumulator.<init>(\u001b[32mcmd0.sc\u001b[39m:\u001b[32m106\u001b[39m)\n  ammonite.$sess.cmd0$Helper$ChecksumAccumulator.<init>(\u001b[32mcmd0.sc\u001b[39m:\u001b[32m106\u001b[39m)\n  ammonite.$sess.cmd0$Helper$ChecksumAccumulator.<init>(\u001b[32mcmd0.sc\u001b[39m:\u001b[32m106\u001b[39m)\n  ammonite.$sess.cmd0$Helper$ChecksumAccumulator.<init>(\u001b[32mcmd0.sc\u001b[39m:\u001b[32m106\u001b[39m)\n  ammonite.$sess.cmd0$Helper$ChecksumAccumulator.<init>(\u001b[32mcmd0.sc\u001b[39m:\u001b[32m106\u001b[39m)\n  ammonite.$sess.cmd0$Helper$ChecksumAccumulator.<init>(\u001b[32mcmd0.sc\u001b[39m:\u001b[32m106\u001b[39m)\n  ammonite.$sess.cmd0$Helper$ChecksumAccumulator.<init>(\u001b[32mcmd0.sc\u001b[39m:\u001b[32m106\u001b[39m)\n  ammonite.$sess.cmd0$Helper$ChecksumAccumulator.<init>(\u001b[32mcmd0.sc\u001b[39m:\u001b[32m106\u001b[39m)\n  ammonite.$sess.cmd0$Helper$ChecksumAccumulator.<init>(\u001b[32mcmd0.sc\u001b[39m:\u001b[32m106\u001b[39m)\n  ammonite.$sess.cmd0$Helper$ChecksumAccumulator.<init>(\u001b[32mcmd0.sc\u001b[39m:\u001b[32m106\u001b[39m)\n  ammonite.$sess.cmd0$Helper$ChecksumAccumulator.<init>(\u001b[32mcmd0.sc\u001b[39m:\u001b[32m106\u001b[39m)\n  ammonite.$sess.cmd0$Helper$ChecksumAccumulator.<init>(\u001b[32mcmd0.sc\u001b[39m:\u001b[32m106\u001b[39m)\n  ammonite.$sess.cmd0$Helper$ChecksumAccumulator.<init>(\u001b[32mcmd0.sc\u001b[39m:\u001b[32m106\u001b[39m)\n  ammonite.$sess.cmd0$Helper$ChecksumAccumulator.<init>(\u001b[32mcmd0.sc\u001b[39m:\u001b[32m106\u001b[39m)\n  ammonite.$sess.cmd0$Helper$ChecksumAccumulator.<init>(\u001b[32mcmd0.sc\u001b[39m:\u001b[32m106\u001b[39m)\n  ammonite.$sess.cmd0$Helper$ChecksumAccumulator.<init>(\u001b[32mcmd0.sc\u001b[39m:\u001b[32m106\u001b[39m)\n  ammonite.$sess.cmd0$Helper$ChecksumAccumulator.<init>(\u001b[32mcmd0.sc\u001b[39m:\u001b[32m106\u001b[39m)\n  ammonite.$sess.cmd0$Helper$ChecksumAccumulator.<init>(\u001b[32mcmd0.sc\u001b[39m:\u001b[32m106\u001b[39m)\n  ammonite.$sess.cmd0$Helper$ChecksumAccumulator.<init>(\u001b[32mcmd0.sc\u001b[39m:\u001b[32m106\u001b[39m)\n  ammonite.$sess.cmd0$Helper$ChecksumAccumulator.<init>(\u001b[32mcmd0.sc\u001b[39m:\u001b[32m106\u001b[39m)\n  ammonite.$sess.cmd0$Helper$ChecksumAccumulator.<init>(\u001b[32mcmd0.sc\u001b[39m:\u001b[32m106\u001b[39m)\n  ammonite.$sess.cmd0$Helper$ChecksumAccumulator.<init>(\u001b[32mcmd0.sc\u001b[39m:\u001b[32m106\u001b[39m)\n  ammonite.$sess.cmd0$Helper$ChecksumAccumulator.<init>(\u001b[32mcmd0.sc\u001b[39m:\u001b[32m106\u001b[39m)\n  ammonite.$sess.cmd0$Helper$ChecksumAccumulator.<init>(\u001b[32mcmd0.sc\u001b[39m:\u001b[32m106\u001b[39m)\n  ammonite.$sess.cmd0$Helper$ChecksumAccumulator.<init>(\u001b[32mcmd0.sc\u001b[39m:\u001b[32m106\u001b[39m)\n  ammonite.$sess.cmd0$Helper$ChecksumAccumulator.<init>(\u001b[32mcmd0.sc\u001b[39m:\u001b[32m106\u001b[39m)\n  ammonite.$sess.cmd0$Helper$ChecksumAccumulator.<init>(\u001b[32mcmd0.sc\u001b[39m:\u001b[32m106\u001b[39m)\n  ammonite.$sess.cmd0$Helper$ChecksumAccumulator.<init>(\u001b[32mcmd0.sc\u001b[39m:\u001b[32m106\u001b[39m)\n  ammonite.$sess.cmd0$Helper$ChecksumAccumulator.<init>(\u001b[32mcmd0.sc\u001b[39m:\u001b[32m106\u001b[39m)\n  ammonite.$sess.cmd0$Helper$ChecksumAccumulator.<init>(\u001b[32mcmd0.sc\u001b[39m:\u001b[32m106\u001b[39m)\n  ammonite.$sess.cmd0$Helper$ChecksumAccumulator.<init>(\u001b[32mcmd0.sc\u001b[39m:\u001b[32m106\u001b[39m)\n  ammonite.$sess.cmd0$Helper$ChecksumAccumulator.<init>(\u001b[32mcmd0.sc\u001b[39m:\u001b[32m106\u001b[39m)\n  ammonite.$sess.cmd0$Helper$ChecksumAccumulator.<init>(\u001b[32mcmd0.sc\u001b[39m:\u001b[32m106\u001b[39m)\n  ammonite.$sess.cmd0$Helper$ChecksumAccumulator.<init>(\u001b[32mcmd0.sc\u001b[39m:\u001b[32m106\u001b[39m)\n  ammonite.$sess.cmd0$Helper$ChecksumAccumulator.<init>(\u001b[32mcmd0.sc\u001b[39m:\u001b[32m106\u001b[39m)\n  ammonite.$sess.cmd0$Helper$ChecksumAccumulator.<init>(\u001b[32mcmd0.sc\u001b[39m:\u001b[32m106\u001b[39m)\n  ammonite.$sess.cmd0$Helper$ChecksumAccumulator.<init>(\u001b[32mcmd0.sc\u001b[39m:\u001b[32m106\u001b[39m)\n  ammonite.$sess.cmd0$Helper$ChecksumAccumulator.<init>(\u001b[32mcmd0.sc\u001b[39m:\u001b[32m106\u001b[39m)\n  ammonite.$sess.cmd0$Helper$ChecksumAccumulator.<init>(\u001b[32mcmd0.sc\u001b[39m:\u001b[32m106\u001b[39m)\n  ammonite.$sess.cmd0$Helper$ChecksumAccumulator.<init>(\u001b[32mcmd0.sc\u001b[39m:\u001b[32m106\u001b[39m)\n  ammonite.$sess.cmd0$Helper$ChecksumAccumulator.<init>(\u001b[32mcmd0.sc\u001b[39m:\u001b[32m106\u001b[39m)\n  ammonite.$sess.cmd0$Helper$ChecksumAccumulator.<init>(\u001b[32mcmd0.sc\u001b[39m:\u001b[32m106\u001b[39m)\n  ammonite.$sess.cmd0$Helper$ChecksumAccumulator.<init>(\u001b[32mcmd0.sc\u001b[39m:\u001b[32m106\u001b[39m)\n  ammonite.$sess.cmd0$Helper$ChecksumAccumulator.<init>(\u001b[32mcmd0.sc\u001b[39m:\u001b[32m106\u001b[39m)\n  ammonite.$sess.cmd0$Helper$ChecksumAccumulator.<init>(\u001b[32mcmd0.sc\u001b[39m:\u001b[32m106\u001b[39m)\n  ammonite.$sess.cmd0$Helper$ChecksumAccumulator.<init>(\u001b[32mcmd0.sc\u001b[39m:\u001b[32m106\u001b[39m)\n  ammonite.$sess.cmd0$Helper$ChecksumAccumulator.<init>(\u001b[32mcmd0.sc\u001b[39m:\u001b[32m106\u001b[39m)\n  ammonite.$sess.cmd0$Helper$ChecksumAccumulator.<init>(\u001b[32mcmd0.sc\u001b[39m:\u001b[32m106\u001b[39m)\n  ammonite.$sess.cmd0$Helper$ChecksumAccumulator.<init>(\u001b[32mcmd0.sc\u001b[39m:\u001b[32m106\u001b[39m)\n  ammonite.$sess.cmd0$Helper$ChecksumAccumulator.<init>(\u001b[32mcmd0.sc\u001b[39m:\u001b[32m106\u001b[39m)\n  ammonite.$sess.cmd0$Helper$ChecksumAccumulator.<init>(\u001b[32mcmd0.sc\u001b[39m:\u001b[32m106\u001b[39m)\n  ammonite.$sess.cmd0$Helper$ChecksumAccumulator.<init>(\u001b[32mcmd0.sc\u001b[39m:\u001b[32m106\u001b[39m)\n  ammonite.$sess.cmd0$Helper$ChecksumAccumulator.<init>(\u001b[32mcmd0.sc\u001b[39m:\u001b[32m106\u001b[39m)\n  ammonite.$sess.cmd0$Helper$ChecksumAccumulator.<init>(\u001b[32mcmd0.sc\u001b[39m:\u001b[32m106\u001b[39m)\n  ammonite.$sess.cmd0$Helper$ChecksumAccumulator.<init>(\u001b[32mcmd0.sc\u001b[39m:\u001b[32m106\u001b[39m)\n  ammonite.$sess.cmd0$Helper$ChecksumAccumulator.<init>(\u001b[32mcmd0.sc\u001b[39m:\u001b[32m106\u001b[39m)\n  ammonite.$sess.cmd0$Helper$ChecksumAccumulator.<init>(\u001b[32mcmd0.sc\u001b[39m:\u001b[32m106\u001b[39m)\n  ammonite.$sess.cmd0$Helper$ChecksumAccumulator.<init>(\u001b[32mcmd0.sc\u001b[39m:\u001b[32m106\u001b[39m)\n  ammonite.$sess.cmd0$Helper$ChecksumAccumulator.<init>(\u001b[32mcmd0.sc\u001b[39m:\u001b[32m106\u001b[39m)\n  ammonite.$sess.cmd0$Helper$ChecksumAccumulator.<init>(\u001b[32mcmd0.sc\u001b[39m:\u001b[32m106\u001b[39m)\n  ammonite.$sess.cmd0$Helper$ChecksumAccumulator.<init>(\u001b[32mcmd0.sc\u001b[39m:\u001b[32m106\u001b[39m)\n  ammonite.$sess.cmd0$Helper$ChecksumAccumulator.<init>(\u001b[32mcmd0.sc\u001b[39m:\u001b[32m106\u001b[39m)\n  ammonite.$sess.cmd0$Helper$ChecksumAccumulator.<init>(\u001b[32mcmd0.sc\u001b[39m:\u001b[32m106\u001b[39m)\n  ammonite.$sess.cmd0$Helper$ChecksumAccumulator.<init>(\u001b[32mcmd0.sc\u001b[39m:\u001b[32m106\u001b[39m)\n  ammonite.$sess.cmd0$Helper$ChecksumAccumulator.<init>(\u001b[32mcmd0.sc\u001b[39m:\u001b[32m106\u001b[39m)\n  ammonite.$sess.cmd0$Helper$ChecksumAccumulator.<init>(\u001b[32mcmd0.sc\u001b[39m:\u001b[32m106\u001b[39m)\n  ammonite.$sess.cmd0$Helper$ChecksumAccumulator.<init>(\u001b[32mcmd0.sc\u001b[39m:\u001b[32m106\u001b[39m)\n  ammonite.$sess.cmd0$Helper$ChecksumAccumulator.<init>(\u001b[32mcmd0.sc\u001b[39m:\u001b[32m106\u001b[39m)\n  ammonite.$sess.cmd0$Helper$ChecksumAccumulator.<init>(\u001b[32mcmd0.sc\u001b[39m:\u001b[32m106\u001b[39m)\n  ammonite.$sess.cmd0$Helper$ChecksumAccumulator.<init>(\u001b[32mcmd0.sc\u001b[39m:\u001b[32m106\u001b[39m)\n  ammonite.$sess.cmd0$Helper$ChecksumAccumulator.<init>(\u001b[32mcmd0.sc\u001b[39m:\u001b[32m106\u001b[39m)\n  ammonite.$sess.cmd0$Helper$ChecksumAccumulator.<init>(\u001b[32mcmd0.sc\u001b[39m:\u001b[32m106\u001b[39m)\n  ammonite.$sess.cmd0$Helper$ChecksumAccumulator.<init>(\u001b[32mcmd0.sc\u001b[39m:\u001b[32m106\u001b[39m)\n  ammonite.$sess.cmd0$Helper$ChecksumAccumulator.<init>(\u001b[32mcmd0.sc\u001b[39m:\u001b[32m106\u001b[39m)\n  ammonite.$sess.cmd0$Helper$ChecksumAccumulator.<init>(\u001b[32mcmd0.sc\u001b[39m:\u001b[32m106\u001b[39m)\n  ammonite.$sess.cmd0$Helper$ChecksumAccumulator.<init>(\u001b[32mcmd0.sc\u001b[39m:\u001b[32m106\u001b[39m)\n  ammonite.$sess.cmd0$Helper$ChecksumAccumulator.<init>(\u001b[32mcmd0.sc\u001b[39m:\u001b[32m106\u001b[39m)\n  ammonite.$sess.cmd0$Helper$ChecksumAccumulator.<init>(\u001b[32mcmd0.sc\u001b[39m:\u001b[32m106\u001b[39m)\n  ammonite.$sess.cmd0$Helper$ChecksumAccumulator.<init>(\u001b[32mcmd0.sc\u001b[39m:\u001b[32m106\u001b[39m)\n  ammonite.$sess.cmd0$Helper$ChecksumAccumulator.<init>(\u001b[32mcmd0.sc\u001b[39m:\u001b[32m106\u001b[39m)\n  ammonite.$sess.cmd0$Helper$ChecksumAccumulator.<init>(\u001b[32mcmd0.sc\u001b[39m:\u001b[32m106\u001b[39m)\n  ammonite.$sess.cmd0$Helper$ChecksumAccumulator.<init>(\u001b[32mcmd0.sc\u001b[39m:\u001b[32m106\u001b[39m)\n  ammonite.$sess.cmd0$Helper$ChecksumAccumulator.<init>(\u001b[32mcmd0.sc\u001b[39m:\u001b[32m106\u001b[39m)\n  ammonite.$sess.cmd0$Helper$ChecksumAccumulator.<init>(\u001b[32mcmd0.sc\u001b[39m:\u001b[32m106\u001b[39m)\n  ammonite.$sess.cmd0$Helper$ChecksumAccumulator.<init>(\u001b[32mcmd0.sc\u001b[39m:\u001b[32m106\u001b[39m)\n  ammonite.$sess.cmd0$Helper$ChecksumAccumulator.<init>(\u001b[32mcmd0.sc\u001b[39m:\u001b[32m106\u001b[39m)\n  ammonite.$sess.cmd0$Helper$ChecksumAccumulator.<init>(\u001b[32mcmd0.sc\u001b[39m:\u001b[32m106\u001b[39m)\n  ammonite.$sess.cmd0$Helper$ChecksumAccumulator.<init>(\u001b[32mcmd0.sc\u001b[39m:\u001b[32m106\u001b[39m)\n  ammonite.$sess.cmd0$Helper$ChecksumAccumulator.<init>(\u001b[32mcmd0.sc\u001b[39m:\u001b[32m106\u001b[39m)\n  ammonite.$sess.cmd0$Helper$ChecksumAccumulator.<init>(\u001b[32mcmd0.sc\u001b[39m:\u001b[32m106\u001b[39m)\n  ammonite.$sess.cmd0$Helper$ChecksumAccumulator.<init>(\u001b[32mcmd0.sc\u001b[39m:\u001b[32m106\u001b[39m)\n  ammonite.$sess.cmd0$Helper$ChecksumAccumulator.<init>(\u001b[32mcmd0.sc\u001b[39m:\u001b[32m106\u001b[39m)\n  ammonite.$sess.cmd0$Helper$ChecksumAccumulator.<init>(\u001b[32mcmd0.sc\u001b[39m:\u001b[32m106\u001b[39m)\n  ammonite.$sess.cmd0$Helper$ChecksumAccumulator.<init>(\u001b[32mcmd0.sc\u001b[39m:\u001b[32m106\u001b[39m)\n  ammonite.$sess.cmd0$Helper$ChecksumAccumulator.<init>(\u001b[32mcmd0.sc\u001b[39m:\u001b[32m106\u001b[39m)\n  ammonite.$sess.cmd0$Helper$ChecksumAccumulator.<init>(\u001b[32mcmd0.sc\u001b[39m:\u001b[32m106\u001b[39m)\n  ammonite.$sess.cmd0$Helper$ChecksumAccumulator.<init>(\u001b[32mcmd0.sc\u001b[39m:\u001b[32m106\u001b[39m)\n  ammonite.$sess.cmd0$Helper$ChecksumAccumulator.<init>(\u001b[32mcmd0.sc\u001b[39m:\u001b[32m106\u001b[39m)\n  ammonite.$sess.cmd0$Helper$ChecksumAccumulator.<init>(\u001b[32mcmd0.sc\u001b[39m:\u001b[32m106\u001b[39m)\n  ammonite.$sess.cmd0$Helper$ChecksumAccumulator.<init>(\u001b[32mcmd0.sc\u001b[39m:\u001b[32m106\u001b[39m)\n  ammonite.$sess.cmd0$Helper$ChecksumAccumulator.<init>(\u001b[32mcmd0.sc\u001b[39m:\u001b[32m106\u001b[39m)\n  ammonite.$sess.cmd0$Helper$ChecksumAccumulator.<init>(\u001b[32mcmd0.sc\u001b[39m:\u001b[32m106\u001b[39m)\n  ammonite.$sess.cmd0$Helper$ChecksumAccumulator.<init>(\u001b[32mcmd0.sc\u001b[39m:\u001b[32m106\u001b[39m)\n  ammonite.$sess.cmd0$Helper$ChecksumAccumulator.<init>(\u001b[32mcmd0.sc\u001b[39m:\u001b[32m106\u001b[39m)\n  ammonite.$sess.cmd0$Helper$ChecksumAccumulator.<init>(\u001b[32mcmd0.sc\u001b[39m:\u001b[32m106\u001b[39m)\n  ammonite.$sess.cmd0$Helper$ChecksumAccumulator.<init>(\u001b[32mcmd0.sc\u001b[39m:\u001b[32m106\u001b[39m)\n  ammonite.$sess.cmd0$Helper$ChecksumAccumulator.<init>(\u001b[32mcmd0.sc\u001b[39m:\u001b[32m106\u001b[39m)\n  ammonite.$sess.cmd0$Helper$ChecksumAccumulator.<init>(\u001b[32mcmd0.sc\u001b[39m:\u001b[32m106\u001b[39m)\n  ammonite.$sess.cmd0$Helper$ChecksumAccumulator.<init>(\u001b[32mcmd0.sc\u001b[39m:\u001b[32m106\u001b[39m)\n  ammonite.$sess.cmd0$Helper$ChecksumAccumulator.<init>(\u001b[32mcmd0.sc\u001b[39m:\u001b[32m106\u001b[39m)\n  ammonite.$sess.cmd0$Helper$ChecksumAccumulator.<init>(\u001b[32mcmd0.sc\u001b[39m:\u001b[32m106\u001b[39m)\n  ammonite.$sess.cmd0$Helper$ChecksumAccumulator.<init>(\u001b[32mcmd0.sc\u001b[39m:\u001b[32m106\u001b[39m)\n  ammonite.$sess.cmd0$Helper$ChecksumAccumulator.<init>(\u001b[32mcmd0.sc\u001b[39m:\u001b[32m106\u001b[39m)\n  ammonite.$sess.cmd0$Helper$ChecksumAccumulator.<init>(\u001b[32mcmd0.sc\u001b[39m:\u001b[32m106\u001b[39m)\n  ammonite.$sess.cmd0$Helper$ChecksumAccumulator.<init>(\u001b[32mcmd0.sc\u001b[39m:\u001b[32m106\u001b[39m)\n  ammonite.$sess.cmd0$Helper$ChecksumAccumulator.<init>(\u001b[32mcmd0.sc\u001b[39m:\u001b[32m106\u001b[39m)\n  ammonite.$sess.cmd0$Helper$ChecksumAccumulator.<init>(\u001b[32mcmd0.sc\u001b[39m:\u001b[32m106\u001b[39m)\n  ammonite.$sess.cmd0$Helper$ChecksumAccumulator.<init>(\u001b[32mcmd0.sc\u001b[39m:\u001b[32m106\u001b[39m)\n  ammonite.$sess.cmd0$Helper$ChecksumAccumulator.<init>(\u001b[32mcmd0.sc\u001b[39m:\u001b[32m106\u001b[39m)\n  ammonite.$sess.cmd0$Helper$ChecksumAccumulator.<init>(\u001b[32mcmd0.sc\u001b[39m:\u001b[32m106\u001b[39m)\n  ammonite.$sess.cmd0$Helper$ChecksumAccumulator.<init>(\u001b[32mcmd0.sc\u001b[39m:\u001b[32m106\u001b[39m)\n  ammonite.$sess.cmd0$Helper$ChecksumAccumulator.<init>(\u001b[32mcmd0.sc\u001b[39m:\u001b[32m106\u001b[39m)\n  ammonite.$sess.cmd0$Helper$ChecksumAccumulator.<init>(\u001b[32mcmd0.sc\u001b[39m:\u001b[32m106\u001b[39m)\n  ammonite.$sess.cmd0$Helper$ChecksumAccumulator.<init>(\u001b[32mcmd0.sc\u001b[39m:\u001b[32m106\u001b[39m)\n  ammonite.$sess.cmd0$Helper$ChecksumAccumulator.<init>(\u001b[32mcmd0.sc\u001b[39m:\u001b[32m106\u001b[39m)\n  ammonite.$sess.cmd0$Helper$ChecksumAccumulator.<init>(\u001b[32mcmd0.sc\u001b[39m:\u001b[32m106\u001b[39m)\n  ammonite.$sess.cmd0$Helper$ChecksumAccumulator.<init>(\u001b[32mcmd0.sc\u001b[39m:\u001b[32m106\u001b[39m)\n  ammonite.$sess.cmd0$Helper$ChecksumAccumulator.<init>(\u001b[32mcmd0.sc\u001b[39m:\u001b[32m106\u001b[39m)\n  ammonite.$sess.cmd0$Helper$ChecksumAccumulator.<init>(\u001b[32mcmd0.sc\u001b[39m:\u001b[32m106\u001b[39m)\n  ammonite.$sess.cmd0$Helper$ChecksumAccumulator.<init>(\u001b[32mcmd0.sc\u001b[39m:\u001b[32m106\u001b[39m)\n  ammonite.$sess.cmd0$Helper$ChecksumAccumulator.<init>(\u001b[32mcmd0.sc\u001b[39m:\u001b[32m106\u001b[39m)\n  ammonite.$sess.cmd0$Helper$ChecksumAccumulator.<init>(\u001b[32mcmd0.sc\u001b[39m:\u001b[32m106\u001b[39m)\n  ammonite.$sess.cmd0$Helper$ChecksumAccumulator.<init>(\u001b[32mcmd0.sc\u001b[39m:\u001b[32m106\u001b[39m)\n  ammonite.$sess.cmd0$Helper$ChecksumAccumulator.<init>(\u001b[32mcmd0.sc\u001b[39m:\u001b[32m106\u001b[39m)\n  ammonite.$sess.cmd0$Helper$ChecksumAccumulator.<init>(\u001b[32mcmd0.sc\u001b[39m:\u001b[32m106\u001b[39m)\n  ammonite.$sess.cmd0$Helper$ChecksumAccumulator.<init>(\u001b[32mcmd0.sc\u001b[39m:\u001b[32m106\u001b[39m)\n  ammonite.$sess.cmd0$Helper$ChecksumAccumulator.<init>(\u001b[32mcmd0.sc\u001b[39m:\u001b[32m106\u001b[39m)\n  ammonite.$sess.cmd0$Helper$ChecksumAccumulator.<init>(\u001b[32mcmd0.sc\u001b[39m:\u001b[32m106\u001b[39m)\n  ammonite.$sess.cmd0$Helper$ChecksumAccumulator.<init>(\u001b[32mcmd0.sc\u001b[39m:\u001b[32m106\u001b[39m)\n  ammonite.$sess.cmd0$Helper$ChecksumAccumulator.<init>(\u001b[32mcmd0.sc\u001b[39m:\u001b[32m106\u001b[39m)\n  ammonite.$sess.cmd0$Helper$ChecksumAccumulator.<init>(\u001b[32mcmd0.sc\u001b[39m:\u001b[32m106\u001b[39m)\n  ammonite.$sess.cmd0$Helper$ChecksumAccumulator.<init>(\u001b[32mcmd0.sc\u001b[39m:\u001b[32m106\u001b[39m)\n  ammonite.$sess.cmd0$Helper$ChecksumAccumulator.<init>(\u001b[32mcmd0.sc\u001b[39m:\u001b[32m106\u001b[39m)\n  ammonite.$sess.cmd0$Helper$ChecksumAccumulator.<init>(\u001b[32mcmd0.sc\u001b[39m:\u001b[32m106\u001b[39m)\n  ammonite.$sess.cmd0$Helper$ChecksumAccumulator.<init>(\u001b[32mcmd0.sc\u001b[39m:\u001b[32m106\u001b[39m)\n  ammonite.$sess.cmd0$Helper$ChecksumAccumulator.<init>(\u001b[32mcmd0.sc\u001b[39m:\u001b[32m106\u001b[39m)\n  ammonite.$sess.cmd0$Helper$ChecksumAccumulator.<init>(\u001b[32mcmd0.sc\u001b[39m:\u001b[32m106\u001b[39m)\n  ammonite.$sess.cmd0$Helper$ChecksumAccumulator.<init>(\u001b[32mcmd0.sc\u001b[39m:\u001b[32m106\u001b[39m)\n  ammonite.$sess.cmd0$Helper$ChecksumAccumulator.<init>(\u001b[32mcmd0.sc\u001b[39m:\u001b[32m106\u001b[39m)\n  ammonite.$sess.cmd0$Helper$ChecksumAccumulator.<init>(\u001b[32mcmd0.sc\u001b[39m:\u001b[32m106\u001b[39m)\n  ammonite.$sess.cmd0$Helper$ChecksumAccumulator.<init>(\u001b[32mcmd0.sc\u001b[39m:\u001b[32m106\u001b[39m)\n  ammonite.$sess.cmd0$Helper$ChecksumAccumulator.<init>(\u001b[32mcmd0.sc\u001b[39m:\u001b[32m106\u001b[39m)\n  ammonite.$sess.cmd0$Helper$ChecksumAccumulator.<init>(\u001b[32mcmd0.sc\u001b[39m:\u001b[32m106\u001b[39m)\n  ammonite.$sess.cmd0$Helper$ChecksumAccumulator.<init>(\u001b[32mcmd0.sc\u001b[39m:\u001b[32m106\u001b[39m)\n  ammonite.$sess.cmd0$Helper$ChecksumAccumulator.<init>(\u001b[32mcmd0.sc\u001b[39m:\u001b[32m106\u001b[39m)\n  ammonite.$sess.cmd0$Helper$ChecksumAccumulator.<init>(\u001b[32mcmd0.sc\u001b[39m:\u001b[32m106\u001b[39m)\n  ammonite.$sess.cmd0$Helper$ChecksumAccumulator.<init>(\u001b[32mcmd0.sc\u001b[39m:\u001b[32m106\u001b[39m)\n  ammonite.$sess.cmd0$Helper$ChecksumAccumulator.<init>(\u001b[32mcmd0.sc\u001b[39m:\u001b[32m106\u001b[39m)\n  ammonite.$sess.cmd0$Helper$ChecksumAccumulator.<init>(\u001b[32mcmd0.sc\u001b[39m:\u001b[32m106\u001b[39m)\n  ammonite.$sess.cmd0$Helper$ChecksumAccumulator.<init>(\u001b[32mcmd0.sc\u001b[39m:\u001b[32m106\u001b[39m)\n  ammonite.$sess.cmd0$Helper$ChecksumAccumulator.<init>(\u001b[32mcmd0.sc\u001b[39m:\u001b[32m106\u001b[39m)\n  ammonite.$sess.cmd0$Helper$ChecksumAccumulator.<init>(\u001b[32mcmd0.sc\u001b[39m:\u001b[32m106\u001b[39m)\n  ammonite.$sess.cmd0$Helper$ChecksumAccumulator.<init>(\u001b[32mcmd0.sc\u001b[39m:\u001b[32m106\u001b[39m)\n  ammonite.$sess.cmd0$Helper$ChecksumAccumulator.<init>(\u001b[32mcmd0.sc\u001b[39m:\u001b[32m106\u001b[39m)\n  ammonite.$sess.cmd0$Helper$ChecksumAccumulator.<init>(\u001b[32mcmd0.sc\u001b[39m:\u001b[32m106\u001b[39m)\n  ammonite.$sess.cmd0$Helper$ChecksumAccumulator.<init>(\u001b[32mcmd0.sc\u001b[39m:\u001b[32m106\u001b[39m)\n  ammonite.$sess.cmd0$Helper$ChecksumAccumulator.<init>(\u001b[32mcmd0.sc\u001b[39m:\u001b[32m106\u001b[39m)\n  ammonite.$sess.cmd0$Helper$ChecksumAccumulator.<init>(\u001b[32mcmd0.sc\u001b[39m:\u001b[32m106\u001b[39m)\n  ammonite.$sess.cmd0$Helper$ChecksumAccumulator.<init>(\u001b[32mcmd0.sc\u001b[39m:\u001b[32m106\u001b[39m)\n  ammonite.$sess.cmd0$Helper$ChecksumAccumulator.<init>(\u001b[32mcmd0.sc\u001b[39m:\u001b[32m106\u001b[39m)\n  ammonite.$sess.cmd0$Helper$ChecksumAccumulator.<init>(\u001b[32mcmd0.sc\u001b[39m:\u001b[32m106\u001b[39m)\n  ammonite.$sess.cmd0$Helper$ChecksumAccumulator.<init>(\u001b[32mcmd0.sc\u001b[39m:\u001b[32m106\u001b[39m)\n  ammonite.$sess.cmd0$Helper$ChecksumAccumulator.<init>(\u001b[32mcmd0.sc\u001b[39m:\u001b[32m106\u001b[39m)\n  ammonite.$sess.cmd0$Helper$ChecksumAccumulator.<init>(\u001b[32mcmd0.sc\u001b[39m:\u001b[32m106\u001b[39m)\n  ammonite.$sess.cmd0$Helper$ChecksumAccumulator.<init>(\u001b[32mcmd0.sc\u001b[39m:\u001b[32m106\u001b[39m)\n  ammonite.$sess.cmd0$Helper$ChecksumAccumulator.<init>(\u001b[32mcmd0.sc\u001b[39m:\u001b[32m106\u001b[39m)\n  ammonite.$sess.cmd0$Helper$ChecksumAccumulator.<init>(\u001b[32mcmd0.sc\u001b[39m:\u001b[32m106\u001b[39m)\n  ammonite.$sess.cmd0$Helper$ChecksumAccumulator.<init>(\u001b[32mcmd0.sc\u001b[39m:\u001b[32m106\u001b[39m)\n  ammonite.$sess.cmd0$Helper$ChecksumAccumulator.<init>(\u001b[32mcmd0.sc\u001b[39m:\u001b[32m106\u001b[39m)\n  ammonite.$sess.cmd0$Helper$ChecksumAccumulator.<init>(\u001b[32mcmd0.sc\u001b[39m:\u001b[32m106\u001b[39m)\n  ammonite.$sess.cmd0$Helper$ChecksumAccumulator.<init>(\u001b[32mcmd0.sc\u001b[39m:\u001b[32m106\u001b[39m)\n  ammonite.$sess.cmd0$Helper$ChecksumAccumulator.<init>(\u001b[32mcmd0.sc\u001b[39m:\u001b[32m106\u001b[39m)\n  ammonite.$sess.cmd0$Helper$ChecksumAccumulator.<init>(\u001b[32mcmd0.sc\u001b[39m:\u001b[32m106\u001b[39m)\n  ammonite.$sess.cmd0$Helper$ChecksumAccumulator.<init>(\u001b[32mcmd0.sc\u001b[39m:\u001b[32m106\u001b[39m)\n  ammonite.$sess.cmd0$Helper$ChecksumAccumulator.<init>(\u001b[32mcmd0.sc\u001b[39m:\u001b[32m106\u001b[39m)\n  ammonite.$sess.cmd0$Helper$ChecksumAccumulator.<init>(\u001b[32mcmd0.sc\u001b[39m:\u001b[32m106\u001b[39m)\n  ammonite.$sess.cmd0$Helper$ChecksumAccumulator.<init>(\u001b[32mcmd0.sc\u001b[39m:\u001b[32m106\u001b[39m)\n  ammonite.$sess.cmd0$Helper$ChecksumAccumulator.<init>(\u001b[32mcmd0.sc\u001b[39m:\u001b[32m106\u001b[39m)\n  ammonite.$sess.cmd0$Helper$ChecksumAccumulator.<init>(\u001b[32mcmd0.sc\u001b[39m:\u001b[32m106\u001b[39m)\n  ammonite.$sess.cmd0$Helper$ChecksumAccumulator.<init>(\u001b[32mcmd0.sc\u001b[39m:\u001b[32m106\u001b[39m)\n  ammonite.$sess.cmd0$Helper$ChecksumAccumulator.<init>(\u001b[32mcmd0.sc\u001b[39m:\u001b[32m106\u001b[39m)\n  ammonite.$sess.cmd0$Helper$ChecksumAccumulator.<init>(\u001b[32mcmd0.sc\u001b[39m:\u001b[32m106\u001b[39m)\n  ammonite.$sess.cmd0$Helper$ChecksumAccumulator.<init>(\u001b[32mcmd0.sc\u001b[39m:\u001b[32m106\u001b[39m)\n  ammonite.$sess.cmd0$Helper$ChecksumAccumulator.<init>(\u001b[32mcmd0.sc\u001b[39m:\u001b[32m106\u001b[39m)\n  ammonite.$sess.cmd0$Helper$ChecksumAccumulator.<init>(\u001b[32mcmd0.sc\u001b[39m:\u001b[32m106\u001b[39m)\n  ammonite.$sess.cmd0$Helper$ChecksumAccumulator.<init>(\u001b[32mcmd0.sc\u001b[39m:\u001b[32m106\u001b[39m)\n  ammonite.$sess.cmd0$Helper$ChecksumAccumulator.<init>(\u001b[32mcmd0.sc\u001b[39m:\u001b[32m106\u001b[39m)\n  ammonite.$sess.cmd0$Helper$ChecksumAccumulator.<init>(\u001b[32mcmd0.sc\u001b[39m:\u001b[32m106\u001b[39m)\n  ammonite.$sess.cmd0$Helper$ChecksumAccumulator.<init>(\u001b[32mcmd0.sc\u001b[39m:\u001b[32m106\u001b[39m)\n  ammonite.$sess.cmd0$Helper$ChecksumAccumulator.<init>(\u001b[32mcmd0.sc\u001b[39m:\u001b[32m106\u001b[39m)\n  ammonite.$sess.cmd0$Helper$ChecksumAccumulator.<init>(\u001b[32mcmd0.sc\u001b[39m:\u001b[32m106\u001b[39m)\n  ammonite.$sess.cmd0$Helper$ChecksumAccumulator.<init>(\u001b[32mcmd0.sc\u001b[39m:\u001b[32m106\u001b[39m)\n  ammonite.$sess.cmd0$Helper$ChecksumAccumulator.<init>(\u001b[32mcmd0.sc\u001b[39m:\u001b[32m106\u001b[39m)\n  ammonite.$sess.cmd0$Helper$ChecksumAccumulator.<init>(\u001b[32mcmd0.sc\u001b[39m:\u001b[32m106\u001b[39m)\n  ammonite.$sess.cmd0$Helper$ChecksumAccumulator.<init>(\u001b[32mcmd0.sc\u001b[39m:\u001b[32m106\u001b[39m)\n  ammonite.$sess.cmd0$Helper$ChecksumAccumulator.<init>(\u001b[32mcmd0.sc\u001b[39m:\u001b[32m106\u001b[39m)\n  ammonite.$sess.cmd0$Helper$ChecksumAccumulator.<init>(\u001b[32mcmd0.sc\u001b[39m:\u001b[32m106\u001b[39m)\n  ammonite.$sess.cmd0$Helper$ChecksumAccumulator.<init>(\u001b[32mcmd0.sc\u001b[39m:\u001b[32m106\u001b[39m)\n  ammonite.$sess.cmd0$Helper$ChecksumAccumulator.<init>(\u001b[32mcmd0.sc\u001b[39m:\u001b[32m106\u001b[39m)\n  ammonite.$sess.cmd0$Helper$ChecksumAccumulator.<init>(\u001b[32mcmd0.sc\u001b[39m:\u001b[32m106\u001b[39m)\n  ammonite.$sess.cmd0$Helper$ChecksumAccumulator.<init>(\u001b[32mcmd0.sc\u001b[39m:\u001b[32m106\u001b[39m)\n  ammonite.$sess.cmd0$Helper$ChecksumAccumulator.<init>(\u001b[32mcmd0.sc\u001b[39m:\u001b[32m106\u001b[39m)\n  ammonite.$sess.cmd0$Helper$ChecksumAccumulator.<init>(\u001b[32mcmd0.sc\u001b[39m:\u001b[32m106\u001b[39m)\n  ammonite.$sess.cmd0$Helper$ChecksumAccumulator.<init>(\u001b[32mcmd0.sc\u001b[39m:\u001b[32m106\u001b[39m)\n  ammonite.$sess.cmd0$Helper$ChecksumAccumulator.<init>(\u001b[32mcmd0.sc\u001b[39m:\u001b[32m106\u001b[39m)\n  ammonite.$sess.cmd0$Helper$ChecksumAccumulator.<init>(\u001b[32mcmd0.sc\u001b[39m:\u001b[32m106\u001b[39m)\n  ammonite.$sess.cmd0$Helper$ChecksumAccumulator.<init>(\u001b[32mcmd0.sc\u001b[39m:\u001b[32m106\u001b[39m)\n  ammonite.$sess.cmd0$Helper$ChecksumAccumulator.<init>(\u001b[32mcmd0.sc\u001b[39m:\u001b[32m106\u001b[39m)\n  ammonite.$sess.cmd0$Helper$ChecksumAccumulator.<init>(\u001b[32mcmd0.sc\u001b[39m:\u001b[32m106\u001b[39m)\n  ammonite.$sess.cmd0$Helper$ChecksumAccumulator.<init>(\u001b[32mcmd0.sc\u001b[39m:\u001b[32m106\u001b[39m)\n  ammonite.$sess.cmd0$Helper$ChecksumAccumulator.<init>(\u001b[32mcmd0.sc\u001b[39m:\u001b[32m106\u001b[39m)\n  ammonite.$sess.cmd0$Helper$ChecksumAccumulator.<init>(\u001b[32mcmd0.sc\u001b[39m:\u001b[32m106\u001b[39m)\n  ammonite.$sess.cmd0$Helper$ChecksumAccumulator.<init>(\u001b[32mcmd0.sc\u001b[39m:\u001b[32m106\u001b[39m)\n  ammonite.$sess.cmd0$Helper$ChecksumAccumulator.<init>(\u001b[32mcmd0.sc\u001b[39m:\u001b[32m106\u001b[39m)\n  ammonite.$sess.cmd0$Helper$ChecksumAccumulator.<init>(\u001b[32mcmd0.sc\u001b[39m:\u001b[32m106\u001b[39m)\n  ammonite.$sess.cmd0$Helper$ChecksumAccumulator.<init>(\u001b[32mcmd0.sc\u001b[39m:\u001b[32m106\u001b[39m)\n  ammonite.$sess.cmd0$Helper$ChecksumAccumulator.<init>(\u001b[32mcmd0.sc\u001b[39m:\u001b[32m106\u001b[39m)\n  ammonite.$sess.cmd0$Helper$ChecksumAccumulator.<init>(\u001b[32mcmd0.sc\u001b[39m:\u001b[32m106\u001b[39m)\n  ammonite.$sess.cmd0$Helper$ChecksumAccumulator.<init>(\u001b[32mcmd0.sc\u001b[39m:\u001b[32m106\u001b[39m)\n  ammonite.$sess.cmd0$Helper$ChecksumAccumulator.<init>(\u001b[32mcmd0.sc\u001b[39m:\u001b[32m106\u001b[39m)\n  ammonite.$sess.cmd0$Helper$ChecksumAccumulator.<init>(\u001b[32mcmd0.sc\u001b[39m:\u001b[32m106\u001b[39m)\n  ammonite.$sess.cmd0$Helper$ChecksumAccumulator.<init>(\u001b[32mcmd0.sc\u001b[39m:\u001b[32m106\u001b[39m)\n  ammonite.$sess.cmd0$Helper$ChecksumAccumulator.<init>(\u001b[32mcmd0.sc\u001b[39m:\u001b[32m106\u001b[39m)\n  ammonite.$sess.cmd0$Helper$ChecksumAccumulator.<init>(\u001b[32mcmd0.sc\u001b[39m:\u001b[32m106\u001b[39m)\n  ammonite.$sess.cmd0$Helper$ChecksumAccumulator.<init>(\u001b[32mcmd0.sc\u001b[39m:\u001b[32m106\u001b[39m)\n  ammonite.$sess.cmd0$Helper$ChecksumAccumulator.<init>(\u001b[32mcmd0.sc\u001b[39m:\u001b[32m106\u001b[39m)\n  ammonite.$sess.cmd0$Helper$ChecksumAccumulator.<init>(\u001b[32mcmd0.sc\u001b[39m:\u001b[32m106\u001b[39m)\n  ammonite.$sess.cmd0$Helper$ChecksumAccumulator.<init>(\u001b[32mcmd0.sc\u001b[39m:\u001b[32m106\u001b[39m)\n  ammonite.$sess.cmd0$Helper$ChecksumAccumulator.<init>(\u001b[32mcmd0.sc\u001b[39m:\u001b[32m106\u001b[39m)\n  ammonite.$sess.cmd0$Helper$ChecksumAccumulator.<init>(\u001b[32mcmd0.sc\u001b[39m:\u001b[32m106\u001b[39m)\n  ammonite.$sess.cmd0$Helper$ChecksumAccumulator.<init>(\u001b[32mcmd0.sc\u001b[39m:\u001b[32m106\u001b[39m)\n  ammonite.$sess.cmd0$Helper$ChecksumAccumulator.<init>(\u001b[32mcmd0.sc\u001b[39m:\u001b[32m106\u001b[39m)\n  ammonite.$sess.cmd0$Helper$ChecksumAccumulator.<init>(\u001b[32mcmd0.sc\u001b[39m:\u001b[32m106\u001b[39m)\n  ammonite.$sess.cmd0$Helper$ChecksumAccumulator.<init>(\u001b[32mcmd0.sc\u001b[39m:\u001b[32m106\u001b[39m)\n  ammonite.$sess.cmd0$Helper$ChecksumAccumulator.<init>(\u001b[32mcmd0.sc\u001b[39m:\u001b[32m106\u001b[39m)\n  ammonite.$sess.cmd0$Helper$ChecksumAccumulator.<init>(\u001b[32mcmd0.sc\u001b[39m:\u001b[32m106\u001b[39m)\n  ammonite.$sess.cmd0$Helper$ChecksumAccumulator.<init>(\u001b[32mcmd0.sc\u001b[39m:\u001b[32m106\u001b[39m)\n  ammonite.$sess.cmd0$Helper$ChecksumAccumulator.<init>(\u001b[32mcmd0.sc\u001b[39m:\u001b[32m106\u001b[39m)\n  ammonite.$sess.cmd0$Helper$ChecksumAccumulator.<init>(\u001b[32mcmd0.sc\u001b[39m:\u001b[32m106\u001b[39m)\n  ammonite.$sess.cmd0$Helper$ChecksumAccumulator.<init>(\u001b[32mcmd0.sc\u001b[39m:\u001b[32m106\u001b[39m)\n  ammonite.$sess.cmd0$Helper$ChecksumAccumulator.<init>(\u001b[32mcmd0.sc\u001b[39m:\u001b[32m106\u001b[39m)\n  ammonite.$sess.cmd0$Helper$ChecksumAccumulator.<init>(\u001b[32mcmd0.sc\u001b[39m:\u001b[32m106\u001b[39m)\n  ammonite.$sess.cmd0$Helper$ChecksumAccumulator.<init>(\u001b[32mcmd0.sc\u001b[39m:\u001b[32m106\u001b[39m)\n  ammonite.$sess.cmd0$Helper$ChecksumAccumulator.<init>(\u001b[32mcmd0.sc\u001b[39m:\u001b[32m106\u001b[39m)\n  ammonite.$sess.cmd0$Helper$ChecksumAccumulator.<init>(\u001b[32mcmd0.sc\u001b[39m:\u001b[32m106\u001b[39m)\n  ammonite.$sess.cmd0$Helper$ChecksumAccumulator.<init>(\u001b[32mcmd0.sc\u001b[39m:\u001b[32m106\u001b[39m)\n  ammonite.$sess.cmd0$Helper$ChecksumAccumulator.<init>(\u001b[32mcmd0.sc\u001b[39m:\u001b[32m106\u001b[39m)\n  ammonite.$sess.cmd0$Helper$ChecksumAccumulator.<init>(\u001b[32mcmd0.sc\u001b[39m:\u001b[32m106\u001b[39m)\n  ammonite.$sess.cmd0$Helper$ChecksumAccumulator.<init>(\u001b[32mcmd0.sc\u001b[39m:\u001b[32m106\u001b[39m)\n  ammonite.$sess.cmd0$Helper$ChecksumAccumulator.<init>(\u001b[32mcmd0.sc\u001b[39m:\u001b[32m106\u001b[39m)\n  ammonite.$sess.cmd0$Helper$ChecksumAccumulator.<init>(\u001b[32mcmd0.sc\u001b[39m:\u001b[32m106\u001b[39m)\n  ammonite.$sess.cmd0$Helper$ChecksumAccumulator.<init>(\u001b[32mcmd0.sc\u001b[39m:\u001b[32m106\u001b[39m)\n  ammonite.$sess.cmd0$Helper$ChecksumAccumulator.<init>(\u001b[32mcmd0.sc\u001b[39m:\u001b[32m106\u001b[39m)\n  ammonite.$sess.cmd0$Helper$ChecksumAccumulator.<init>(\u001b[32mcmd0.sc\u001b[39m:\u001b[32m106\u001b[39m)\n  ammonite.$sess.cmd0$Helper$ChecksumAccumulator.<init>(\u001b[32mcmd0.sc\u001b[39m:\u001b[32m106\u001b[39m)\n  ammonite.$sess.cmd0$Helper$ChecksumAccumulator.<init>(\u001b[32mcmd0.sc\u001b[39m:\u001b[32m106\u001b[39m)\n  ammonite.$sess.cmd0$Helper$ChecksumAccumulator.<init>(\u001b[32mcmd0.sc\u001b[39m:\u001b[32m106\u001b[39m)\n  ammonite.$sess.cmd0$Helper$ChecksumAccumulator.<init>(\u001b[32mcmd0.sc\u001b[39m:\u001b[32m106\u001b[39m)\n  ammonite.$sess.cmd0$Helper$ChecksumAccumulator.<init>(\u001b[32mcmd0.sc\u001b[39m:\u001b[32m106\u001b[39m)\n  ammonite.$sess.cmd0$Helper$ChecksumAccumulator.<init>(\u001b[32mcmd0.sc\u001b[39m:\u001b[32m106\u001b[39m)\n  ammonite.$sess.cmd0$Helper$ChecksumAccumulator.<init>(\u001b[32mcmd0.sc\u001b[39m:\u001b[32m106\u001b[39m)\n  ammonite.$sess.cmd0$Helper$ChecksumAccumulator.<init>(\u001b[32mcmd0.sc\u001b[39m:\u001b[32m106\u001b[39m)\n  ammonite.$sess.cmd0$Helper$ChecksumAccumulator.<init>(\u001b[32mcmd0.sc\u001b[39m:\u001b[32m106\u001b[39m)\n  ammonite.$sess.cmd0$Helper$ChecksumAccumulator.<init>(\u001b[32mcmd0.sc\u001b[39m:\u001b[32m106\u001b[39m)\n  ammonite.$sess.cmd0$Helper$ChecksumAccumulator.<init>(\u001b[32mcmd0.sc\u001b[39m:\u001b[32m106\u001b[39m)\n  ammonite.$sess.cmd0$Helper$ChecksumAccumulator.<init>(\u001b[32mcmd0.sc\u001b[39m:\u001b[32m106\u001b[39m)\n  ammonite.$sess.cmd0$Helper$ChecksumAccumulator.<init>(\u001b[32mcmd0.sc\u001b[39m:\u001b[32m106\u001b[39m)\n  ammonite.$sess.cmd0$Helper$ChecksumAccumulator.<init>(\u001b[32mcmd0.sc\u001b[39m:\u001b[32m106\u001b[39m)\n  ammonite.$sess.cmd0$Helper$ChecksumAccumulator.<init>(\u001b[32mcmd0.sc\u001b[39m:\u001b[32m106\u001b[39m)\n  ammonite.$sess.cmd0$Helper$ChecksumAccumulator.<init>(\u001b[32mcmd0.sc\u001b[39m:\u001b[32m106\u001b[39m)\n  ammonite.$sess.cmd0$Helper$ChecksumAccumulator.<init>(\u001b[32mcmd0.sc\u001b[39m:\u001b[32m106\u001b[39m)\n  ammonite.$sess.cmd0$Helper$ChecksumAccumulator.<init>(\u001b[32mcmd0.sc\u001b[39m:\u001b[32m106\u001b[39m)\n  ammonite.$sess.cmd0$Helper$ChecksumAccumulator.<init>(\u001b[32mcmd0.sc\u001b[39m:\u001b[32m106\u001b[39m)\n  ammonite.$sess.cmd0$Helper$ChecksumAccumulator.<init>(\u001b[32mcmd0.sc\u001b[39m:\u001b[32m106\u001b[39m)\n  ammonite.$sess.cmd0$Helper$ChecksumAccumulator.<init>(\u001b[32mcmd0.sc\u001b[39m:\u001b[32m106\u001b[39m)\n  ammonite.$sess.cmd0$Helper$ChecksumAccumulator.<init>(\u001b[32mcmd0.sc\u001b[39m:\u001b[32m106\u001b[39m)\n  ammonite.$sess.cmd0$Helper$ChecksumAccumulator.<init>(\u001b[32mcmd0.sc\u001b[39m:\u001b[32m106\u001b[39m)\n  ammonite.$sess.cmd0$Helper$ChecksumAccumulator.<init>(\u001b[32mcmd0.sc\u001b[39m:\u001b[32m106\u001b[39m)\n  ammonite.$sess.cmd0$Helper$ChecksumAccumulator.<init>(\u001b[32mcmd0.sc\u001b[39m:\u001b[32m106\u001b[39m)\n  ammonite.$sess.cmd0$Helper$ChecksumAccumulator.<init>(\u001b[32mcmd0.sc\u001b[39m:\u001b[32m106\u001b[39m)\n  ammonite.$sess.cmd0$Helper$ChecksumAccumulator.<init>(\u001b[32mcmd0.sc\u001b[39m:\u001b[32m106\u001b[39m)\n  ammonite.$sess.cmd0$Helper$ChecksumAccumulator.<init>(\u001b[32mcmd0.sc\u001b[39m:\u001b[32m106\u001b[39m)\n  ammonite.$sess.cmd0$Helper$ChecksumAccumulator.<init>(\u001b[32mcmd0.sc\u001b[39m:\u001b[32m106\u001b[39m)\n  ammonite.$sess.cmd0$Helper$ChecksumAccumulator.<init>(\u001b[32mcmd0.sc\u001b[39m:\u001b[32m106\u001b[39m)\n  ammonite.$sess.cmd0$Helper$ChecksumAccumulator.<init>(\u001b[32mcmd0.sc\u001b[39m:\u001b[32m106\u001b[39m)\n  ammonite.$sess.cmd0$Helper$ChecksumAccumulator.<init>(\u001b[32mcmd0.sc\u001b[39m:\u001b[32m106\u001b[39m)\n  ammonite.$sess.cmd0$Helper$ChecksumAccumulator.<init>(\u001b[32mcmd0.sc\u001b[39m:\u001b[32m106\u001b[39m)\n  ammonite.$sess.cmd0$Helper$ChecksumAccumulator.<init>(\u001b[32mcmd0.sc\u001b[39m:\u001b[32m106\u001b[39m)\n  ammonite.$sess.cmd0$Helper$ChecksumAccumulator.<init>(\u001b[32mcmd0.sc\u001b[39m:\u001b[32m106\u001b[39m)\n  ammonite.$sess.cmd0$Helper$ChecksumAccumulator.<init>(\u001b[32mcmd0.sc\u001b[39m:\u001b[32m106\u001b[39m)\n  ammonite.$sess.cmd0$Helper$ChecksumAccumulator.<init>(\u001b[32mcmd0.sc\u001b[39m:\u001b[32m106\u001b[39m)\n  ammonite.$sess.cmd0$Helper$ChecksumAccumulator.<init>(\u001b[32mcmd0.sc\u001b[39m:\u001b[32m106\u001b[39m)\n  ammonite.$sess.cmd0$Helper$ChecksumAccumulator.<init>(\u001b[32mcmd0.sc\u001b[39m:\u001b[32m106\u001b[39m)\n  ammonite.$sess.cmd0$Helper$ChecksumAccumulator.<init>(\u001b[32mcmd0.sc\u001b[39m:\u001b[32m106\u001b[39m)\n  ammonite.$sess.cmd0$Helper$ChecksumAccumulator.<init>(\u001b[32mcmd0.sc\u001b[39m:\u001b[32m106\u001b[39m)\n  ammonite.$sess.cmd0$Helper$ChecksumAccumulator.<init>(\u001b[32mcmd0.sc\u001b[39m:\u001b[32m106\u001b[39m)\n  ammonite.$sess.cmd0$Helper$ChecksumAccumulator.<init>(\u001b[32mcmd0.sc\u001b[39m:\u001b[32m106\u001b[39m)\n  ammonite.$sess.cmd0$Helper$ChecksumAccumulator.<init>(\u001b[32mcmd0.sc\u001b[39m:\u001b[32m106\u001b[39m)\n  ammonite.$sess.cmd0$Helper$ChecksumAccumulator.<init>(\u001b[32mcmd0.sc\u001b[39m:\u001b[32m106\u001b[39m)\n  ammonite.$sess.cmd0$Helper$ChecksumAccumulator.<init>(\u001b[32mcmd0.sc\u001b[39m:\u001b[32m106\u001b[39m)\n  ammonite.$sess.cmd0$Helper$ChecksumAccumulator.<init>(\u001b[32mcmd0.sc\u001b[39m:\u001b[32m106\u001b[39m)\n  ammonite.$sess.cmd0$Helper$ChecksumAccumulator.<init>(\u001b[32mcmd0.sc\u001b[39m:\u001b[32m106\u001b[39m)\n  ammonite.$sess.cmd0$Helper$ChecksumAccumulator.<init>(\u001b[32mcmd0.sc\u001b[39m:\u001b[32m106\u001b[39m)\n  ammonite.$sess.cmd0$Helper$ChecksumAccumulator.<init>(\u001b[32mcmd0.sc\u001b[39m:\u001b[32m106\u001b[39m)\n  ammonite.$sess.cmd0$Helper$ChecksumAccumulator.<init>(\u001b[32mcmd0.sc\u001b[39m:\u001b[32m106\u001b[39m)\n  ammonite.$sess.cmd0$Helper$ChecksumAccumulator.<init>(\u001b[32mcmd0.sc\u001b[39m:\u001b[32m106\u001b[39m)\n  ammonite.$sess.cmd0$Helper$ChecksumAccumulator.<init>(\u001b[32mcmd0.sc\u001b[39m:\u001b[32m106\u001b[39m)\n  ammonite.$sess.cmd0$Helper$ChecksumAccumulator.<init>(\u001b[32mcmd0.sc\u001b[39m:\u001b[32m106\u001b[39m)\n  ammonite.$sess.cmd0$Helper$ChecksumAccumulator.<init>(\u001b[32mcmd0.sc\u001b[39m:\u001b[32m106\u001b[39m)"
     ]
    }
   ],
   "source": [
    "new ChecksumAccumulator"
   ]
  },
  {
   "cell_type": "code",
   "execution_count": 3,
   "id": "d85bf9f7",
   "metadata": {},
   "outputs": [
    {
     "data": {
      "text/plain": [
       "defined \u001b[32mclass\u001b[39m \u001b[36mChecksumAccumulator\u001b[39m"
      ]
     },
     "execution_count": 3,
     "metadata": {},
     "output_type": "execute_result"
    }
   ],
   "source": [
    "class ChecksumAccumulator:\n",
    "    var sum = 0"
   ]
  },
  {
   "cell_type": "code",
   "execution_count": 4,
   "id": "ae1085ef",
   "metadata": {},
   "outputs": [
    {
     "data": {
      "text/plain": [
       "\u001b[36macc\u001b[39m: \u001b[32mChecksumAccumulator\u001b[39m = ammonite.$sess.cmd2$Helper$ChecksumAccumulator@47253459\n",
       "\u001b[36mcsa\u001b[39m: \u001b[32mChecksumAccumulator\u001b[39m = ammonite.$sess.cmd2$Helper$ChecksumAccumulator@60ca848"
      ]
     },
     "execution_count": 4,
     "metadata": {},
     "output_type": "execute_result"
    }
   ],
   "source": [
    "val acc = new ChecksumAccumulator\n",
    "val csa = new ChecksumAccumulator"
   ]
  },
  {
   "cell_type": "code",
   "execution_count": 5,
   "id": "b2fe2a6b",
   "metadata": {},
   "outputs": [],
   "source": [
    "acc.sum = 3"
   ]
  },
  {
   "cell_type": "code",
   "execution_count": 5,
   "id": "b87fb49b",
   "metadata": {},
   "outputs": [
    {
     "name": "stderr",
     "output_type": "stream",
     "text": [
      "    |val res5 = acc = new ChecksumAccumulator\n",
      "    |           ^^^^^^^^^^^^^^^^^^^^^^^^^^^^^\n",
      "    |           Reassignment to val accCompilation Failed"
     ]
    },
    {
     "ename": "",
     "evalue": "",
     "output_type": "error",
     "traceback": [
      "Compilation Failed"
     ]
    }
   ],
   "source": [
    "acc = new ChecksumAccumulator"
   ]
  },
  {
   "cell_type": "code",
   "execution_count": 6,
   "id": "f16b6b34",
   "metadata": {},
   "outputs": [
    {
     "data": {
      "text/plain": [
       "defined \u001b[32mclass\u001b[39m \u001b[36mChecksumAccumulator\u001b[39m"
      ]
     },
     "execution_count": 6,
     "metadata": {},
     "output_type": "execute_result"
    }
   ],
   "source": [
    "class ChecksumAccumulator:\n",
    "    private var sum = 0"
   ]
  },
  {
   "cell_type": "code",
   "execution_count": 6,
   "id": "2de7dee0",
   "metadata": {},
   "outputs": [
    {
     "name": "stderr",
     "output_type": "stream",
     "text": [
      "    |val res6_1 = acc.sum = 5\n",
      "    |             ^^^^^^^\n",
      "    |variable sum cannot be accessed as a member of (Helper.this.acc : cmd6.this.cmd5.ChecksumAccumulator) from class Helper.Compilation Failed"
     ]
    },
    {
     "ename": "",
     "evalue": "",
     "output_type": "error",
     "traceback": [
      "Compilation Failed"
     ]
    }
   ],
   "source": [
    "val acc = new ChecksumAccumulator\n",
    "acc.sum = 5"
   ]
  },
  {
   "cell_type": "code",
   "execution_count": 8,
   "id": "3347c5f2",
   "metadata": {},
   "outputs": [
    {
     "data": {
      "text/plain": [
       "defined \u001b[32mclass\u001b[39m \u001b[36mChecksumAccumulator\u001b[39m"
      ]
     },
     "execution_count": 8,
     "metadata": {},
     "output_type": "execute_result"
    }
   ],
   "source": [
    "class ChecksumAccumulator:\n",
    "    private var sum = 0\n",
    "    def add(b: Byte): Unit =\n",
    "        // b = 1 // This won't compile, because b is a val\n",
    "        sum += b\n",
    "    def checksum(): Int = \n",
    "        return ~(sum & 0xFF) + 1"
   ]
  },
  {
   "cell_type": "code",
   "execution_count": 1,
   "id": "2bd3a5df",
   "metadata": {},
   "outputs": [
    {
     "data": {
      "text/plain": [
       "defined \u001b[32mclass\u001b[39m \u001b[36mChecksumAccumulator\u001b[39m"
      ]
     },
     "execution_count": 1,
     "metadata": {},
     "output_type": "execute_result"
    }
   ],
   "source": [
    "class ChecksumAccumulator:\n",
    "    private var sum = 0\n",
    "    def add(b: Byte) = sum += b\n",
    "    def checksum() = ~(sum & 0xFF) + 1"
   ]
  },
  {
   "cell_type": "code",
   "execution_count": 10,
   "id": "eaf95b80",
   "metadata": {},
   "outputs": [
    {
     "name": "stdout",
     "output_type": "stream",
     "text": [
      "hello\n"
     ]
    },
    {
     "data": {
      "text/plain": [
       "\u001b[36ms\u001b[39m: \u001b[32mString\u001b[39m = \u001b[32m\"hello\"\u001b[39m"
      ]
     },
     "execution_count": 10,
     "metadata": {},
     "output_type": "execute_result"
    }
   ],
   "source": [
    "val s = \"hello\"; println(s)"
   ]
  },
  {
   "cell_type": "code",
   "execution_count": 11,
   "id": "9e0acf80",
   "metadata": {},
   "outputs": [
    {
     "data": {
      "text/plain": [
       "\u001b[36mx\u001b[39m: \u001b[32mInt\u001b[39m = \u001b[32m3\u001b[39m\n",
       "\u001b[36mres10_1\u001b[39m: \u001b[32mString\u001b[39m = \u001b[32m\"ok\"\u001b[39m"
      ]
     },
     "execution_count": 11,
     "metadata": {},
     "output_type": "execute_result"
    }
   ],
   "source": [
    "val x = 3\n",
    "if x < 2 then\n",
    "    \"too small\"\n",
    "else\n",
    "    \"ok\""
   ]
  },
  {
   "cell_type": "code",
   "execution_count": 2,
   "id": "e5174c1c",
   "metadata": {},
   "outputs": [
    {
     "data": {
      "text/plain": [
       "\u001b[32mimport \u001b[39m\u001b[36mscala.collection.mutable\n",
       "\n",
       "\u001b[39m\n",
       "defined \u001b[32mobject\u001b[39m \u001b[36mChecksumAccumulator\u001b[39m"
      ]
     },
     "execution_count": 2,
     "metadata": {},
     "output_type": "execute_result"
    }
   ],
   "source": [
    "import scala.collection.mutable\n",
    "\n",
    "object ChecksumAccumulator:\n",
    "    private val cache = mutable.Map.empty[String, Int]\n",
    "    def calculate(s: String): Int =\n",
    "        if cache.contains(s) then\n",
    "            cache(s)\n",
    "        else\n",
    "            val acc = new ChecksumAccumulator // 위에서 정의한 ChecksumAccumulator 클래스 부름\n",
    "            for c <- s do\n",
    "                acc.add((c >> 8).toByte)\n",
    "                acc.add(c.toByte)\n",
    "            val cs = acc.checksum()\n",
    "            cache += (s -> cs)\n",
    "            cs"
   ]
  },
  {
   "cell_type": "code",
   "execution_count": 2,
   "id": "56bb5fe9",
   "metadata": {},
   "outputs": [
    {
     "name": "stderr",
     "output_type": "stream",
     "text": [
      "    |val res2 = ChecksumAccumulator.calculate(\"Every value is an object.\")\n",
      "    |           ^^^^^^^^^^^^^^^^^^^\n",
      "    | Reference to ChecksumAccumulator is ambiguous,\n",
      "    | it is both imported by name by import (cmd2.this.cmd0 : \n",
      "    |   (ammonite.$sess.cmd0.instance : ammonite.$sess.cmd0.wrapper.Helper)\n",
      "    | ).ChecksumAccumulator\n",
      "    | and imported by name subsequently by import (cmd2.this.cmd1 : \n",
      "    |   (ammonite.$sess.cmd1.instance : ammonite.$sess.cmd1.wrapper.Helper)\n",
      "    | ).ChecksumAccumulatorCompilation Failed"
     ]
    },
    {
     "ename": "",
     "evalue": "",
     "output_type": "error",
     "traceback": [
      "Compilation Failed"
     ]
    }
   ],
   "source": [
    "ChecksumAccumulator.calculate(\"Every value is an object.\")"
   ]
  },
  {
   "cell_type": "code",
   "execution_count": 13,
   "id": "260129b0",
   "metadata": {},
   "outputs": [
    {
     "data": {
      "text/plain": [
       "defined \u001b[32mclass\u001b[39m \u001b[36mPerson\u001b[39m"
      ]
     },
     "execution_count": 13,
     "metadata": {},
     "output_type": "execute_result"
    }
   ],
   "source": [
    "case class Person(name: String, age: Int)"
   ]
  },
  {
   "cell_type": "code",
   "execution_count": 14,
   "id": "dc9f9a52",
   "metadata": {},
   "outputs": [
    {
     "data": {
      "text/plain": [
       "\u001b[36mp\u001b[39m: \u001b[32mPerson\u001b[39m = \u001b[33mPerson\u001b[39m(name = \u001b[32m\"Sally\"\u001b[39m, age = \u001b[32m39\u001b[39m)"
      ]
     },
     "execution_count": 14,
     "metadata": {},
     "output_type": "execute_result"
    }
   ],
   "source": [
    "val p = Person(\"Sally\",39)"
   ]
  },
  {
   "cell_type": "code",
   "execution_count": 15,
   "id": "963900b7",
   "metadata": {},
   "outputs": [
    {
     "data": {
      "text/plain": [
       "\u001b[36mres14_0\u001b[39m: \u001b[32mString\u001b[39m = \u001b[32m\"Sally\"\u001b[39m\n",
       "\u001b[36mres14_1\u001b[39m: \u001b[32mInt\u001b[39m = \u001b[32m39\u001b[39m"
      ]
     },
     "execution_count": 15,
     "metadata": {},
     "output_type": "execute_result"
    }
   ],
   "source": [
    "p.name\n",
    "p.age"
   ]
  },
  {
   "cell_type": "code",
   "execution_count": 16,
   "id": "508b88ec",
   "metadata": {},
   "outputs": [
    {
     "data": {
      "text/plain": [
       "\u001b[36mres15\u001b[39m: \u001b[32mString\u001b[39m = \u001b[32m\"Person(Sally,39)\"\u001b[39m"
      ]
     },
     "execution_count": 16,
     "metadata": {},
     "output_type": "execute_result"
    }
   ],
   "source": [
    "p.toString"
   ]
  },
  {
   "cell_type": "code",
   "execution_count": 17,
   "id": "7463e8e4",
   "metadata": {},
   "outputs": [
    {
     "data": {
      "text/plain": [
       "\u001b[36mres16_0\u001b[39m: \u001b[32mBoolean\u001b[39m = \u001b[32mfalse\u001b[39m\n",
       "\u001b[36mres16_1\u001b[39m: \u001b[32mBoolean\u001b[39m = \u001b[32mfalse\u001b[39m\n",
       "\u001b[36mres16_2\u001b[39m: \u001b[32mBoolean\u001b[39m = \u001b[32mfalse\u001b[39m\n",
       "\u001b[36mres16_3\u001b[39m: \u001b[32mBoolean\u001b[39m = \u001b[32mfalse\u001b[39m\n",
       "\u001b[36mres16_4\u001b[39m: \u001b[32mBoolean\u001b[39m = \u001b[32mtrue\u001b[39m\n",
       "\u001b[36mres16_5\u001b[39m: \u001b[32mBoolean\u001b[39m = \u001b[32mtrue\u001b[39m"
      ]
     },
     "execution_count": 17,
     "metadata": {},
     "output_type": "execute_result"
    }
   ],
   "source": [
    "p == Person(\"Sally\", 21)\n",
    "p.hashCode == Person(\"Sally\", 21).hashCode\n",
    "p == Person(\"James\", 39)\n",
    "p.hashCode == Person(\"James\", 39).hashCode\n",
    "p == Person(\"Sally\",39)\n",
    "p.hashCode == Person(\"Sally\",39).hashCode"
   ]
  },
  {
   "cell_type": "code",
   "execution_count": 18,
   "id": "2c1d7087",
   "metadata": {},
   "outputs": [
    {
     "data": {
      "text/plain": [
       "\u001b[36mres17\u001b[39m: \u001b[32mInt\u001b[39m = \u001b[32m-310542551\u001b[39m"
      ]
     },
     "execution_count": 18,
     "metadata": {},
     "output_type": "execute_result"
    }
   ],
   "source": [
    "p.hashCode"
   ]
  },
  {
   "cell_type": "code",
   "execution_count": 19,
   "id": "22283335",
   "metadata": {},
   "outputs": [
    {
     "data": {
      "text/plain": [
       "defined \u001b[32mclass\u001b[39m \u001b[36mPerson\u001b[39m\n",
       "defined \u001b[32mobject\u001b[39m \u001b[36mPerson\u001b[39m"
      ]
     },
     "execution_count": 19,
     "metadata": {},
     "output_type": "execute_result"
    }
   ],
   "source": [
    "case class Person(name: String, age: Int):\n",
    "    def appendToName(suffix: String): Person =\n",
    "        Person(s\"$name$suffix\", age)\n",
    "\n",
    "object Person:\n",
    "    // Ensure non-empty name is capitalized\n",
    "    def apply(name: String, age: Int): Person =\n",
    "        val capitalizedName =\n",
    "            if !name.isEmpty then\n",
    "                val firstChar = name.charAt(0).toUpper\n",
    "                val restOfName = name.substring(1)\n",
    "                s\"$firstChar$restOfName\"\n",
    "            else throw new IllegalArgumentException(\"Empty name\")\n",
    "        new Person(capitalizedName, age)"
   ]
  },
  {
   "cell_type": "code",
   "execution_count": 20,
   "id": "a9e7b8ac",
   "metadata": {},
   "outputs": [
    {
     "data": {
      "text/plain": [
       "\u001b[36mq\u001b[39m: \u001b[32mPerson\u001b[39m = \u001b[33mPerson\u001b[39m(name = \u001b[32m\"Sally\"\u001b[39m, age = \u001b[32m39\u001b[39m)"
      ]
     },
     "execution_count": 20,
     "metadata": {},
     "output_type": "execute_result"
    }
   ],
   "source": [
    "val q = Person(\"sally\", 39)"
   ]
  },
  {
   "cell_type": "code",
   "execution_count": 21,
   "id": "3dd75269",
   "metadata": {},
   "outputs": [
    {
     "data": {
      "text/plain": [
       "\u001b[36mres20\u001b[39m: \u001b[32mPerson\u001b[39m = \u001b[33mPerson\u001b[39m(name = \u001b[32m\"Sally Smith\"\u001b[39m, age = \u001b[32m39\u001b[39m)"
      ]
     },
     "execution_count": 21,
     "metadata": {},
     "output_type": "execute_result"
    }
   ],
   "source": [
    "q.appendToName(\" Smith\")"
   ]
  },
  {
   "cell_type": "code",
   "execution_count": 21,
   "id": "ea7db849",
   "metadata": {},
   "outputs": [
    {
     "name": "stderr",
     "output_type": "stream",
     "text": [
      "    |import ChecksumAccumulator.calculate\n",
      "    |       ^^^^^^^^^^^^^^^^^^^\n",
      "    |Reference to ChecksumAccumulator is ambiguous,\n",
      "    |it is both imported by name by import (cmd21.this.cmd8 : \n",
      "    |  (ammonite.$sess.cmd8.instance : ammonite.$sess.cmd8.wrapper.Helper)\n",
      "    |).ChecksumAccumulator\n",
      "    |and imported by name subsequently by import (cmd21.this.cmd11 : \n",
      "    |  (ammonite.$sess.cmd11.instance : ammonite.$sess.cmd11.wrapper.Helper)\n",
      "    |).ChecksumAccumulatorCompilation Failed"
     ]
    },
    {
     "ename": "",
     "evalue": "",
     "output_type": "error",
     "traceback": [
      "Compilation Failed"
     ]
    }
   ],
   "source": [
    "import ChecksumAccumulator.calculate\n",
    "\n",
    "object Summer:\n",
    "    def main(args: Array[String]): Unit =\n",
    "        for arg <- args do\n",
    "            println(arg + \": \" + calculate(arg))"
   ]
  },
  {
   "cell_type": "code",
   "execution_count": null,
   "id": "5bb83896",
   "metadata": {},
   "outputs": [],
   "source": []
  }
 ],
 "metadata": {
  "kernelspec": {
   "display_name": "Scala",
   "language": "scala",
   "name": "scala"
  },
  "language_info": {
   "codemirror_mode": "text/x-scala",
   "file_extension": ".sc",
   "mimetype": "text/x-scala",
   "name": "scala",
   "nbconvert_exporter": "script",
   "version": "2.13.6"
  }
 },
 "nbformat": 4,
 "nbformat_minor": 5
}
