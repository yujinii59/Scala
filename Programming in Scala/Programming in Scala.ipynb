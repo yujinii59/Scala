{
 "cells": [
  {
   "cell_type": "markdown",
   "id": "e66d2f22",
   "metadata": {},
   "source": [
    "### Chapter 1"
   ]
  },
  {
   "cell_type": "code",
   "execution_count": 1,
   "id": "b4a932c3-6e07-4204-b8e6-985e7346f542",
   "metadata": {},
   "outputs": [
    {
     "data": {
      "text/plain": [
       "\u001b[36mcapital\u001b[39m: \u001b[32mMap\u001b[39m[\u001b[32mString\u001b[39m, \u001b[32mString\u001b[39m] = \u001b[33mMap\u001b[39m(\u001b[32m\"US\"\u001b[39m -> \u001b[32m\"Washington\"\u001b[39m, \u001b[32m\"France\"\u001b[39m -> \u001b[32m\"Paris\"\u001b[39m)"
      ]
     },
     "execution_count": 1,
     "metadata": {},
     "output_type": "execute_result"
    }
   ],
   "source": [
    "var capital = Map(\"US\" -> \"Washington\", \"France\" -> \"Paris\")"
   ]
  },
  {
   "cell_type": "code",
   "execution_count": 2,
   "id": "7d07c638-2e73-41b8-a91c-a230aac5409b",
   "metadata": {},
   "outputs": [],
   "source": [
    "capital += (\"Japan\" -> \"Tokyo\")"
   ]
  },
  {
   "cell_type": "code",
   "execution_count": 3,
   "id": "bcbc0fdd-fc24-4cac-8dd0-8df034cd2517",
   "metadata": {},
   "outputs": [
    {
     "name": "stdout",
     "output_type": "stream",
     "text": [
      "Paris\n"
     ]
    }
   ],
   "source": [
    "println(capital(\"France\"))"
   ]
  },
  {
   "cell_type": "code",
   "execution_count": null,
   "id": "7bf7e5d9-47e8-4c7b-a475-6182827ed6cb",
   "metadata": {},
   "outputs": [],
   "source": []
  },
  {
   "cell_type": "code",
   "execution_count": 4,
   "id": "65ab7a51-bdcc-4912-b5f5-452fd6e12eac",
   "metadata": {},
   "outputs": [
    {
     "data": {
      "text/plain": [
       "defined \u001b[32mfunction\u001b[39m \u001b[36mfactorial\u001b[39m"
      ]
     },
     "execution_count": 4,
     "metadata": {},
     "output_type": "execute_result"
    }
   ],
   "source": [
    "def factorial(x: BigInt): BigInt = \n",
    "if x == 0 then 1 else x * factorial(x - 1)"
   ]
  },
  {
   "cell_type": "code",
   "execution_count": 5,
   "id": "dc4d30d5-d16f-48a9-bf9f-f03df78cd3f4",
   "metadata": {},
   "outputs": [
    {
     "data": {
      "text/plain": [
       "\u001b[36mres4\u001b[39m: \u001b[32mBigInt\u001b[39m = 265252859812191058636308480000000"
      ]
     },
     "execution_count": 5,
     "metadata": {},
     "output_type": "execute_result"
    }
   ],
   "source": [
    "factorial(30)"
   ]
  },
  {
   "cell_type": "code",
   "execution_count": null,
   "id": "231be406-180a-4aa7-8d2d-130f4c26a197",
   "metadata": {},
   "outputs": [],
   "source": []
  },
  {
   "cell_type": "code",
   "execution_count": 6,
   "id": "89ff4e00-d5c0-4165-9759-02af610268b5",
   "metadata": {},
   "outputs": [
    {
     "data": {
      "text/plain": [
       "\u001b[32mimport \u001b[39m\u001b[36mjava.math.BigInteger\n",
       "\u001b[39m\n",
       "defined \u001b[32mfunction\u001b[39m \u001b[36mfactorial\u001b[39m"
      ]
     },
     "execution_count": 6,
     "metadata": {},
     "output_type": "execute_result"
    }
   ],
   "source": [
    "import java.math.BigInteger\n",
    "def factorial(x: BigInteger): BigInteger = \n",
    "if (x == BigInteger.ZERO) \n",
    "    BigInteger.ONE\n",
    "else\n",
    "    x.multiply(factorial(x.subtract(BigInteger.ONE)))"
   ]
  },
  {
   "cell_type": "code",
   "execution_count": null,
   "id": "efa9b1a1-1c85-456d-b915-4e3a1f5602f0",
   "metadata": {},
   "outputs": [],
   "source": []
  },
  {
   "cell_type": "code",
   "execution_count": 6,
   "id": "792793cb-2105-4dae-90af-ab91cceba050",
   "metadata": {},
   "outputs": [
    {
     "name": "stderr",
     "output_type": "stream",
     "text": [
      "    |class SetSpec extends AnyFunSuite:\n",
      "    |                      ^^^^^^^^^^^\n",
      "    |                      Not found: type AnyFunSuite    |    test(\"An empty Set should have size 0\"){\n",
      "    |    ^^^^\n",
      "    |    Not found: test    |    test(\"Invoking head on an empty Set should fail\"){\n",
      "    |    ^^^^\n",
      "    |    Not found: test    |        assertThrows[NoSuchElementException]{\n",
      "    |        ^^^^^^^^^^^^\n",
      "    |        Not found: assertThrowsCompilation Failed"
     ]
    },
    {
     "ename": "",
     "evalue": "",
     "output_type": "error",
     "traceback": [
      "Compilation Failed"
     ]
    }
   ],
   "source": [
    "class SetSpec extends AnyFunSuite:\n",
    "    test(\"An empty Set should have size 0\"){\n",
    "        assert(Set.empty.size == 0)\n",
    "    }\n",
    "    \n",
    "    test(\"Invoking head on an empty Set should fail\"){\n",
    "        assertThrows[NoSuchElementException]{\n",
    "            Set.empty.head\n",
    "        }\n",
    "    }"
   ]
  },
  {
   "cell_type": "code",
   "execution_count": 1,
   "id": "a6ae3a9a-e4c3-42bd-bf53-1d52682d135c",
   "metadata": {},
   "outputs": [
    {
     "data": {
      "text/plain": [
       "\u001b[36mxs\u001b[39m: \u001b[32mInclusive\u001b[39m = \u001b[33mRange\u001b[39m(\u001b[32m1\u001b[39m, \u001b[32m2\u001b[39m, \u001b[32m3\u001b[39m)\n",
       "\u001b[36mit\u001b[39m: \u001b[32mIterator\u001b[39m[\u001b[32mInt\u001b[39m] = \u001b[32mnon-empty iterator\u001b[39m"
      ]
     },
     "execution_count": 1,
     "metadata": {},
     "output_type": "execute_result"
    }
   ],
   "source": [
    "val xs = 1 to 3\n",
    "val it = xs.iterator"
   ]
  },
  {
   "cell_type": "code",
   "execution_count": 2,
   "id": "962d6a36",
   "metadata": {},
   "outputs": [
    {
     "data": {
      "text/plain": [
       "\u001b[36mres1\u001b[39m: \u001b[32mInt\u001b[39m = \u001b[32m1\u001b[39m"
      ]
     },
     "execution_count": 2,
     "metadata": {},
     "output_type": "execute_result"
    }
   ],
   "source": [
    "it.next()"
   ]
  },
  {
   "cell_type": "code",
   "execution_count": null,
   "id": "01591026",
   "metadata": {},
   "outputs": [],
   "source": []
  },
  {
   "cell_type": "code",
   "execution_count": 8,
   "id": "c2bf259c",
   "metadata": {},
   "outputs": [
    {
     "data": {
      "text/plain": [
       "\u001b[36mss\u001b[39m: \u001b[32mString\u001b[39m = \u001b[32m\"880911\"\u001b[39m\n",
       "\u001b[36ms\u001b[39m: \u001b[32mString\u001b[39m = \u001b[32m\"3.141592\"\u001b[39m"
      ]
     },
     "execution_count": 8,
     "metadata": {},
     "output_type": "execute_result"
    }
   ],
   "source": [
    "var ss = \"880911\"\n",
    "var s = \"3.141592\""
   ]
  },
  {
   "cell_type": "code",
   "execution_count": 6,
   "id": "04258243",
   "metadata": {},
   "outputs": [
    {
     "data": {
      "text/plain": [
       "\u001b[36mres5\u001b[39m: \u001b[32mInt\u001b[39m = \u001b[32m880911\u001b[39m"
      ]
     },
     "execution_count": 6,
     "metadata": {},
     "output_type": "execute_result"
    }
   ],
   "source": [
    "ss.toInt"
   ]
  },
  {
   "cell_type": "code",
   "execution_count": 9,
   "id": "82854c13",
   "metadata": {},
   "outputs": [
    {
     "data": {
      "text/plain": [
       "\u001b[36mres8\u001b[39m: \u001b[32mFloat\u001b[39m = \u001b[32m3.141592F\u001b[39m"
      ]
     },
     "execution_count": 9,
     "metadata": {},
     "output_type": "execute_result"
    }
   ],
   "source": [
    "s.toFloat"
   ]
  },
  {
   "cell_type": "code",
   "execution_count": null,
   "id": "df854a0e",
   "metadata": {},
   "outputs": [],
   "source": []
  },
  {
   "cell_type": "code",
   "execution_count": 11,
   "id": "75e84b0f",
   "metadata": {},
   "outputs": [
    {
     "data": {
      "text/plain": [
       "defined \u001b[32mclass\u001b[39m \u001b[36mMyClass\u001b[39m"
      ]
     },
     "execution_count": 11,
     "metadata": {},
     "output_type": "execute_result"
    }
   ],
   "source": [
    "/* Java\n",
    "class MyClass { // this is Java\n",
    "    private int index;\n",
    "    private String name;\n",
    "    \n",
    "    public MyClass(int index, String name){\n",
    "        this.index = index;\n",
    "        this.name = name;\n",
    "    }\n",
    "}\n",
    "*/\n",
    "\n",
    "// Scala\n",
    "class MyClass(index: Int, name: String)"
   ]
  },
  {
   "cell_type": "code",
   "execution_count": null,
   "id": "b3ee0106",
   "metadata": {},
   "outputs": [],
   "source": []
  },
  {
   "cell_type": "code",
   "execution_count": 16,
   "id": "c3ee9b8f",
   "metadata": {},
   "outputs": [
    {
     "data": {
      "text/plain": [
       "\u001b[36mname\u001b[39m: \u001b[32mString\u001b[39m = \u001b[32m\"Starbucks\"\u001b[39m\n",
       "\u001b[36mnameHasUpperCase\u001b[39m: \u001b[32mBoolean\u001b[39m = \u001b[32mtrue\u001b[39m"
      ]
     },
     "execution_count": 16,
     "metadata": {},
     "output_type": "execute_result"
    }
   ],
   "source": [
    "/* Java\n",
    "boolean nameHasUpperCase = false;\n",
    "for (int i = 0; i < name.length(); ++i){\n",
    "    if (Character.isUppercase(name.charAt(i))){\n",
    "        nameHasUpperCase = true;\n",
    "        break;\n",
    "    }\n",
    "}\n",
    "*/\n",
    "\n",
    "val name = \"Starbucks\"\n",
    "val nameHasUpperCase = name.exists(_.isUpper)"
   ]
  },
  {
   "cell_type": "code",
   "execution_count": null,
   "id": "01e03405",
   "metadata": {},
   "outputs": [],
   "source": []
  },
  {
   "cell_type": "code",
   "execution_count": 21,
   "id": "faeffe61",
   "metadata": {},
   "outputs": [
    {
     "data": {
      "text/plain": [
       "\u001b[32mimport \u001b[39m\u001b[36mscala.collection.mutable.Map\n",
       "\u001b[39m\n",
       "\u001b[32mimport \u001b[39m\u001b[36mscala.collection.mutable.HashMap\n",
       "\u001b[39m"
      ]
     },
     "execution_count": 21,
     "metadata": {},
     "output_type": "execute_result"
    }
   ],
   "source": [
    "import scala.collection.mutable.Map\n",
    "import scala.collection.mutable.HashMap"
   ]
  },
  {
   "cell_type": "code",
   "execution_count": 22,
   "id": "ac4b3881",
   "metadata": {},
   "outputs": [
    {
     "data": {
      "text/plain": [
       "\u001b[36mx\u001b[39m: \u001b[32mHashMap\u001b[39m[\u001b[32mInt\u001b[39m, \u001b[32mString\u001b[39m] = \u001b[33mHashMap\u001b[39m()"
      ]
     },
     "execution_count": 22,
     "metadata": {},
     "output_type": "execute_result"
    }
   ],
   "source": [
    "val x: HashMap[Int, String] = new HashMap[Int, String]()"
   ]
  },
  {
   "cell_type": "code",
   "execution_count": 23,
   "id": "6982f672",
   "metadata": {},
   "outputs": [
    {
     "data": {
      "text/plain": [
       "\u001b[36mx\u001b[39m: \u001b[32mHashMap\u001b[39m[\u001b[32mInt\u001b[39m, \u001b[32mString\u001b[39m] = \u001b[33mHashMap\u001b[39m()"
      ]
     },
     "execution_count": 23,
     "metadata": {},
     "output_type": "execute_result"
    }
   ],
   "source": [
    "val x = new HashMap[Int, String]()"
   ]
  },
  {
   "cell_type": "code",
   "execution_count": 24,
   "id": "3123809f",
   "metadata": {},
   "outputs": [
    {
     "data": {
      "text/plain": [
       "\u001b[36mx\u001b[39m: \u001b[32mMap\u001b[39m[\u001b[32mInt\u001b[39m, \u001b[32mString\u001b[39m] = \u001b[33mHashMap\u001b[39m()"
      ]
     },
     "execution_count": 24,
     "metadata": {},
     "output_type": "execute_result"
    }
   ],
   "source": [
    "val x: Map[Int, String] = new HashMap()"
   ]
  },
  {
   "cell_type": "code",
   "execution_count": null,
   "id": "8a6c6229",
   "metadata": {},
   "outputs": [],
   "source": []
  },
  {
   "cell_type": "markdown",
   "id": "0f8c8297",
   "metadata": {},
   "source": [
    "### Chapter 2"
   ]
  },
  {
   "cell_type": "code",
   "execution_count": 1,
   "id": "82fb1575",
   "metadata": {},
   "outputs": [
    {
     "data": {
      "text/plain": [
       "\u001b[36mres0\u001b[39m: \u001b[32mInt\u001b[39m = \u001b[32m3\u001b[39m"
      ]
     },
     "execution_count": 1,
     "metadata": {},
     "output_type": "execute_result"
    }
   ],
   "source": [
    "1 + 2"
   ]
  },
  {
   "cell_type": "code",
   "execution_count": 2,
   "id": "68412db2",
   "metadata": {},
   "outputs": [
    {
     "data": {
      "text/plain": [
       "\u001b[36mres1\u001b[39m: \u001b[32mInt\u001b[39m = \u001b[32m9\u001b[39m"
      ]
     },
     "execution_count": 2,
     "metadata": {},
     "output_type": "execute_result"
    }
   ],
   "source": [
    "res0 * 3"
   ]
  },
  {
   "cell_type": "code",
   "execution_count": 3,
   "id": "a0172eb6",
   "metadata": {},
   "outputs": [
    {
     "name": "stdout",
     "output_type": "stream",
     "text": [
      "Hello, world!\n"
     ]
    }
   ],
   "source": [
    "println(\"Hello, world!\")"
   ]
  },
  {
   "cell_type": "code",
   "execution_count": 4,
   "id": "c3794a1e",
   "metadata": {},
   "outputs": [
    {
     "data": {
      "text/plain": [
       "\u001b[36mmsg\u001b[39m: \u001b[32mString\u001b[39m = \u001b[32m\"Hello, world!\"\u001b[39m"
      ]
     },
     "execution_count": 4,
     "metadata": {},
     "output_type": "execute_result"
    }
   ],
   "source": [
    "val msg = \"Hello, world!\""
   ]
  },
  {
   "cell_type": "code",
   "execution_count": 4,
   "id": "3a5aa5ba",
   "metadata": {},
   "outputs": [
    {
     "name": "stderr",
     "output_type": "stream",
     "text": [
      "    |val msg2 = java.lang.String = \"Hello again, world!\"\n",
      "    |           ^^^^^^^^^^^^^^^^\n",
      "    |           Java defined class String is not a value    |val msg2 = java.lang.String = \"Hello again, world!\"\n",
      "    |                              ^^^^^^^^^^^^^^^^^^^^^\n",
      "    |                            Found:    (\"Hello again, world!\" : String)\n",
      "    |                            Required: object StringCompilation Failed"
     ]
    },
    {
     "ename": "",
     "evalue": "",
     "output_type": "error",
     "traceback": [
      "Compilation Failed"
     ]
    }
   ],
   "source": [
    "val msg2 = java.lang.String = \"Hello again, world!\""
   ]
  },
  {
   "cell_type": "code",
   "execution_count": 5,
   "id": "ed43f30d",
   "metadata": {},
   "outputs": [
    {
     "data": {
      "text/plain": [
       "\u001b[36mmsg3\u001b[39m: \u001b[32mString\u001b[39m = \u001b[32m\"Hello yet again, world!\"\u001b[39m"
      ]
     },
     "execution_count": 5,
     "metadata": {},
     "output_type": "execute_result"
    }
   ],
   "source": [
    "val msg3: String = \"Hello yet again, world!\""
   ]
  },
  {
   "cell_type": "code",
   "execution_count": 6,
   "id": "b409c5b3",
   "metadata": {},
   "outputs": [
    {
     "name": "stdout",
     "output_type": "stream",
     "text": [
      "Hello, world!\n"
     ]
    }
   ],
   "source": [
    "println(msg)"
   ]
  },
  {
   "cell_type": "code",
   "execution_count": 6,
   "id": "d1a9331c",
   "metadata": {},
   "outputs": [
    {
     "name": "stderr",
     "output_type": "stream",
     "text": [
      "    |val res6 = msg = \"Goodbye cruel world!\"\n",
      "    |           ^^^^^^^^^^^^^^^^^^^^^^^^^^^^\n",
      "    |           Reassignment to val msgCompilation Failed"
     ]
    },
    {
     "ename": "",
     "evalue": "",
     "output_type": "error",
     "traceback": [
      "Compilation Failed"
     ]
    }
   ],
   "source": [
    "msg = \"Goodbye cruel world!\""
   ]
  },
  {
   "cell_type": "code",
   "execution_count": 7,
   "id": "1197c6d9",
   "metadata": {},
   "outputs": [
    {
     "data": {
      "text/plain": [
       "\u001b[36mgreeting\u001b[39m: \u001b[32mString\u001b[39m = \u001b[32m\"Hello, world!\"\u001b[39m"
      ]
     },
     "execution_count": 7,
     "metadata": {},
     "output_type": "execute_result"
    }
   ],
   "source": [
    "var greeting = \"Hello, world!\""
   ]
  },
  {
   "cell_type": "code",
   "execution_count": 8,
   "id": "3edc73d9",
   "metadata": {},
   "outputs": [],
   "source": [
    "greeting = \"Leave me alone, world!\""
   ]
  },
  {
   "cell_type": "code",
   "execution_count": 9,
   "id": "38e0210f",
   "metadata": {},
   "outputs": [
    {
     "name": "stdout",
     "output_type": "stream",
     "text": [
      "Leave me alone, world!\n"
     ]
    }
   ],
   "source": [
    "println(greeting)"
   ]
  },
  {
   "cell_type": "code",
   "execution_count": 10,
   "id": "9ad5ed30",
   "metadata": {},
   "outputs": [
    {
     "data": {
      "text/plain": [
       "\u001b[36mmultiLine\u001b[39m: \u001b[32mString\u001b[39m = \u001b[32m\"This is the next line.\"\u001b[39m"
      ]
     },
     "execution_count": 10,
     "metadata": {},
     "output_type": "execute_result"
    }
   ],
   "source": [
    "val multiLine = \n",
    "    \"This is the next line.\""
   ]
  },
  {
   "cell_type": "code",
   "execution_count": 10,
   "id": "2f444def",
   "metadata": {},
   "outputs": [],
   "source": [
    "val oops = \n",
    "\n",
    "// You typed two blank lines. Starting a new command"
   ]
  },
  {
   "cell_type": "code",
   "execution_count": 11,
   "id": "bc9a47e5",
   "metadata": {},
   "outputs": [
    {
     "data": {
      "text/plain": [
       "defined \u001b[32mfunction\u001b[39m \u001b[36mmax\u001b[39m"
      ]
     },
     "execution_count": 11,
     "metadata": {},
     "output_type": "execute_result"
    }
   ],
   "source": [
    "def max(x: Int, y: Int): Int = \n",
    "    if x > y then x\n",
    "    else y"
   ]
  },
  {
   "cell_type": "code",
   "execution_count": 14,
   "id": "e32e625c",
   "metadata": {},
   "outputs": [
    {
     "data": {
      "text/plain": [
       "defined \u001b[32mfunction\u001b[39m \u001b[36mmax\u001b[39m"
      ]
     },
     "execution_count": 14,
     "metadata": {},
     "output_type": "execute_result"
    }
   ],
   "source": [
    "def max(x: Int, y: Int) = if x > y then x else y"
   ]
  },
  {
   "cell_type": "code",
   "execution_count": 15,
   "id": "adf8be5d",
   "metadata": {},
   "outputs": [
    {
     "data": {
      "text/plain": [
       "\u001b[36mbigger\u001b[39m: \u001b[32mInt\u001b[39m = \u001b[32m5\u001b[39m"
      ]
     },
     "execution_count": 15,
     "metadata": {},
     "output_type": "execute_result"
    }
   ],
   "source": [
    "val bigger = max(3, 5)"
   ]
  },
  {
   "cell_type": "code",
   "execution_count": 16,
   "id": "a001f7e5",
   "metadata": {},
   "outputs": [
    {
     "data": {
      "text/plain": [
       "defined \u001b[32mfunction\u001b[39m \u001b[36mgreet\u001b[39m"
      ]
     },
     "execution_count": 16,
     "metadata": {},
     "output_type": "execute_result"
    }
   ],
   "source": [
    "def greet() = println(\"Hello, world!\")"
   ]
  },
  {
   "cell_type": "code",
   "execution_count": 17,
   "id": "a8283937",
   "metadata": {},
   "outputs": [
    {
     "name": "stdout",
     "output_type": "stream",
     "text": [
      "Hello, world!\n"
     ]
    }
   ],
   "source": [
    "greet()"
   ]
  },
  {
   "cell_type": "code",
   "execution_count": 18,
   "id": "ecdad3f6",
   "metadata": {},
   "outputs": [
    {
     "data": {
      "text/plain": [
       "defined \u001b[32mfunction\u001b[39m \u001b[36mm\u001b[39m"
      ]
     },
     "execution_count": 18,
     "metadata": {},
     "output_type": "execute_result"
    }
   ],
   "source": [
    "@main def m() =\n",
    "    println(\"Hello, world, from a script!\")"
   ]
  },
  {
   "cell_type": "code",
   "execution_count": 19,
   "id": "286800bd",
   "metadata": {},
   "outputs": [
    {
     "data": {
      "text/plain": [
       "defined \u001b[32mfunction\u001b[39m \u001b[36mm\u001b[39m"
      ]
     },
     "execution_count": 19,
     "metadata": {},
     "output_type": "execute_result"
    }
   ],
   "source": [
    "@main def m(args: String*) = \n",
    "    // Say hello to the first argument\n",
    "    println(\"Hello, \" + args(0) + \"!\")"
   ]
  },
  {
   "cell_type": "code",
   "execution_count": 23,
   "id": "7da17c82",
   "metadata": {},
   "outputs": [
    {
     "name": "stdout",
     "output_type": "stream",
     "text": [
      "Hello, earth!\n"
     ]
    }
   ],
   "source": [
    "m(\"earth\", \"planet\")"
   ]
  },
  {
   "cell_type": "code",
   "execution_count": 24,
   "id": "c199d308",
   "metadata": {},
   "outputs": [
    {
     "data": {
      "text/plain": [
       "defined \u001b[32mfunction\u001b[39m \u001b[36mm\u001b[39m"
      ]
     },
     "execution_count": 24,
     "metadata": {},
     "output_type": "execute_result"
    }
   ],
   "source": [
    "@main def m(args: String*) =\n",
    "    var i = 0\n",
    "    while i < args.length do\n",
    "        println(args(i))\n",
    "        i += 1"
   ]
  },
  {
   "cell_type": "code",
   "execution_count": 25,
   "id": "90e5bde4",
   "metadata": {},
   "outputs": [
    {
     "name": "stdout",
     "output_type": "stream",
     "text": [
      "earth\n",
      "jupyter\n",
      "solar\n"
     ]
    }
   ],
   "source": [
    "m(\"earth\",\"jupyter\",\"solar\")"
   ]
  },
  {
   "cell_type": "code",
   "execution_count": 26,
   "id": "f8c0f4e2",
   "metadata": {},
   "outputs": [
    {
     "data": {
      "text/plain": [
       "\u001b[36mls\u001b[39m: \u001b[32mList\u001b[39m[\u001b[32mInt\u001b[39m] = \u001b[33mList\u001b[39m(\u001b[32m1\u001b[39m, \u001b[32m2\u001b[39m, \u001b[32m3\u001b[39m, \u001b[32m4\u001b[39m)"
      ]
     },
     "execution_count": 26,
     "metadata": {},
     "output_type": "execute_result"
    }
   ],
   "source": [
    "val ls = List(1,2,3,4)"
   ]
  },
  {
   "cell_type": "code",
   "execution_count": 28,
   "id": "94f3fc41",
   "metadata": {},
   "outputs": [
    {
     "data": {
      "text/plain": [
       "\u001b[36mres27\u001b[39m: \u001b[32mInt\u001b[39m = \u001b[32m3\u001b[39m"
      ]
     },
     "execution_count": 28,
     "metadata": {},
     "output_type": "execute_result"
    }
   ],
   "source": [
    "ls(2)"
   ]
  },
  {
   "cell_type": "code",
   "execution_count": 29,
   "id": "fc875faf",
   "metadata": {},
   "outputs": [
    {
     "data": {
      "text/plain": [
       "defined \u001b[32mfunction\u001b[39m \u001b[36mm\u001b[39m"
      ]
     },
     "execution_count": 29,
     "metadata": {},
     "output_type": "execute_result"
    }
   ],
   "source": [
    "@main def m(args: String*) =\n",
    "    var i = 0\n",
    "    while i < args.length do\n",
    "        if i != 0 then\n",
    "            print(\" \")\n",
    "        print(args(i))\n",
    "        i += 1\n",
    "    println()"
   ]
  },
  {
   "cell_type": "code",
   "execution_count": 30,
   "id": "501dd84c",
   "metadata": {},
   "outputs": [
    {
     "name": "stdout",
     "output_type": "stream",
     "text": [
      "Scala is even more fun\n"
     ]
    }
   ],
   "source": [
    "m(\"Scala\",\"is\",\"even\",\"more\",\"fun\")"
   ]
  },
  {
   "cell_type": "code",
   "execution_count": 31,
   "id": "f2019c1d",
   "metadata": {},
   "outputs": [
    {
     "data": {
      "text/plain": [
       "defined \u001b[32mfunction\u001b[39m \u001b[36mm\u001b[39m"
      ]
     },
     "execution_count": 31,
     "metadata": {},
     "output_type": "execute_result"
    }
   ],
   "source": [
    "@main def m(args: String*) = {\n",
    "    var i = 0;\n",
    "    while (i < args.length) {\n",
    "        if (i != 0) {\n",
    "            print(\" \");\n",
    "        }\n",
    "        print(args(i));\n",
    "        i += 1;\n",
    "    }\n",
    "    println();\n",
    "}"
   ]
  },
  {
   "cell_type": "code",
   "execution_count": 33,
   "id": "764949a6",
   "metadata": {},
   "outputs": [
    {
     "name": "stdout",
     "output_type": "stream",
     "text": [
      "Scala is written by Java style\n"
     ]
    }
   ],
   "source": [
    "m(\"Scala\",\"is\",\"written\",\"by\",\"Java\",\"style\")"
   ]
  },
  {
   "cell_type": "code",
   "execution_count": null,
   "id": "028aa4bb",
   "metadata": {},
   "outputs": [],
   "source": []
  }
 ],
 "metadata": {
  "kernelspec": {
   "display_name": "Scala",
   "language": "scala",
   "name": "scala"
  },
  "language_info": {
   "codemirror_mode": "text/x-scala",
   "file_extension": ".sc",
   "mimetype": "text/x-scala",
   "name": "scala",
   "nbconvert_exporter": "script",
   "version": "2.13.6"
  }
 },
 "nbformat": 4,
 "nbformat_minor": 5
}
